{
  "cells": [
    {
      "cell_type": "markdown",
      "metadata": {
        "id": "x0_XKVRNvbhi"
      },
      "source": [
        "# Step 1: Evidence Details\n",
        "\n",
        "|System|Source of data|Frameworks|Purpose|\n",
        "|---|---|---|---|\n",
        "|Trivy|compliancecow|-|This report summarizes container vulnerability scans, focusing on EPSS Percentile and severity to support vulnerability management controls.|\n",
        "\n",
        "```\n",
        "RecomendedEvidenceName:\n",
        "ContainerVulnerabilitySummaryReport\n",
        "```"
      ]
    },
    {
      "cell_type": "markdown",
      "metadata": {
        "id": "aGpaIDAmFclo"
      },
      "source": [
        "# Step 2: Define the System Specific Data (a.k.a Extended Data Schema)"
      ]
    },
    {
      "cell_type": "markdown",
      "metadata": {
        "id": "8iXyjhSGSDvQ"
      },
      "source": [
        "# Step 2a: Define the Extended Schema"
      ]
    },
    {
      "cell_type": "code",
      "execution_count": null,
      "metadata": {
        "id": "xVHTAG-TvYVb"
      },
      "outputs": [],
      "source": [
        "# Output of TrivyContainerVulnerability Scanner\n",
        "{\n",
        "    # Meta\n",
        "    \"System\": \"trivy\",\n",
        "    \"Source\": \"compliancecow\",\n",
        "\n",
        "    # Resource info\n",
        "    \"ResourceID\": \"N/A\",\n",
        "    \"ResourceName\": \"target:project1(image)\",\n",
        "    \"ResourceType\": \"image\",\n",
        "    \"ResourceLocation\": \"N/A\",\n",
        "    \"ResourceTags\": \"N/A\",\n",
        "    \"ResourceURL\": \"N/A\",\n",
        "\n",
        "    # Data\n",
        "    \"IssueName\": \"expat: large number of colons in input makes parser consume high amount of resources, leading to DoS\", # [Vulnerabilities.Title]\n",
        "    \"IssueType\": \"alpine\",\n",
        "    \"PackageName\": \"expat\",\n",
        "    \"PackageID\": \"expat@2.2.6-r0\",\n",
        "    \"PackageInstalledVersion\": \"2.2.6-r0\",\n",
        "    \"PackageFixedVersion\": \"2.2.7-r0\",\n",
        "    \"CVEID\": \"CVE-2018-20843\",\n",
        "    \"Severity\": \"HIGH\",\n",
        "    \"EPSSPercentile\": 97.8,\n",
        "    \"PlatformStatus\": \"fixed\",\n",
        "\n",
        "    # Compliance details\n",
        "    \"ValidationStatusCode\": \"HIGH_SEV_CRT_EPSS\",\n",
        "    \"ValidationStatusNotes\": \"Contains a high-severity issue with a critical EPSS Percentile (>90).\",\n",
        "    \"ComplianceStatus\": \"NON_COMPLIANT\",\n",
        "    \"ComplianceStatusReason\": \"The record is non-compliant due to a high-severity vulnerability with a critical EPSS percentile.\",\n",
        "    \"EvaluatedTime\": \"2023-11-07T02:56:21.553Z\",\n",
        "\n",
        "    # User editable data\n",
        "    \"UserAction\":\"\",\n",
        "\n",
        "    # Action editable data\n",
        "    \"ActionStatus\":\"\",\n",
        "    \"ActionResponseURL\":\"\"\n",
        "}"
      ]
    },
    {
      "cell_type": "markdown",
      "metadata": {
        "id": "3aZrqLXkaCGg"
      },
      "source": [
        "# Step 3: Define the Standard Schema"
      ]
    },
    {
      "cell_type": "code",
      "execution_count": null,
      "metadata": {
        "id": "1cQKGy5VaC9B"
      },
      "outputs": [],
      "source": [
        "{\n",
        "    # Meta\n",
        "    \"System\": \"trivy\",\n",
        "    \"Source\": \"compliancecow\",\n",
        "\n",
        "    # Resource info\n",
        "    \"ResourceID\": \"N/A\",\n",
        "    \"ResourceName\": \"target:project1(image)\",\n",
        "    \"ResourceType\": \"image\",\n",
        "    \"ResourceLocation\": \"N/A\",\n",
        "    \"ResourceTags\": \"N/A\",\n",
        "    \"ResourceURL\": \"N/A\",\n",
        "\n",
        "    # Data\n",
        "    \"CriticalVulnCount\": 0,\n",
        "    \"HighVulnCount\": 0,\n",
        "    \"MediumVulnCount\": 6,\n",
        "    \"LowVulnCount\": 5,\n",
        "    \"EPSSPercentileBand_>90\": 0,\n",
        "    \"EPSSPercentileBand_70-90\": 0,\n",
        "    \"EPSSPercentileBand_50-70\": 2,\n",
        "    \"EPSSPercentileBand_<50\": 8,\n",
        "\n",
        "    # Compliance details\n",
        "    \"ValidationStatusCode\": \"NO_CRT_HIGH_VL_PR_NO_CRT_HIGH_EPSS_PR\",\n",
        "    \"ValidationStatusNotes\": \"No Critical or High severity vulnerabilities and no vulnerabilities with High or Critical EPSS Percentile.\",\n",
        "    \"ComplianceStatus\": \"COMPLIANT\",\n",
        "    \"ComplianceStatusReason\": \"No Critical or High severity vulnerabilities with EPSS Percentile in the High(70-90) or Critical(>90) range.\",\n",
        "    \"EvaluatedTime\": \"2024-08-22T09:24:08.183Z\",\n",
        "\n",
        "    # User editable data\n",
        "    \"UserAction\":\"\",\n",
        "\n",
        "    # Action editable data\n",
        "    \"ActionStatus\":\"\",\n",
        "    \"ActionResponseURL\":\"\"\n",
        "}"
      ]
    },
    {
      "cell_type": "markdown",
      "metadata": {
        "id": "lWKs47TUaQfc"
      },
      "source": [
        "# Step 3.a: Sample Data\n",
        "\n",
        "|System|Source|ResourceID|ResourceName|ResourceType|ResourceLocation|ResourceURL|ResourceTags|Severity|CriticalVulnCount|HighVulnCount|MediumVulnCount|LowVulnCount|EPSSPercentileBand_>90|EPSSPercentileBand_70-90|EPSSPercentileBand_50-70|EPSSPercentileBand_<50|ValidationStatusCode|ValidationStatusNotes|ComplianceStatus|ComplianceStatusReason|EvaluatedTime|UserAction|ActionStatus|ActionResponseURL|\n",
        "|---|---|---|---|---|---|---|---|---|---|---|---|---|---|---|---|---|---|---|---|---|---|---|---|---|\n",
        "|trivy|compliancecow|N/A|target:project1|image|N/A|N/A|N/A|low|0|0|0|5|0|0|0|4|0_CRT_0_HI_VL_PR_0_CRT_EPSS_0_HI_EPSS_PR|Contains 0 Critical and 0 High severity vulnerabilities, and 0 vulnerabilities with critical(>90) EPSS Percentile and 0 vulnerabilities with High(70-90) EPSS Percentile.|COMPLIANT|No Critical or High severity vulnerabilities with EPSS Percentile in the High(70-90) or Critical(>90) range.|2024-08-22T09:24:08.183Z|||\n",
        "\n"
      ]
    },
    {
      "cell_type": "markdown",
      "metadata": {
        "id": "8iElaSOdaZeg"
      },
      "source": [
        "# Step 4: Describe the Compliance Taxonomy\n",
        "\n",
        "|ValidationStatusCode|ValidationStatusNotes|ComplianceStatus|ComplianceStatusReason|\n",
        "|---|---|---|---|\n",
        "|NO_CRT_HIGH_VL_PR_NO_CRT_HIGH_EPSS_PR | No Critical or High severity vulnerabilities and no vulnerabilities with High or Critical EPSS Percentile. | COMPLIANT | No Critical or High severity vulnerabilities with EPSS Percentile in the High(70-90) or Critical(>90) range. |\n",
        "| NO_CRT_HIGH_VL_PR_X_CRT_EPSS_X_HIGH_EPSS_PR | No Critical or High severity vulnerabilities, but X vulnerabilities with critical(>90) EPSS Percentile and X vulnerabilities with High(70-90) EPSS Percentile. | NON_COMPLIANT | Critical or High severity code vulnerabilities found with EPSS Percentile in the High(70-90) or Critical(>90) range. |\n",
        "| X_CRT_X_HIGH_VL_PR_NO_CRT_HGH_EPSS_PR | Contains X Critical and X High severity vulnerabilities, but no vulnerabilities with High or Critical EPSS Percentile. | NON_COMPLIANT | Critical or High severity code vulnerabilities found with EPSS Percentile in the High(70-90) or Critical(>90) range. |\n",
        "| X_CRT_X_HIGH_VL_PR_X_CRT_EPSS_X_HIGH_EPSS_PR | Contains X Critical and X High severity vulnerabilities, and X vulnerabilities with critical(>90) EPSS Percentile and X vulnerabilities with High(70-90) EPSS Percentile. | NON_COMPLIANT | Critical or High severity code vulnerabilities found with EPSS Percentile in the High(70-90) or Critical(>90) range. |"
      ]
    },
    {
      "cell_type": "markdown",
      "metadata": {
        "id": "NUGmR9vsafMM"
      },
      "source": [
        "# Step 5: Calculation for Compliance Percentage and Status"
      ]
    },
    {
      "cell_type": "code",
      "execution_count": null,
      "metadata": {
        "id": "5KsNCA9uaf1i"
      },
      "outputs": [],
      "source": [
        "# Calculation of Compliance Percentage\n",
        "\n",
        "TotalCount = Count of 'COMPLIANT' and 'NON_COMPLIANT' records\n",
        "CompliantCount = Count of 'COMPLIANT' records\n",
        "\n",
        "CompliancePCT = (CompliantCount / TotalCount) * 100\n",
        "\n",
        "Compliance Status\n",
        "COMPLIANT - 100%\n",
        "NON_COMPLIANT - 0% to less than 100%\n",
        "NOT_DETERMINED - If no records are found."
      ]
    },
    {
      "cell_type": "markdown",
      "metadata": {
        "id": "sPpZam41aisU"
      },
      "source": [
        "# Step 6: Describe (in words) the Remediation Steps for Non-Compliance\n",
        "N/A"
      ]
    },
    {
      "cell_type": "markdown",
      "metadata": {
        "id": "Ponc1DNSaqVx"
      },
      "source": [
        "# Step 7: Control Setup Details\n",
        "\n",
        "| Control Details            |                                   |\n",
        "|----------------------------|-----------------------------------|\n",
        "| **RuleName**               |ContainerVulnerabilitySummaryReport|\n",
        "| **PreRequisiteRuleNames**  |TrivyContainerVulnerabilityScanner  |\n",
        "| **ExtendedSchemaRuleNames**| N/A                               |\n",
        "| **ApplicationClassName**   |  nocredapp                        |\n",
        "| **PostSynthesizerName**    |             N/A                   |"
      ]
    }
  ],
  "metadata": {
    "colab": {
      "provenance": []
    },
    "kernelspec": {
      "display_name": "Python 3",
      "name": "python3"
    },
    "language_info": {
      "name": "python"
    }
  },
  "nbformat": 4,
  "nbformat_minor": 0
}
