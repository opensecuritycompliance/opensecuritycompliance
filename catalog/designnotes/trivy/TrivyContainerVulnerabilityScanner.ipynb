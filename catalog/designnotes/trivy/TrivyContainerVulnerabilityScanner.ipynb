{
  "cells": [
    {
      "cell_type": "markdown",
      "metadata": {
        "id": "x0_XKVRNvbhi"
      },
      "source": [
        "# Step 1: Evidence Details\n",
        "\n",
        "|System|Source of data|Frameworks|Purpose|\n",
        "|---|---|---|---|\n",
        "|trivy|compliancecow|-|This control assesses container image vulnerabilities using the Trivy CLI by evaluating the overall security posture and compliance of the container images based on vulnerability data retrieved from the CLI output.|\n",
        "\n",
        "```\n",
        "RecomendedEvidenceName:\n",
        "TrivyContainerScannerReport\n",
        "```\n",
        "\n",
        "**Reference:** <br>\n",
        "https://aquasecurity.github.io/trivy/v0.54/docs/advanced/private-registries/ <br>\n",
        "https://aquasecurity.github.io/trivy/v0.54/docs/  <br>\n",
        "https://learn.microsoft.com/en-us/rest/api/containerregistry/registries/get?view=rest-containerregistry-2023-01-01-preview&tabs=HTTP"
      ]
    },
    {
      "cell_type": "markdown",
      "metadata": {
        "id": "aGpaIDAmFclo"
      },
      "source": [
        "# Step 2: Define the System Specific Data (a.k.a Extended Data Schema)\n",
        "\n",
        "## Step 2a: IncludeCriteria and ExcludeCriteria\n",
        "\n",
        "1.\t**Understanding IncludeCriteria and ExcludeCriteria:**\n",
        "\t- `IncludeCriteria` and `ExcludeCriteria` are used to filter projects for analysis.\n",
        "\t- They help in specifying which projects should be included or excluded during the scan.\n",
        "2.\t**Default Values Handling:**\n",
        "\t- If the user does not provide any input for `IncludeCriteria` or `ExcludeCriteria`, default values will be used.\n",
        "\t- The default values ensure that all relevant projects are included unless explicitly excluded.\n",
        "3.\t**Using IncludeCriteria:**\n",
        "\t- Example: `registry/registry1/repo/repo1/tag/latest`, `registry/registry1/repo/repo1/tag/*`, `registry/registry1/repo/*/tag/*`\n",
        "\t- This will include the specified repositories and tags in the scan.\n",
        "4.\t**Using ExcludeCriteria:**\n",
        "\t- Example: `registry/registry1/repo/repo1/tag/latest`\n",
        "\t- This will exclude the specified repositories and tags from the scan.\n",
        "5.\t**Exact Match Requirement:**\n",
        "\t-\tThe criteria matching is case-sensitive and requires an exact match unless wildcards are used.\n",
        "\t-\tInvalid paths in `ExcludeCriteria` will not affect the valid `IncludeCriteria`."
      ]
    },
    {
      "cell_type": "markdown",
      "metadata": {
        "id": "_mTn5sQvj-qX"
      },
      "source": [
        "# Step 2b: API & Flow\n",
        "\n",
        "  - POST  https://login.microsoftonline.com/{tenantID}/oauth2/token\n",
        "     - This API is used to generate an access token for authenticating requests to Azure services. It requires client credentials such as client ID, client secret, and tenant ID.\n",
        "  - GET  https://management.azure.com/subscriptions/{subscriptionID}/providers/Microsoft.ContainerRegistry/registries?api-version=2023-01-01-preview\n",
        "     - This API lists all container registries under a specific subscription ID. It requires an access token obtained from the Azure Active Directory authentication.\n",
        "  - GET  https://{registry_name}.azurecr.io/acr/v1/_catalog\n",
        "     - This API retrieves a catalog of all repositories (images) in a specific Azure container registry. It requires the access token obtained from the previous API.\n",
        "  - GET  https://{registry_name}.azurecr.io/acr/v1/{image_name}/_tags\n",
        "     - This API provides the tag details of a specific image in an Azure container registry. It uses the repository name and an access token for authorization."
      ]
    },
    {
      "cell_type": "markdown",
      "metadata": {
        "id": "8iXyjhSGSDvQ"
      },
      "source": [
        "# Step 2a: Define the Extended Schema"
      ]
    },
    {
      "cell_type": "code",
      "execution_count": null,
      "metadata": {
        "id": "xVHTAG-TvYVb"
      },
      "outputs": [],
      "source": [
        "{\n",
        "  \"Target\": \"python:3.4-alpine (alpine 3.9.2)\",\n",
        "  \"Class\": \"os-pkgs\",\n",
        "  \"Type\": \"alpine\",\n",
        "  \"Vulnerabilities\": [\n",
        "    {\n",
        "      \"VulnerabilityID\": \"CVE-2018-20843\",\n",
        "      \"PkgID\": \"expat@2.2.6-r0\",\n",
        "      \"PkgName\": \"expat\",\n",
        "      \"PkgIdentifier\": {\n",
        "        \"PURL\": \"pkg:apk/alpine/expat@2.2.6-r0?arch=x86_64\\u0026distro=3.9.2\",\n",
        "        \"UID\": \"e24e675030cb5f4e\"\n",
        "      },\n",
        "      \"InstalledVersion\": \"2.2.6-r0\",\n",
        "      \"FixedVersion\": \"2.2.7-r0\",\n",
        "      \"Status\": \"fixed\",\n",
        "      \"Layer\": {\n",
        "        \"Digest\": \"sha256:aafecf9bbbfd514858f0d93fa0f65c2d59c8a1c46ec4b55963e42619f00a0a61\",\n",
        "        \"DiffID\": \"sha256:fbe16fc07f0d81390525c348fbd720725dcae6498bd5e902ce5d37f2b7eed743\"\n",
        "      },\n",
        "      \"SeveritySource\": \"nvd\",\n",
        "      \"PrimaryURL\": \"https://avd.aquasec.com/nvd/cve-2018-20843\",\n",
        "      \"DataSource\": {\n",
        "        \"ID\": \"alpine\",\n",
        "        \"Name\": \"Alpine Secdb\",\n",
        "        \"URL\": \"https://secdb.alpinelinux.org/\"\n",
        "      },\n",
        "      \"Title\": \"expat: large number of colons in input makes parser consume high amount of resources, leading to DoS\",\n",
        "      \"Description\": \"In libexpat in Expat before 2.2.7, XML input including XML names that contain a large number of colons could make the XML parser consume a high amount of RAM and CPU resources while processing (enough to be usable for denial-of-service attacks).\",\n",
        "      \"Severity\": \"HIGH\",\n",
        "      \"CweIDs\": [\n",
        "        \"CWE-611\"\n",
        "      ],\n",
        "      \"VendorSeverity\": {\n",
        "        \"alma\": 2,\n",
        "        \"amazon\": 2,\n",
        "        \"cbl-mariner\": 3,\n",
        "        \"nvd\": 3,\n",
        "        \"oracle-oval\": 2,\n",
        "        \"photon\": 3,\n",
        "        \"redhat\": 2,\n",
        "        \"ubuntu\": 1\n",
        "      },\n",
        "      \"CVSS\": {\n",
        "        \"nvd\": {\n",
        "          \"V2Vector\": \"AV:N/AC:L/Au:N/C:N/I:N/A:C\",\n",
        "          \"V3Vector\": \"CVSS:3.1/AV:N/AC:L/PR:N/UI:N/S:U/C:N/I:N/A:H\",\n",
        "          \"V2Score\": 7.8,\n",
        "          \"V3Score\": 7.5\n",
        "        },\n",
        "        \"redhat\": {\n",
        "          \"V3Vector\": \"CVSS:3.1/AV:N/AC:L/PR:N/UI:N/S:U/C:N/I:N/A:H\",\n",
        "          \"V3Score\": 7.5\n",
        "        }\n",
        "      },\n",
        "      \"References\": [\n",
        "        \"http://lists.opensuse.org/opensuse-security-announce/2019-07/msg00039.html\",\n",
        "        \"https://access.redhat.com/security/cve/CVE-2018-20843\",\n",
        "        \"https://bugs.chromium.org/p/oss-fuzz/issues/detail?id=5226\",\n",
        "        \"https://bugs.debian.org/cgi-bin/bugreport.cgi?bug=931031\",\n",
        "        \"https://github.com/libexpat/libexpat/blob/R_2_2_7/expat/Changes\",\n",
        "        \"https://github.com/libexpat/libexpat/issues/186\",\n",
        "        \"https://github.com/libexpat/libexpat/pull/262\",\n",
        "        \"https://github.com/libexpat/libexpat/pull/262/commits/11f8838bf99ea0a6f0b76f9760c43704d00c4ff6\",\n",
        "        \"https://linux.oracle.com/cve/CVE-2018-20843.html\",\n",
        "        \"https://linux.oracle.com/errata/ELSA-2020-4484.html\",\n",
        "        \"https://lists.debian.org/debian-lts-announce/2019/06/msg00028.html\",\n",
        "        \"https://lists.fedoraproject.org/archives/list/package-announce%40lists.fedoraproject.org/message/CEJJSQSG3KSUQY4FPVHZ7ZTT7FORMFVD/\",\n",
        "        \"https://lists.fedoraproject.org/archives/list/package-announce%40lists.fedoraproject.org/message/IDAUGEB3TUP6NEKJDBUBZX7N5OAUOOOK/\",\n",
        "        \"https://nvd.nist.gov/vuln/detail/CVE-2018-20843\",\n",
        "        \"https://seclists.org/bugtraq/2019/Jun/39\",\n",
        "        \"https://security.gentoo.org/glsa/201911-08\",\n",
        "        \"https://security.netapp.com/advisory/ntap-20190703-0001/\",\n",
        "        \"https://support.f5.com/csp/article/K51011533\",\n",
        "        \"https://ubuntu.com/security/notices/USN-4040-1\",\n",
        "        \"https://ubuntu.com/security/notices/USN-4040-2\",\n",
        "        \"https://ubuntu.com/security/notices/USN-4852-1\",\n",
        "        \"https://ubuntu.com/security/notices/USN-5455-1\",\n",
        "        \"https://usn.ubuntu.com/4040-1/\",\n",
        "        \"https://usn.ubuntu.com/4040-2/\",\n",
        "        \"https://www.cve.org/CVERecord?id=CVE-2018-20843\",\n",
        "        \"https://www.debian.org/security/2019/dsa-4472\",\n",
        "        \"https://www.oracle.com/security-alerts/cpuApr2021.html\",\n",
        "        \"https://www.oracle.com/security-alerts/cpuapr2020.html\",\n",
        "        \"https://www.oracle.com/security-alerts/cpuoct2020.html\",\n",
        "        \"https://www.oracle.com/security-alerts/cpuoct2021.html\",\n",
        "        \"https://www.tenable.com/security/tns-2021-11\"\n",
        "      ],\n",
        "      \"PublishedDate\": \"2019-06-24T17:15:09.98Z\",\n",
        "      \"LastModifiedDate\": \"2023-11-07T02:56:21.553Z\"\n",
        "    }\n",
        "  ]\n",
        "}"
      ]
    },
    {
      "cell_type": "markdown",
      "metadata": {
        "id": "3aZrqLXkaCGg"
      },
      "source": [
        "# Step 3: Define the Standard Schema"
      ]
    },
    {
      "cell_type": "code",
      "execution_count": null,
      "metadata": {
        "id": "1cQKGy5VaC9B"
      },
      "outputs": [],
      "source": [
        "{\n",
        "    # Meta\n",
        "    \"System\": \"trivy\",\n",
        "    \"Source\": \"compliancecow\",\n",
        "\n",
        "    # Resource info\n",
        "    \"ResourceID\": \"N/A\",\n",
        "    \"ResourceName\": \"target:project1(image)\",\n",
        "    \"ResourceType\": \"image\",\n",
        "    \"ResourceLocation\": \"N/A\",\n",
        "    \"ResourceTags\": \"N/A\",\n",
        "    \"ResourceURL\": \"N/A\",\n",
        "\n",
        "    # Data\n",
        "    \"IssueName\": \"expat: large number of colons in input makes parser consume high amount of resources, leading to DoS\", # [Vulnerabilities.Title]\n",
        "    \"IssueType\": \"alpine\", # [Type]\n",
        "    \"PackageName\": \"expat\", # [Vulnerabilities.PkgName]\n",
        "    \"PackageID\": \"expat@2.2.6-r0\", # [Vulnerabilities.PkgID]\n",
        "    \"PackageInstalledVersion\": \"2.2.6-r0\", # [Vulnerabilities.InstalledVersion]\n",
        "    \"PackageFixedVersion\": \"2.2.7-r0\", # [Vulnerabilities.FixedVersion]\n",
        "    \"CVEID\": \"CVE-2018-20843\",\n",
        "    \"Severity\": \"HIGH\", # [Vulnerabilities.Severity]\n",
        "    \"EPSSPercentile\": 97.8,\n",
        "    \"PlatformStatus\": \"fixed\", # [Vulnerabilities.Status]\n",
        "\n",
        "    # Compliance details\n",
        "    \"ValidationStatusCode\": \"HIGH_SEV_CRT_EPSS\",\n",
        "    \"ValidationStatusNotes\": \"Contains a high-severity issue with a critical EPSS Percentile (>90).\",\n",
        "    \"ComplianceStatus\": \"NON_COMPLIANT\",\n",
        "    \"ComplianceStatusReason\": \"The record is non-compliant due to a high-severity vulnerability with a critical EPSS percentile.\",\n",
        "    \"EvaluatedTime\": \"2023-11-07T02:56:21.553Z\", # [Vulnerabilities.LastModifiedDate]\n",
        "\n",
        "    # User editable data\n",
        "    \"UserAction\":\"\",\n",
        "\n",
        "    # Action editable data\n",
        "    \"ActionStatus\":\"\",\n",
        "    \"ActionResponseURL\":\"\"\n",
        "}"
      ]
    },
    {
      "cell_type": "markdown",
      "metadata": {
        "id": "lWKs47TUaQfc"
      },
      "source": [
        "# Step 3.a: Sample Data\n",
        "\n",
        "|System|Source|ResourceID|ResourceName|ResourceType|ResourceLocation|ResourceURL|ResourceTags|IssueName|IssueType|PackageName|PackageID|PackageFixedVersion|PackageInstalledVersion|CVEID|Severity|EPSSPercentile|PlatformStatus|ValidationStatusCode|ValidationStatusNotes|ComplianceStatus|ComplianceStatusReason|EvaluatedTime|UserAction|ActionStatus|ActionResponseURL|\n",
        "|---|---|---|---|---|---|---|---|---|---|---|---|---|---|---|---|---|---|---|---|---|---|---|---|---|---|\n",
        "|trivy|compliancecow|N/A|target/project1(image)|image|N/A|N/A|N/A|expat: large number of colons in input makes parser consume high amount of resources, leading to DoS|alpine|expat|expat@2.2.6-r0|2.2.6-r0|2.2.7-r0|CVE-2018-20843|HIGH|13.9|fixed|HIGH_SEV_CRT_EPSS|Contains a high-severity issue with a critical EPSS Percentile (>90).|NON_COMPLIANT|The record is non-compliant due to a high-severity vulnerability with a critical EPSS percentile.|2023-11-07T02:56:21.553Z||||\n",
        "\n"
      ]
    },
    {
      "cell_type": "markdown",
      "metadata": {
        "id": "8iElaSOdaZeg"
      },
      "source": [
        "# Step 4: Describe the Compliance Taxonomy\n",
        "\n",
        "|ValidationStatusCode|ValidationStatusNotes|ComplianceStatus|ComplianceStatusReason|\n",
        "|---|---|---|---|\n",
        "| LOW_SEV_LOW_EPSS | Contains a low-severity issue with a low EPSS Percentile (<50).| COMPLIANT| The record is compliant as it has a low-severity vulnerability with a low EPSS percentile. |\n",
        "| LOW_SEV_MED_EPSS | Contains a low-severity issue with a medium EPSS Percentile (50-70).| COMPLIANT| The record is compliant as it has a low-severity vulnerability with a medium EPSS percentile.|\n",
        "| LOW_SEV_HIGH_EPSS| Contains a low-severity issue with a high EPSS Percentile (70-90).| NON_COMPLIANT| The record is non-compliant due to a low-severity vulnerability with a high EPSS percentile. |\n",
        "| LOW_SEV_CRT_EPSS| Contains a low-severity issue with a critical EPSS Percentile (>90).| NON_COMPLIANT| The record is non-compliant due to a low-severity vulnerability with a critical EPSS percentile. |\n",
        "| LOW_SEV_NO_EPSS| Contains a low-severity issue with no EPSS Percentile.| COMPLIANT| The record is compliant due to a low-severity vulnerability with no EPSS percentile. |\n",
        "| MED_SEV_LOW_EPSS | Contains a medium-severity issue with a low EPSS Percentile (<50).| COMPLIANT| The record is compliant as it has a medium-severity vulnerability with a low EPSS percentile. |\n",
        "| MED_SEV_MED_EPSS | Contains a medium-severity issue with a medium EPSS Percentile (50-70). | COMPLIANT| The record is compliant as it has a medium-severity vulnerability with a medium EPSS percentile. |\n",
        "| MED_SEV_HIGH_EPSS| Contains a medium-severity issue with a high EPSS Percentile (70-90). | NON_COMPLIANT| The record is non-compliant due to a medium-severity vulnerability with a high EPSS percentile. |\n",
        "| MED_SEV_CRT_EPSS| Contains a medium-severity issue with a critical EPSS Percentile (>90). | NON_COMPLIANT| The record is non-compliant due to a medium-severity vulnerability with a critical EPSS percentile. |\n",
        "| MED_SEV_NO_EPSS| Contains a medium-severity issue with no EPSS Percentile. | COMPLIANT| The record is compliant due to a medium-severity vulnerability with no EPSS percentile. |\n",
        "| HIGH_SEV_LOW_EPSS| Contains a high-severity issue with a low EPSS Percentile (<50).| NON_COMPLIANT| The record is non-compliant due to a high-severity vulnerability with a low EPSS percentile. |\n",
        "| HIGH_SEV_MED_EPSS| Contains a high-severity issue with a medium EPSS Percentile (50-70). | NON_COMPLIANT| The record is non-compliant due to a high-severity vulnerability with a medium EPSS percentile. |\n",
        "| HIGH_SEV_HIGH_EPSS | Contains a high-severity issue with a high EPSS Percentile (70-90). | NON_COMPLIANT| The record is non-compliant due to a high-severity vulnerability with a high EPSS percentile. |\n",
        "| HIGH_SEV_CRT_EPSS | Contains a high-severity issue with a critical EPSS Percentile (>90). | NON_COMPLIANT| The record is non-compliant due to a high-severity vulnerability with a critical EPSS percentile. |\n",
        "| HIGH_SEV_NO_EPSS | Contains a high-severity issue with no EPSS Percentile. | NON_COMPLIANT| The record is non-compliant due to a high-severity vulnerability with no EPSS percentile. |\n",
        "| CRT_SEV_LOW_EPSS| Contains a critical-severity issue with a low EPSS Percentile (<50).| NON_COMPLIANT| The record is non-compliant due to a critical-severity vulnerability with a low EPSS percentile. |\n",
        "| CRT_SEV_MED_EPSS| Contains a critical-severity issue with a medium EPSS Percentile (50-70). | NON_COMPLIANT| The record is non-compliant due to a critical-severity vulnerability with a medium EPSS percentile. |\n",
        "| CRT_SEV_HIGH_EPSS | Contains a critical-severity issue with a high EPSS Percentile (70-90). | NON_COMPLIANT| The record is non-compliant due to a critical-severity vulnerability with a high EPSS percentile. |\n",
        "| CRT_SEV_CRT_EPSS | Contains a critical-severity issue with a critical EPSS Percentile (>90). | NON_COMPLIANT| The record is non-compliant due to a critical-severity vulnerability with a critical EPSS percentile. |\n",
        "| CRT_SEV_NO_EPSS | Contains a critical-severity issue with no EPSS Percentile. | NON_COMPLIANT| The record is non-compliant due to a critical-severity vulnerability with no EPSS percentile. |"
      ]
    },
    {
      "cell_type": "markdown",
      "metadata": {
        "id": "NUGmR9vsafMM"
      },
      "source": [
        "# Step 5: Calculation for Compliance Percentage and Status"
      ]
    },
    {
      "cell_type": "code",
      "execution_count": null,
      "metadata": {
        "id": "5KsNCA9uaf1i"
      },
      "outputs": [],
      "source": [
        "# Calculation of Compliance Percentage\n",
        "\n",
        "TotalCount = Count of 'COMPLIANT' and 'NON_COMPLIANT' records\n",
        "CompliantCount = Count of 'COMPLIANT' records\n",
        "\n",
        "CompliancePCT = (CompliantCount / TotalCount) * 100\n",
        "\n",
        "Compliance Status\n",
        "COMPLIANT - 100%\n",
        "NON_COMPLIANT - 0% to less than 100%\n",
        "NOT_DETERMINED - If no records are found."
      ]
    },
    {
      "cell_type": "markdown",
      "metadata": {
        "id": "sPpZam41aisU"
      },
      "source": [
        "# Step 6: Describe (in words) the Remediation Steps for Non-Compliance\n",
        "\n",
        "N/A"
      ]
    },
    {
      "cell_type": "markdown",
      "metadata": {
        "id": "Ponc1DNSaqVx"
      },
      "source": [
        "# Step 7: Control Setup Details\n",
        "\n",
        "| Control Details            |                                   |\n",
        "|----------------------------|-----------------------------------|\n",
        "| **RuleName**               |TrivyContainerVulnerabilityScanner |\n",
        "| **PreRequisiteRuleNames**  |  N/A                              |\n",
        "| **ExtendedSchemaRuleNames**| N/A                               |\n",
        "| **ApplicationClassName**   |  azureappconnector                |\n",
        "| **PostSynthesizerName**    |             N/A                   |"
      ]
    }
  ],
  "metadata": {
    "colab": {
      "provenance": []
    },
    "kernelspec": {
      "display_name": "Python 3",
      "name": "python3"
    },
    "language_info": {
      "name": "python"
    }
  },
  "nbformat": 4,
  "nbformat_minor": 0
}
