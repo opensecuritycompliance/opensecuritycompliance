{
  "cells": [
    {
      "cell_type": "markdown",
      "metadata": {},
      "source": [
        "# Step 1: Evidence Details\n",
        "\n",
        "|System|Source|Frameworks|\n",
        "|---|---|---|\n",
        "|github|compliancecow|-|\n",
        "\n",
        "```\n",
        "Purpose: This control ensures that the GitHub branch ruleset configuration has required reviewers enabled and that the number of required reviewers is at least 4 (MinNoReqReviews is user input ). Compliance is determined based on meeting or exceeding this threshold.\n",
        "```\n",
        "```\n",
        "RecomendedEvidenceName: GithubBranchSettingsReport\n",
        "```"
      ]
    },
    {
      "cell_type": "markdown",
      "metadata": {},
      "source": [
        "# Step 2: Task structure"
      ]
    },
    {
      "cell_type": "code",
      "execution_count": null,
      "metadata": {},
      "outputs": [],
      "source": [
        "\n",
        "[\n",
        "# RuleName : GithubPRRequiredReviewersReport\n",
        "{\n",
        "\"RuleInputs\" : {\n",
        "    \"IncludeCriteria\" : \"repo/*/branch/dev,test,prod\" ,\n",
        "    \"ExcludeCriteria\" : \"repo/*/branch/prod\" ,\n",
        "    \"MinimumRequiredReviewersCount\" : 4\n",
        "}\n",
        "}\n",
        "\n",
        "    #  Task1 : GithubPRRequiredReviewersReport\n",
        "    # Task Inputs \n",
        "    {\n",
        "        \"TaskInputs\" : {\n",
        "            \"IncludeCriteria\" : \"repo/*/branch/dev,test,prod\" ,\n",
        "            \"ExcludeCriteria\" : \"repo/*/branch/prod\" ,\n",
        "            \"MinimumRequiredReviewersCount\" : 4\n",
        "        }\n",
        "    }\n",
        "\n",
        "    # Task Output:\n",
        "    {\n",
        "        \"LogFile\" : \"\",\n",
        "        \"GithubBranchSettingsReport\" : \"GithubBranchSettingsReport.json\"\n",
        "    }\n",
        "\n",
        "\n",
        "# Rule Output:\n",
        "{\n",
        "    \"ComplianceStatus_\": \"NOT_DETERMINED\",\n",
        "    \"CompliancePCT_\" : \"0\",\n",
        "    \"LogFile\" : \"\",\n",
        "    \"GithubBranchSettingsReport\" : \"GithubBranchSettingsReport.json\"\n",
        "}\n",
        "]"
      ]
    },
    {
      "cell_type": "code",
      "execution_count": null,
      "metadata": {},
      "outputs": [],
      "source": [
        "\n",
        "# - GoSDK functions\n",
        "\n",
        "# ts := oauth2.StaticTokenSource(&oauth2.Token{AccessToken: accessToken})\n",
        "# tc := oauth2.NewClient(context.Background(), ts)\n",
        "# client = github.NewClient(tc)\n",
        "\n",
        "# // fetch repos and filter required repo using (include and exclude criteria)\n",
        "\n",
        "# //We can only work with public repositories as branch protection calls are failing for private repos\n",
        "# repos, _, err := client.Repositories.ListByOrg(ctx, inputs.Owner, nil)\n",
        "\n",
        "\n",
        "# // fetch branch and filter required branch within filtered repos using (include and exclude criteria)\n",
        "# branches, _, err := client.Repositories.ListBranches(ctx, repoOwner, repoName, nil)\n",
        "\n",
        "\n",
        "#// Fetch branch protection details and look for required reviewers list\n",
        "# branchProtection, _, err := gitHubObj.Repositories.GetBranchProtection(ctx, repoOwner, repoName, branchName)\n",
        "\n",
        "# In branchProtection check for required reviewers count and \n",
        "# compare with user input  'MinimumRequiredReviewersCount'if it is morthan or equal to MinimumRequiredReviewersCount the it is COMPLIANT else NON_COMPLIANT"
      ]
    },
    {
      "cell_type": "markdown",
      "metadata": {},
      "source": [
        "# Step 3: Define the Standard Schema\n",
        "  \n"
      ]
    },
    {
      "cell_type": "code",
      "execution_count": null,
      "metadata": {},
      "outputs": [],
      "source": [
        "{\n",
        "    # Meta\n",
        "    \"System\": \"github\",\n",
        "    \"Source\": \"compliancecow\",\n",
        "\n",
        "    # Resource info\n",
        "    \"ResourceID\": \"N/A\", \n",
        "    \"ResourceName\": \"NEW1\", # Branch Name\n",
        "    \"ResourceType\": \"Branch\",\n",
        "    \"ResourceTags\": \"N/A\",\n",
        "    \"ResourceURL\" : \"https://github.com/ComplianceCow/demo-repo/tree/dev\", # Branch Url\n",
        "\n",
        "    # Data\n",
        "    \"RepositoryName\" : \"PolicyCow\",\n",
        "    \"RequireReviewersEnabled\" : True,\n",
        "    \"ActualRequiredReviewersCount\" : 3,\n",
        "    \"MinimumRequiredReviewersCount\" : 4,\n",
        "    \n",
        "    # Compliance details\n",
        "    \"ValidationStatusCode\": \"INSUFFICIENT_REVIEWERS_IN_RULESET\",\n",
        "    \"ValidationStatusNotes\": \"Required reviewers are enabled, but the number is below the compliance threshold of 4.\",\n",
        "    \"ComplianceStatus\": \"NON_COMPLIANT\",\n",
        "    \"ComplianceStatusReason\": \"The number of required reviewers is less than 4.\",\n",
        "    \"EvaluatedTime\": \"2024-07-25T15:10:04.74592421Z\",\n",
        "\n",
        "    # User editable data\n",
        "    \"UserAction\":\"\",\n",
        "\n",
        "    # Action editable data\n",
        "    \"ActionStatus\":\"\",\n",
        "    \"ActionResponseURL\":\"\"\n",
        "    \n",
        "}"
      ]
    },
    {
      "cell_type": "markdown",
      "metadata": {},
      "source": [
        "# Step 3.a: Sample Data\n",
        "\n",
        "|System|Source|ResourceID|ResourceName|ResourceType|ResourceTags|ResourceURL|HasReqReviewersEnabled|NumReqReviewersCfg|ValidationStatusCode|ValidationStatusNotes|ComplianceStatus|ComplianceStatusReason|EvaluatedTime|UserAction|ActionStatus|ActionResponseURL|\n",
        "|---|---|---|---|---|---|---|---|---|---|---|---|---|---|---|---|---|\n",
        "|github|compliancecow|NEW1|NEW1|Branch||https://github.com/ComplianceCow-Demo/PolicyCow/tree/test|True|3|INSUFFICIENT_REVIEWERS_IN_RULESET|Required reviewers are enabled, but the number is below the compliance threshold of 4.|NON_COMPLIANT|The number of required reviewers is less than 4.|2024-07-25T15:10:04.74592421Z||||\n"
      ]
    },
    {
      "cell_type": "markdown",
      "metadata": {},
      "source": [
        "# Step 4: Describe the Compliance Taxonomy\n",
        "\n",
        "\n",
        "|ComplianceStatus|ComplianceStatusReason|ValidationStatusCode|ValidationStatusNotes|\n",
        "|---|---|---|---|\n",
        "|COMPLIANT|Required reviewers are properly configured in the branch ruleset with at least 4 reviewers.|RULESET_SUFFICIENT_REVIEWERS_CONFIGURED|The branch ruleset has required reviewers enabled and meets the compliance requirement of having 4 or more reviewers.|\n",
        "|NON_COMPLIANT|Required reviewers are not enabled in the branch ruleset.|MISSING_RULESET|The branch ruleset does not have required reviewers enabled.|\n",
        "|NON_COMPLIANT|The number of required reviewers is less than 4.|INSUFFICIENT_REVIEWERS_IN_RULESET|Required reviewers are enabled, but the number is below the compliance threshold of 4.|\n"
      ]
    },
    {
      "cell_type": "markdown",
      "metadata": {},
      "source": [
        "# Step 5: Calculation for Compliance Percentage and Status\n"
      ]
    },
    {
      "cell_type": "code",
      "execution_count": null,
      "metadata": {},
      "outputs": [],
      "source": [
        "# Calculation of Compliance Percentage\n",
        "CompliancePCT = (100 - (Count of 'NON_COMPLIANT' records * 100) / Total records)\n",
        "\n",
        "# Compliance Status\n",
        "#COMPLIANT - 100%\n",
        "#NON_COMPLIANT - 0%<=status<100%\n",
        "#NOT_DETERMINED - If no records are found in the account"
      ]
    },
    {
      "cell_type": "markdown",
      "metadata": {},
      "source": [
        "# Step 6: Describe (in words) the Remediation Steps for Non-Compliance"
      ]
    },
    {
      "cell_type": "markdown",
      "metadata": {},
      "source": [
        "1. JiraAction\n",
        "\n",
        "\n",
        "[EvidenceName]\n",
        "\"Issuetype\" = \"Task\"\n",
        "\"Project\" = \"CON\" # project key must be valid\n",
        "\"Priority\" = \"Medium\" \n",
        "\"Query\" = \"(<<ColoumnName>> == 'NON_COMPLIANT')\" # ColoumnName - data type supported - string\n",
        "\n",
        "\"Summary\" = \"Non-Compliant Branch <<ResourceID>> in Repository <<ResourceName>>\"\n",
        "\n",
        "\"Description\" = \"The branch '<<ResourceID>>' in the repository '<<ResourceName>>' has been marked as NON_COMPLIANT. The branch configuration has 'Required reviewers' enabled with only <<NumReqReviewersCfg>> reviewers, which is below the compliance threshold of 4. This issue needs to be addressed to ensure compliance.\n",
        "\n",
        "Branch URL: <<ResourceURL>>\n",
        "Evaluated Time: <<EvaluatedTime>>\"\n",
        "\n",
        "\"Assignee\" = \"sonajohnson@test.com\"\n",
        "\"Reporter\" = \"smith@test.com\"\n",
        "\"Admin\" = \"johndaniel@test.com\"\n",
        "\n"
      ]
    },
    {
      "cell_type": "markdown",
      "metadata": {},
      "source": [
        "# Step 7. Control Setup Details"
      ]
    },
    {
      "cell_type": "markdown",
      "metadata": {},
      "source": [
        "| Control Details            |                               |\n",
        "|----------------------------|-------------------------------|\n",
        "| **RuleName**               |    GithubBranchSettingsReport |\n",
        "| **PreRequisiteRuleNames**  |         N/A    |\n",
        "| **ExtendedSchemaRuleNames**|           N/A   |\n",
        "| **ApplicationClassName**   |      githubconnector          |"
      ]
    }
  ],
  "metadata": {
    "colab": {
      "provenance": []
    },
    "kernelspec": {
      "display_name": "Python 3",
      "name": "python3"
    },
    "language_info": {
      "codemirror_mode": {
        "name": "ipython",
        "version": 3
      },
      "file_extension": ".py",
      "mimetype": "text/x-python",
      "name": "python",
      "nbconvert_exporter": "python",
      "pygments_lexer": "ipython3",
      "version": "3.10.12"
    }
  },
  "nbformat": 4,
  "nbformat_minor": 0
}
