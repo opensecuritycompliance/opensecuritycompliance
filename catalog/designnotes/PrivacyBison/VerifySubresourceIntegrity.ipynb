{
 "cells": [
  {
   "cell_type": "markdown",
   "metadata": {
    "id": "sFlmicb0Mlse"
   },
   "source": [
    "# Step 1: Evidence Details\n",
    "\n",
    "|System|Source of data|Frameworks|Purpose|\n",
    "|---|---|---|---|\n",
    "|URIs from HAR file|HAR File|OWASP|Verify the integrity of third-party resources such as CDNs, and ensure they have not been manipulated or changed.|\n",
    "\n",
    "```\n",
    "RecomendedEvidenceName: VerifySubresourceIntegrity\n",
    "```\n",
    "\n"
   ]
  },
  {
   "cell_type": "markdown",
   "metadata": {
    "id": "HwaAN4PWRC-_"
   },
   "source": [
    "# Step 2: Define the System Specific Data\n"
   ]
  },
  {
   "cell_type": "code",
   "execution_count": null,
   "metadata": {
    "id": "a7nxEIiVcL4t"
   },
   "outputs": [],
   "source": [
    "{\n",
    "    \"URI\": \"https://getbootstrap.com/docs/5.3/dist/js/bootstrap.bundle.min.js\",\n",
    "    \"Integrity\": \"sha384-YvpcrYf0tY3lHB60NNkmXc5s9fDVZLESaAA55NDzOxhy9GkcIdslK1eN7N6jIeHz\",\n",
    "    \"IsValidIntegrity\": \"true\",\n",
    "    \"EvaluatedTime\": \"2024-02-28T09:56:39.833321Z\",\n",
    "}"
   ]
  },
  {
   "cell_type": "markdown",
   "metadata": {
    "id": "OMfAqx9AZD-R"
   },
   "source": [
    "# Step 3: Define the Standard Schema\n",
    "    "
   ]
  },
  {
   "cell_type": "code",
   "execution_count": null,
   "metadata": {
    "id": "rjwrF9FPg9kE"
   },
   "outputs": [],
   "source": [
    "[\n",
    "    {\n",
    "        # Meta\n",
    "        \"System\": \"getbootstrap.com\",\n",
    "        \"Source\": \"compliancecow\",\n",
    "\n",
    "        # Resource info\n",
    "        \"ResourceID\": \"https://getbootstrap.com/docs/5.3/dist/js/bootstrap.bundle.min.js\",\n",
    "        \"ResourceName\": \"N/A\",\n",
    "        \"ResourceType\": \"N/A\",\n",
    "        \"ResourceLocation\": \"N/A\",\n",
    "        \"ResourceTags\": \"N/A\",\n",
    "\n",
    "        # Data\n",
    "        \"Integrity\": \"sha384-YvpcrYf0tY3lHB60NNkmXc5s9fDVZLESaAA55NDzOxhy9GkcIdslK1eN7N6jIeHz\",\n",
    "        \"IsValidIntegrity\": \"true\",\n",
    "\n",
    "        # Compliance details\n",
    "        \"ValidationStatusCode\": \"INTEGRITY_VALID\",\n",
    "        \"ValidationStatusNotes\": \"Integrity matches with the generated hash\",\n",
    "        \"ComplianceStatus\": \"COMPLIANT\",\n",
    "        \"ComplianceStatusReason\": \"Integrity matches with the generated hash\",\n",
    "        \"EvaluatedTime\": \"2024-02-28T09:56:39.833321Z\",\n",
    "\n",
    "        # User editable data\n",
    "        \"UserAction\": \"\",\n",
    "\n",
    "        # Action editable data\n",
    "        \"ActionStatus\": \"\",\n",
    "        \"ActionResponseURL\": \"\"\n",
    "    },\n",
    "]"
   ]
  },
  {
   "cell_type": "markdown",
   "metadata": {
    "id": "vQQKJKfUabxd"
   },
   "source": [
    "# Step 3.a: Sample Data\n",
    "\n",
    "|System|Source|ResourceID|ResourceName|ResourceType|ResourceLocation|ResourceTags|Integrity|IsValidIntegrity|ValidationStatusCode|ValidationStatusNotes|ComplianceStatus|ComplianceStatusReason|EvaluatedTime|UserAction|ActionStatus|ActionResponseURL|\n",
    "|---|---|---|---|---|---|---|---|---|---|---|---|---|---|---|---|---|\n",
    "|getbootstrap.com|compliancecow|https://getbootstrap.com/docs/5.3/dist/js/bootstrap.bundle.min.js|N/A|N/A|N/A|N/A|sha384-YvpcrYf0tY3lHB60NNkmXc5s9fDVZLESaAA55NDzOxhy9GkcIdslK1eN7N6jIeHz|true|INTEGRITY_VALID|Integrity matches with the generated hash|COMPLIANT|Integrity matches with the generated hash|2024-02-28T09:56:39.833321Z||||\n",
    "|getbootstrap.com|compliancecow|https://getbootstrap.com/docs/5.3/dist/css/bootstrap.min.css|N/A|N/A|N/A|N/A|sha384-QWTKZyjpPEjISv5WaRU9OFeRpok6YctnYmDr5pNlyT2bRjXh0JMhjY6hW+ALEwI|false|INTEGRITY_INVALID|Integrity does not match generated hash|NON_COMPLIANT|Integrity does not match generated hash|2024-02-28T09:56:39.833321Z||||\n",
    "|getbootstrap.com|compliancecow|https://cdn.usefathom.com/script.js|N/A|N/A|N/A|N/A|null|false|INTEGRITY_NOT_FOUND|Integrity doesn't exist|NON_COMPLIANT|Integrity doesn't exist|2024-02-28T09:56:39.833321Z||||"
   ]
  },
  {
   "cell_type": "markdown",
   "metadata": {
    "id": "bxsZR5l8SiOd"
   },
   "source": [
    "# Step 4: Describe the Compliance Taxonomy\n",
    "\n",
    "|Compliance Status Code|Compliance Status|Compliance Status Reason|\n",
    "|---|---|---|\n",
    "|INTEGRITY_VALID|COMPLIANT| Integrity matches with the generated hash|\n",
    "|INTEGRITY_INVALID|NON_COMPLIANT| Integrity does not match generated hash|\n",
    "|INTEGRITY_NOT_FOUND|NON_COMPLIANT| Integrity doesn't exist|\n",
    "|INVALID_URL|NOT_DETERMINED| URL is not valid|\n",
    "|RESPONSE_ERROR|NOT_DETERMINED| The URL request didn't get a successful response|"
   ]
  },
  {
   "cell_type": "markdown",
   "metadata": {
    "id": "Son7AJzlS0hh"
   },
   "source": [
    "# Step 5: Calculation for Compliance Percentage and Status\n",
    "\n",
    "\n"
   ]
  },
  {
   "cell_type": "code",
   "execution_count": null,
   "metadata": {
    "id": "nZMdcSLnNaQe"
   },
   "outputs": [],
   "source": [
    "# Calculation of Compliance Percentage\n",
    "CompliancePCT = (100 - (Count of 'NON_COMPLIANT' records * 100) / Total records)\n",
    "\n",
    "# Compliance Status\n",
    "COMPLIANT - 100%\n",
    "NON_COMPLIANT - 0%>=status<100%\n",
    "NOT_DETERMINED - If integrity is missing on all records"
   ]
  },
  {
   "cell_type": "markdown",
   "metadata": {
    "id": "uVDZ3Jv9TKZx"
   },
   "source": [
    "# Step 6: Describe (in words) the Remediation Steps for Non-Compliance"
   ]
  },
  {
   "cell_type": "markdown",
   "metadata": {
    "id": "IS5_pE75TfxN"
   },
   "source": [
    "FOR NOT_DETERMINED : UNKNOWN\n",
    "\n",
    "FOR COMPLIANT : None\n",
    "\n",
    "For NONCOMPLIANCE:\n",
    "\n",
    "If Compliance Cow needs to notify the client, the following message can be sent via slack or ticket raised in JIRA:\n",
    "\n",
    "\n",
    "To ensure that all 3rd party resources are not tampered, please make sure that all of the resources have an integrity hash, and update all that are not valid."
   ]
  },
  {
   "cell_type": "markdown",
   "metadata": {
    "id": "trjrGTI6N3wv"
   },
   "source": [
    "# Step 7. Control Setup Details\n",
    "\n",
    "| Control Details            |                                               |\n",
    "|----------------------------|-----------------------------------------------|\n",
    "| **RuleName**               | VerifySubresourceIntegrity                    |\n",
    "| **PreRequisiteRuleNames**  | N/A                                           |\n",
    "| **ExtendedSchemaRuleNames**| N/A                                           |\n",
    "| **ApplicationClassName**   | privacybisonconnector                         |"
   ]
  }
 ],
 "metadata": {
  "colab": {
   "provenance": []
  },
  "kernelspec": {
   "display_name": "Python 3",
   "name": "python3"
  },
  "language_info": {
   "name": "python"
  }
 },
 "nbformat": 4,
 "nbformat_minor": 0
}
