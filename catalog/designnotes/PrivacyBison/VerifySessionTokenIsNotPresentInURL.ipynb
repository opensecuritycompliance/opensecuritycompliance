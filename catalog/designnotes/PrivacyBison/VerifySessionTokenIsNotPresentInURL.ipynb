{
 "cells": [
  {
   "cell_type": "markdown",
   "metadata": {
    "id": "sFlmicb0Mlse"
   },
   "source": [
    "# Step 1: Evidence Details\n",
    "\n",
    "|System|Source of data|Frameworks|Purpose|\n",
    "|---|---|---|---|\n",
    "|QueryStrings from HAR file|HAR File|OWASP|Ensure that there is no session tokens present in the URL.|\n",
    "\n",
    "```\n",
    "RecomendedEvidenceName: VerifySessionTokenIsNotPresentInURL\n",
    "```\n",
    "\n"
   ]
  },
  {
   "cell_type": "markdown",
   "metadata": {
    "id": "HwaAN4PWRC-_"
   },
   "source": [
    "# Step 2: Define the System Specific Data\n"
   ]
  },
  {
   "cell_type": "code",
   "execution_count": null,
   "metadata": {
    "id": "a7nxEIiVcL4t"
   },
   "outputs": [],
   "source": [
    "{\n",
    "    \"Host\": \"example.com\",\n",
    "    \"URL\": \"https://example.com/page1?param1=value1&param2=value2\",\n",
    "    \"Status\": \"Failed\",\n",
    "    \"StatusDescription\": \"<<TOKEN>> is repeating in query parameter and value seems like JWT token - Query name: 'token2'\",\n",
    "    \"Remediation\": \"Move 'token2' to header\"\n",
    "},"
   ]
  },
  {
   "cell_type": "markdown",
   "metadata": {
    "id": "OMfAqx9AZD-R"
   },
   "source": [
    "# Step 3: Define the Standard Schema\n",
    "    "
   ]
  },
  {
   "cell_type": "code",
   "execution_count": null,
   "metadata": {
    "id": "rjwrF9FPg9kE"
   },
   "outputs": [],
   "source": [
    "[\n",
    "    {\n",
    "        # Meta\n",
    "        \"System\": \"example.com\",\n",
    "        \"Source\": \"compliancecow\",\n",
    "\n",
    "        # Resource info\n",
    "        \"ResourceID\": \"https://example.com/page1?param1=value1&param2=value2&token=<<TOKEN>>\",\n",
    "        \"ResourceName\": \"N/A\",\n",
    "        \"ResourceType\": \"N/A\",\n",
    "        \"ResourceLocation\": \"N/A\",\n",
    "        \"ResourceTags\": \"N/A\",\n",
    "\n",
    "        # Data\n",
    "        \"Host\": \"example.com\",\n",
    "        \"QueryName\": \"token\",\n",
    "        \"Status\": \"Failed\",\n",
    "        \"Remediation\": \"Move 'token' to header\",\n",
    "\n",
    "        # Compliance details\n",
    "        \"ValidationStatusCode\": \"JWT_TOKEN_FOUND\",\n",
    "        \"ValidationStatusNotes\": \"<<TOKEN>> is repeating in query parameter and value seems like JWT token - Query name: 'token'\",\n",
    "        \"ComplianceStatus\": \"NON_COMPLIANT\",\n",
    "        \"ComplianceStatusReason\": \"<<TOKEN>> is repeating in query parameter and value seems like JWT token - Query name: 'token'\",\n",
    "        \"EvaluatedTime\": \"2024-02-28T09:56:39.833321Z\",\n",
    "\n",
    "        # User editable data\n",
    "        \"UserAction\": \"\",\n",
    "\n",
    "        # Action editable data\n",
    "        \"ActionStatus\": \"\",\n",
    "        \"ActionResponseURL\": \"\"\n",
    "    },\n",
    "]"
   ]
  },
  {
   "cell_type": "markdown",
   "metadata": {
    "id": "vQQKJKfUabxd"
   },
   "source": [
    "# Step 3.a: Sample Data\n",
    "\n",
    "|System|Source|ResourceID|ResourceName|ResourceType|ResourceLocation|ResourceTags|Host|QueryName|Status|Remediation|ValidationStatusCode|ValidationStatusNotes|ComplianceStatus|ComplianceStatusReason|EvaluatedTime|UserAction|ActionStatus|ActionResponseURL|\n",
    "|---|---|---|---|---|---|---|---|---|---|---|---|---|---|---|---|---|---|---|\n",
    "|HAR File|compliancecow|https://example.com/page1?param1=value1&param2=value2&token=[TOKEN]|N/A|N/A|N/A|N/A|example.com|token|Failed|Move 'token' to header|JWT_TOKEN_FOUND|[TOKEN] is repeating in query parameter and value seems like JWT token - Query name: 'token'|NON_COMPLIANT|[TOKEN] is repeating in query parameter and value seems like JWT token - Query name: 'token'|2024-02-28T09:56:39.833321Z||||\n",
    "|HAR File|compliancecow|https://example.com/page1?param1=value1&param2=value2&api=[KEY]|N/A|N/A|N/A|N/A|example.com|api|Failed|Move 'api' to header|API_KEY_FOUND|[KEY] is repeating in query parameter and value seems like API key - Query name: 'api'|NON_COMPLIANT|[KEY] is repeating in query parameter and value seems like API key - Query name: 'api'|2024-03-01T15:04:39.620830Z||||\n",
    "|HAR File|compliancecow|https://example.com/page2?param3=value3|N/A|N/A|N/A|N/A|example.com|param2|Passed|N/A|NO_TOKEN_FOUND|No tokens were found|COMPLIANT|No tokens were found|2024-03-01T15:04:39.620830Z||||"
   ]
  },
  {
   "cell_type": "markdown",
   "metadata": {
    "id": "bxsZR5l8SiOd"
   },
   "source": [
    "# Step 4: Describe the Compliance Taxonomy\n",
    "\n",
    "|Compliance Status Code|Compliance Status|Compliance Status Reason|\n",
    "|---|---|---|\n",
    "|TOKEN_NOT_FOUND|COMPLIANT| No session tokens were found|\n",
    "|GUID_TOKEN_FOUND|NON_COMPLIANT| [token] is repeating in query parameter and value seems like session token(uuid)|\n",
    "|JWT_TOKEN_FOUND|NON_COMPLIANT| [token] is repeating in query parameter and value seems like jwt token|\n",
    "|API_KEY_FOUND|NON_COMPLIANT| [token] is repeating in query parameter and value seems like API key|"
   ]
  },
  {
   "cell_type": "markdown",
   "metadata": {
    "id": "Son7AJzlS0hh"
   },
   "source": [
    "# Step 5: Calculation for Compliance Percentage and Status\n",
    "\n",
    "\n"
   ]
  },
  {
   "cell_type": "code",
   "execution_count": null,
   "metadata": {
    "id": "nZMdcSLnNaQe"
   },
   "outputs": [],
   "source": [
    "# Calculation of Compliance Percentage\n",
    "CompliancePCT = (100 - (Count of 'NON_COMPLIANT' records * 100) / Total records)\n",
    "\n",
    "# Compliance Status\n",
    "COMPLIANT - 100%\n",
    "NON_COMPLIANT - 0%>=status<100%\n",
    "NOT_DETERMINED - If integrity is missing on all records"
   ]
  },
  {
   "cell_type": "markdown",
   "metadata": {
    "id": "uVDZ3Jv9TKZx"
   },
   "source": [
    "# Step 6: Describe (in words) the Remediation Steps for Non-Compliance"
   ]
  },
  {
   "cell_type": "markdown",
   "metadata": {
    "id": "IS5_pE75TfxN"
   },
   "source": [
    "FOR NOT_DETERMINED : UNKNOWN\n",
    "\n",
    "FOR COMPLIANT : None\n",
    "\n",
    "For NONCOMPLIANCE:\n",
    "\n",
    "If Compliance Cow needs to notify the client, the following message can be sent via slack or ticket raised in JIRA:\n",
    "\n",
    "\n",
    "To ensure that no data is compomised, make sure that all of the session tokens, authentication keys, etc are sent through the header"
   ]
  },
  {
   "cell_type": "markdown",
   "metadata": {
    "id": "trjrGTI6N3wv"
   },
   "source": [
    "# Step 7. Control Setup Details\n",
    "\n",
    "| Control Details            |                                               |\n",
    "|----------------------------|-----------------------------------------------|\n",
    "| **RuleName**               | VerifySessionTokenIsNotPresentInURL           |\n",
    "| **PreRequisiteRuleNames**  | N/A                                           |\n",
    "| **ExtendedSchemaRuleNames**| N/A                                           |\n",
    "| **ApplicationClassName**   | privacybisonconnector                         |"
   ]
  }
 ],
 "metadata": {
  "colab": {
   "provenance": []
  },
  "kernelspec": {
   "display_name": "Python 3",
   "name": "python3"
  },
  "language_info": {
   "name": "python"
  }
 },
 "nbformat": 4,
 "nbformat_minor": 0
}
