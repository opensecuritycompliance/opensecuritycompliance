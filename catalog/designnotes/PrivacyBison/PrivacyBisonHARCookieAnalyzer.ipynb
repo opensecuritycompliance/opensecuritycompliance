{
 "cells": [
  {
   "cell_type": "markdown",
   "metadata": {
    "id": "sFlmicb0Mlse"
   },
   "source": [
    "# Step 1: Evidence Details\n",
    "\n",
    "|System|Source of data|Frameworks|Purpose|\n",
    "|---|---|---|---|\n",
    "|URIs from HAR file|HAR File|OWASP|Get the cookies from the HAR file of a given URL and analyse and generate a report|\n",
    "\n",
    "```\n",
    "RecomendedEvidenceName: HARCookieReport\n",
    "```"
   ]
  },
  {
   "cell_type": "markdown",
   "metadata": {
    "id": "HwaAN4PWRC-_"
   },
   "source": [
    "# Step 2: Define the System Specific Data (a.k.a Extended Data Schema)\n"
   ]
  },
  {
   "cell_type": "code",
   "execution_count": null,
   "metadata": {
    "id": "pmQeh3L7KLYH"
   },
   "outputs": [],
   "source": []
  },
  {
   "cell_type": "code",
   "execution_count": null,
   "metadata": {
    "id": "806DY6lcLpgH"
   },
   "outputs": [],
   "source": [
    "{\n",
    "        \"CookieName\": \"Username\",\n",
    "        \"Path\": \"/\",\n",
    "        \"Domain\": \"ctcms.ksrct.net\",\n",
    "        \"CreatedAt\": \"2024-03-06 15:39:49\",\n",
    "        \"Secure\": \"False\",\n",
    "        \"HttpOnly\": \"False\",\n",
    "        \"Classification\": \"FirstParty\",\n",
    "        \"SubClassification\": \"Cookie data Not in DataBase\",\n",
    "        \"Description\": \"Please provide the information of the cookie for further assistance.\",\n",
    "}"
   ]
  },
  {
   "cell_type": "markdown",
   "metadata": {
    "id": "ouhtS-H1SHbX"
   },
   "source": [
    "# Step 3: Define the Standard Schema"
   ]
  },
  {
   "cell_type": "code",
   "execution_count": null,
   "metadata": {
    "id": "BAitejC_jnqk"
   },
   "outputs": [],
   "source": [
    "{\n",
    "    # Meta\n",
    "    \"System\":\"ctcms.ksrct.net\",\n",
    "    \"Source\":\"compliancecow\",\n",
    "\n",
    "    # Resource info\n",
    "    \"ResourceID\":\"http://ctcms.ksrct.net/images/fon_menu.gif\",\n",
    "    \"ResourceName\":\"N/A\",\n",
    "    \"ResourceType\":\"N/A\"\n",
    "\n",
    "    # Data\n",
    "    # HARCookieAnalyzer Report\n",
    "    \"CookieName\": \"Username\",\n",
    "    \"Path\": \"/\",\n",
    "    \"Domain\": \"ctcms.ksrct.net\",\n",
    "    \"CreatedAt\": \"2024-03-06 15:39:49\",\n",
    "    \"Secure\": \"False\",\n",
    "    \"HttpOnly\": \"False\",\n",
    "    \"Classification\": \"FirstParty\",\n",
    "    \"SubClassification\": \"Cookie data Not in DataBase\",\n",
    "    \"Description\": \"Please provide the information of the cookie for further assistance.\"\n",
    "\n",
    "\n",
    "    # Compliance details\n",
    "    \"ComplianceStatus\": \"NON COMPLIANT\",\n",
    "    \"ComplianceReason\": \"The record is non-compliant because the HttpOnly and Secure attributes are set to false\",\n",
    "    \"ValidationCode\": \"NOT_HTTP_ONLY_NOT_SECURE_NON_THIRD_PARTY\",\n",
    "    \"ValidationNotes\": \"Record is non-compliant because it is neither HTTP only nor secure, and not classified as third-party.\"\n",
    "\n",
    "    # User editable data\n",
    "     \"UserAction\":\"\",\n",
    "\n",
    "    # Action editable data\n",
    "     \"ActionStatus\":\"\",\n",
    "     \"ActionResponseURL\":\"\"\n",
    "\n",
    "}"
   ]
  },
  {
   "cell_type": "markdown",
   "metadata": {
    "id": "98bUMH4zY-mR"
   },
   "source": [
    "# Step 3.a: Sample Data\n",
    "\n",
    "|System|Source|ResourceID|Path|ResourceName|ResourceType|CookieName|Domain|CreatedAt|Secure|HttpOnly|Classification|SubClassification|Description|ComplianceStatus|ComplianceReason|ValidationCode|ValidationNotes|UserAction|ActionStatus|ActionResponseURL|\n",
    "|------|------|------|------|------|------|------|------|------|------|------|------|------|------|------|------|------|------|------|------|------|\n",
    "|ctcms.ksrct.net|compliancecow|http://ctcms.ksrct.net/images/fon_menu.gif|/Student|N/A|N/A|skinableTabs_sel|ctcms.ksrct.net|2024-02-23T20:39:34.858591|false|false|FirstParty|Cookie data Not in DataBase|Please provide the information of the cookie for further assistance.|NON_COMPLIANT|The record is non-compliant because the HttpOnly and Secure attributes are set to false|NOT_HTTP_ONLY_NOT_SECURE_NON_THIRD_PARTY|Record is non-compliant because it is neither HTTP only nor secure, and not classified as third-party.||||\n",
    "|ctcms.ksrct.net|compliancecow|http://ctcms.ksrct.net/images/fon_menu.gif|/|N/A|N/A|ASPSESSIONIDSSDBSBCA|ctcms.ksrct.net|2024-02-23T20:39:34.872701|false|false|FirstParty|Cookie data Not in DataBase|Please provide the information of the cookie for further assistance.|NON_COMPLIANT|The record is non-compliant because the HttpOnly and Secure attributes are set to false|NOT_HTTP_ONLY_NOT_SECURE_NON_THIRD_PARTY|Record is non-compliant because it is neither HTTP only nor secure, and not classified as third-party.||||\n",
    "|ctcms.ksrct.net|compliancecow|http://ctcms.ksrct.net/images/fon_menu.gif|/|N/A|N/A|ASPSESSIONIDQSCBRCDB|ctcms.ksrct.net|2024-02-23T20:39:34.883342|false|false|FirstParty|Cookie data Not in DataBase|Please provide the information of the cookie for further assistance.|NON_COMPLIANT|The record is non-compliant because the HttpOnly and Secure attributes are set to false|NOT_HTTP_ONLY_NOT_SECURE_NON_THIRD_PARTY|Record is non-compliant because it is neither HTTP only nor secure, and not classified as third-party.||||\n",
    "|ctcms.ksrct.net|compliancecow|http://ctcms.ksrct.net/images/fon_menu.gif|/|N/A|N/A|ASPSESSIONIDSSDDSBCB|ctcms.ksrct.net|2024-02-23T20:39:34.892493|false|false|FirstParty|Cookie data Not in DataBase|Please provide the information of the cookie for further assistance.|NON_COMPLIANT|The record is non-compliant because the HttpOnly and Secure attributes are set to false|NOT_HTTP_ONLY_NOT_SECURE_NON_THIRD_PARTY|Record is non-compliant because it is neither HTTP only nor secure, and not classified as third-party.||||\n",
    "|ctcms.ksrct.net|compliancecow|http://ctcms.ksrct.net/images/fon_menu.gif|/|N/A|N/A|ASPSESSIONIDSQDDTACB|ctcms.ksrct.net|2024-02-23T20:39:34.900808|false|false|FirstParty|Cookie data Not in DataBase|Please provide the information of the cookie for further assistance.|NON_COMPLIANT|The record is non-compliant because the HttpOnly and Secure attributes are set to false|NOT_HTTP_ONLY_NOT_SECURE_NON_THIRD_PARTY|Record is non-compliant because it is neither HTTP only nor secure, and not classified as third-party.||||\n",
    "|ctcms.ksrct.net|compliancecow|http://ctcms.ksrct.net/images/fon_menu.gif|/|N/A|N/A|password|ctcms.ksrct.net|2024-02-23T20:39:34.908952|false|false|FirstParty|Cookie data Not in DataBase|Please provide the information of the cookie for further assistance.|NON_COMPLIANT|The record is non-compliant because the HttpOnly and Secure attributes are set to false|NOT_HTTP_ONLY_NOT_SECURE_NON_THIRD_PARTY|Record is non-compliant because it is neither HTTP only nor secure, and not classified as third-party.||||\n",
    "|ctcms.ksrct.net|compliancecow|http://ctcms.ksrct.net/images/fon_menu.gif|/|N/A|N/A|Username|ctcms.ksrct.net|2024-02-23T20:39:34.916915|false|false|FirstParty|Cookie data Not in DataBase|Please provide the information of the cookie for further assistance.|NON_COMPLIANT|The record is non-compliant because the HttpOnly and Secure attributes are set to false|NOT_HTTP_ONLY_NOT_SECURE_NON_THIRD_PARTY|Record is non-compliant because it is neither HTTP only nor secure, and not classified as third-party.||||"
   ]
  },
  {
   "cell_type": "markdown",
   "metadata": {
    "id": "wpnfFUFr3Ozs"
   },
   "source": [
    "# Step 4: Describe the Compliance Taxonomy:\n",
    "\n",
    "|ValidationCode |Validation Reason| CC Compliance Status|CC Compliance Status Reason|\n",
    "|-------------------- | :--------------------| :--------------------|:--------------------|\n",
    "|HTTP_ONLY_SECURE_NON_THIRD_PARTY|Record is compliant due to being HTTP only, secure, and not classified as third-party.|COMPLIANT|The record is compliant because it adheres to security best practices by having the HttpOnly and Secure attributes set to true and not being classified as a third-party cookie|\n",
    "|NOT_HTTP_ONLY_SECURE_NON_THIRD_PARTY|Record is non-compliant because it is not HTTP only, although it is secure and not classified as third-party.|NON COMPLIANT|The record is non-compliant because the HttpOnly attribute is set to false|\n",
    "|HTTP_ONLY_NOT_SECURE_NON_THIRD_PARTY|Record is non-compliant because it is HTTP only but not secure, and not classified as third-party.|NON COMPLIANT|The record is non-compliant because the Secure attribute is set to false|\n",
    "|HTTP_ONLY_SECURE_THIRD_PARTY|Record is non-compliant because it is classified as third-party, although it is HTTP only and secure.|NON COMPLIANT|The record is non-compliant because the cookie is classified as a third-party cookie|\n",
    "|NOT_HTTP_ONLY_NOT_SECURE_NON_THIRD_PARTY|Record is non-compliant because it is neither HTTP only nor secure, and not classified as third-party.|NON COMPLIANT|The record is non-compliant because the HttpOnly and Secure attributes are set to false|\n",
    "|NOT_HTTP_ONLY_SECURE_THIRD_PARTY|Record is non-compliant because it is not HTTP only and classified as third-party, although it is secure.|NON COMPLIANT|The record is non-compliant because the HttpOnly attribute is set to false and the cookie is also classified as a third-party cookie|\n",
    "|HTTP_ONLY_NOT_SECURE_THIRD_PARTY|Record is non-compliant because it is classified as third-party and not secure, although it is HTTP only.|NON COMPLIANT|The record is non-compliant because the Secure attribute is set to false and the cookie is also classified as a third-party cookie|\n",
    "|NOT_HTTP_ONLY_NOT_SECURE_THIRD_PARTY|Record is non-compliant because it is neither HTTP only nor secure, and classified as third-party.|NON COMPLIANT|The record is non-compliant because the HttpOnly and Secure attributes are set to false and the cookie is also classified as a third-party cookie|"
   ]
  },
  {
   "cell_type": "markdown",
   "metadata": {
    "id": "Son7AJzlS0hh"
   },
   "source": [
    "# Step 5: Calculation for Compliance Percentage and Status"
   ]
  },
  {
   "cell_type": "code",
   "execution_count": null,
   "metadata": {
    "id": "AOBg4w1TZ5aW"
   },
   "outputs": [],
   "source": [
    "# Calculation of Compliance Percentage\n",
    "compliance_pct = self.calculate_compliance(cookie_report)\n",
    "compliance_status = \"COMPLIANT\" if compliance_pct == 100 else \"NON_COMPLIANT\"\n",
    "\n",
    "def calculate_compliance(self, cookie_report: List[dict]) -> int:\n",
    "        if not cookie_report:\n",
    "            return 0\n",
    "        df = pd.DataFrame(cookie_report)\n",
    "        compliant = df[(df['HttpOnly'] == True) & (df['Secure'] == True) & (df['Classification'] != 'ThirdParty')].shape[0]\n",
    "        total = df.shape[0]\n",
    "        return int((compliant / total) * 100)\n",
    "\n",
    "# Compliance Status\n",
    "COMPLIANT - 100%\n",
    "NON_COMPLIANT - 0%>=status<100%"
   ]
  },
  {
   "cell_type": "markdown",
   "metadata": {
    "id": "uVDZ3Jv9TKZx"
   },
   "source": [
    "# Step 6: Describe (in words) the Remediation Steps for Non-Compliance"
   ]
  },
  {
   "cell_type": "markdown",
   "metadata": {
    "id": "X9BPtUsUDjSF"
   },
   "source": [
    "\n",
    "#1) Missing HTTPOnly Flag:\n",
    "Ensure that the HttpOnly attribute is set to true. This prevents client-side scripts from accessing the cookie, reducing the risk of cross-site scripting attacks.\n",
    "#2) Missing Secure Flag:\n",
    "Set the Secure attribute to true to ensure that the cookie is only transmitted over secure HTTPS connections. This helps protect the cookie from being transmitted in plaintext over unencrypted networks.\n",
    "#3) Classification is ThirdParty:\n",
    "Review and, if possible, reclassify the cookie as a first-party cookie. If the third-party classification is necessary, ensure that additional security measures are in place to protect the data.\n",
    "#4) Missing HTTPOnly Flag and Missing Secure Flag:\n",
    "Set both the HttpOnly and Secure attributes to true. This ensures that the cookie is protected from both client-side access and transmission over non-secure connections.\n",
    "#5) Missing HTTPOnly Flag and Classification is ThirdParty:\n",
    "Set the HttpOnly attribute to true and review the necessity of the third-party classification. If third-party classification is essential, ensure appropriate security measures are in place to mitigate associated risks.\n",
    "#6) Missing Secure Flag and Classification is ThirdParty:\n",
    "Set the Secure attribute to true and review the third-party classification. Ensure that the cookie is only transmitted over secure connections and that other security measures are in place for third-party cookies.\n",
    "#7) Missing Both HTTPOnly and Secure Flag and also Classification is ThirdParty:\n",
    "Set both the HttpOnly and Secure attributes to true and review the third-party classification. Strengthen security measures to ensure that the cookie is protected from client-side access and transmission over unsecure connections, and assess whether the third-party classification is necessary."
   ]
  },
  {
   "cell_type": "markdown",
   "metadata": {
    "id": "1SIfbXGu_V3E"
   },
   "source": [
    "## Step 7. Control Setup Details\n",
    "\n",
    "| Control Details               |                                  |\n",
    "|-------------------------------|----------------------------------|\n",
    "| **RuleName**                  | HARCookieAnalyzer                |\n",
    "| **PreRequisiteRuleNames**     | N/A                              |\n",
    "| **ExtendedSchemaRuleNames**   | N/A                              |\n",
    "| **ApplicationClassName**      | privacybisonconnector            |\n"
   ]
  }
 ],
 "metadata": {
  "colab": {
   "provenance": []
  },
  "kernelspec": {
   "display_name": "Python 3",
   "name": "python3"
  },
  "language_info": {
   "name": "python"
  }
 },
 "nbformat": 4,
 "nbformat_minor": 0
}
