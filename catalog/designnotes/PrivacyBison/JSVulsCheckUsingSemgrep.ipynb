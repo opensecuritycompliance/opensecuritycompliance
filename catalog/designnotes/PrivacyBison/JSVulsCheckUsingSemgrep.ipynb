{
 "cells": [
  {
   "cell_type": "markdown",
   "metadata": {
    "id": "sFlmicb0Mlse"
   },
   "source": [
    "# Step 1: Evidence Details\n",
    "\n",
    "|System|Source of data|Frameworks|Purpose|\n",
    "|---|---|---|---|\n",
    "|DomainName from HAR File|compliancecow|-|Perform vulnerability scanning on JavaScript/TypeScript files using Semgrep|\n",
    "\n",
    "```\n",
    "RecomendedEvidenceName: StdSemgrepVulsReport\n",
    "```\n",
    "\n",
    "**Reference:** <br>\n",
    "https://semgrep.dev/docs/cli-reference <br>\n",
    "https://semgrep.dev/r\n"
   ]
  },
  {
   "cell_type": "markdown",
   "metadata": {
    "id": "HwaAN4PWRC-_"
   },
   "source": [
    "# Step 2: Define the System Specific Data (a.k.a Extended Data Schema)"
   ]
  },
  {
   "cell_type": "code",
   "execution_count": null,
   "metadata": {
    "id": "806DY6lcLpgH"
   },
   "outputs": [],
   "source": [
    "{\n",
    "  \"check_id\": \"javascript.browser.security.wildcard-postmessage-configuration.wildcard-postmessage-configuration\",\n",
    "  \"end.col\": \"360\",\n",
    "  \"end.line\": \"237\",\n",
    "  \"end.offset\": \"99287\",\n",
    "  \"extra.engine_kind\": \"OSS\",\n",
    "  \"extra.fingerprint\": \"ff193ab6a09228971cbf30dd51f699af38c105d83eab42663e8ab9cea07ea08aa46957546e3255182f5cad7178671abc642dc0a18bb57b6c12d5cab4e31464c6_0\",\n",
    "  \"extra.is_ignored\": \"false\",\n",
    "  \"extra.lines\": \"b)&&En(a.vendor.legitimateInterests,d===void 0?\\\"755\\\":d):!0:!0;return m},En=function(a,b){return!(!a||!a[b])},Dn=function(a,b,c,d){c||(c=function()null);if(typeof a.H.__tcfapi===\\\"function\\\"){var e=a.H.__tcfapi;e(b,2,c,d)}else if(Bn(a)){Gn(a);var f=++a.nd;a.Z[f]=c;if(a.j){var g=null;a.j.postMessage((g.__tcfapiCall={command:b,version:2,callId:f,parameter:d},g),\\\"*\\\")}}else c(null,!1)},Bn=function(a){if(a.j)return a.j;var b;a:{for(var c=a.H,d=0;d<50;++d){var e;try{e=!(!c.frames||!c.frames.__tcfapiLocator)}catch(k){e=\",\n",
    "  \"extra.message\": \"The target origin of the window.postMessage() API is set to \\\"*\\\". This could allow for information disclosure due to the possibility of any origin allowed to receive the message.\",\n",
    "  \"extra.metadata.category\": \"security\",\n",
    "  \"extra.metadata.confidence\": \"MEDIUM\",\n",
    "  \"extra.metadata.cwe\": [\"CWE-345: Insufficient Verification of Data Authenticity\"],\n",
    "  \"extra.metadata.impact\": \"MEDIUM\",\n",
    "  \"extra.metadata.license\": \"Commons Clause License Condition v1.0[LGPL-2.1-only]\",\n",
    "  \"extra.metadata.likelihood\": \"HIGH\",\n",
    "  \"extra.metadata.owasp\": [\"A08:2021 - Software and Data Integrity Failures\"],\n",
    "  \"extra.metadata.references\": [\"https://owasp.org/Top10/A08_2021-Software_and_Data_Integrity_Failures\"],\n",
    "  \"extra.metadata.semgrep.dev.rule.origin\": \"community\",\n",
    "  \"extra.metadata.semgrep.dev.rule.r_id\": \"9245\",\n",
    "  \"extra.metadata.semgrep.dev.rule.rule_id\": \"KxUbq4\",\n",
    "  \"extra.metadata.semgrep.dev.rule.rv_id\": \"109824\",\n",
    "  \"extra.metadata.semgrep.dev.rule.url\": \"https://semgrep.dev/playground/r/LjTqQvN/javascript.browser.security.wildcard-postmessage-configuration.wildcard-postmessage-configuration\",\n",
    "  \"extra.metadata.semgrep.dev.rule.version_id\": \"LjTqQvN\",\n",
    "  \"extra.metadata.shortlink\": \"https://sg.run/PJ4p\",\n",
    "  \"extra.metadata.source\": \"https://semgrep.dev/r/javascript.browser.security.wildcard-postmessage-configuration.wildcard-postmessage-configuration\",\n",
    "  \"extra.metadata.subcategory\": [\"audit\"],\n",
    "  \"extra.metadata.technology\": [\"browser\"],\n",
    "  \"extra.metadata.vulnerability_class\": [\"Improper Authentication\"],\n",
    "  \"extra.metavars.$OBJECT.abstract_content\": \"a.j\",\n",
    "  \"extra.metavars.$OBJECT.end.col\": \"281\",\n",
    "  \"extra.metavars.$OBJECT.end.line\": \"237\",\n",
    "  \"extra.metavars.$OBJECT.end.offset\": \"99208\",\n",
    "  \"extra.metavars.$OBJECT.start.col\": \"278\",\n",
    "  \"extra.metavars.$OBJECT.start.line\": \"237\",\n",
    "  \"extra.metavars.$OBJECT.start.offset\": \"99205\",\n",
    "  \"extra.severity\": \"WARNING\",\n",
    "  \"extra.validation_state\": \"NO_VALIDATOR\",\n",
    "  \"start.col\": \"278\",\n",
    "  \"start.line\": \"237\",\n",
    "  \"start.offset\": \"99205\",\n",
    "  \"url\": \"https://www.googletagmanager.com/gtm.js?id=GTM-K4NDFG4\"\n",
    "}"
   ]
  },
  {
   "cell_type": "markdown",
   "metadata": {
    "id": "ouhtS-H1SHbX"
   },
   "source": [
    "# Step 3: Define the Standard Schema"
   ]
  },
  {
   "cell_type": "code",
   "execution_count": null,
   "metadata": {
    "id": "h5VGDcUvLGs6"
   },
   "outputs": [],
   "source": [
    "{\n",
    "    # Meta\n",
    "    \"System\": \"compliancecow.com\",\n",
    "    \"Source\": \"compliancecow\",\n",
    "\n",
    "    # Resource info\n",
    "    \"ResourceID\": \"https://www.googletagmanager.com/gtm.js?id=GTM-K4NDFG4\",\n",
    "    \"ResourceName\": \"N/A\",\n",
    "    \"ResourceType\": \"JavaScript\",\n",
    "    \"ResourceLocation\": \"N/A\",\n",
    "    \"ResourceTags\": \"N/A\",\n",
    "    \"ResourceURL\": \"N/A\",\n",
    "\n",
    "    # Data\n",
    "    \"SemgrepRuleName\": \"javascript.browser.security.wildcard-postmessage-configuration.wildcard-postmessage-configuration\",\n",
    "    \"SemgrepRuleURL\": \"https://semgrep.dev/r/javascript.browser.security.wildcard-postmessage-configuration.wildcard-postmessage-configuration\",\n",
    "    \"Message\": \"The target origin of the window.postMessage() API is set to \\\"*\\\". This could allow for information disclosure due to the possibility of any origin allowed to receive the message.\",\n",
    "    \"VulnerabilityStartLine\": \"237\",\n",
    "    \"VulnerabilityEndLine\": \"237\",\n",
    "    \"Impact\": \"MEDIUM\",\n",
    "    \"Likelihood\": \"HIGH\",\n",
    "    \"Severity\": \"WARNING\",\n",
    "    \"OWASP\": [\"A08:2021 - Software and Data Integrity Failures\"],\n",
    "\n",
    "    # Compliance details\n",
    "    \"ValidationStatusCode\": \"VULN_FOUND\",\n",
    "    \"ValidationStatusNotes\": \"Vulnerabilities found in JavaScript file scanned by Semgrep.\",\n",
    "    \"ComplianceStatus\": \"NON_COMPLIANT\",\n",
    "    \"ComplianceStatusReason\": \"The JavaScript file scanned by Semgrep identifies vulnerabilities, such as open redirects or insecure dependencies, which pose potential security risks.\",\n",
    "    \"EvaluatedTime\": \"2024-07-06T17:17:28.109334Z\",\n",
    "\n",
    "    # User editable data\n",
    "    \"UserAction\":\"\",\n",
    "\n",
    "    # Action editable data\n",
    "    \"ActionStatus\":\"\",\n",
    "    \"ActionResponseURL\":\"\"\n",
    "}\n"
   ]
  },
  {
   "cell_type": "markdown",
   "metadata": {
    "id": "rl4EwFKUY4VZ"
   },
   "source": [
    "# Step 3.a: Sample Data\n",
    "\n",
    "|System|Source|ResourceID|ResourceName|ResourceType|ResourceLocation|ResourceTags|ResourceURL|SemgrepRuleName|SemgrepRuleURL|Message|VulnerabilityStartLine|VulnerabilityEndLine|Impact|Likelihood|Severity|OWASP|ValidationStatusCode|ValidationStatusNotes|ComplianceStatus|ComplianceStatusReason|EvaluatedTime|UserAction|ActionStatus|ActionResponseURL|\n",
    "|------|------|------|------|------|------|------|------|------|------|------|------|------|------|------|------|------|------|------|------|------|------|------|------|------|\n",
    "|compliancecow.com|compliancecow|https://www.googletagmanager.com/gtm.js?id=GTM-K4NDFG4|N/A|JavaScript|N/A|N/A|N/A|javascript.browser.security.wildcard-postmessage-configuration.wildcard-postmessage-configuration|https://semgrep.dev/r/javascript.browser.security.wildcard-postmessage-configuration.wildcard-postmessage-configuration|The target origin of the window.postMessage() API is set to \\\"*\\\". This could allow for information disclosure due to the possibility of any origin allowed to receive the message.|237|237|MEDIUM|HIGH|WARNING|[\"A08:2021 - Software and Data Integrity Failures\"]|VULN_FOUND|Vulnerabilities found in JavaScript file scanned by Semgrep.|NON_COMPLIANT|The JavaScript file scanned by Semgrep identifies vulnerabilities, such as open redirects or insecure dependencies, which pose potential security risks.|2024-07-06T17:17:28.109334Z|\n"
   ]
  },
  {
   "cell_type": "markdown",
   "metadata": {
    "id": "bxsZR5l8SiOd"
   },
   "source": [
    "# Step 4: Describe the Compliance Taxonomy"
   ]
  },
  {
   "cell_type": "markdown",
   "metadata": {
    "id": "RZjPd-SrINSV"
   },
   "source": [
    "|ValidationStatusCode|ValidationStatusNotes|ComplianceStatus|ComplianceStatusReason|\n",
    "|---|---|---|---|\n",
    "|NO_VULN_FOUND|No vulnerabilities found in {JavaScript/TypeScript} file scanned by Semgrep.|COMPLIANT|The {JavaScript/TypeScript} file scanned by Semgrep adheres to coding standards and does not contain vulnerabilities, ensuring compliance with coding best practices.|\n",
    "|VULN_FOUND|Vulnerabilities found in {JavaScript/TypeScript} file scanned by Semgrep.|NON_COMPLIANT|The {JavaScript/TypeScript} file scanned by Semgrep identifies vulnerabilities that pose potential security risks."
   ]
  },
  {
   "cell_type": "markdown",
   "metadata": {
    "id": "Son7AJzlS0hh"
   },
   "source": [
    "# Step 5: Calculation for Compliance Percentage and Status"
   ]
  },
  {
   "cell_type": "code",
   "execution_count": null,
   "metadata": {
    "id": "lBpospHEM2d-"
   },
   "outputs": [],
   "source": [
    "# Calculation of Compliance Percentage\n",
    "\n",
    "TotalCount = Count of 'COMPLIANT' and 'NON_COMPLIANT' records\n",
    "CompliantCount = Count of 'COMPLIANT' records\n",
    "\n",
    "CompliancePCT = (CompliantCount / TotalCount) * 100\n",
    "\n",
    "Compliance Status\n",
    "COMPLIANT - 100%\n",
    "NON_COMPLIANT - 0% to less than 100%\n",
    "NOT_DETERMINED - If no records are found."
   ]
  },
  {
   "cell_type": "markdown",
   "metadata": {
    "id": "uVDZ3Jv9TKZx"
   },
   "source": [
    "# Step 6: Describe (in words) the Remediation Steps for Non-Compliance\n",
    "\n",
    "**1. Create a Jira Ticket**\n",
    "\n",
    "Title: Fix Vulnerability: [SemgrepRuleName]\n",
    "\n",
    "Description: [Message] <<example: The postMessage API target origin is set to \"*\", which could lead to information disclosure. Update to specify a restricted origin.>> Refer to Semgrep Rule Details.\n",
    "\n",
    "Impact: Medium\n",
    "\n",
    "Priority: High\n",
    "\n",
    "Assignee: [Developer Name]\n",
    "\n",
    "Due Date: [Due Date]"
   ]
  },
  {
   "cell_type": "markdown",
   "metadata": {
    "id": "7YZZUm3BbBmH"
   },
   "source": [
    "# Step 7. Control Setup Details\n",
    "\n",
    "| Control Details            |                               |\n",
    "|----------------------------|-------------------------------|\n",
    "| **RuleName**               | JSVulsCheckUsingSemgrep       |\n",
    "| **PreRequisiteRuleNames**  | -                             |\n",
    "| **ExtendedSchemaRuleNames**| -                             |\n",
    "| **ApplicationClassName**   | privacybisonconnector         |"
   ]
  }
 ],
 "metadata": {
  "colab": {
   "provenance": []
  },
  "kernelspec": {
   "display_name": "Python 3",
   "name": "python3"
  },
  "language_info": {
   "name": "python"
  }
 },
 "nbformat": 4,
 "nbformat_minor": 0
}
