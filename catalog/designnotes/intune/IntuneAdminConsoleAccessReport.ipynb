{
  "cells": [
    {
      "cell_type": "markdown",
      "metadata": {
        "id": "YSfkrKEbRWh7"
      },
      "source": [
        "# Step 1: Evidence Details\n",
        "\n",
        "|System|Source of data|Frameworks\n",
        "|---|---|---|\n",
        "|intune|intune devices|intune\n",
        "\n",
        "`Purpose: The purpose of this control is to ensure no third-party VPN service access to administrative consoles from third-party VPN services.`\n",
        "\n",
        "```\n",
        "RecomendedEvidenceName: IntunePreviligedConsoleAccessReport\n",
        "```\n",
        "\n",
        "\n"
      ]
    },
    {
      "cell_type": "markdown",
      "metadata": {
        "id": "EjmOAnnQRuvG"
      },
      "source": [
        "# Step 2: Define the System Specific Data\n"
      ]
    },
    {
      "cell_type": "markdown",
      "metadata": {
        "id": "xPyCn3L3k2m4"
      },
      "source": [
        "# Step 2a: API & Flow"
      ]
    },
    {
      "cell_type": "markdown",
      "metadata": {
        "id": "Py-sDa9jObNh"
      },
      "source": [
        "- GET /identity/conditionalAccess/policies\n",
        "  - Conditional access policy info can be obtained from above api response\n",
        "- GET /identity/conditionalAccess/namedLocations\n",
        "     - List trustable ip ranges"
      ]
    },
    {
      "cell_type": "markdown",
      "metadata": {
        "id": "_R3cc0DyOSv0"
      },
      "source": [
        "# Step 2b: Define the Extended Schema\n"
      ]
    },
    {
      "cell_type": "code",
      "execution_count": null,
      "metadata": {
        "id": "2eDptXx9C6yZ"
      },
      "outputs": [],
      "source": [
        "# GET /identity/conditionalAccess/policies\n",
        " {\n",
        "            \"id\": \"73e612e5-58c7-4901-be19-34d15de9b966\",\n",
        "            \"templateId\": null,\n",
        "            \"displayName\": \"TestUser MFA Policy\",\n",
        "            \"createdDateTime\": \"2021-08-13T07:10:30.2425929Z\",\n",
        "            \"modifiedDateTime\": \"2021-09-16T10:02:48.9276843Z\",\n",
        "            \"state\": \"enabled\",\n",
        "            \"sessionControls\": null,\n",
        "            \"conditions\": {\n",
        "                \"userRiskLevels\": [],\n",
        "                \"signInRiskLevels\": [],\n",
        "                \"clientAppTypes\": [\n",
        "                    \"all\"\n",
        "                ],\n",
        "                \"servicePrincipalRiskLevels\": [],\n",
        "                \"platforms\": null,\n",
        "                \"locations\": null,\n",
        "                \"devices\": null,\n",
        "                \"clientApplications\": null,\n",
        "                \"applications\": {\n",
        "                    \"includeApplications\": [\n",
        "                        \"797f4846-ba00-4fd7-ba43-dac1f8f63013\"\n",
        "                    ],\n",
        "                    \"excludeApplications\": [],\n",
        "                    \"includeUserActions\": [],\n",
        "                    \"includeAuthenticationContextClassReferences\": [],\n",
        "                    \"applicationFilter\": null\n",
        "                },\n",
        "                \"users\": {\n",
        "                    \"includeUsers\": [\n",
        "                        \"7a669360-622d-4795-8a7e-b1c1fedf5ad7\"\n",
        "                    ],\n",
        "                    \"excludeUsers\": [],\n",
        "                    \"includeGroups\": [],\n",
        "                    \"excludeGroups\": [],\n",
        "                    \"includeRoles\": [],\n",
        "                    \"excludeRoles\": [],\n",
        "                    \"includeGuestsOrExternalUsers\": null,\n",
        "                    \"excludeGuestsOrExternalUsers\": null\n",
        "                }\n",
        "            },\n",
        "            \"grantControls\": {\n",
        "                \"operator\": \"OR\",\n",
        "                \"builtInControls\": [\n",
        "                    \"mfa\"\n",
        "                ],\n",
        "                \"customAuthenticationFactors\": [],\n",
        "                \"termsOfUse\": [],\n",
        "                \"authenticationStrength@odata.context\": \"https://graph.microsoft.com/v1.0/$metadata#identity/conditionalAccess/policies('73e612e5-58c7-4901-be19-34d15de9b966')/grantControls/authenticationStrength/$entity\",\n",
        "                \"authenticationStrength\": null\n",
        "            }\n",
        "        }\n",
        "\n",
        "# GET /identity/conditionalAccess/namedLocations\n",
        " {\n",
        "            \"id\": \"01vdsec5-f9u4-4ub5-8cac-32vasdc1869\",\n",
        "            \"displayName\": \"policyName\",\n",
        "            \"modifiedDateTime\": \"2024-05-09T14:24:27.1045568Z\",\n",
        "            \"createdDateTime\": \"2024-05-09T14:24:27.1045568Z\",\n",
        "            \"isTrusted\": true,\n",
        "            \"ipRanges\": [\n",
        "                {\n",
        "                    \"@odata.type\": \"#microsoft.graph.iPv4CidrRange\",\n",
        "                    \"cidrAddress\": \"127.0.0.1/27\"\n",
        "                }\n",
        "            ]\n",
        "}"
      ]
    },
    {
      "cell_type": "markdown",
      "metadata": {
        "id": "PCn6NKz-Rx8p"
      },
      "source": [
        "# Step 3: Define the Standard Schema\n"
      ]
    },
    {
      "cell_type": "code",
      "execution_count": null,
      "metadata": {
        "id": "MrRhcz2dR3cy"
      },
      "outputs": [],
      "source": [
        "{\n",
        "        \"System\": \"intune\",\n",
        "        \"Source\": \"compliancecow\",\n",
        "        \"ResourceID\": \"b973e0eb3e593d1\",\n",
        "        \"ResourceName\": \"Kavya maran\",\n",
        "        \"ResourceType\": \"User\",\n",
        "        \"ResourceLocation\": \"N/A\",\n",
        "        \"ResourceTags\": \"N/A\",\n",
        "        \"ResourceURL\": \"https://portal.azure.com/#@continube.com/resource/b973e0eb3e593d1/overview\",\n",
        "        \"UserEmail\": \"Kavya@continube.com\",\n",
        "        \"UserGroups\": [\"test_group\"],\n",
        "        \"UserRoles\": [\"test_role\"],\n",
        "        \"MFAEnabled\": true,\n",
        "        \"PolicyDetails\": [],\n",
        "        \"LocationDetails\": [],\n",
        "        \"IsThirdPartyVPNAccessBlocked\": False,\n",
        "        \"ValidationStatusCode\": \"THD_PAR_VPN_ACS_NT_BLD\",\n",
        "        \"ValidationStatusNotes\": \"Third Party VPN access not blocked\",\n",
        "        \"ComplianceStatus\": \"NON_COMPLIANT\",\n",
        "        \"ComplianceStatusReason\": \"The record is non-compliant since no conditional access policies are enabled for the user. Enabling conditional access policies enhance security by enforcing granular access controls based on user roles, location, and device compliance. They help mitigate risks and ensure compliance with organizational security requirements.\"\n",
        "    }"
      ]
    },
    {
      "cell_type": "markdown",
      "metadata": {
        "id": "K38XJoTqWJe_"
      },
      "source": [
        "| System | Source | ResourceID | ResourceName | ResourceType | ResourceLocation | ResourceTags | ResourceUrl | UserEmail | IsThirdPartyVPNAccessBlocked | UserGroups | UserRoles | MFAEnabled | PolicyDetails | LocationDetails | ValidationStatusCode | ValidationStatusNotes | ComplianceStatus | ComplianceStatusReason | UserAction | ActionStatus | ActionResponseURL |\n",
        "|---|---|---|---|---|---|---|---|---|---|---|---|---|---|---|---|---|---|---|---|---|---|\n",
        "| intune | compliancecow | b973e0eb3e593d1 | Kavya maran | User | N/A | N/A  | https://portal.azure.com/#view/Microsoft_AAD_UsersAndTenants/UserProfileMenuBlade/~/overview/userId/b973e0eb3e593d1 | kavya@gmail.com | False | [\"test_group\"] | [\"test_role\"] | True | [ ] | [] | THD_PAR_VPN_ACS_NT_BLD | Third Party VPN access not blocked | NON_COMPLIANT | The record is non-compliant since no conditional access policies are enabled for the user. Enabling conditional access policies enhance security by enforcing granular access controls based on user roles, location, and device compliance. They help mitigate risks and ensure compliance with organizational security requirements.| | | |"
      ]
    },
    {
      "cell_type": "markdown",
      "metadata": {
        "id": "cEqQOtLVWWTi"
      },
      "source": [
        "# Step 4: Describe the Compliance Taxonomy\n",
        "\n",
        "|IsThirdPartyVPNAccessBlocked|LocationDetails|PolicyDetails|ComplianceStatus|ComplianceStatusReason|ValidationStatusCode|ValidationStatusNotes|\n",
        "|---|---|---|---|---|---|---|\n",
        "|true|\"LocationDetails\": \"[{\\\"Address\\\":\\\"127.0.0.1/27\\\",\\\"Id\\\":\\\"010baec5-f904-41d5-8dcc-cbf42c1869\\\",\\\"IsTrusted\\\":true,\\\"LocationStatus\\\":\\\"Included\\\",\\\"Name\\\":\\\"Rules Test\\\",\\\"PolcyName\\\":\\\"Session Limit Test Policy\\\",\\\"PolicyStatus\\\":\\\"ACTIVE\\\"}]\",|\"PolicyDetails\": \"[{\\\"CreationDate\\\":\\\"2024-05-09T09:26:27.0912458Z\\\",\\\"Id\\\":\\\"10f9fac4-aff4-4bac-891d-029a20478765\\\",\\\"Name\\\":\\\"Session Limit Test Policy\\\",\\\"SignInRiskLevels\\\":[\"critical\",\"high\"],\\\"SigninFrequencyEnabled\\\":true,\\\"Status\\\":\\\"ACTIVE\\\"}\",| COMPLIANT | The record is compliant as trustable named locations are enabled in an active policy:  Rules Test|THD_PAR_VPN_ACS_BLD|Third Party VPN access blocked|\n",
        "|false|[]|[]| NON_COMPLIANT | The record is non-compliant since no conditional access policies are enabled for the user. Enabling conditional access policies enhance security by enforcing granular access controls based on user roles, location, and device compliance. They help mitigate risks and ensure compliance with organizational security requirements.|THD_PAR_VPN_ACS_NT_BLD|Third Party VPN access not blocked\n",
        "|false|[]|\"PolicyDetails\": \"[{\\\"CreationDate\\\":\\\"2024-05-09T09:26:27.0912458Z\\\",\\\"Id\\\":\\\"10f9fac4-aff4-4bac-891d-029a20478765\\\",\\\"Name\\\":\\\"Session Limit Test Policy\\\",\\\"SignInRiskLevels\\\":[\"critical\",\"high\"],\\\"SigninFrequencyEnabled\\\":true,\\\"Status\\\":\\\"ACTIVE\\\"}\",| NON_COMPLIANT | The record is non-compliant because the user lacks enabling under conditional access policies that incorporate named locations, thereby posing a security risk due to unrestricted access.|THD_PAR_VPN_ACS_NT_BLD|Third Party VPN access not blocked\n",
        "|false|\"LocationDetails\": \"[{\\\"Address\\\":\\\"127.0.0.1/27\\\",\\\"Id\\\":\\\"010baec5-f904-41d5-8dcc-cbf42c1869\\\",\\\"IsTrusted\\\":true,\\\"LocationStatus\\\":\\\"Included\\\",\\\"Name\\\":\\\"Rules Test\\\",\\\"PolcyName\\\":\\\"Session Limit Test Policy\\\",\\\"PolicyStatus\\\":\\\"INACTIVE\\\"}]\",|\"PolicyDetails\": \"[{\\\"CreationDate\\\":\\\"2024-05-09T09:26:27.0912458Z\\\",\\\"Id\\\":\\\"10f9fac4-aff4-4bac-891d-029a20478765\\\",\\\"Name\\\":\\\"Session Limit Test Policy\\\",\\\"SignInRiskLevels\\\":[\"critical\",\"high\"],\\\"SigninFrequencyEnabled\\\":true,\\\"Status\\\":\\\"INACTIVE\\\"}\",| NON_COMPLIANT | The record is non-compliant as named location enabled in policy is trustable, but the policy is not active: Rules Test. |THD_PAR_VPN_ACS_NT_BLD|Third Party VPN access not blocked\n",
        "|false|\"LocationDetails\": \"[{\\\"Address\\\":\\\"127.0.0.1/27\\\",\\\"Id\\\":\\\"010baec5-f904-41d5-8dcc-cbf42c1869\\\",\\\"IsTrusted\\\":false,\\\"LocationStatus\\\":\\\"Included\\\",\\\"Name\\\":\\\"Rules Test\\\",\\\"PolcyName\\\":\\\"Session Limit Test Policy\\\",\\\"PolicyStatus\\\":\\\"ACTIVE\\\"}]\",|\"PolicyDetails\": \"[{\\\"CreationDate\\\":\\\"2024-05-09T09:26:27.0912458Z\\\",\\\"Id\\\":\\\"10f9fac4-aff4-4bac-891d-029a20478765\\\",\\\"Name\\\":\\\"Session Limit Test Policy\\\",\\\"SignInRiskLevels\\\":[\"critical\",\"high\"],\\\"SigninFrequencyEnabled\\\":true,\\\"Status\\\":\\\"ACTIVE\\\"}\",| NON_COMPLIANT | The record is non-compliant as non trusted location is enabled in an active policy:  Rules Test. |THD_PAR_VPN_ACS_NT_BLD|Third Party VPN access not blocked\n",
        "|false|\"LocationDetails\": \"[{\\\"Address\\\":\\\"127.0.0.1/27\\\",\\\"Id\\\":\\\"010baec5-f904-41d5-8dcc-cbf42c1869\\\",\\\"IsTrusted\\\":false,\\\"LocationStatus\\\":\\\"Included\\\",\\\"Name\\\":\\\"Rules Test\\\",\\\"PolcyName\\\":\\\"Session Limit Test Policy\\\",\\\"PolicyStatus\\\":\\\"INACTIVE\\\"}]\",|\"PolicyDetails\": \"[{\\\"CreationDate\\\":\\\"2024-05-09T09:26:27.0912458Z\\\",\\\"Id\\\":\\\"10f9fac4-aff4-4bac-891d-029a20478765\\\",\\\"Name\\\":\\\"Session Limit Test Policy\\\",\\\"SignInRiskLevels\\\":[\"critical\",\"high\"],\\\"SigninFrequencyEnabled\\\":true,\\\"Status\\\":\\\"INACTIVE\\\"}\",| NON_COMPLIANT | The record is non-compliant as non trusted location is enabled in a non-active policy:  Rules Test. |THD_PAR_VPN_ACS_NT_BLD|Third Party VPN access not blocked"
      ]
    },
    {
      "cell_type": "markdown",
      "metadata": {
        "id": "_maVqW-OWZXP"
      },
      "source": [
        "# Step 5: Calculation for Compliance Percentage and Status\n"
      ]
    },
    {
      "cell_type": "code",
      "execution_count": null,
      "metadata": {
        "id": "ajY0uqLnWIjH"
      },
      "outputs": [],
      "source": [
        "# Calculation of Compliance Percentage\n",
        "CompliancePCT = (100 - (Count of 'NON_COMPLIANT' records * 100) / Total records)\n",
        "\n",
        "# Compliance Status\n",
        "COMPLIANT - 100%\n",
        "NON_COMPLIANT - 0%>=status<100%\n",
        "NOT_DETERMINED - If error occurs while fetching intune user details"
      ]
    },
    {
      "cell_type": "markdown",
      "metadata": {
        "id": "j0kSiPD1Wc5f"
      },
      "source": [
        "# Step 6: Describe (in words) the Remediation Steps for Non-Compliance"
      ]
    },
    {
      "cell_type": "markdown",
      "metadata": {
        "id": "nfkyaxe6WwYA"
      },
      "source": [
        "FOR NOT_DETERMINED : UNKNOWN\n",
        "\n",
        "FOR COMPLIANT : None\n",
        "\n",
        "For NONCOMPLIANCE:\n",
        "\n",
        "Create the conditional access policy for trustable location or IP ranges - https://learn.microsoft.com/en-us/entra/identity/conditional-access/howto-conditional-access-policy-location"
      ]
    },
    {
      "cell_type": "markdown",
      "metadata": {
        "id": "kBoB8dlTW07D"
      },
      "source": [
        "# 7. Control Setup Details"
      ]
    },
    {
      "cell_type": "markdown",
      "metadata": {
        "id": "2rqksgZoW4a8"
      },
      "source": [
        "| Control Details            |                                               |\n",
        "|----------------------------|-----------------------------------------------|\n",
        "| **RuleName**               | IntunePrivilegedUserConditionalAccessPolicies |\n",
        "| **PreRequisiteRuleNames**  | IntuneConditionalAccessPolicies, IntuneUserRegistrationDetails   |\n",
        "| **ExtendedSchemaRuleNames**| N/A\n",
        "| **ApplicationClassName**   | azureappconnector                                 |\n",
        "| **PostSynthesizerName**    | N/A                                           |"
      ]
    }
  ],
  "metadata": {
    "colab": {
      "provenance": []
    },
    "kernelspec": {
      "display_name": "Python 3",
      "name": "python3"
    },
    "language_info": {
      "name": "python"
    }
  },
  "nbformat": 4,
  "nbformat_minor": 0
}