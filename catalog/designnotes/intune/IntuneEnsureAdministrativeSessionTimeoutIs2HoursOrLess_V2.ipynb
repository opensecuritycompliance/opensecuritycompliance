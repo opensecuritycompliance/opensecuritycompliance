{
  "cells": [
    {
      "cell_type": "markdown",
      "metadata": {
        "id": "sFlmicb0Mlse"
      },
      "source": [
        "# Step 1: Evidence Details\n",
        "\n",
        "|System|Source of data|Frameworks|Purpose|\n",
        "|---|---|---|---|\n",
        "|Intune|Intune Policy|Intune|Set administrative session timeout to 2 hours or less.|\n",
        "\n",
        "```\n",
        "RecomendedEvidenceName: AdministrativeSessionTimeoutReport\n",
        "```\n",
        "\n"
      ]
    },
    {
      "cell_type": "markdown",
      "metadata": {
        "id": "HwaAN4PWRC-_"
      },
      "source": [
        "# Step 2: Define the System Specific Data\n"
      ]
    },
    {
      "cell_type": "code",
      "execution_count": null,
      "metadata": {
        "id": "a7nxEIiVcL4t"
      },
      "outputs": [],
      "source": [
        "# GET /identity/conditionalAccess/policies [use beta API]\n",
        "{\n",
        "    \"@odata.context\": \"https://graph.microsoft.com/v1.0/$metadata#identity/conditionalAccess/policies\",\n",
        "    \"value\": [\n",
        "        {\n",
        "            \"id\": \"73e612e5-58c7-4901-be19-34d15de9b966\",\n",
        "            \"templateId\": null,\n",
        "            \"displayName\": \"TestUser MFA Policy\",\n",
        "            \"createdDateTime\": \"2021-08-13T07:10:30.2425929Z\",\n",
        "            \"modifiedDateTime\": \"2021-09-16T10:02:48.9276843Z\",\n",
        "            \"state\": \"enabled\",\n",
        "            \"sessionControls\": null,\n",
        "            \"conditions\": {\n",
        "                \"userRiskLevels\": [],\n",
        "                \"signInRiskLevels\": [],\n",
        "                \"clientAppTypes\": [\n",
        "                    \"all\"\n",
        "                ],\n",
        "                \"servicePrincipalRiskLevels\": [],\n",
        "                \"platforms\": null,\n",
        "                \"locations\": null,\n",
        "                \"devices\": null,\n",
        "                \"clientApplications\": null,\n",
        "                \"applications\": {\n",
        "                    \"includeApplications\": [\n",
        "                        \"797f4846-ba00-4fd7-ba43-dac1f8f63013\"\n",
        "                    ],\n",
        "                    \"excludeApplications\": [],\n",
        "                    \"includeUserActions\": [],\n",
        "                    \"includeAuthenticationContextClassReferences\": [],\n",
        "                    \"applicationFilter\": null\n",
        "                },\n",
        "                \"users\": {\n",
        "                    \"includeUsers\": [\n",
        "                        \"7a669360-622d-4795-8a7e-b1c1fedf5ad7\"\n",
        "                    ],\n",
        "                    \"excludeUsers\": [],\n",
        "                    \"includeGroups\": [],\n",
        "                    \"excludeGroups\": [],\n",
        "                    \"includeRoles\": [],\n",
        "                    \"excludeRoles\": [],\n",
        "                    \"includeGuestsOrExternalUsers\": null,\n",
        "                    \"excludeGuestsOrExternalUsers\": null\n",
        "                }\n",
        "            },\n",
        "            \"grantControls\": {\n",
        "                \"operator\": \"OR\",\n",
        "                \"builtInControls\": [\n",
        "                    \"mfa\"\n",
        "                ],\n",
        "                \"customAuthenticationFactors\": [],\n",
        "                \"termsOfUse\": [],\n",
        "                \"authenticationStrength@odata.context\": \"https://graph.microsoft.com/v1.0/$metadata#identity/conditionalAccess/policies('73e612e5-58c7-4901-be19-34d15de9b966')/grantControls/authenticationStrength/$entity\",\n",
        "                \"authenticationStrength\": null\n",
        "            }\n",
        "        }\n",
        "    ]\n",
        "}\n",
        "\n",
        "# GET /directoryRoles\n",
        "{\n",
        "\n",
        "    \"@odata.context\": \"https://graph.microsoft.com/v1.0/$metadata#directoryRoles\",\n",
        "    \"value\": [\n",
        "        {\n",
        "            \"id\": \"0394c6e8-e8cc-4afa-85a3-8dc3a876fb65\",\n",
        "            \"deletedDateTime\": null,\n",
        "            \"description\": \"Can read everything that a Global Administrator can, but not update anything.\",\n",
        "            \"displayName\": \"Global Reader\",\n",
        "            \"roleTemplateId\": \"f2ef992c-3afb-46b9-b7cf-a126ee74c451\"\n",
        "        }\n",
        "    ]\n",
        "}\n",
        "\n",
        "# GET /directoryRoles/{roleId}/members\n",
        "{\n",
        "    \"@odata.context\": \"https://graph.microsoft.com/v1.0/$metadata#directoryObjects\",\n",
        "    \"value\": [\n",
        "        {\n",
        "            \"@odata.type\": \"#microsoft.graph.user\",\n",
        "            \"id\": \"d618aa7d-eda0-4a13-88f4-67129cb7ba6d\",\n",
        "            \"businessPhones\": [],\n",
        "            \"displayName\": \"John Doe\",\n",
        "            \"givenName\": \"John\",\n",
        "            \"jobTitle\": null,\n",
        "            \"mail\": \"john.doe@example.com\",\n",
        "            \"mobilePhone\": null,\n",
        "            \"officeLocation\": null,\n",
        "            \"preferredLanguage\": \"en-US\",\n",
        "            \"surname\": \"Doe\",\n",
        "            \"userPrincipalName\": \"john.doe@example.com\"\n",
        "        },\n",
        "    ]\n",
        "}"
      ]
    },
    {
      "cell_type": "markdown",
      "metadata": {
        "id": "YH7UuCva6N66"
      },
      "source": [
        "# Step 2a: API & Flow\n"
      ]
    },
    {
      "cell_type": "markdown",
      "metadata": {
        "id": "MX4m3jsy6Iz8"
      },
      "source": [
        " - GET /users\n",
        "  - The response will give a list of users.\n",
        "  - For each role, use the below API to fetch the user's memberships:\n",
        " - GET /users/{userId}/memberOf\n",
        "  - The response will give a list of memberships of the user, containing directory roles, groups, etc.\n",
        "  - For each membership, we check if \"@odata.type\" field equals \"#microsoft.graph.directoryRole\".\n",
        "  - If atleast one of the memberships satisfy the condition, that means the user is privileged.\n",
        "  - Thus, we get a list of privileged users.\n",
        " - GET /identity/conditionalAccess/policies\n",
        "  - The response will give the list of policies.\n",
        "  - For each policy, check if sessionControl exists.\n",
        "  - If it exists, we must ensure the below conditions are met:\n",
        "    - state is 'enabled'.\n",
        "    - sessionControls.signInFrequency is not null.\n",
        "    - sessionControls.signInFrequency.isEnabled is true.\n",
        "  - If sessionControls.signInFrequency.frequencyInterval is 'everyTime', then the policy is compliant.\n",
        "  - Otherwise, we continue checking:\n",
        "    - sessionControls.signInFrequency.type will be either hours or days.\n",
        "    - sessionControls.signInFrequency.value will contain the number of hours or days.\n",
        "    - We convert the value to minutes, then compare it with the rule input.\n",
        "  - For each privileged user, check if atleast one compliant policy is attached.\n",
        "\n",
        "\n"
      ]
    },
    {
      "cell_type": "markdown",
      "metadata": {
        "id": "hlK23hbRwErA"
      },
      "source": [
        "# Step 2b: Define the Extended Schema\n"
      ]
    },
    {
      "cell_type": "code",
      "execution_count": null,
      "metadata": {
        "id": "lQ-MG2gI6PY9"
      },
      "outputs": [],
      "source": [
        "# IntuneConditionalAccessPolicies\n",
        "# Input:\n",
        "# {\n",
        "#     \"AllowedSessionLifetimeMinutes\": 120\n",
        "# }\n",
        "[\n",
        "    {\n",
        "        \"PolicyID\": \"832c845a-fdd5-4fd9-93e0-ad8398f8d25a\",\n",
        "        \"PolicyName\": \"Require Duo MFA\",\n",
        "        \"PolicyStatus\": \"ACTIVE\",\n",
        "        \"PolicyIncludedGroups\": [],\n",
        "        \"PolicyExcludedGroups\": [],\n",
        "        \"PolicyIncludedUsers\": [\n",
        "            {\n",
        "                \"UserId\": \"58dfe22d-043b-4154-a5dd-2896b3520309\",\n",
        "                \"Name\": \"John Doe\"\n",
        "            }\n",
        "        ],\n",
        "        \"PolicyExcludedUsers\": [],\n",
        "        \"MaxSessionLifetimeMinutes\": 120,\n",
        "        \"SigninFrequencyEnabled\": True,\n",
        "        \"FrequencyIntervalIsEveryTime\": False,\n",
        "        \"PolicyCreatedDate\": \"2023-06-30T15:46:12.5179773Z\",\n",
        "    }\n",
        "]"
      ]
    },
    {
      "cell_type": "markdown",
      "metadata": {
        "id": "OMfAqx9AZD-R"
      },
      "source": [
        "# Step 3: Define the Standard Schema\n",
        "    "
      ]
    },
    {
      "cell_type": "code",
      "execution_count": null,
      "metadata": {
        "id": "_iPF3qrHysOc"
      },
      "outputs": [],
      "source": [
        "# AdministrativeSessionTimeoutReport\n",
        "# Input:\n",
        "# {\n",
        "#     \"AllowedSessionLifetimeMinutes\": 120\n",
        "# }\n",
        "[\n",
        "    {\n",
        "        \"System\": \"intune\",\n",
        "        \"Source\": \"compliancecow\",\n",
        "        \"ResourceID\": \"58dfe22d-043b-4154-a5dd-2896b3520309\", # User ID\n",
        "        \"ResourceName\": \"John Doe\", # User name\n",
        "        \"ResourceType\": \"N/A\",\n",
        "        \"ResourceLocation\": \"N/A\",\n",
        "        \"ResourceTags\": \"N/A\",\n",
        "        \"UserEmail\": \"john.doe@example.com\",\n",
        "        \"PolicyID\": \"832c845a-fdd5-4fd9-93e0-ad8398f8d25a\",\n",
        "        \"PolicyName\": \"Require Duo MFA\",\n",
        "        \"AllowedSessionLifetimeMinutes\": 120, #User Input\n",
        "        \"MaxSessionLifetimeMinutes\": 120,\n",
        "        \"SigninFrequencyEnabled\": \"true\",\n",
        "        \"ValidationStatusCode\": \"TIMEOUT_LT_120_MIN\",\n",
        "        \"ValidationStatusNotes\": \"The timeout for administrative sessions is set to less than 120 minutes\",\n",
        "        \"ComplianceStatus\": \"COMPLIANT\",\n",
        "        \"ComplianceStatusReason\": \"The timeout for administrative sessions is set to less than 120 minutes\",\n",
        "        \"EvaluatedTime\": \"2024-04-23T07:54:43.012889Z\",\n",
        "        \"UserAction\": \"\",\n",
        "        \"ActionStatus\": \"\",\n",
        "        \"ActionResponseURL\": \"\"\n",
        "    }\n",
        "]"
      ]
    },
    {
      "cell_type": "markdown",
      "metadata": {
        "id": "vQQKJKfUabxd"
      },
      "source": [
        "|System|Source|ResourceID|ResourceName|ResourceType|ResourceLocation|ResourceTags|UserEmail|PolicyID|PolicyName|AllowedSessionLifetimeMinutes|MaxSessionLifetimeMinutes|SigninFrequencyEnabled|ValidationStatusCode|ValidationStatusNotes|ComplianceStatus|ComplianceStatusReason|EvaluatedTime|UserAction|ActionStatus|ActionResponseURL|\n",
        "|---|---|---|---|---|---|---|---|---|---|---|---|---|---|---|---|---|---|---|---|---|\n",
        "|intune|compliancecow|58dfe22d-043b-4154-a5dd-2896b3520309|John Doe|N/A|N/A|N/A|john.doe@example.com|832c845a-fdd5-4fd9-93e0-ad8398f8d25a|Require Duo MFA|120|120|true|TIMEOUT_LT_120_MIN|The timeout for administrative sessions is set to less than 120 minutes|COMPLIANT|The timeout for administrative sessions is set to less than 120 minutes. Your proactive management of session timeouts ensures enhanced security and efficiency.|2024-04-23T07:54:43.012889Z||||"
      ]
    },
    {
      "cell_type": "markdown",
      "metadata": {
        "id": "bxsZR5l8SiOd"
      },
      "source": [
        "# Step 4: Describe the Compliance Taxonomy\n",
        "\n",
        "|Validation Status Code|Validation Status Notes|Compliance Status|Compliance Status Reason|\n",
        "|---|---|---|--|\n",
        "|TIMEOUT_LT_{n}_MIN| The timeout for administrative sessions is set to less than {n} minutes|COMPLIANT| The timeout for administrative sessions is set to less than {n} minutes. Your proactive management of session timeouts ensures enhanced security and efficiency.|\n",
        "|FREQ_INT_EVRY_TIME| The Session Frequency Interval is set to Every Time.|COMPLIANT| The Session Frequency Interval is set to Every Time. This option is evaluated on every sign-in attempt to an application in scope for this policy.|\n",
        "|POLICY_NA| The user does not have any compliant policy attached.|NON_COMPLIANT| The user does not have any compliant policy attached. It is recommended to attach a policy with a session timeout set to less than {allowed_session_lifetime_minutes} minutes for improved security and operational efficiency.|"
      ]
    },
    {
      "cell_type": "markdown",
      "metadata": {
        "id": "Son7AJzlS0hh"
      },
      "source": [
        "# Step 5: Calculation for Compliance Percentage and Status\n",
        "\n",
        "\n"
      ]
    },
    {
      "cell_type": "code",
      "execution_count": null,
      "metadata": {
        "id": "nZMdcSLnNaQe"
      },
      "outputs": [],
      "source": [
        "# Calculation of Compliance Percentage\n",
        "CompliancePCT = (100 - (Count of 'NON_COMPLIANT' records * 100) / Total records)\n",
        "\n",
        "# Compliance Status\n",
        "COMPLIANT - 100%\n",
        "NON_COMPLIANT - 0%>=status<100%\n",
        "NOT_DETERMINED - If some error occurs."
      ]
    },
    {
      "cell_type": "markdown",
      "metadata": {
        "id": "uVDZ3Jv9TKZx"
      },
      "source": [
        "# Step 6: Describe (in words) the Remediation Steps for Non-Compliance"
      ]
    },
    {
      "cell_type": "markdown",
      "metadata": {
        "id": "IS5_pE75TfxN"
      },
      "source": [
        "FOR NOT_DETERMINED : UNKNOWN\n",
        "\n",
        "FOR COMPLIANT : None\n",
        "\n",
        "For NONCOMPLIANCE:\n",
        "\n",
        "If Compliance Cow needs to notify the client, the following message can be sent via slack or ticket raised in JIRA:\n",
        "\n",
        "Please ensure that the administrative session timeout is set to 2 hours or less."
      ]
    },
    {
      "cell_type": "markdown",
      "metadata": {
        "id": "trjrGTI6N3wv"
      },
      "source": [
        "# 7. Control Setup Details"
      ]
    },
    {
      "cell_type": "markdown",
      "metadata": {
        "id": "IHKtasdRN6-V"
      },
      "source": [
        "| Control Details            |                                                 |\n",
        "|----------------------------|-------------------------------------------------|\n",
        "| **RuleName**               | EnsureAdministrativeSessionTimeoutIsLTTwoHrs    |\n",
        "| **PreRequisiteRuleNames**  | GetIntuneUsers, IntuneConditionalAccessPolicies |\n",
        "| **ExtendedSchemaRuleNames**| IntuneConditionalAccessPolicies                 |\n",
        "| **ApplicationClassName**   | azureappconnector                               |\n",
        "| **PostSynthesizerName**    | N/A                                             |"
      ]
    }
  ],
  "metadata": {
    "colab": {
      "provenance": []
    },
    "kernelspec": {
      "display_name": "Python 3",
      "name": "python3"
    },
    "language_info": {
      "name": "python"
    }
  },
  "nbformat": 4,
  "nbformat_minor": 0
}
