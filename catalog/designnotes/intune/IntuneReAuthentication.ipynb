{
  "cells": [
    {
      "cell_type": "markdown",
      "metadata": {
        "id": "YSfkrKEbRWh7"
      },
      "source": [
        "# Step 1: Evidence Details\n",
        "\n",
        "|System|Source of data|Frameworks\n",
        "|---|---|---|\n",
        "|intune|intune devices|intune\n",
        "\n",
        "`Purpose: The purpose of this control is to ensure risk-based re-authentication for administrative sessions..`\n",
        "\n",
        "```\n",
        "RecomendedEvidenceName: IntunePreviligedReAuthReport\n",
        "```\n",
        "\n",
        "\n"
      ]
    },
    {
      "cell_type": "markdown",
      "metadata": {
        "id": "EjmOAnnQRuvG"
      },
      "source": [
        "# Step 2: Define the System Specific Data\n"
      ]
    },
    {
      "cell_type": "markdown",
      "metadata": {
        "id": "xPyCn3L3k2m4"
      },
      "source": [
        "# Step 2a: API & Flow"
      ]
    },
    {
      "cell_type": "markdown",
      "metadata": {
        "id": "Py-sDa9jObNh"
      },
      "source": [
        "- GET /identity/conditionalAccess/policies\n",
        "  - List conditional access policies. \"signInRiskLevels\" and \"state\" fields from this response are used to check the reauthentication, and this response will also provide the users included in the policy.\n",
        "- GET /reports/authenticationMethods/userRegistrationDetails\n",
        "     - From this response, we can filter the admins linked to conditional access policies."
      ]
    },
    {
      "cell_type": "markdown",
      "metadata": {
        "id": "_R3cc0DyOSv0"
      },
      "source": [
        "# Step 2b: Define the Extended Schema\n"
      ]
    },
    {
      "cell_type": "code",
      "execution_count": null,
      "metadata": {
        "id": "2eDptXx9C6yZ"
      },
      "outputs": [],
      "source": [
        "# GET /identity/conditionalAccess/policies\n",
        " {\n",
        "            \"id\": \"73e612e5-58c7-4901-be19-34d15de9b966\",\n",
        "            \"templateId\": null,\n",
        "            \"displayName\": \"TestUser MFA Policy\",\n",
        "            \"createdDateTime\": \"2021-08-13T07:10:30.2425929Z\",\n",
        "            \"modifiedDateTime\": \"2021-09-16T10:02:48.9276843Z\",\n",
        "            \"state\": \"enabled\",\n",
        "            \"sessionControls\": null,\n",
        "            \"conditions\": {\n",
        "                \"userRiskLevels\": [],\n",
        "                \"signInRiskLevels\": [],\n",
        "                \"clientAppTypes\": [\n",
        "                    \"all\"\n",
        "                ],\n",
        "                \"servicePrincipalRiskLevels\": [],\n",
        "                \"platforms\": null,\n",
        "                \"locations\": null,\n",
        "                \"devices\": null,\n",
        "                \"clientApplications\": null,\n",
        "                \"applications\": {\n",
        "                    \"includeApplications\": [\n",
        "                        \"797f4846-ba00-4fd7-ba43-dac1f8f63013\"\n",
        "                    ],\n",
        "                    \"excludeApplications\": [],\n",
        "                    \"includeUserActions\": [],\n",
        "                    \"includeAuthenticationContextClassReferences\": [],\n",
        "                    \"applicationFilter\": null\n",
        "                },\n",
        "                \"users\": {\n",
        "                    \"includeUsers\": [\n",
        "                        \"7a669360-622d-4795-8a7e-b1c1fedf5ad7\"\n",
        "                    ],\n",
        "                    \"excludeUsers\": [],\n",
        "                    \"includeGroups\": [],\n",
        "                    \"excludeGroups\": [],\n",
        "                    \"includeRoles\": [],\n",
        "                    \"excludeRoles\": [],\n",
        "                    \"includeGuestsOrExternalUsers\": null,\n",
        "                    \"excludeGuestsOrExternalUsers\": null\n",
        "                }\n",
        "            },\n",
        "            \"grantControls\": {\n",
        "                \"operator\": \"OR\",\n",
        "                \"builtInControls\": [\n",
        "                    \"mfa\"\n",
        "                ],\n",
        "                \"customAuthenticationFactors\": [],\n",
        "                \"termsOfUse\": [],\n",
        "                \"authenticationStrength@odata.context\": \"https://graph.microsoft.com/v1.0/$metadata#identity/conditionalAccess/policies('73e612e5-58c7-4901-be19-34d15de9b966')/grantControls/authenticationStrength/$entity\",\n",
        "                \"authenticationStrength\": null\n",
        "            }\n",
        "        }\n",
        "\n",
        "# GET /reports/authenticationMethods/userRegistrationDetails\n",
        " {\n",
        "            \"id\": \"58vdsavfdverv32ewvcss0309\",\n",
        "            \"userPrincipalName\": \"AlexW@Contoso.com\",\n",
        "            \"userType\": \"member\",\n",
        "            \"isAdmin\": false,\n",
        "            \"isSsprRegistered\": false,\n",
        "            \"isSsprEnabled\": false,\n",
        "            \"isSsprCapable\": false,\n",
        "            \"isMfaRegistered\": true,\n",
        "            \"isMfaCapable\": true,\n",
        "            \"isPasswordlessCapable\": false,\n",
        "            \"methodsRegistered\": [\n",
        "                \"softwareOneTimePasscode\"\n",
        "            ],\n",
        "            \"isSystemPreferredAuthenticationMethodEnabled\": false,\n",
        "            \"systemPreferredAuthenticationMethods\": [],\n",
        "            \"userPreferredMethodForSecondaryAuthentication\": \"oath\",\n",
        "            \"lastUpdatedDateTime\": \"2024-04-15T16:35:06.8697052Z\"\n",
        "}"
      ]
    },
    {
      "cell_type": "markdown",
      "metadata": {
        "id": "PCn6NKz-Rx8p"
      },
      "source": [
        "# Step 3: Define the Standard Schema\n"
      ]
    },
    {
      "cell_type": "code",
      "execution_count": null,
      "metadata": {
        "id": "MrRhcz2dR3cy"
      },
      "outputs": [],
      "source": [
        "[\n",
        "    {\n",
        "        \"System\": \"intune\",\n",
        "        \"Source\": \"compliancecow\",\n",
        "\n",
        "        \"ResourceID\": \"86462606-fde0-4fc4-9c6\",\n",
        "        \"ResourceName\": \"Alex Wilber\",\n",
        "        \"ResourceType\": \"User\",\n",
        "        \"ResourceLocation\": \"N/A\",\n",
        "        \"ResourceTags\": \"N/A\",\n",
        "        \"ResourceURL\": \"https://portal.azure.com/#view/Microsoft_AAD_UsersAndTenants/UserProfileMenuBlade/~/overview/userId/86462606-fde0-4fc4-9c6\",\n",
        "\n",
        "        \"UserEmail\": \"alex@gmail.com\",\n",
        "        \"AllowedSignInRiskLevels\" : [\"critical\",\"high\"] #User Input\n",
        "        \"IsReAuthenticationEnabled\": False\n",
        "        \"UserGroups\": [\"test_group\"],\n",
        "        \"UserRoles\": [\"test_role\"],\n",
        "        \"MFAEnabled\": True,\n",
        "        \"PolicyDetails\" : [],\n",
        "        \"LocationDetails\" : [],\n",
        "\n",
        "        \"ValidationStatusCode\": \"RE_ATH_NT_ENB\",\n",
        "        \"ValidationStatusNotes\": \"Reauthentication is not enabled for the user\",\n",
        "        \"ComplianceStatus\": \"NON_COMPLIANT\",\n",
        "        \"ComplianceStatusReason\": \"The record is non-compliant since no conditional access policies are enabled for the user. Enabling conditional access policies enhances security by enforcing granular access controls based on user roles, location, and device compliance. These policies help mitigate risks and ensure compliance with organizational security requirements.\"\n",
        "\n",
        "        \"UserAction\": \"\",\n",
        "        \"ActionStatus\": \"\",\n",
        "        \"ActionResponseURL\": \"\"\n",
        "    }\n",
        "]"
      ]
    },
    {
      "cell_type": "markdown",
      "metadata": {
        "id": "K38XJoTqWJe_"
      },
      "source": [
        "| System | Source | ResourceID | ResourceName | ResourceType | ResourceLocation | ResourceTags | ResourceUrl | UserEmail | AllowedSignInRiskLevels| IsReAuthenticationEnabled | UserGroups | UserRoles | MFAEnabled | PolicyDetails | LocationDetails | ValidationStatusCode | ValidationStatusNotes | ComplianceStatus | ComplianceStatusReason | UserAction | ActionStatus | ActionResponseURL |\n",
        "|---|---|---|---|---|---|---|---|---|---|---|---|---|---|---|---|---|---|---|---|---|---|---|\n",
        "| intune | compliancecow | 86462606-fde0-4fc4-9e0c-a20eb73e54c6 | Alex Wilber | User | N/A | N/A  | https://portal.azure.com/#view/Microsoft_AAD_UsersAndTenants/UserProfileMenuBlade/~/overview/userId/86462606-fde0-4fc4-9c6 | alex@gmail.com | [\"critical\",\"high\"] | False | [\"test_group\"] | [\"test_role\"] | True | [ ] | [] | RE_ATH_NT_ENB | Reauthentication is not enabled for the user. | NON_COMPLIANT | The record is non-compliant since no conditional access policies are enabled for the user. Enabling conditional access policies enhances security by enforcing granular access controls based on user roles, location, and device compliance. These policies help mitigate risks and ensure compliance with organizational security requirements. | | | |"
      ]
    },
    {
      "cell_type": "markdown",
      "metadata": {
        "id": "cEqQOtLVWWTi"
      },
      "source": [
        "# Step 4: Describe the Compliance Taxonomy\n",
        "\n",
        "|IsReAuthenticationEnabled|AllowedSignInRiskLevels|PolicyDetails|ComplianceStatus|ComplianceStatusReason|ValidationStatusCode|ValidationStatusNotes|\n",
        "|---|---|---|---|---|---|---|\n",
        "|True|[\"critical\",\"high\"]|\"PolicyDetails\": \"[{\\\"CreationDate\\\":\\\"2024-05-09T09:26:27.0912458Z\\\",\\\"Id\\\":\\\"10f9fac4-aff4-4bac-891d-029a20478765\\\",\\\"Name\\\":\\\"Session Limit Test Policy\\\",\\\"SignInRiskLevels\\\":[\"critical\",\"high\"],\\\"SigninFrequencyEnabled\\\":true,\\\"Status\\\":\\\"ACTIVE\\\"}\",| COMPLIANT | The record is compliant as the policies/policy Session Limit Test Policy enabled for the user is/are active, has an allowed sign-in risk level, and has sign-in frequency enabled.|RE_ATH_ENB|Reauthentication is enabled for the user|\n",
        "|False|[\"low\"]|\"PolicyDetails\": \"[{\\\"CreationDate\\\":\\\"2024-05-09T09:26:27.0912458Z\\\",\\\"Id\\\":\\\"10f9fac4-aff4-4bac-891d-029a20478765\\\",\\\"Name\\\":\\\"Session Limit Test Policy\\\",\\\"SignInRiskLevels\\\":[\"critical\",\"high\"],\\\"SigninFrequencyEnabled\\\":true,\\\"Status\\\":\\\"ACTIVE\\\"}\",| NON_COMPLIANT | The record is non compliant due to the following reason/reasons. 1. Policy/policies does not meet required sign in risk levels Session Limit Test Policy: [\"critical\",\"high\"]. Expected sign in risk level: [\"low\"]|RE_ATH_NT_ENB|Reauthentication is not enabled for the user|\n",
        "|False|[\"critical\",\"high\"]|\"PolicyDetails\": \"[{\\\"CreationDate\\\":\\\"2024-05-09T09:26:27.0912458Z\\\",\\\"Id\\\":\\\"10f9fac4-aff4-4bac-891d-029a20478765\\\",\\\"Name\\\":\\\"Session Limit Test Policy\\\",\\\"SignInRiskLevels\\\":[],\\\"SigninFrequencyEnabled\\\":true,\\\"Status\\\":\\\"ACTIVE\\\"}\",| NON_COMPLIANT | The record is non-compliant due to the following reason/reasons. 1. No sign in risk level enabled for the policy/policies: Session Limit Test Policy. |RE_ATH_NT_ENB|Reauthentication is not enabled for the user|\n",
        "|False|[\"critical\",\"high\"]|\"PolicyDetails\": \"[{\\\"CreationDate\\\":\\\"2024-05-09T09:26:27.0912458Z\\\",\\\"Id\\\":\\\"10f9fac4-aff4-4bac-891d-029a20478765\\\",\\\"Name\\\":\\\"Session Limit Test Policy\\\",\\\"SignInRiskLevels\\\":[\"critical\",\"high\"],\\\"SigninFrequencyEnabled\\\":false,\\\"Status\\\":\\\"ACTIVE\\\"}\",| NON_COMPLIANT | The record is non-compliant due to the following reason/reasons. 1. No sign in frequency enabled for the policy/policies: Session Limit Test Policy. |RE_ATH_NT_ENB|Reauthentication is not enabled for the user|\n",
        "|False|[\"critical\",\"high\"]|\"PolicyDetails\": \"[{\\\"CreationDate\\\":\\\"2024-05-09T09:26:27.0912458Z\\\",\\\"Id\\\":\\\"10f9fac4-aff4-4bac-891d-029a20478765\\\",\\\"Name\\\":\\\"Session Limit Test Policy\\\",\\\"SignInRiskLevels\\\":[\"critical\",\"high\"],\\\"SigninFrequencyEnabled\\\":true,\\\"Status\\\":\\\"INACTIVE\\\"}\",| NON_COMPLIANT | The record is non-compliant due to the following reason/reasons. 1. Policy/policies are not in active state: Session Limit Test Policy. |RE_ATH_NT_ENB|Reauthentication is not enabled for the user|"
      ]
    },
    {
      "cell_type": "markdown",
      "metadata": {
        "id": "_maVqW-OWZXP"
      },
      "source": [
        "# Step 5: Calculation for Compliance Percentage and Status\n"
      ]
    },
    {
      "cell_type": "code",
      "execution_count": null,
      "metadata": {
        "id": "ajY0uqLnWIjH"
      },
      "outputs": [],
      "source": [
        "# Calculation of Compliance Percentage\n",
        "CompliancePCT = (100 - (Count of 'NON_COMPLIANT' records * 100) / Total records)\n",
        "\n",
        "# Compliance Status\n",
        "COMPLIANT - 100%\n",
        "NON_COMPLIANT - 0%>=status<100%\n",
        "NOT_DETERMINED - If error occurs while fetching intune user details"
      ]
    },
    {
      "cell_type": "markdown",
      "metadata": {
        "id": "j0kSiPD1Wc5f"
      },
      "source": [
        "# Step 6: Describe (in words) the Remediation Steps for Non-Compliance"
      ]
    },
    {
      "cell_type": "markdown",
      "metadata": {
        "id": "nfkyaxe6WwYA"
      },
      "source": [
        "FOR NOT_DETERMINED : UNKNOWN\n",
        "\n",
        "FOR COMPLIANT : None\n",
        "\n",
        "For NONCOMPLIANCE:\n",
        "\n",
        "Implement Multi-Factor Authentication for administrative sessions."
      ]
    },
    {
      "cell_type": "markdown",
      "metadata": {
        "id": "kBoB8dlTW07D"
      },
      "source": [
        "# 7. Control Setup Details"
      ]
    },
    {
      "cell_type": "markdown",
      "metadata": {
        "id": "2rqksgZoW4a8"
      },
      "source": [
        "| Control Details            |                                               |\n",
        "|----------------------------|-----------------------------------------------|\n",
        "| **RuleName**               | IntunePrivilegedUsersReAuthReport|\n",
        "| **PreRequisiteRuleNames**  | IntuneConditionalAccessPolicies, IntuneUserRegistrationDetails   |\n",
        "| **ExtendedSchemaRuleNames**| N/A\n",
        "| **ApplicationClassName**   | azureappconnector                                 |\n",
        "| **PostSynthesizerName**    | N/A                                           |"
      ]
    }
  ],
  "metadata": {
    "colab": {
      "provenance": []
    },
    "kernelspec": {
      "display_name": "Python 3",
      "name": "python3"
    },
    "language_info": {
      "name": "python"
    }
  },
  "nbformat": 4,
  "nbformat_minor": 0
}
