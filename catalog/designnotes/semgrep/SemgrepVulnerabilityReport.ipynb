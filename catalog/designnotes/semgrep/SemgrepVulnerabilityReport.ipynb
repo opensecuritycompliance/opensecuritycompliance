{
  "cells": [
    {
      "cell_type": "markdown",
      "metadata": {
        "id": "sFlmicb0Mlse"
      },
      "source": [
        "# Step 1: Evidence Details\n",
        "\n",
        "|System|Source of data|Frameworks|Purpose|\n",
        "|---|---|---|---|\n",
        "|Semgrep|compliancecow|-|Semgrep enhances code security by identifying vulnerabilities and enforcing security best practices. Custom rules can be created to address specific security needs.<br> Integrating Semgrep into the development process ensures consistent and automated security checks with every code change.|\n",
        "\n",
        "```\n",
        "RecomendedEvidenceName:\n",
        "SemgrepCodeVulnerabilityReport\n",
        "SemgrepSupplyChainVulnerabilityReport\n",
        "SemgrepCodeFindingsSummaryReport\n",
        "SemgrepSupplyChainFindingsSummaryReport\n",
        "```\n",
        "\n",
        "**Reference:** <br>\n",
        "https://semgrep.dev/api/v1/docs/#section/Introduction <br>\n",
        "https://semgrep.dev/r"
      ]
    },
    {
      "cell_type": "markdown",
      "metadata": {
        "id": "f4e68b8c"
      },
      "source": [
        "# Step 2: Define the System Specific Data (a.k.a Extended Data Schema)"
      ]
    },
    {
      "cell_type": "markdown",
      "metadata": {
        "id": "6UNCZHn8_bif"
      },
      "source": [
        "## Step 2a: Creating a Web Token API in Semgrep UI\n",
        "\n",
        "1. **Login to Semgrep UI**:\n",
        "   - Navigate to the Semgrep UI login page.\n",
        "   - Enter your credentials to log in.\n",
        "\n",
        "2. **Navigate to the API Tokens Section**:\n",
        "   - After logging in, go to the settings.\n",
        "   - Find the option for Tokens.\n",
        "\n",
        "3. **Generate a New Token**:\n",
        "   - Click on the option to create a new token.\n",
        "   - Provide a Name or description for the token to identify its purpose.\n",
        "   - Set the Web API Scope for the token and copy the Secrets value.\n",
        "   - Click on 'Save' to create the token.\n",
        "\n",
        "4. **Save the Token Securely**:\n",
        "   - Copy the generated token and store it securely.\n",
        "   - This token will be used for authenticating API requests.\n",
        "\n",
        "## Step 2b: IncludeCriteria, ExcludeCriteria and Severity\n",
        "\n",
        "1. **Understanding IncludeCriteria and ExcludeCriteria**:\n",
        "   - `IncludeCriteria` and `ExcludeCriteria` are used to filter projects for analysis.\n",
        "   - They help in specifying which projects should be included or excluded during the scan.\n",
        "\n",
        "2. **Default Values Handling**:\n",
        "   - If the user does not provide any input for `IncludeCriteria` or `ExcludeCriteria`, default values will be used.\n",
        "   - The default values ensure that all relevant projects are included unless explicitly excluded.\n",
        "\n",
        "3. **Using IncludeCriteria**:\n",
        "   - Example: `/project/shoppingwebsite, /project/username/project2`\n",
        "   - This will include the specified projects in the scan.\n",
        "\n",
        "4. **Using ExcludeCriteria**:\n",
        "   - Example: `/project/username/project1`\n",
        "   - This will exclude the specified projects from the scan.\n",
        "\n",
        "5. **Exact Match Requirement**:\n",
        "   - The criteria matching is case-sensitive and requires an exact match.\n",
        "   - Invalid project names in `ExcludeCriteria` will not affect the valid `IncludeCriteria`.\n",
        "\n",
        "6. **Severity Levels Input**:\n",
        "   - The Severity parameter allows the user to specify the severity levels of findings to include in the report.\n",
        "   - Valid Severity Values: low, medium, high, critical.\n",
        "   - If the user does not provide any severity input, the scan will include all severities by default.\n",
        "   - If the user provides '*' as the severity input, all severities (low, medium, high, critical) will be included by default.\n",
        "   - **Error Handling:** If the user provides an invalid severity (e.g., loww, highh), the program will throw an error, produce a log file with the error details, and exit the program.\n",
        "\n",
        "7. **Default Handling Code**:\n",
        "   - The implementation ensures that if no input is given, default criteria (which include all projects and all severities) are applied automatically.\n",
        "\n",
        "# Step 2c: API & Flow\n",
        "\n",
        "  - GET  /deployments\n",
        "     - This returns the response of the deployments your authentication can access.\n",
        "  - GET /deployments/’{deployment_slug}’/findings\n",
        "     - This returns the response containing a list of code or supply chain findings in an organization.\n",
        "     - Query parameter: ‘issue-type’ specifies the type of findings to return. If not specified, it returns SAST (Code) findings. It can be either SAST (Code) or SCA (Supply Chain).\n",
        "   - GET  /deployments/’{deploymentId}’/secrets\n",
        "     - This returns the response of the secrets findings of your organization.\n",
        "\n",
        "# Step 2d: Define the Extended Schema\n"
      ]
    },
    {
      "cell_type": "code",
      "execution_count": null,
      "metadata": {
        "id": "806DY6lcLpgH"
      },
      "outputs": [],
      "source": [
        "# List code or supply chain findings\n",
        "{\n",
        "  \"findings\": [\n",
        "    {\n",
        "      \"id\": 1234567,\n",
        "      \"ref\": \"refs/pull/1234/merge\",\n",
        "      \"first_seen_scan_id\": 1234,\n",
        "      \"syntactic_id\": \"440eeface888e78afceac3dc7d4cc2cf\",\n",
        "      \"match_based_id\": \"440eeface888e78afceac3dc7d4cc2cf\",\n",
        "      \"repository\": {\n",
        "        \"name\": \"semgrep\",\n",
        "        \"url\": \"https://github.com/semgrep/semgrep\"\n",
        "      },\n",
        "      \"line_of_code_url\": \"https://github.com/semgrep/semgrep/blob/39f95450a7d4d70e54c9edbd109bed8210a36889/src/core_cli/Core_CLI.ml#L1\",\n",
        "      \"triage_state\": \"untriaged\",\n",
        "      \"state\": \"unresolved\",\n",
        "      \"status\": \"open\",\n",
        "      \"severity\": \"medium\",\n",
        "      \"confidence\": \"medium\",\n",
        "      \"categories\": [\n",
        "        \"security\"\n",
        "      ],\n",
        "      \"created_at\": \"2020-11-18T23:28:12.391807Z\",\n",
        "      \"relevant_since\": \"2020-11-18T23:28:12.391807Z\",\n",
        "      \"rule_name\": \"typescript.react.security.audit.react-no-refs.react-no-refs\",\n",
        "      \"rule_message\": \"`ref` usage found. refs give direct DOM access and may create a possibility for XSS, which could cause\\nsensitive information such as user cookies to be retrieved by an attacker. Instead, avoid direct DOM\\nmanipulation or use DOMPurify to sanitize HTML before writing it into the page.\\n\",\n",
        "      \"location\": {\n",
        "        \"file_path\": \"frontend/src/corpComponents/Code.tsx\",\n",
        "        \"line\": 120,\n",
        "        \"column\": 8,\n",
        "        \"end_line\": 124,\n",
        "        \"end_column\": 16\n",
        "      },\n",
        "      \"sourcing_policy\": {\n",
        "        \"id\": 120,\n",
        "        \"name\": \"Default Policy\",\n",
        "        \"slug\": \"default-policy\"\n",
        "      },\n",
        "      \"triaged_at\": \"2020-11-19T23:28:12.391807Z\",\n",
        "      \"triage_comment\": \"This finding is from the test repo\",\n",
        "      \"triage_reason\": \"acceptable_risk\",\n",
        "      \"state_updated_at\": \"2020-11-19T23:28:12.391807Z\",\n",
        "      \"rule\": {\n",
        "        \"name\": \"html.security.plaintext-http-link.plaintext-http-link\",\n",
        "        \"message\": \"This link points to a plaintext HTTP URL. Prefer an encrypted HTTPS URL if possible.\",\n",
        "        \"confidence\": \"high\",\n",
        "        \"category\": \"security\",\n",
        "        \"subcategories\": [\n",
        "          \"vuln\"\n",
        "        ],\n",
        "        \"vulnerability_classes\": [\n",
        "          \"Mishandled Sensitive Information\"\n",
        "        ],\n",
        "        \"cwe_names\": [\n",
        "          \"CWE-319: Cleartext Transmission of Sensitive Information\"\n",
        "        ],\n",
        "        \"owasp_names\": [\n",
        "          \"A03:2017 - Sensitive Data Exposure\",\n",
        "          \"A02:2021 - Cryptographic Failures\"\n",
        "        ]\n",
        "      },\n",
        "      \"assistant\": {\n",
        "        \"autofix\": {\n",
        "          \"fix_code\": \"cookie.setHttpOnly(true);\\nresponse.addCookie(cookie);\",\n",
        "          \"explanation\": \"This fix requires an additional library to be imported.\"\n",
        "        },\n",
        "        \"autotriage\": {\n",
        "          \"verdict\": \"false_positive\",\n",
        "          \"reason\": \"The matched code is used for a non-security related feature.\"\n",
        "        },\n",
        "        \"component\": {\n",
        "          \"tag\": \"user data\",\n",
        "          \"risk\": \"high\"\n",
        "        }\n",
        "      }\n",
        "    }\n",
        "  ]\n",
        "}\n",
        "\n",
        "# List secrets findings\n",
        "{\n",
        "  \"findings\": [\n",
        "    {\n",
        "      \"createdAt\": \"2024-06-17T17:23:01.901204Z\",\n",
        "      \"updatedAt\": \"2024-06-20T17:33:00.669343Z\",\n",
        "      \"id\": \"691234\",\n",
        "      \"type\": \"OpenAI\", #sevicetype\n",
        "      \"findingPath\": \"src/ai.py:232\",\n",
        "      \"findingPathUrl\": \"https://github.com/foo/bar/blob/6ad16b240d4b6ae5bd6e326dd71053c21344e311/src/ai.py#L232\",\n",
        "      \"repository\": {\n",
        "        \"name\": \"foo/bar\",\n",
        "        \"url\": \"https://github.com/foo/bar\",\n",
        "        \"visibility\": \"REPOSITORY_VISIBILITY_PRIVATE\",\n",
        "        \"scmType\": \"SCM_TYPE_GITHUB\"\n",
        "      },\n",
        "      \"ref\": \"refs/pull/148/merge\",\n",
        "      \"refUrl\": \"https://github.com/foo/bar/pull/148\",\n",
        "      \"severity\": \"SEVERITY_HIGH\",\n",
        "      \"confidence\": \"CONFIDENCE_HIGH\",\n",
        "      \"validationState\": \"VALIDATION_STATE_CONFIRMED_VALID\",\n",
        "      \"mode\": \"MODE_MONITOR\",\n",
        "      \"status\": \"FINDING_STATUS_FIXED\",\n",
        "      \"ruleHashId\": \"lBU41LA\"\n",
        "    },\n",
        "    {\n",
        "      \"createdAt\": \"2024-06-08T11:01:23.380293Z\",\n",
        "      \"updatedAt\": \"2024-06-22T11:07:02.384500Z\",\n",
        "      \"id\": \"6881234\",\n",
        "      \"type\": \"Heroku\",\n",
        "      \"findingPath\": \"config.yaml:801\",\n",
        "      \"findingPathUrl\": \"https://github.com/foo/baz/blob/e2b6d5ca75d830e10f5f617481a66a981bd093c0/config.yaml#L801\",\n",
        "      \"repository\": {\n",
        "        \"name\": \"foo/baz\",\n",
        "        \"url\": \"https://github.com/foo/baz\",\n",
        "        \"visibility\": \"REPOSITORY_VISIBILITY_PRIVATE\",\n",
        "        \"scmType\": \"SCM_TYPE_GITHUB\"\n",
        "      },\n",
        "      \"ref\": \"develop\",\n",
        "      \"refUrl\": \"https://github.com/foo/baz/tree/develop\",\n",
        "      \"severity\": \"SEVERITY_HIGH\",\n",
        "      \"confidence\": \"CONFIDENCE_MEDIUM\",\n",
        "      \"validationState\": \"VALIDATION_STATE_CONFIRMED_INVALID\",\n",
        "      \"mode\": \"MODE_COMMENT\",\n",
        "      \"status\": \"FINDING_STATUS_IGNORED\",\n",
        "      \"ruleHashId\": \"pKUYdA\"\n",
        "    }\n",
        "  ],\n",
        "  \"cursor\": \"Pm0ROjIwMjQtMDItMDYgMjA6MDQ6NDguMEDzNzk2fmk6NYTM2zUxOTI=\"\n",
        "}"
      ]
    },
    {
      "cell_type": "markdown",
      "metadata": {
        "id": "hTjKZiJE_NbC"
      },
      "source": [
        "# Code to Display Step 3. Standard Schema and  Step 4. Compliance Taxonomy"
      ]
    },
    {
      "cell_type": "code",
      "execution_count": null,
      "metadata": {
        "colab": {
          "base_uri": "https://localhost:8080/",
          "height": 49,
          "referenced_widgets": [
            "bbeae9f1a1bf4418b1ec50ed368d54eb",
            "e6aad40769684268a479a579a0c1b948",
            "fd242735c88e41bca7d114f5eb9d264a",
            "57ec2080dd6a4383ae17f54334108802",
            "309054de38e64233a44722c4f5fba0f0"
          ]
        },
        "id": "auZ1VAXJ0yv9",
        "outputId": "134457b8-adeb-41e9-c860-ad9e255dd9a6"
      },
      "outputs": [
        {
          "data": {
            "application/vnd.jupyter.widget-view+json": {
              "model_id": "bbeae9f1a1bf4418b1ec50ed368d54eb",
              "version_major": 2,
              "version_minor": 0
            },
            "text/plain": [
              "Dropdown(description='Select Evidence:', options=('---choose evidence---', 'SemgrepCodeVulnerabilityReport', '…"
            ]
          },
          "metadata": {},
          "output_type": "display_data"
        },
        {
          "data": {
            "application/vnd.jupyter.widget-view+json": {
              "model_id": "57ec2080dd6a4383ae17f54334108802",
              "version_major": 2,
              "version_minor": 0
            },
            "text/plain": [
              "Output()"
            ]
          },
          "metadata": {},
          "output_type": "display_data"
        }
      ],
      "source": [
        "import json\n",
        "from IPython.display import display, Markdown\n",
        "import ipywidgets as widgets\n",
        "\n",
        "# Load the JSON data from the file\n",
        "path = \"StandardSchemaAndComplianceTaxonomyConfig.json\" # Config File path\n",
        "\n",
        "with open(path, 'r') as file:\n",
        "    evidence = json.load(file)\n",
        "\n",
        "# Extract keys for the dropdown options\n",
        "evidence_keys = list(evidence.keys())\n",
        "# Include a default option in the dropdown\n",
        "options = [\"---choose evidence---\"] + evidence_keys\n",
        "dropdown = widgets.Dropdown(options=options, description='Select Evidence:')\n",
        "\n",
        "# Create an Output widget to manage the display area\n",
        "output = widgets.Output()\n",
        "display(dropdown, output)\n",
        "\n",
        "# Define the callback function for when the dropdown value changes\n",
        "def on_change(change):\n",
        "    with output:\n",
        "        # Clear previous output\n",
        "        output.clear_output()\n",
        "\n",
        "        if change['type'] == 'change' and change['name'] == 'value':\n",
        "            key = change['new']\n",
        "            if key == \"---choose evidence---\":\n",
        "                # Do nothing if the default option is selected\n",
        "                return\n",
        "\n",
        "            evidence_item = evidence.get(key, {})\n",
        "            schema_content = evidence_item.get(\"schema\", \"\")\n",
        "            table_content = evidence_item.get(\"table\", \"\")\n",
        "            compliance_content = evidence_item.get(\"compliancetaxonomy\", \"\")\n",
        "\n",
        "            # Display the Markdown content\n",
        "            display(Markdown(schema_content))\n",
        "            display(Markdown(table_content))\n",
        "            display(Markdown(compliance_content))\n",
        "\n",
        "# Set up the observer to trigger the callback function\n",
        "dropdown.observe(on_change, names='value')"
      ]
    },
    {
      "cell_type": "markdown",
      "metadata": {
        "id": "Son7AJzlS0hh"
      },
      "source": [
        "# Step 5: Calculation for Compliance Percentage and Status"
      ]
    },
    {
      "cell_type": "code",
      "execution_count": null,
      "metadata": {
        "id": "lBpospHEM2d-"
      },
      "outputs": [],
      "source": [
        "# Calculation of Compliance Percentage\n",
        "\n",
        "TotalCount = Count of 'COMPLIANT' and 'NON_COMPLIANT' records\n",
        "CompliantCount = Count of 'COMPLIANT' records\n",
        "\n",
        "CompliancePCT = (CompliantCount / TotalCount) * 100\n",
        "\n",
        "Compliance Status\n",
        "COMPLIANT - 100%\n",
        "NON_COMPLIANT - 0% to less than 100%\n",
        "NOT_DETERMINED - If no records are found."
      ]
    },
    {
      "cell_type": "markdown",
      "metadata": {
        "id": "uVDZ3Jv9TKZx"
      },
      "source": [
        "# Step 6: Describe (in words) the Remediation Steps for Non-Compliance\n",
        "N/A"
      ]
    },
    {
      "cell_type": "markdown",
      "metadata": {
        "id": "7YZZUm3BbBmH"
      },
      "source": [
        "# Step 7: Control Setup Details"
      ]
    },
    {
      "cell_type": "markdown",
      "metadata": {
        "id": "uEBUWGk3rUe7"
      },
      "source": [
        "| Control Details            |                               |\n",
        "|----------------------------|-------------------------------|\n",
        "| **RuleName**               |  FetchSemgrepFindings         |\n",
        "| **PreRequisiteRuleNames**  | N/A                           |\n",
        "| **ExtendedSchemaRuleNames**| N/A                           |\n",
        "| **ApplicationClassName**   |  semgrepconnector             |\n",
        "| **PostSynthesizerName**    |             N/A               |"
      ]
    }
  ],
  "metadata": {
    "colab": {
      "provenance": []
    },
    "kernelspec": {
      "display_name": "Python 3",
      "name": "python3"
    },
    "language_info": {
      "name": "python",
      "version": "3.11.7"
    },
    "widgets": {
      "application/vnd.jupyter.widget-state+json": {
        "309054de38e64233a44722c4f5fba0f0": {
          "model_module": "@jupyter-widgets/base",
          "model_module_version": "1.2.0",
          "model_name": "LayoutModel",
          "state": {
            "_model_module": "@jupyter-widgets/base",
            "_model_module_version": "1.2.0",
            "_model_name": "LayoutModel",
            "_view_count": null,
            "_view_module": "@jupyter-widgets/base",
            "_view_module_version": "1.2.0",
            "_view_name": "LayoutView",
            "align_content": null,
            "align_items": null,
            "align_self": null,
            "border": null,
            "bottom": null,
            "display": null,
            "flex": null,
            "flex_flow": null,
            "grid_area": null,
            "grid_auto_columns": null,
            "grid_auto_flow": null,
            "grid_auto_rows": null,
            "grid_column": null,
            "grid_gap": null,
            "grid_row": null,
            "grid_template_areas": null,
            "grid_template_columns": null,
            "grid_template_rows": null,
            "height": null,
            "justify_content": null,
            "justify_items": null,
            "left": null,
            "margin": null,
            "max_height": null,
            "max_width": null,
            "min_height": null,
            "min_width": null,
            "object_fit": null,
            "object_position": null,
            "order": null,
            "overflow": null,
            "overflow_x": null,
            "overflow_y": null,
            "padding": null,
            "right": null,
            "top": null,
            "visibility": null,
            "width": null
          }
        },
        "57ec2080dd6a4383ae17f54334108802": {
          "model_module": "@jupyter-widgets/output",
          "model_module_version": "1.0.0",
          "model_name": "OutputModel",
          "state": {
            "_dom_classes": [],
            "_model_module": "@jupyter-widgets/output",
            "_model_module_version": "1.0.0",
            "_model_name": "OutputModel",
            "_view_count": null,
            "_view_module": "@jupyter-widgets/output",
            "_view_module_version": "1.0.0",
            "_view_name": "OutputView",
            "layout": "IPY_MODEL_309054de38e64233a44722c4f5fba0f0",
            "msg_id": "",
            "outputs": []
          }
        },
        "bbeae9f1a1bf4418b1ec50ed368d54eb": {
          "model_module": "@jupyter-widgets/controls",
          "model_module_version": "1.5.0",
          "model_name": "DropdownModel",
          "state": {
            "_dom_classes": [],
            "_model_module": "@jupyter-widgets/controls",
            "_model_module_version": "1.5.0",
            "_model_name": "DropdownModel",
            "_options_labels": [
              "---choose evidence---",
              "SemgrepCodeVulnerabilityReport",
              "SemgrepSupplyChainVulnerabilityReport",
              "SemgrepSecretVulnerabilityReport",
              "SemgrepFindingsProjectSummaryReport"
            ],
            "_view_count": null,
            "_view_module": "@jupyter-widgets/controls",
            "_view_module_version": "1.5.0",
            "_view_name": "DropdownView",
            "description": "Select Evidence:",
            "description_tooltip": null,
            "disabled": false,
            "index": 0,
            "layout": "IPY_MODEL_e6aad40769684268a479a579a0c1b948",
            "style": "IPY_MODEL_fd242735c88e41bca7d114f5eb9d264a"
          }
        },
        "e6aad40769684268a479a579a0c1b948": {
          "model_module": "@jupyter-widgets/base",
          "model_module_version": "1.2.0",
          "model_name": "LayoutModel",
          "state": {
            "_model_module": "@jupyter-widgets/base",
            "_model_module_version": "1.2.0",
            "_model_name": "LayoutModel",
            "_view_count": null,
            "_view_module": "@jupyter-widgets/base",
            "_view_module_version": "1.2.0",
            "_view_name": "LayoutView",
            "align_content": null,
            "align_items": null,
            "align_self": null,
            "border": null,
            "bottom": null,
            "display": null,
            "flex": null,
            "flex_flow": null,
            "grid_area": null,
            "grid_auto_columns": null,
            "grid_auto_flow": null,
            "grid_auto_rows": null,
            "grid_column": null,
            "grid_gap": null,
            "grid_row": null,
            "grid_template_areas": null,
            "grid_template_columns": null,
            "grid_template_rows": null,
            "height": null,
            "justify_content": null,
            "justify_items": null,
            "left": null,
            "margin": null,
            "max_height": null,
            "max_width": null,
            "min_height": null,
            "min_width": null,
            "object_fit": null,
            "object_position": null,
            "order": null,
            "overflow": null,
            "overflow_x": null,
            "overflow_y": null,
            "padding": null,
            "right": null,
            "top": null,
            "visibility": null,
            "width": null
          }
        },
        "fd242735c88e41bca7d114f5eb9d264a": {
          "model_module": "@jupyter-widgets/controls",
          "model_module_version": "1.5.0",
          "model_name": "DescriptionStyleModel",
          "state": {
            "_model_module": "@jupyter-widgets/controls",
            "_model_module_version": "1.5.0",
            "_model_name": "DescriptionStyleModel",
            "_view_count": null,
            "_view_module": "@jupyter-widgets/base",
            "_view_module_version": "1.2.0",
            "_view_name": "StyleView",
            "description_width": ""
          }
        }
      }
    }
  },
  "nbformat": 4,
  "nbformat_minor": 0
}
