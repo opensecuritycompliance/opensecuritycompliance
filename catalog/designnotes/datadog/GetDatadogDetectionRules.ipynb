{
  "cells": [
    {
      "cell_type": "markdown",
      "metadata": {
        "id": "sFlmicb0Mlse"
      },
      "source": [
        "# Step 1: Evidence Details\n",
        "\n",
        "|System|Source of data|Frameworks|Purpose|\n",
        "|---|---|---|---|\n",
        "|Datadog|Datadog Detection Rules|Datadog|Get Log Detection Rules data from Datadog.|\n",
        "\n",
        "```\n",
        "RecomendedEvidenceName: DatadogDetectionRules\n",
        "```\n",
        "\n"
      ]
    },
    {
      "cell_type": "markdown",
      "metadata": {
        "id": "HwaAN4PWRC-_"
      },
      "source": [
        "# Step 2: Define the System Specific Data\n"
      ]
    },
    {
      "cell_type": "code",
      "execution_count": null,
      "metadata": {
        "id": "a7nxEIiVcL4t"
      },
      "outputs": [],
      "source": [
        "# GET /api/v2/security_monitoring/rules\n",
        "{\n",
        "    \"data\": [\n",
        "        {\n",
        "            \"id\": \"def-000-syp\",\n",
        "            \"version\": 1,\n",
        "            \"name\": \"1Password activity observed from Tor client IP\",\n",
        "            \"createdAt\": 1687969747558,\n",
        "            \"creationAuthorId\": 0,\n",
        "            \"updateAuthorId\": 0,\n",
        "            \"isDefault\": true,\n",
        "            \"isPartner\": false,\n",
        "            \"isEnabled\": true,\n",
        "            \"isDeleted\": false,\n",
        "            \"isDeprecated\": false,\n",
        "            \"queries\": [\n",
        "                {\n",
        "                    \"query\": \"source:1password @threat_intel.results.category:tor\",\n",
        "                    \"groupByFields\": [\n",
        "                        \"@usr.email\"\n",
        "                    ],\n",
        "                    \"hasOptionalGroupByFields\": false,\n",
        "                    \"distinctFields\": [],\n",
        "                    \"aggregation\": \"count\",\n",
        "                    \"name\": \"tor_client_activity\"\n",
        "                }\n",
        "            ],\n",
        "            \"options\": {\n",
        "                \"keepAlive\": 3600,\n",
        "                \"maxSignalDuration\": 86400,\n",
        "                \"detectionMethod\": \"threshold\",\n",
        "                \"evaluationWindow\": 300\n",
        "            },\n",
        "            \"cases\": [\n",
        "                {\n",
        "                    \"name\": \"\",\n",
        "                    \"status\": \"critical\",\n",
        "                    \"notifications\": [],\n",
        "                    \"condition\": \"tor_client_activity > 0\"\n",
        "                }\n",
        "            ],\n",
        "            \"message\": \"## Goal\\nDetect when 1Password activity is observed from a Tor exit node. \\n\\n## Strategy\\nThis rule monitors 1Password logs to determine when an activity originated from a Tor client. Datadog enriches all ingested logs with [expert-curated threat intelligence][1] in real-time. An attacker may use a Tor client to anonymize their true origin.  \\n\\n## Triage and response\\n1. Determine if `{{@usr.email}}` from IP address `{{@network.client.ip}}` should have made the `{{@evt.name}}` API call.\\n2. If the results of the triage indicate that an attacker has taken the action, begin your company's incident response process and an investigation.\\n\\n## Changelog\\n* 17 August 2023 - Updated query to replace attribute `@threat_intel.results.subcategory:tor` with `@threat_intel.results.category:tor`.\\n\\n[1]: https://www.datadoghq.com/blog/datadog-threat-intelligence/#expert-threat-intelligence-managed-by-datadog\",\n",
        "            \"tags\": [\n",
        "                \"source:1password\",\n",
        "                \"scope:onepassword\",\n",
        "                \"security:attack\"\n",
        "            ],\n",
        "            \"defaultTags\": [\n",
        "                \"source:1password\",\n",
        "                \"security:attack\",\n",
        "                \"scope:onepassword\"\n",
        "            ],\n",
        "            \"hasExtendedTitle\": true,\n",
        "            \"type\": \"log_detection\",\n",
        "            \"filters\": []\n",
        "        }\n",
        "    ],\n",
        "    \"meta\": {\n",
        "        \"page\": {\n",
        "            \"total_count\": 429,\n",
        "            \"total_filtered_count\": 1\n",
        "        }\n",
        "    }\n",
        "}"
      ]
    },
    {
      "cell_type": "markdown",
      "metadata": {
        "id": "YH7UuCva6N66"
      },
      "source": [
        "# Step 2a: API & Flow\n"
      ]
    },
    {
      "cell_type": "markdown",
      "metadata": {
        "id": "MX4m3jsy6Iz8"
      },
      "source": [
        " - GET /api/v2/security_monitoring/rules\n",
        "    - The response will give a list of Detection Rules.\n",
        "    - Prepare the extended schema with the details.\n",
        "\n",
        "\n"
      ]
    },
    {
      "cell_type": "markdown",
      "metadata": {
        "id": "hlK23hbRwErA"
      },
      "source": [
        "# Step 2b: Define the Extended Schema\n"
      ]
    },
    {
      "cell_type": "code",
      "execution_count": null,
      "metadata": {
        "id": "lQ-MG2gI6PY9"
      },
      "outputs": [],
      "source": [
        "# DatadogDetectionRules\n",
        "{\n",
        "    \"System\": \"datadog\",\n",
        "    \"Source\": \"compliancecow\",\n",
        "    \"ResourceID\": \"def-000-syp\",\n",
        "    \"ResourceName\": \"1Password activity observed from Tor client IP\",\n",
        "    \"ResourceType\": \"Detection Rule\",\n",
        "    \"ResourceLocation\": \"N/A\",\n",
        "    \"ResourceTags\": \"N/A\",\n",
        "    \"ResourceURL\": \"https://app.datadoghq.com/security/configuration/siem/rules/view/def-000-syp\",\n",
        "    \"RuleType\": \"log_detection\",\n",
        "    \"RuleMessage\": \"## Goal\\nDetect when 1Password activity is observed from a Tor exit node. \\n\\n## Strategy\\nThis rule monitors 1Password logs to determine when an activity originated from a Tor client. Datadog enriches all ingested logs with [expert-curated threat intelligence][1] in real-time. An attacker may use a Tor client to anonymize their true origin.  \\n\\n## Triage and response\\n1. Determine if `{{@usr.email}}` from IP address `{{@network.client.ip}}` should have made the `{{@evt.name}}` API call.\\n2. If the results of the triage indicate that an attacker has taken the action, begin your company's incident response process and an investigation.\\n\\n## Changelog\\n* 17 August 2023 - Updated query to replace attribute `@threat_intel.results.subcategory:tor` with `@threat_intel.results.category:tor`.\\n\\n[1]: https://www.datadoghq.com/blog/datadog-threat-intelligence/#expert-threat-intelligence-managed-by-datadog\",\n",
        "    \"DefaultRule\": true,\n",
        "    \"RuleEnabled\": true,\n",
        "    \"RuleDeprecated\": false,\n",
        "    \"RuleCases\": [\n",
        "        {\n",
        "            \"Condition\": \"tor_client_activity > 0\",\n",
        "            \"Name\": \"\",\n",
        "            \"Status\": \"critical\"\n",
        "        }\n",
        "    ],\n",
        "    \"RulePriority\": \"critical\",\n",
        "    \"RuleTags\": [\n",
        "        \"source:1password\",\n",
        "        \"scope:onepassword\",\n",
        "        \"security:attack\"\n",
        "    ],\n",
        "    \"RuleCreationDate\": \"2023-06-28T16:29:07.558000+00:00\",\n",
        "    \"UserAction\": \"\",\n",
        "    \"ActionStatus\": \"\",\n",
        "    \"ActionResponseURL\": \"\"\n",
        "}"
      ]
    },
    {
      "cell_type": "markdown",
      "metadata": {
        "id": "trjrGTI6N3wv"
      },
      "source": [
        "# 3. Control Setup Details"
      ]
    },
    {
      "cell_type": "markdown",
      "metadata": {
        "id": "IHKtasdRN6-V"
      },
      "source": [
        "| Control Details            |                                                 |\n",
        "|----------------------------|-------------------------------------------------|\n",
        "| **RuleName**               | GetDatadogDetectionRules                        |\n",
        "| **PreRequisiteRuleNames**  |                                                 |\n",
        "| **ExtendedSchemaRuleNames**|                                                 |\n",
        "| **ApplicationClassName**   | datadogconnector                                |\n",
        "| **PostSynthesizerName**    | N/A                                             |"
      ]
    }
  ],
  "metadata": {
    "colab": {
      "provenance": []
    },
    "kernelspec": {
      "display_name": "Python 3",
      "name": "python3"
    },
    "language_info": {
      "name": "python"
    }
  },
  "nbformat": 4,
  "nbformat_minor": 0
}
