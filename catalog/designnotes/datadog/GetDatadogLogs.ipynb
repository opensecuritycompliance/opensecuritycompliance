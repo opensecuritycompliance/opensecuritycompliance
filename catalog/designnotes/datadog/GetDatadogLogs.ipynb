{
  "cells": [
    {
      "cell_type": "markdown",
      "metadata": {
        "id": "sFlmicb0Mlse"
      },
      "source": [
        "# Step 1: Evidence Details\n",
        "\n",
        "|System|Source of data|Frameworks|Purpose|\n",
        "|---|---|---|---|\n",
        "|Datadog|Datadog Logs|Datadog|Get Logs data from Datadog.|\n",
        "\n",
        "```\n",
        "RecomendedEvidenceName: DatadogLogs\n",
        "```\n",
        "\n"
      ]
    },
    {
      "cell_type": "markdown",
      "metadata": {
        "id": "HwaAN4PWRC-_"
      },
      "source": [
        "# Step 2: Define the System Specific Data\n"
      ]
    },
    {
      "cell_type": "code",
      "execution_count": null,
      "metadata": {
        "id": "a7nxEIiVcL4t"
      },
      "outputs": [],
      "source": [
        "# GET /api/v2/logs/events\n",
        "{\n",
        "    \"data\": [\n",
        "        {\n",
        "            \"id\": \"AgAAAZARIb3NLeoxmgAAAAAAAAAYAAAAAEFaQVJJOTVkQUFEOWZvOENVakdUVVFBQQAAACQAAAAAMDE5MDExMjEtYmRjZC00MTZhLTg0NzItNjc3OWJmNjhiMTU0\",\n",
        "            \"type\": \"log\",\n",
        "            \"attributes\": {\n",
        "                \"service\": \"okta\",\n",
        "                \"attributes\": {\n",
        "                    \"severity\": \"INFO\",\n",
        "                    \"evt\": {\n",
        "                        \"name\": \"app.oauth2.admin.consent.grant\",\n",
        "                        \"outcome\": \"SUCCESS\"\n",
        "                    },\n",
        "                    \"authenticationContext\": {\n",
        "                        \"externalSessionId\": \"trscAW9Nrv_S86oaGAeBI6Glg\",\n",
        "                        \"authenticationStep\": 0\n",
        "                    },\n",
        "                    \"published\": \"2024-06-13T10:25:42.349Z\",\n",
        "                    \"title\": \"Administrator consent granted.\",\n",
        "                    \"uuid\": \"49875822-296f-11ef-8ef6-3daf9c988267\",\n",
        "                    \"version\": \"0\",\n",
        "                    \"target\": [\n",
        "                        {\n",
        "                            \"displayName\": \"okta.users.manage\",\n",
        "                            \"id\": \"oag22vo3dkbIf9Bhl5d7\",\n",
        "                            \"type\": \"ConsentGrant\",\n",
        "                            \"detailEntry\": {\n",
        "                                \"publicclientapp\": \"okta.809d1fb6-405f-571e-8a64-5beee80b418e\"\n",
        "                            }\n",
        "                        },\n",
        "                        {\n",
        "                            \"displayName\": \"okta.apps.read\",\n",
        "                            \"id\": \"oag22vo3dmr5f63DW5d7\",\n",
        "                            \"type\": \"ConsentGrant\",\n",
        "                            \"detailEntry\": {\n",
        "                                \"publicclientapp\": \"okta.809d1fb6-405f-571e-8a64-5beee80b418e\"\n",
        "                            }\n",
        "                        },\n",
        "                        {\n",
        "                            \"displayName\": \"okta.governance.entitlements.manage\",\n",
        "                            \"id\": \"oag22vo3dsEEC1mk15d7\",\n",
        "                            \"type\": \"ConsentGrant\",\n",
        "                            \"detailEntry\": {\n",
        "                                \"publicclientapp\": \"okta.809d1fb6-405f-571e-8a64-5beee80b418e\"\n",
        "                            }\n",
        "                        },\n",
        "                        {\n",
        "                            \"displayName\": \"okta.users.read\",\n",
        "                            \"id\": \"oag22vo3dylSDWicN5d7\",\n",
        "                            \"type\": \"ConsentGrant\",\n",
        "                            \"detailEntry\": {\n",
        "                                \"publicclientapp\": \"okta.809d1fb6-405f-571e-8a64-5beee80b418e\"\n",
        "                            }\n",
        "                        },\n",
        "                        {\n",
        "                            \"displayName\": \"okta.governance.entitlements.read\",\n",
        "                            \"id\": \"oag22vo3e45IjQl5m5d7\",\n",
        "                            \"type\": \"ConsentGrant\",\n",
        "                            \"detailEntry\": {\n",
        "                                \"publicclientapp\": \"okta.809d1fb6-405f-571e-8a64-5beee80b418e\"\n",
        "                            }\n",
        "                        },\n",
        "                        {\n",
        "                            \"displayName\": \"okta.profileMappings.read\",\n",
        "                            \"id\": \"oag22vo3easbUPWXR5d7\",\n",
        "                            \"type\": \"ConsentGrant\",\n",
        "                            \"detailEntry\": {\n",
        "                                \"publicclientapp\": \"okta.809d1fb6-405f-571e-8a64-5beee80b418e\"\n",
        "                            }\n",
        "                        },\n",
        "                        {\n",
        "                            \"displayName\": \"okta.userTypes.read\",\n",
        "                            \"id\": \"oag22vo3ehWLO46i05d7\",\n",
        "                            \"type\": \"ConsentGrant\",\n",
        "                            \"detailEntry\": {\n",
        "                                \"publicclientapp\": \"okta.809d1fb6-405f-571e-8a64-5beee80b418e\"\n",
        "                            }\n",
        "                        },\n",
        "                        {\n",
        "                            \"displayName\": \"okta.profileMappings.manage\",\n",
        "                            \"id\": \"oag22vo3eo9kvl3G85d7\",\n",
        "                            \"type\": \"ConsentGrant\",\n",
        "                            \"detailEntry\": {\n",
        "                                \"publicclientapp\": \"okta.809d1fb6-405f-571e-8a64-5beee80b418e\"\n",
        "                            }\n",
        "                        },\n",
        "                        {\n",
        "                            \"displayName\": \"okta.groups.read\",\n",
        "                            \"id\": \"oag22vo3ew8DexxZC5d7\",\n",
        "                            \"type\": \"ConsentGrant\",\n",
        "                            \"detailEntry\": {\n",
        "                                \"publicclientapp\": \"okta.809d1fb6-405f-571e-8a64-5beee80b418e\"\n",
        "                            }\n",
        "                        },\n",
        "                        {\n",
        "                            \"displayName\": \"okta.capabilities.manage\",\n",
        "                            \"id\": \"oag22vo3f2zg7EiDL5d7\",\n",
        "                            \"type\": \"ConsentGrant\",\n",
        "                            \"detailEntry\": {\n",
        "                                \"publicclientapp\": \"okta.809d1fb6-405f-571e-8a64-5beee80b418e\"\n",
        "                            }\n",
        "                        },\n",
        "                        {\n",
        "                            \"displayName\": \"okta.apps.manage\",\n",
        "                            \"id\": \"oag22vo3f8KIsjXKF5d7\",\n",
        "                            \"type\": \"ConsentGrant\",\n",
        "                            \"detailEntry\": {\n",
        "                                \"publicclientapp\": \"okta.809d1fb6-405f-571e-8a64-5beee80b418e\"\n",
        "                            }\n",
        "                        },\n",
        "                        {\n",
        "                            \"displayName\": \"okta.capabilities.read\",\n",
        "                            \"id\": \"oag22vo3fdV17hKSI5d7\",\n",
        "                            \"type\": \"ConsentGrant\",\n",
        "                            \"detailEntry\": {\n",
        "                                \"publicclientapp\": \"okta.809d1fb6-405f-571e-8a64-5beee80b418e\"\n",
        "                            }\n",
        "                        },\n",
        "                        {\n",
        "                            \"displayName\": \"okta.groups.manage\",\n",
        "                            \"id\": \"oag22vo3fgZw74Bny5d7\",\n",
        "                            \"type\": \"ConsentGrant\",\n",
        "                            \"detailEntry\": {\n",
        "                                \"publicclientapp\": \"okta.809d1fb6-405f-571e-8a64-5beee80b418e\"\n",
        "                            }\n",
        "                        }\n",
        "                    ],\n",
        "                    \"usr\": {\n",
        "                        \"name\": \"Okta System\",\n",
        "                        \"id\": \"sprgromv1bwLIl69T5d7\",\n",
        "                        \"type\": \"SystemPrincipal\",\n",
        "                        \"email\": \"system@okta.com\"\n",
        "                    },\n",
        "                    \"service\": \"okta\",\n",
        "                    \"account_name\": \"rufus_okta\",\n",
        "                    \"legacyEventType\": \"app.oauth2.admin.consent.grant_success\",\n",
        "                    \"transaction\": {\n",
        "                        \"id\": \"spjhphbehaF7iTysj5d7\",\n",
        "                        \"type\": \"JOB\"\n",
        "                    }\n",
        "                },\n",
        "                \"message\": \"Administrator consent granted.\",\n",
        "                \"status\": \"info\",\n",
        "                \"timestamp\": \"2024-06-13T10:25:42.349Z\",\n",
        "                \"tags\": [\n",
        "                    \"datadog.submission_auth:api_key\",\n",
        "                    \"source:okta\"\n",
        "                ]\n",
        "            }\n",
        "        }\n",
        "    ],\n",
        "    \"meta\": {\n",
        "        \"page\": {\n",
        "            \"after\": \"eyJhZnRlciI6IkFnQUFBWkFSSWIzTkxlb3htZ0FBQUFBQUFBQVlBQUFBQUVGYVFWSkpPVFZrUVVGRU9XWnZPRU5WYWtkVVZWRkJRUUFBQUNRQUFBQUFNREU1TURFeE1qRXRZbVJqWkMwME1UWmhMVGcwTnpJdE5qYzNPV0ptTmpoaU1UVTAiLCJ2YWx1ZXMiOlsiMjAyNC0wNi0xM1QxMDoyNTo0Mi4zNDlaIiw3NzAzMjI4NDJdfQ\"\n",
        "        },\n",
        "        \"elapsed\": 18,\n",
        "        \"request_id\": \"pddv1ChZXMFhjMUlnU1JiV244MWFLcEtLVGpnIiwKHMdQm4793D-HYB_Qz8UbcB_-W1GpQp8GgvcxguoSDOZC3gg6lNQYipoTAg\",\n",
        "        \"status\": \"done\"\n",
        "    },\n",
        "    \"links\": {\n",
        "        \"next\": \"https://app.datadoghq.com/api/v2/logs/events?filter%5Bfrom%5D=2019-01-02T09%3A42%3A36.320Z&page%5Bcursor%5D=eyJhZnRlciI6IkFnQUFBWkFSSWIzTkxlb3htZ0FBQUFBQUFBQVlBQUFBQUVGYVFWSkpPVFZrUVVGRU9XWnZPRU5WYWtkVVZWRkJRUUFBQUNRQUFBQUFNREU1TURFeE1qRXRZbVJqWkMwME1UWmhMVGcwTnpJdE5qYzNPV0ptTmpoaU1UVTAiLCJ2YWx1ZXMiOlsiMjAyNC0wNi0xM1QxMDoyNTo0Mi4zNDlaIiw3NzAzMjI4NDJdfQ&page%5Blimit%5D=1\"\n",
        "    }\n",
        "}"
      ]
    },
    {
      "cell_type": "markdown",
      "metadata": {
        "id": "YH7UuCva6N66"
      },
      "source": [
        "# Step 2a: API & Flow\n"
      ]
    },
    {
      "cell_type": "markdown",
      "metadata": {
        "id": "MX4m3jsy6Iz8"
      },
      "source": [
        " - GET /api/v2/logs/events\n",
        "    - The response will give a list of logs.\n",
        "    - Prepare the extended schema with the details.\n",
        "\n",
        "\n"
      ]
    },
    {
      "cell_type": "markdown",
      "metadata": {
        "id": "hlK23hbRwErA"
      },
      "source": [
        "# Step 2b: Define the Extended Schema\n"
      ]
    },
    {
      "cell_type": "code",
      "execution_count": null,
      "metadata": {
        "id": "lQ-MG2gI6PY9"
      },
      "outputs": [],
      "source": [
        "# DatadogLogs\n",
        "[\n",
        "    {\n",
        "        \"System\": \"datadog\",\n",
        "        \"Source\": \"compliancecow\",\n",
        "        \"ResourceID\": \"AgAAAZARIb3NLeoxmgAAAAAAAAAYAAAAAEFaQVJJOTVkQUFEOWZvOENVakdUVVFBQQAAACQAAAAAMDE5MDExMjEtYmRjZC00MTZhLTg0NzItNjc3OWJmNjhiMTU0\",\n",
        "        \"ResourceName\": \"N.A\",\n",
        "        \"ResourceType\": \"log\",\n",
        "        \"ResourceLocation\": \"N/A\",\n",
        "        \"ResourceTags\": \"N/A\",\n",
        "        \"ResourceURL\": \"https://app.datadoghq.com/logs?event=AgAAAZARIb3NLeoxmgAAAAAAAAAYAAAAAEFaQVJJOTVkQUFEOWZvOENVakdUVVFBQQAAACQAAAAAMDE5MDExMjEtYmRjZC00MTZhLTg0NzItNjc3OWJmNjhiMTU0\",\n",
        "        \"LogMessage\": \"Administrator consent granted.\",\n",
        "        \"LogStatus\": \"info\",\n",
        "        \"LogHost\": \"\",\n",
        "        \"LogService\": \"okta\",\n",
        "        \"LogCreatedDate\": \"2024-06-13T10:25:42.349Z\",\n",
        "        \"UserAction\": \"\",\n",
        "        \"ActionStatus\": \"\",\n",
        "        \"ActionResponseURL\": \"\"\n",
        "    }\n",
        "]"
      ]
    },
    {
      "cell_type": "markdown",
      "metadata": {
        "id": "trjrGTI6N3wv"
      },
      "source": [
        "# 3. Control Setup Details"
      ]
    },
    {
      "cell_type": "markdown",
      "metadata": {
        "id": "IHKtasdRN6-V"
      },
      "source": [
        "| Control Details            |                                                 |\n",
        "|----------------------------|-------------------------------------------------|\n",
        "| **RuleName**               | GetDatadogLogs                                  |\n",
        "| **PreRequisiteRuleNames**  |                                                 |\n",
        "| **ExtendedSchemaRuleNames**|                                                 |\n",
        "| **ApplicationClassName**   | datadogconnector                                |\n",
        "| **PostSynthesizerName**    | N/A                                             |"
      ]
    }
  ],
  "metadata": {
    "colab": {
      "provenance": []
    },
    "kernelspec": {
      "display_name": "Python 3",
      "name": "python3"
    },
    "language_info": {
      "name": "python"
    }
  },
  "nbformat": 4,
  "nbformat_minor": 0
}