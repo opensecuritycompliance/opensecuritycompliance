{
  "cells": [
    {
      "cell_type": "markdown",
      "metadata": {
        "id": "sFlmicb0Mlse"
      },
      "source": [
        "# Step 1: Evidence Details\n",
        "\n",
        "|System|Source of data|Frameworks|\n",
        "|---|---|---|\n",
        "|okta|okta |okta|\n",
        "\n",
        "`Purpose: Enforce separate responsibilities for critical system configurations to enhance security and accountability.`\n",
        "\n",
        "```\n",
        "RecomendedEvidenceName: OktaPrivilegedUserDetails\n",
        "```\n",
        "\n",
        "\n"
      ]
    },
    {
      "cell_type": "markdown",
      "metadata": {
        "id": "HwaAN4PWRC-_"
      },
      "source": [
        "# Step 2: Define the System Specific Data\n"
      ]
    },
    {
      "cell_type": "markdown",
      "metadata": {
        "id": "YH7UuCva6N66"
      },
      "source": [
        "# Step 2a: API & Flow\n"
      ]
    },
    {
      "cell_type": "markdown",
      "metadata": {
        "id": "MX4m3jsy6Iz8"
      },
      "source": [
        " - GET /api/v1/users\n",
        "  - The response will give a list of users.\n",
        " - GET /api/v1/users/{userId}/roles\n",
        "  - The response will provide a list of roles for the user, used to determine if the user is an admin or not.\n",
        "  - If the list is empty, that means the user is not privileged.\n",
        "  - If the list is not empty, that means the user has privileged access.\n",
        " - GET /api/v1/policies?type=MFA_ENROLL\n",
        "  - The response will give policyId of the MFA_ENROLL policy and groups included under MFA policy\n",
        " - GET /api/v1/users/{userId}/roles\n",
        "  - Fetch user role details\n",
        " - GET /api/v1/users/{userId}/groups\n",
        "  - The response will provide a list of groups enabled for a given user. We can compare this list with the groups included in the MFA_ENROLL policy. If there is a common group, then the user is MFA enabled."
      ]
    },
    {
      "cell_type": "markdown",
      "metadata": {
        "id": "hlK23hbRwErA"
      },
      "source": [
        "# Step 2b: Define the Extended Schema\n"
      ]
    },
    {
      "cell_type": "code",
      "execution_count": null,
      "metadata": {
        "id": "R2qQuLVj0RT-"
      },
      "outputs": [],
      "source": [
        "# GET /api/v1/users\n",
        "[\n",
        "    {\n",
        "        \"id\": \"00ugromv83ZlFD4UC5d7\",\n",
        "        \"status\": \"ACTIVE\",\n",
        "        \"created\": \"2024-04-30T03:17:41.000Z\",\n",
        "        \"activated\": null,\n",
        "        \"statusChanged\": \"2024-04-30T05:11:26.000Z\",\n",
        "        \"lastLogin\": \"2024-05-03T10:40:13.000Z\",\n",
        "        \"lastUpdated\": \"2024-04-30T05:11:26.000Z\",\n",
        "        \"passwordChanged\": \"2024-04-30T05:11:26.000Z\",\n",
        "        \"type\": {\n",
        "            \"id\": \"otygromv266cPwrj35d7\"\n",
        "        },\n",
        "        \"profile\": {\n",
        "            \"firstName\": \"John\",\n",
        "            \"lastName\": \"Doe\",\n",
        "            \"mobilePhone\": null,\n",
        "            \"secondEmail\": null,\n",
        "            \"login\": \"john.doe@example.com\",\n",
        "            \"email\": \"john.doe@example.com\"\n",
        "        },\n",
        "        \"credentials\": {\n",
        "            \"password\": {},\n",
        "            \"emails\": [\n",
        "                {\n",
        "                    \"value\": \"john.doe@example.com\",\n",
        "                    \"status\": \"VERIFIED\",\n",
        "                    \"type\": \"PRIMARY\"\n",
        "                }\n",
        "            ],\n",
        "            \"provider\": {\n",
        "                \"type\": \"OKTA\",\n",
        "                \"name\": \"OKTA\"\n",
        "            }\n",
        "        },\n",
        "        \"_links\": {\n",
        "            \"self\": {\n",
        "                \"href\": \"https://{yourOktaDomain}/api/v1/users/00ugromv83ZlFD4UC5d7\"\n",
        "            }\n",
        "        }\n",
        "    }\n",
        "]\n",
        "\n",
        "\n",
        "# GET /api/v1/users/{userId}/roles\n",
        "[\n",
        "    {\n",
        "        \"id\": \"ra1gromv8evFERzm45d7\",\n",
        "        \"label\": \"Super Administrator\",\n",
        "        \"type\": \"SUPER_ADMIN\",\n",
        "        \"status\": \"ACTIVE\",\n",
        "        \"created\": \"2024-04-30T03:17:41.000Z\",\n",
        "        \"lastUpdated\": \"2024-04-30T03:17:41.000Z\",\n",
        "        \"assignmentType\": \"USER\",\n",
        "        \"_links\": {\n",
        "            \"assignee\": {\n",
        "                \"href\": \"https://{yourOktaDomain}/api/v1/users/00ugromv83ZlFD4UC5d7\"\n",
        "            }\n",
        "        }\n",
        "    }\n",
        "]\n",
        "\n",
        "# GET /api/v1/policies?type=MFA_ENROLL\n",
        "[\n",
        "    {\n",
        "        \"id\": \"00erfesfv6VkPbYqO5d7\",\n",
        "        \"status\": \"ACTIVE\",\n",
        "        \"name\": \"Default Policy\",\n",
        "        \"description\": \"The default policy applies in all situations if no other policy applies.\",\n",
        "        \"priority\": 1,\n",
        "        \"system\": true,\n",
        "        \"conditions\": {\n",
        "            \"people\": {\n",
        "                \"groups\": {\n",
        "                    \"include\": [\n",
        "                        \"00gvdsfovnfFOr5d7\"\n",
        "                    ]\n",
        "                }\n",
        "            }\n",
        "        },\n",
        "        \"created\": \"2024-05-07T09:05:24.000Z\",\n",
        "        \"lastUpdated\": \"2024-05-07T10:43:07.000Z\",\n",
        "        \"settings\": {\n",
        "            \"factors\": {\n",
        "                \"okta_password\": {\n",
        "                    \"enroll\": {\n",
        "                        \"self\": \"REQUIRED\"\n",
        "                    },\n",
        "                    \"consent\": {\n",
        "                        \"type\": \"NONE\"\n",
        "                    }\n",
        "                }\n",
        "            }\n",
        "        },\n",
        "        \"_links\": {\n",
        "            \"self\": {\n",
        "                \"href\": \"https://{yourOktaDomain}/api/v1/policies/00pgxvdfv96VkPbYqO5d7\",\n",
        "                \"hints\": {\n",
        "                    \"allow\": [\n",
        "                        \"GET\",\n",
        "                        \"PUT\"\n",
        "                    ]\n",
        "                }\n",
        "            },\n",
        "            \"rules\": {\n",
        "                \"href\": \"https://{yourOktaDomain}/api/v1/policies/00pgxjgpvasdvbYqO5d7/rules\",\n",
        "                \"hints\": {\n",
        "                    \"allow\": [\n",
        "                        \"GET\",\n",
        "                        \"POST\"\n",
        "                    ]\n",
        "                }\n",
        "            }\n",
        "        },\n",
        "        \"type\": \"MFA_ENROLL\"\n",
        "    }\n",
        "]\n",
        "\n",
        "\n",
        "# GET /api/v1/users/{user_id}/groups\n",
        "\n",
        "{\n",
        "        \"id\": \"00gh915i9xtNH5d7\",\n",
        "        \"created\": \"2024-05-22T12:21:16.000Z\",\n",
        "        \"lastUpdated\": \"2024-05-22T12:21:16.000Z\",\n",
        "        \"lastMembershipUpdated\": \"2024-05-22T14:45:04.000Z\",\n",
        "        \"objectClass\": [\n",
        "            \"okta:group\"\n",
        "        ],\n",
        "        \"type\": \"BUILT_IN\",\n",
        "        \"profile\": {\n",
        "            \"name\": \"Everyone\",\n",
        "            \"description\": \"All users in your organization\"\n",
        "        },\n",
        "        \"_links\": {\n",
        "            \"logo\": [\n",
        "                {\n",
        "                    \"name\": \"medium\",\n",
        "                    \"href\": \"https://ok12static.oktdn.com/assets/img/logos/groups/odyssey/okta-medium.30ce6d984e4c191bc874.png\",\n",
        "                    \"type\": \"image/png\"\n",
        "                },\n",
        "                {\n",
        "                    \"name\": \"large\",\n",
        "                    \"href\": \"https://ok12static.oktacdn.com/assets/img/logos/groups/odyssey/okta-large.c3cb8cda8afe928f5844dbe3.png\",\n",
        "                    \"type\": \"image/png\"\n",
        "                }\n",
        "            ],\n",
        "            \"users\": {\n",
        "                \"href\": \"https://dev-8824454.okta.com/api/v1/groups/00gh9wvdvYA9xtNH5d7/users\"\n",
        "            },\n",
        "            \"apps\": {\n",
        "                \"href\": \"https://dev-88449454.okta.com/api/v1/groups/00gh9vasi8tNH5d7/apps\"\n",
        "            }\n",
        "        }\n",
        "    }"
      ]
    },
    {
      "cell_type": "markdown",
      "metadata": {
        "id": "OMfAqx9AZD-R"
      },
      "source": [
        "# Step 3: Define the Standard Schema\n",
        "    "
      ]
    },
    {
      "cell_type": "code",
      "execution_count": null,
      "metadata": {
        "id": "_iPF3qrHysOc"
      },
      "outputs": [],
      "source": [
        "{\n",
        "        \"System\": \"okta\",\n",
        "        \"Source\": \"compliancecow\",\n",
        "        \"ResourceID\": \"00uh95fhimSUiiA5d7\",\n",
        "        \"ResourceName\": \"Test user 1\",\n",
        "        \"ResourceType\": \"User\",\n",
        "        \"ResourceLocation\": \"N/A\",\n",
        "        \"ResourceTags\": \"N/A\",\n",
        "        \"ResourceURL\": \"https://dev-88449454-admin.okta.com/admin/user/profile/view/00uh95fhimSUiiA5d7#tab-account\",\n",
        "        \"UserEmail\": \"kavya@gmail.com\",\n",
        "        \"UserGroups\": [\n",
        "            \"Everyone\"\n",
        "        ],\n",
        "        \"UserRoles\": [\n",
        "            \"Test Role 2\"\n",
        "        ],\n",
        "        \"RolePermission\": [\n",
        "            {\n",
        "                \"Permissions\": \"okta.groups.appAssignment.manage,okta.groups.create,okta.users.groupMembership.manage\",\n",
        "                \"Role\": \"Test Role 2\"\n",
        "            }\n",
        "        ],\n",
        "        \"MFAEnabled\": True,\n",
        "        \"UserAuthenticationFactors\": [\n",
        "            \"okta_sms\"\n",
        "        ],\n",
        "        \"ComplianceStatus\":\"\",\n",
        "        \"ComplianceReason\":\"\"\n",
        "    }"
      ]
    },
    {
      "cell_type": "markdown",
      "metadata": {
        "id": "vQQKJKfUabxd"
      },
      "source": [
        "# Step 3.a: Sample Data\n",
        "\n",
        "| System | Source | ResourceID | ResourceName | ResourceType | ResourceLocation | ResourceTags | ResourceUrl | UserEmail | UserGroups | UserRoles | RolePermission | MFAEnabled | UserAuthenticationFactors | ComplianceStatus | ComplianceReason|\n",
        "|---|---|---|---|---|---|---|---|---|---|---|---|---|---|---|---|\n",
        "| okta | compliancecow | e95aff7d-8cf7-47a3-bac5b423 | John Danie | User | N/A | N/A | https://dev-88449454-admin.okta.com/admin/user/profile/view/00uh95fhimSUiiA5d7#tab-account | kavya@gmail.com | [\"Everyone\"] | [\"Test Role 2] | Permissions: okta.groups.appAssignment.manage,okta.groups.create,okta.users.groupMembership.manage, Role: Test Role 2 | True |[\"okta_sms\"] | | |"
      ]
    },
    {
      "cell_type": "markdown",
      "metadata": {
        "id": "bxsZR5l8SiOd"
      },
      "source": [
        "# Step 4: Describe the Compliance Taxonomy\n",
        "\n",
        "N/A"
      ]
    },
    {
      "cell_type": "markdown",
      "metadata": {
        "id": "Son7AJzlS0hh"
      },
      "source": [
        "# Step 5: Calculation for Compliance Percentage and Status\n",
        "\n",
        "N/A\n",
        "\n"
      ]
    },
    {
      "cell_type": "markdown",
      "metadata": {
        "id": "uVDZ3Jv9TKZx"
      },
      "source": [
        "# Step 6: Describe (in words) the Remediation Steps for Non-Compliance"
      ]
    },
    {
      "cell_type": "markdown",
      "metadata": {
        "id": "IS5_pE75TfxN"
      },
      "source": [
        "N/A"
      ]
    },
    {
      "cell_type": "markdown",
      "metadata": {
        "id": "trjrGTI6N3wv"
      },
      "source": [
        "# 7. Control Setup Details"
      ]
    },
    {
      "cell_type": "markdown",
      "metadata": {
        "id": "IHKtasdRN6-V"
      },
      "source": [
        "| Control Details            |                                                 |\n",
        "|----------------------------|-------------------------------------------------|\n",
        "| **RuleName**               | OktaPrivilegedUserDetails|\n",
        "| **PreRequisiteRuleNames**  | N/A                                             |\n",
        "| **ExtendedSchemaRuleNames**| N/A                                             |\n",
        "| **ApplicationClassName**   | oktaconnector                                   |\n",
        "| **PostSynthesizerName**    | N/A                                             |"
      ]
    }
  ],
  "metadata": {
    "colab": {
      "provenance": []
    },
    "kernelspec": {
      "display_name": "Python 3",
      "name": "python3"
    },
    "language_info": {
      "name": "python"
    }
  },
  "nbformat": 4,
  "nbformat_minor": 0
}
