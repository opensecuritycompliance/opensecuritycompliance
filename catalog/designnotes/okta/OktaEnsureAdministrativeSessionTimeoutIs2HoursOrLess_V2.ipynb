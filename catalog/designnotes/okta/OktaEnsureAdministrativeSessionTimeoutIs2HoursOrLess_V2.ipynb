{
  "cells": [
    {
      "cell_type": "markdown",
      "metadata": {
        "id": "sFlmicb0Mlse"
      },
      "source": [
        "# Step 1: Evidence Details\n",
        "\n",
        "|System|Source of data|Frameworks|Purpose|\n",
        "|---|---|---|---|\n",
        "|Okta|Okta Policies|Okta|Set administrative session timeout to 2 hours or less.|\n",
        "\n",
        "```\n",
        "RecomendedEvidenceName: AdministrativeSessionTimeoutReport\n",
        "```\n",
        "\n"
      ]
    },
    {
      "cell_type": "markdown",
      "metadata": {
        "id": "HwaAN4PWRC-_"
      },
      "source": [
        "# Step 2: Define the System Specific Data\n"
      ]
    },
    {
      "cell_type": "code",
      "execution_count": null,
      "metadata": {
        "id": "a7nxEIiVcL4t"
      },
      "outputs": [],
      "source": [
        "# GET /api/v1/policies?type=OKTA_SIGN_ON\n",
        "[\n",
        "    {\n",
        "        \"id\": \"00pgromv1yFI7fVRP5d7\",\n",
        "        \"status\": \"ACTIVE\",\n",
        "        \"name\": \"Default Policy\",\n",
        "        \"description\": \"The default policy applies in all situations if no other policy applies.\",\n",
        "        \"priority\": 1,\n",
        "        \"system\": true,\n",
        "        \"conditions\": {\n",
        "            \"people\": {\n",
        "                \"groups\": {\n",
        "                    \"include\": [\n",
        "                        \"00ggromv1xSNSfOLy5d7\"\n",
        "                    ]\n",
        "                }\n",
        "            }\n",
        "        },\n",
        "        \"created\": \"2024-04-30T03:17:35.000Z\",\n",
        "        \"lastUpdated\": \"2024-04-30T03:17:35.000Z\",\n",
        "        \"_links\": {\n",
        "            \"self\": {\n",
        "                \"href\": \"https://dev-93040161.okta.com/api/v1/policies/00pgromv1yFI7fVRP5d7\",\n",
        "                \"hints\": {\n",
        "                    \"allow\": [\n",
        "                        \"GET\",\n",
        "                        \"PUT\"\n",
        "                    ]\n",
        "                }\n",
        "            },\n",
        "            \"rules\": {\n",
        "                \"href\": \"https://dev-93040161.okta.com/api/v1/policies/00pgromv1yFI7fVRP5d7/rules\",\n",
        "                \"hints\": {\n",
        "                    \"allow\": [\n",
        "                        \"GET\",\n",
        "                        \"POST\"\n",
        "                    ]\n",
        "                }\n",
        "            }\n",
        "        },\n",
        "        \"type\": \"OKTA_SIGN_ON\"\n",
        "    }\n",
        "]\n",
        "\n",
        "# GET /api/v1/policies/{policyId}/rules\n",
        "[\n",
        "    {\n",
        "        \"id\": \"0prgromv1z68BXYQZ5d7\",\n",
        "        \"status\": \"ACTIVE\",\n",
        "        \"name\": \"Default Rule\",\n",
        "        \"priority\": 1,\n",
        "        \"created\": null,\n",
        "        \"lastUpdated\": \"2024-04-30T03:17:35.000Z\",\n",
        "        \"system\": true,\n",
        "        \"conditions\": {\n",
        "            \"people\": {\n",
        "                \"users\": {\n",
        "                    \"exclude\": []\n",
        "                }\n",
        "            },\n",
        "            \"network\": {\n",
        "                \"connection\": \"ANYWHERE\"\n",
        "            },\n",
        "            \"authContext\": {\n",
        "                \"authType\": \"ANY\"\n",
        "            }\n",
        "        },\n",
        "        \"actions\": {\n",
        "            \"signon\": {\n",
        "                \"access\": \"ALLOW\",\n",
        "                \"requireFactor\": false,\n",
        "                \"primaryFactor\": \"PASSWORD_IDP\",\n",
        "                \"rememberDeviceByDefault\": false,\n",
        "                \"session\": {\n",
        "                    \"usePersistentCookie\": false,\n",
        "                    \"maxSessionIdleMinutes\": 120,\n",
        "                    \"maxSessionLifetimeMinutes\": 0\n",
        "                }\n",
        "            }\n",
        "        },\n",
        "        \"_links\": {\n",
        "            \"self\": {\n",
        "                \"href\": \"https://dev-93040161.okta.com/api/v1/policies/00pgromv1yFI7fVRP5d7/rules/0prgromv1z68BXYQZ5d7\",\n",
        "                \"hints\": {\n",
        "                    \"allow\": [\n",
        "                        \"GET\",\n",
        "                        \"PUT\"\n",
        "                    ]\n",
        "                }\n",
        "            }\n",
        "        },\n",
        "        \"type\": \"SIGN_ON\"\n",
        "    }\n",
        "]\n",
        "\n",
        "# GET /api/v1/users\n",
        "[\n",
        "    {\n",
        "        \"id\": \"00ugromv83ZlFD4UC5d7\",\n",
        "        \"status\": \"ACTIVE\",\n",
        "        \"created\": \"2024-04-30T03:17:41.000Z\",\n",
        "        \"activated\": null,\n",
        "        \"statusChanged\": \"2024-04-30T05:11:26.000Z\",\n",
        "        \"lastLogin\": \"2024-05-03T10:40:13.000Z\",\n",
        "        \"lastUpdated\": \"2024-04-30T05:11:26.000Z\",\n",
        "        \"passwordChanged\": \"2024-04-30T05:11:26.000Z\",\n",
        "        \"type\": {\n",
        "            \"id\": \"otygromv266cPwrj35d7\"\n",
        "        },\n",
        "        \"profile\": {\n",
        "            \"firstName\": \"John\",\n",
        "            \"lastName\": \"Doe\",\n",
        "            \"mobilePhone\": null,\n",
        "            \"secondEmail\": null,\n",
        "            \"login\": \"john.doe@example.com\",\n",
        "            \"email\": \"john.doe@example.com\"\n",
        "        },\n",
        "        \"credentials\": {\n",
        "            \"password\": {},\n",
        "            \"emails\": [\n",
        "                {\n",
        "                    \"value\": \"john.doe@example.com\",\n",
        "                    \"status\": \"VERIFIED\",\n",
        "                    \"type\": \"PRIMARY\"\n",
        "                }\n",
        "            ],\n",
        "            \"provider\": {\n",
        "                \"type\": \"OKTA\",\n",
        "                \"name\": \"OKTA\"\n",
        "            }\n",
        "        },\n",
        "        \"_links\": {\n",
        "            \"self\": {\n",
        "                \"href\": \"https://dev-93040161.okta.com/api/v1/users/00ugromv83ZlFD4UC5d7\"\n",
        "            }\n",
        "        }\n",
        "    }\n",
        "]\n",
        "\n",
        "# GET /api/v1/users/{userId}/roles\n",
        "[\n",
        "    {\n",
        "        \"id\": \"ra1gromv8evFERzm45d7\",\n",
        "        \"label\": \"Super Administrator\",\n",
        "        \"type\": \"SUPER_ADMIN\",\n",
        "        \"status\": \"ACTIVE\",\n",
        "        \"created\": \"2024-04-30T03:17:41.000Z\",\n",
        "        \"lastUpdated\": \"2024-04-30T03:17:41.000Z\",\n",
        "        \"assignmentType\": \"USER\",\n",
        "        \"_links\": {\n",
        "            \"assignee\": {\n",
        "                \"href\": \"https://dev-93040161.okta.com/api/v1/users/00ugromv83ZlFD4UC5d7\"\n",
        "            }\n",
        "        }\n",
        "    }\n",
        "]"
      ]
    },
    {
      "cell_type": "markdown",
      "metadata": {
        "id": "YH7UuCva6N66"
      },
      "source": [
        "# Step 2a: API & Flow\n"
      ]
    },
    {
      "cell_type": "markdown",
      "metadata": {
        "id": "MX4m3jsy6Iz8"
      },
      "source": [
        " - GET /api/v1/users\n",
        "  - The response will give a list of users.\n",
        "  - Filter out non-privileged users using below API.\n",
        " - GET /api/v1/users/{userId}/roles\n",
        "  - The response will give a list of roles for the user.\n",
        "  - If the list is empty, that means the user is not privileged.\n",
        "  - If the list is not empty, that means the user has privileged access.\n",
        "  - Thus, we got a list of privileged users.\n",
        " - GET /api/v1/policies?type=OKTA_SIGN_ON\n",
        "  - The response will give the list of policies.\n",
        "  - Loop through each policy to get policy details, & get policy ID which is required for the next API call.\n",
        " - GET /api/v1/policies/{policyId}/rules\n",
        "  - The response will give the list of rules for the policy.\n",
        "  - maxSessionLifetimeMinutes inside action must be less than the specified \"MaxSessionLifetimeMinutes\" value for atleast 1 rule on any policy for this rule to be compliant.\n",
        "  - Create Extended Schema with the rule & policy details.\n",
        "  - For each privileged user, check if atleast one compliant policy is attached to them.\n",
        "\n",
        "\n"
      ]
    },
    {
      "cell_type": "markdown",
      "metadata": {
        "id": "hlK23hbRwErA"
      },
      "source": [
        "# Step 2b: Define the Extended Schema\n"
      ]
    },
    {
      "cell_type": "code",
      "execution_count": null,
      "metadata": {
        "id": "lQ-MG2gI6PY9"
      },
      "outputs": [],
      "source": [
        "# SignOnPolicies\n",
        "# Input:\n",
        "# {\n",
        "#     \"AllowedSessionLifetimeMinutes\": 120\n",
        "# }\n",
        "[\n",
        "    {\n",
        "        \"System\": \"okta\",\n",
        "        \"Source\": \"compliancecow\",\n",
        "        \"ResourceID\": \"00pgromv1yFI7fVRP5d7\", # Policy ID\n",
        "        \"ResourceName\": \"Default Policy\", # Policy name\n",
        "        \"ResourceType\": \"N/A\",\n",
        "        \"ResourceLocation\": \"N/A\",\n",
        "        \"ResourceTags\": \"N/A\",\n",
        "        \"PolicyDescription\": \"The default policy applies in all situations if no other policy applies.\",\n",
        "        \"PolicyStatus\": \"ACTIVE\",\n",
        "        \"PolicyIncludedGroups\": [\n",
        "            \"00ggromv2fMmkRAHZ5d7\",\n",
        "            \"00ggromv1xSNSfOLy5d7\"\n",
        "        ],\n",
        "        \"PolicyExcludedGroups\": [],\n",
        "        \"PolicyIncludedUsers\": [],\n",
        "        \"PolicyExcludedUsers\": [],\n",
        "        \"MaxSessionLifetimeMinutes\": 120,\n",
        "        \"SigninFrequencyEnabled\": True,\n",
        "        \"FrequencyIntervalIsEveryTime\": False,\n",
        "        \"PolicyCreationDate\": \"2024-04-30T03:17:35.000Z\",\n",
        "    }\n",
        "]"
      ]
    },
    {
      "cell_type": "code",
      "execution_count": null,
      "metadata": {
        "id": "l42QUqUb2uNs"
      },
      "outputs": [],
      "source": [
        "# OktaAdminUsers\n",
        "# Input:\n",
        "# {\n",
        "#     \"AllowedSessionLifetimeMinutes\": 120\n",
        "# }\n",
        "[\n",
        "    {\n",
        "        \"System\": \"okta\",\n",
        "        \"Source\": \"compliancecow\",\n",
        "        \"ResourceID\": \"00ugromv83ZlFD4UC5d7\",\n",
        "        \"ResourceName\": \"John Doe\",\n",
        "        \"ResourceType\": \"N/A\",\n",
        "        \"ResourceLocation\": \"N/A\",\n",
        "        \"ResourceTags\": \"N/A\",\n",
        "        \"ResourceURL\": \"https://<your-domain>.okta.com/admin/user/profile/view/00ugromv83ZlFD4UC5d7#tab-account\"\n",
        "        \"UserEmail\": \"john.doe@example.com\",\n",
        "        \"UserGroups\":[{\n",
        "            \"GroupID\": \"00ugromv83ZlFD4UC5d9\",\n",
        "            \"GroupName\": \"Default Group\"\n",
        "        }],\n",
        "        \"UserIsAdmin\": True,\n",
        "        \"UserAdminRoles\": [\n",
        "            \"Super Administrator\"\n",
        "        ],\n",
        "        \"UserCreatedDate\": \"2024-04-30T03:17:41.000Z\",\n",
        "    }\n",
        "]"
      ]
    },
    {
      "cell_type": "markdown",
      "metadata": {
        "id": "OMfAqx9AZD-R"
      },
      "source": [
        "# Step 3: Define the Standard Schema\n",
        "    "
      ]
    },
    {
      "cell_type": "code",
      "execution_count": null,
      "metadata": {
        "id": "_iPF3qrHysOc"
      },
      "outputs": [],
      "source": [
        "# AdministrativeSessionTimeoutReport\n",
        "# Input:\n",
        "# {\n",
        "#     \"AllowedSessionLifetimeMinutes\": 120\n",
        "# }\n",
        "[\n",
        "    {\n",
        "        \"System\": \"okta\",\n",
        "        \"Source\": \"compliancecow\",\n",
        "        \"ResourceID\": \"00ugromv83ZlFD4UC5d7\", # User ID\n",
        "        \"ResourceName\": \"John Doe\", # User name\n",
        "        \"ResourceType\": \"N/A\",\n",
        "        \"ResourceLocation\": \"N/A\",\n",
        "        \"ResourceTags\": \"N/A\",\n",
        "        \"UserEmail\": \"john.doe@example.com\",\n",
        "        \"PolicyID\": \"00ugromv83ZlFD4UC5d7\",\n",
        "        \"PolicyName\": \"Default Policy\",\n",
        "        \"AllowedSessionLifetimeMinutes\": 120,\n",
        "        \"MaxSessionLifetimeMinutes\": 120,\n",
        "        \"SigninFrequencyEnabled\": True,\n",
        "        \"FrequencyIntervalIsEveryTime\": False,\n",
        "        \"ValidationStatusCode\": \"TIMEOUT_LT_OR_EQ_120_MIN\",\n",
        "        \"ValidationStatusNotes\": \"The timeout for administrative sessions is set to less than 120 minutes\",\n",
        "        \"ComplianceStatus\": \"COMPLIANT\",\n",
        "        \"ComplianceStatusReason\": \"The timeout for administrative sessions is set to less than 120 minutes\",\n",
        "        \"EvaluatedTime\": \"2024-04-23T07:54:43.012889Z\",\n",
        "        \"UserAction\": \"\",\n",
        "        \"ActionStatus\": \"\",\n",
        "        \"ActionResponseURL\": \"\"\n",
        "    }\n",
        "]"
      ]
    },
    {
      "cell_type": "markdown",
      "metadata": {
        "id": "vQQKJKfUabxd"
      },
      "source": [
        "|System|Source|ResourceID|ResourceName|ResourceType|ResourceLocation|ResourceTags|UserEmail|PolicyID|PolicyName|AllowedSessionLifetimeMinutes|MaxSessionLifetimeMinutes|SigninFrequencyEnabled|FrequencyIntervalIsEveryTime|ValidationStatusCode|ValidationStatusNotes|ComplianceStatus|ComplianceStatusReason|EvaluatedTime|UserAction|ActionStatus|ActionResponseURL|\n",
        "|---|---|---|---|---|---|---|---|---|---|---|---|---|---|---|---|---|---|---|---|---|---|\n",
        "|okta|compliancecow|00ugromv83ZlFD4UC5d7|John Doe|N/A|N/A|N/A|john.doe@example.com|00ugromv83ZlFD4UC5d7|Default Policy|120|120|true|false|TIMEOUT_LT_120_MIN|The timeout for administrative sessions is set to less than 120 minutes|COMPLIANT|The timeout for administrative sessions is set to less than 120 minutes|2024-04-23T07:54:43.012889Z||||"
      ]
    },
    {
      "cell_type": "markdown",
      "metadata": {
        "id": "bxsZR5l8SiOd"
      },
      "source": [
        "# Step 4: Describe the Compliance Taxonomy\n",
        "\n",
        "|Validation Status Code|Validation Status Notes|Compliance Status|Compliance Status Reason|\n",
        "|---|---|---|--|\n",
        "|TIMEOUT_LT_{n}_MIN| The timeout for administrative sessions is set to less than {n} minutes|COMPLIANT| The timeout for administrative sessions is set to less than {n} minutes. Your proactive management of session timeouts ensures enhanced security and efficiency.|\n",
        "|POLICY_NA| The user does not have any compliant policy attached.|NON_COMPLIANT| The user does not have any compliant policy attached. It is recommended to attach a policy with a session timeout set to less than {allowed_session_lifetime_minutes} minutes for improved security and operational efficiency.|"
      ]
    },
    {
      "cell_type": "markdown",
      "metadata": {
        "id": "Son7AJzlS0hh"
      },
      "source": [
        "# Step 5: Calculation for Compliance Percentage and Status\n",
        "\n",
        "\n"
      ]
    },
    {
      "cell_type": "code",
      "execution_count": null,
      "metadata": {
        "id": "nZMdcSLnNaQe"
      },
      "outputs": [],
      "source": [
        "# Calculation of Compliance Percentage\n",
        "CompliancePCT = (100 - (Count of 'NON_COMPLIANT' records * 100) / Total records)\n",
        "\n",
        "# Compliance Status\n",
        "COMPLIANT - 100%\n",
        "NON_COMPLIANT - 0%>=status<100%\n",
        "NOT_DETERMINED - If some error occurs."
      ]
    },
    {
      "cell_type": "markdown",
      "metadata": {
        "id": "uVDZ3Jv9TKZx"
      },
      "source": [
        "# Step 6: Describe (in words) the Remediation Steps for Non-Compliance"
      ]
    },
    {
      "cell_type": "markdown",
      "metadata": {
        "id": "IS5_pE75TfxN"
      },
      "source": [
        "FOR NOT_DETERMINED : UNKNOWN\n",
        "\n",
        "FOR COMPLIANT : None\n",
        "\n",
        "For NONCOMPLIANCE:\n",
        "\n",
        "If Compliance Cow needs to notify the client, the following message can be sent via slack or ticket raised in JIRA:\n",
        "\n",
        "Please ensure that the administrative session timeout is set to 2 hours or less."
      ]
    },
    {
      "cell_type": "markdown",
      "metadata": {
        "id": "trjrGTI6N3wv"
      },
      "source": [
        "# 7. Control Setup Details"
      ]
    },
    {
      "cell_type": "markdown",
      "metadata": {
        "id": "IHKtasdRN6-V"
      },
      "source": [
        "| Control Details            |                                                 |\n",
        "|----------------------------|-------------------------------------------------|\n",
        "| **RuleName**               | EnsureAdministrativeSessionTimeoutIsLTTwoHrs    |\n",
        "| **PreRequisiteRuleNames**  | GetOktaUsers, GetOktaSignOnPolicies             |\n",
        "| **ExtendedSchemaRuleNames**| GetOktaUsers, GetOktaSignOnPolicies             |\n",
        "| **ApplicationClassName**   | oktaconnector                                   |\n",
        "| **PostSynthesizerName**    | N/A                                             |"
      ]
    }
  ],
  "metadata": {
    "colab": {
      "provenance": []
    },
    "kernelspec": {
      "display_name": "Python 3",
      "name": "python3"
    },
    "language_info": {
      "name": "python"
    }
  },
  "nbformat": 4,
  "nbformat_minor": 0
}
