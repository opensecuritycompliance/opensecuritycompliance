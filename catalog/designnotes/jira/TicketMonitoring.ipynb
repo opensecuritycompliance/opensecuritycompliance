{
  "cells": [
    {
      "cell_type": "markdown",
      "metadata": {
        "id": "sFlmicb0Mlse"
      },
      "source": [
        "# Step 1: Evidence Details\n",
        "\n",
        "|System|Source of data|Frameworks|Purpose|\n",
        "|---|---|---|---|\n",
        "|aws|wiz-integrations|-|The purpose of this task is to fetch assessment details and the latest assessment run evidence, then evaluate ticket creation and closure times against the SLA to update the evidence with compliance statuses accordingly for vulnerability report.|\n",
        "\n",
        "```\n",
        "RecomendedEvidenceName: TicketMonitoringReport\n",
        "```\n"
      ]
    },
    {
      "cell_type": "markdown",
      "metadata": {
        "id": "RR50GjUyQMus"
      },
      "source": [
        "# Step 2: Define the System Specific Data (a.k.a Extended Data Schema)\n",
        "# Step 2a: Inputs\n",
        "  - AssessmentName\n",
        "    - DataType - String\n",
        "    - Case Sensitive\n",
        "  - ControlNumber\n",
        "    - DataType - String\n",
        "  - EvidenceName\n",
        "    - DataType - String\n",
        "    - Case Sensitive\n",
        "  - SLAInHours\n",
        "    - DataType - Integer\n",
        "\n",
        "# Step 2b: API & Flow\n",
        "\n",
        "  - GET  {domain_url}/api/v1/plans\n",
        "     - This endpoint retrieves a list of available plans and is used to obtain the assessment_id for a given assessment name.\n",
        "  - GET {domain_url}/api/v5/partner/assessment-runs?page=1&page_size=1&assessment_id={assessment_id}\n",
        "     - This endpoint retrieves a list of assessment runs for a specific assessment_id.\n",
        "     - Query parameter:\n",
        "        - page: (integer) The page number to retrieve.\n",
        "        - page_size: (integer) The number of assessment runs per page.\n",
        "        - assessment_id: (string) The unique identifier of the assessment obtained from the response of the previous API call.\n",
        "  - GET  {domain_url}/api/v5/partner/assessment-runs/{assessment_run_id}\n",
        "     - This endpoint retrieves the details of a specific assessment run by its assessment_run_id.\n",
        "  - GET {domain_url}/api/v5/partner/assessment-runs/{assessment_run_id}/controls/{control_id}/evidence/{evidence_id}?fileFormat=JSON\n",
        "     - This endpoint retrieves the evidence associated with a specific control in an assessment run, in the specified file format (e.g., JSON).\n",
        "     - Query parameter:\n",
        "        - fileFormat: (string) The format in which the evidence should be returned (e.g., JSON)."
      ]
    },
    {
      "cell_type": "markdown",
      "metadata": {
        "id": "JRT2wXbOQOsz"
      },
      "source": [
        "# Step 2b: Define the Extended Schema"
      ]
    },
    {
      "cell_type": "code",
      "execution_count": null,
      "metadata": {
        "id": "806DY6lcLpgH"
      },
      "outputs": [],
      "source": [
        "{\n",
        "      \"id\": \"12jh34j23v5uo3g511324hikm\",\n",
        "      \"System\": \"AWS\",\n",
        "      \"Source\": \"wiz-integrations\",\n",
        "      \"ResourceID\": \"arn:aws:ec2:us-east-1:234123498732:instance/i-3124kjh3krb1b34\",\n",
        "      \"ResourceName\": \"arn:aws:ec2:us-east-1:2341234934234:instance/i-3124kjh3krb1b34\",\n",
        "      \"ResourceType\": \"virtualMachine\",\n",
        "      \"WizResourceType\": \"VIRTUAL_MACHINE\",\n",
        "      \"ResourceURL\": \"https://us-east-1.console.aws.amazon.com/ec2/v2/home?region=us-east-1#InstanceDetails:instanceId=i-3124kjh3krb1b34\",\n",
        "      \"ResourceLocation\": \"us-east-1\",\n",
        "      \"ResourceTags\": \"{\\\"itayAr-train\\\": \\\"\\\"}\",\n",
        "      \"ComplianceStatus\": \"NON_COMPLIANT\",\n",
        "      \"ComplianceStatusReason\": \"Unresolved vulnerabilties in the asset undermines cyber security efforts and puts the whole organization under threat\",\n",
        "      \"ValidationStatusCode\": \"OPEN_VULNERABILITIES_FOUND\",\n",
        "      \"ValidationStatusNotes\": \"There are one or more open vulnerabilities detected for this type\",\n",
        "      \"Has Vulnerabilities\": \"Yes\",\n",
        "      \"Max CVSSSeverity\": \"Critical\",\n",
        "      \"Max Score\": \"9.8\",\n",
        "      \"Max Exploitability Score\": \"6.0\",\n",
        "      \"Max Impact Score\": \"6.0\",\n",
        "      \"Has Exploit\": true,\n",
        "      \"Has CisaKev Exploit\": true,\n",
        "      \"Vendor Severity\": \"High\",\n",
        "      \"LastEvaluatedTime\": \"2024-09-09T21:09:44Z\",\n",
        "      \"Environments\": [],\n",
        "      \"ResourceStatus\": \"Active\",\n",
        "      \"TicketId\": \"1234\",\n",
        "      \"TicketStatus\": \"closed\",\n",
        "      \"TicketCreatedDate\": \"2024-09-10 14:39:50.000000 UTC\",\n",
        "      \"TicketClosedDate\": \"2024-09-10 14:41:22.767000 UTC\",\n",
        "      \"UserAction\": \"\",\n",
        "      \"ActionStatus\": \"\",\n",
        "      \"ActionResponseURL\": \"\",\n",
        "      \"recordguid__\": \"123kjb1kj4b12k234j1hb\",\n",
        "      \"rowno__\": 13,\n",
        "      \"recordstatus__\": \"active\",\n",
        "      \"created_at__\": \"2024/09/10 12:41:51\",\n",
        "      \"last_updated_at__\": \"2024/09/10 14:42:18\",\n",
        "      \"tags__\": null,\n",
        "      \"created_by__\": \"system\",\n",
        "      \"last_updated_by__\": \"123jn14-41j3-412j-j1n2-23n1k4k1223\",\n",
        "      \"linkedrecordguids__\": null,\n",
        "      \"actions__\": null,\n",
        "      \"user_actions__\": null,\n",
        "      \"proposals__\": null,\n",
        "      \"records_tags__\": null,\n",
        "      \"link_data__\": null,\n",
        "      \"related_data__\": null,\n",
        "      \"status__\": null,\n",
        "      \"signal__\": null,\n",
        "      \"exceptions__\": null,\n",
        "      \"owner__\": \"123jn14-41j3-412j-j1n2-23n1k4k1223\",\n",
        "      \"remediation__\": null\n",
        "}"
      ]
    },
    {
      "cell_type": "markdown",
      "metadata": {
        "id": "ouhtS-H1SHbX"
      },
      "source": [
        "# Step 3: Define the Standard Schema"
      ]
    },
    {
      "cell_type": "code",
      "execution_count": null,
      "metadata": {
        "id": "h5VGDcUvLGs6"
      },
      "outputs": [],
      "source": [
        "{\n",
        "    # Meta\n",
        "    \"System\": \"AWS\",\n",
        "    \"Source\": \"wiz-integrations\",\n",
        "\n",
        "    # Resource info\n",
        "    \"ResourceID\": \"arn:aws:ec2:us-east-1:234123498732:instance/i-3124kjh3krb1b34\",\n",
        "    \"ResourceName\": \"arn:aws:ec2:us-east-1:2341234934234:instance/i-3124kjh3krb1b34\",\n",
        "    \"ResourceType\": \"virtualMachine\",\n",
        "    \"ResourceLocation\": \"us-east-1\",\n",
        "    \"ResourceTags\": \"{\\\"itayAr-train\\\": \\\"\\\"}\",\n",
        "    \"ResourceURL\": \"https://us-east-1.console.aws.amazon.com/ec2/v2/home?region=us-east-1#InstanceDetails:instanceId=i-3124kjh3krb1b34\",\n",
        "\n",
        "    # Data\n",
        "    \"SLAInHours\": \"2\",\n",
        "    \"TicketId\": \"1234\",\n",
        "    \"TicketStatus\": \"closed\",\n",
        "    \"TicketCreatedDate\": \"2024-09-10 14:39:50.000000 UTC\",\n",
        "    \"TicketClosedDate\": \"2024-09-10 14:41:22.767000 UTC\",\n",
        "\n",
        "    # Compliance details\n",
        "    \"ValidationStatusCode\": \"TCKT_CLOSED_WITHIN_SLA\",\n",
        "    \"ValidationStatusNotes\": \"Vulnerability was remediated within SLA (ticket opened and closed within SLA).\",\n",
        "    \"ComplianceStatus\": \"COMPLIANT\",\n",
        "    \"ComplianceStatusReason\": \"The record is compliant, since the ticket was both opened and closed within SLA time.\",\n",
        "    \"EvaluatedTime\": \"2024-07-06T17:17:28.109334Z\",\n",
        "\n",
        "    # User editable data\n",
        "    \"UserAction\":\"\",\n",
        "\n",
        "    # Action editable data\n",
        "    \"ActionStatus\":\"\",\n",
        "    \"ActionResponseURL\":\"\"\n",
        "}"
      ]
    },
    {
      "cell_type": "markdown",
      "metadata": {
        "id": "rl4EwFKUY4VZ"
      },
      "source": [
        "# Step 3a: Sample Data\n",
        "\n",
        "|System|Source|ResourceID|ResourceName|ResourceType|ResourceLocation|ResourceTags|ResourceURL|SLAInHours|TicketId|TicketStatus|TicketCreatedDate|TicketClosedData|ValidationStatusCode|ValidationStatusNotes|ComplianceStatus|ComplianceStatusReason|EvaluatedTime|UserAction|ActionStatus|ActionResponseURL|\n",
        "|------|------|------|------|------|------|------|------|------|------|------|------|------|------|------|------|------|------|------|------|------|\n",
        "|AWS|wiz-integrations|arn:aws:ec2:us-east-1:234123498732:instance/i-3124kjh3krb1b34|arn:aws:ec2:us-east-1:2341234934234:instance/i-3124kjh3krb1b34|virtualMachine|us-east-1|{\\\"itayAr-train\\\": \\\"\\\"}|https://us-east-1.console.aws.amazon.com/ec2/v2/home?region={region}#InstanceDetails:instanceId=i-3124kjh3krb1b34|2|1234|closed|2024-09-10 14:39:50.000000 UTC|2024-09-10 14:41:22.767000 UTC|TCKT_CLSD_IN_SLA|Vulnerability was remediated within SLA (ticket opened and closed within SLA).|COMPLIANT|The record is compliant, since the ticket was both opened and closed within SLA time.|2024-07-06T17:17:28.109334Z||||\n"
      ]
    },
    {
      "cell_type": "markdown",
      "metadata": {
        "id": "bxsZR5l8SiOd"
      },
      "source": [
        "# Step 4: Describe the Compliance Taxonomy"
      ]
    },
    {
      "cell_type": "markdown",
      "metadata": {
        "id": "RZjPd-SrINSV"
      },
      "source": [
        "|ValidationStatusCode|ValidationStatusNotes|ComplianceStatus|ComplianceStatusReason|\n",
        "|---|---|---|---|\n",
        "|TCKT_CLSD_IN_SLA|Vulnerability was remediated within SLA (ticket opened and closed within SLA).|COMPLIANT|The record is compliant, since the ticket was both opened and closed within SLA time.|\n",
        "|TCKT_OPEN_IN_SLA|The ticket is open, and the SLA has not yet expired.|COMPLIANT|The record is compliant, as the ticket is still open and within the SLA period.|\n",
        "|TCKT_CLSD_SLA_BRCH|Vulnerability was not remediated within SLA (ticket closed after SLA).|NON_COMPLIANT|The record is non-compliant, since the ticket closed after SLA time.|\n",
        "|TCKT_OPEN_SLA_BRCH|SLA is breached and the ticket is still open.|NON_COMPLIANT|The record is non-compliant, since SLA was breached and the ticket is still open.|\n",
        "|TCKT_NOT_OPEN|Ticket was not opened for the vulnerability.|NON_COMPLIANT|The record is non-compliant, since no ticket was opened to address the vulnerability.|"
      ]
    },
    {
      "cell_type": "markdown",
      "metadata": {
        "id": "Son7AJzlS0hh"
      },
      "source": [
        "# Step 5: Calculation for Compliance Percentage and Status"
      ]
    },
    {
      "cell_type": "code",
      "execution_count": null,
      "metadata": {
        "id": "lBpospHEM2d-"
      },
      "outputs": [],
      "source": [
        "# Calculation of Compliance Percentage\n",
        "\n",
        "TotalCount = Count of 'COMPLIANT' and 'NON_COMPLIANT' records\n",
        "CompliantCount = Count of 'COMPLIANT' records\n",
        "\n",
        "CompliancePCT = (CompliantCount / TotalCount) * 100\n",
        "\n",
        "Compliance Status\n",
        "COMPLIANT - 100%\n",
        "NON_COMPLIANT - 0% to less than 100%\n",
        "NOT_DETERMINED - If no records are found."
      ]
    },
    {
      "cell_type": "markdown",
      "metadata": {
        "id": "uVDZ3Jv9TKZx"
      },
      "source": [
        "\\# Step 6: Describe (in words) the Remediation Steps for Non-Compliance"
      ]
    },
    {
      "cell_type": "markdown",
      "metadata": {
        "id": "7YZZUm3BbBmH"
      },
      "source": [
        "# Step 7. Control Setup Details\n",
        "\n",
        "| Control Details            |                               |\n",
        "|----------------------------|-------------------------------|\n",
        "| **RuleName**               | TicketMonitoring              |\n",
        "| **PreRequisiteRuleNames**  |   N/A                         |\n",
        "| **ExtendedSchemaRuleNames**| N/A                           |\n",
        "| **ApplicationClassName**   | compliancecow                 |\n",
        "| **PostSynthesizerName**    |             N/A               |"
      ]
    }
  ],
  "metadata": {
    "colab": {
      "provenance": []
    },
    "kernelspec": {
      "display_name": "Python 3",
      "name": "python3"
    },
    "language_info": {
      "name": "python"
    }
  },
  "nbformat": 4,
  "nbformat_minor": 0
}
