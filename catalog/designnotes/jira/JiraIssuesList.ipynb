{
  "nbformat": 4,
  "nbformat_minor": 0,
  "metadata": {
    "colab": {
      "provenance": []
    },
    "kernelspec": {
      "name": "python3",
      "display_name": "Python 3"
    },
    "language_info": {
      "name": "python"
    }
  },
  "cells": [
    {
      "cell_type": "markdown",
      "source": [
        "# Step 1: Evidence Details\n",
        "\n",
        "|System|Source of data|Frameworks\n",
        "|---|---|---|\n",
        "|jira|compliancecow|jira\n",
        "\n",
        "\n",
        "```\n",
        "Purpose: The purpose of this control is to generate ticket(s)/issue(s) for a given period.\n",
        "'From date' and 'to date' will, by default, be taken from the assessment data provided by the user.\n",
        "\n",
        "RecomendedEvidenceName: JiraIssueList\n",
        "```"
      ],
      "metadata": {
        "id": "eFEq26SkECYo"
      }
    },
    {
      "cell_type": "markdown",
      "source": [
        "# Step 2: Define the System Specific Data (a.k.a Extended Data Schema)"
      ],
      "metadata": {
        "id": "9-x42AAyRC-o"
      }
    },
    {
      "cell_type": "markdown",
      "source": [
        "[Jira Api documentation reference](https://developer.atlassian.com/cloud/jira/platform/rest/v2/api-group-issue-search/#api-rest-api-2-search-post)"
      ],
      "metadata": {
        "id": "_DhTW5RuWbUZ"
      }
    },
    {
      "cell_type": "code",
      "source": [
        "# Sample response\n",
        "[\n",
        "    {\n",
        "            \"expand\": \"operations,versionedRepresentations,editmeta,changelog,customfield_10010.requestTypePractice,renderedFields\",\n",
        "            \"id\": \"12348\",\n",
        "            \"self\": \"https://test_domain/rest/api/2/issue/12348\",\n",
        "            \"key\": \"PRO-2113\",\n",
        "            \"fields\": {\n",
        "                \"statuscategorychangedate\": \"2024-05-22T10:34:50.203+0530\",\n",
        "                \"customfield_10070\": [],\n",
        "                \"fixVersions\": [],\n",
        "                \"priority\": {\n",
        "                    \"self\": \"https://test_domain/rest/api/2/priority/3\",\n",
        "                    \"iconUrl\": \"https://test_domain/images/icons/priorities/medium.svg\",\n",
        "                    \"name\": \"Medium\",\n",
        "                    \"id\": \"3\"\n",
        "                },\n",
        "                \"labels\": [],\n",
        "                \"aggregatetimeoriginalestimate\": None,\n",
        "                \"timeestimate\": None,\n",
        "                \"versions\": [],\n",
        "                \"issuelinks\": [],\n",
        "                \"assignee\": {\n",
        "                    \"self\": \"https://test_domain/rest/api/2/user?accountId=5e05vnw793hrv1330daae9f7c7\",\n",
        "                    \"accountId\": \"5e05vnw793hrv1330daae9f7c7\",\n",
        "                    \"emailAddress\": \"JohnDanie@gmail.com\",\n",
        "                    \"avatarUrls\": {\n",
        "                        \"48x48\": \"https://secure.gravatar.com/avatar/59fb7e844ec055757b3f6d9981d359fb?d=https%3A%2F%2Favatar-management--avatars.us-west-2.prod.public.atl-paas.net%2Finitials%2FMS-1.png\",\n",
        "                        \"24x24\": \"https://secure.gravatar.com/avatar/59fb7e844ec055757b3f6d9981d359fb?d=https%3A%2F%2Favatar-management--avatars.us-west-2.prod.public.atl-paas.net%2Finitials%2FMS-1.png\",\n",
        "                        \"16x16\": \"https://secure.gravatar.com/avatar/59fb7e844ec055757b3f6d9981d359fb?d=https%3A%2F%2Favatar-management--avatars.us-west-2.prod.public.atl-paas.net%2Finitials%2FMS-1.png\",\n",
        "                        \"32x32\": \"https://secure.gravatar.com/avatar/59fb7e844ec055757b3f6d9981d359fb?d=https%3A%2F%2Favatar-management--avatars.us-west-2.prod.public.atl-paas.net%2Finitials%2FMS-1.png\"\n",
        "                    },\n",
        "                    \"displayName\": \"John Danie\",\n",
        "                    \"active\": True,\n",
        "                    \"timeZone\": \"Asia/Calcutta\",\n",
        "                    \"accountType\": \"atlassian\"\n",
        "                },\n",
        "                \"status\": {\n",
        "                    \"self\": \"https://test_domain/rest/api/2/status/10103\",\n",
        "                    \"description\": \"\",\n",
        "                    \"iconUrl\": \"https://test_domain/images/icons/status_generic.gif\",\n",
        "                    \"name\": \"Open\",\n",
        "                    \"id\": \"10103\",\n",
        "                    \"statusCategory\": {\n",
        "                        \"self\": \"https://test_domain/rest/api/2/statuscategory/2\",\n",
        "                        \"id\": 2,\n",
        "                        \"key\": \"new\",\n",
        "                        \"colorName\": \"blue-gray\",\n",
        "                        \"name\": \"To Do\"\n",
        "                    }\n",
        "                },\n",
        "                \"components\": [],\n",
        "                \"aggregatetimeestimate\": None,\n",
        "                \"creator\": {\n",
        "                    \"self\": \"https://test_domain/rest/api/2/user?accountId=4e05vnw793hr330daae9f7c7\",\n",
        "                    \"accountId\": \"4e05vnw793hr330daae9f7c7\",\n",
        "                    \"emailAddress\": \"kavya@gamil.com\",\n",
        "                    \"avatarUrls\": {\n",
        "                        \"48x48\": \"https://secure.gravatar.com/avatar/59fb7e844ec055757b3f6d9981d359fb?d=https%3A%2F%2Favatar-management--avatars.us-west-2.prod.public.atl-paas.net%2Finitials%2FMS-1.png\",\n",
        "                        \"24x24\": \"https://secure.gravatar.com/avatar/59fb7e844ec055757b3f6d9981d359fb?d=https%3A%2F%2Favatar-management--avatars.us-west-2.prod.public.atl-paas.net%2Finitials%2FMS-1.png\",\n",
        "                        \"16x16\": \"https://secure.gravatar.com/avatar/59fb7e844ec055757b3f6d9981d359fb?d=https%3A%2F%2Favatar-management--avatars.us-west-2.prod.public.atl-paas.net%2Finitials%2FMS-1.png\",\n",
        "                        \"32x32\": \"https://secure.gravatar.com/avatar/59fb7e844ec055757b3f6d9981d359fb?d=https%3A%2F%2Favatar-management--avatars.us-west-2.prod.public.atl-paas.net%2Finitials%2FMS-1.png\"\n",
        "                    },\n",
        "                    \"displayName\": \"kavya S\",\n",
        "                    \"active\": True,\n",
        "                    \"timeZone\": \"Asia/Calcutta\",\n",
        "                    \"accountType\": \"atlassian\"\n",
        "                },\n",
        "                \"subtasks\": [],\n",
        "                \"reporter\": {\n",
        "                    \"self\": \"https://test_domain/rest/api/2/user?accountId=3e05d7adsca330daae9f7c7\",\n",
        "                    \"accountId\": \"3e05d7adsca330daae9f7c7\",\n",
        "                    \"emailAddress\": \"rakeshPr@gamil.com\",\n",
        "                    \"avatarUrls\": {\n",
        "                        \"48x48\": \"https://secure.gravatar.com/avatar/59fb7e844ec055757b3f6d9981d359fb?d=https%3A%2F%2Favatar-management--avatars.us-west-2.prod.public.atl-paas.net%2Finitials%2FMS-1.png\",\n",
        "                        \"24x24\": \"https://secure.gravatar.com/avatar/59fb7e844ec055757b3f6d9981d359fb?d=https%3A%2F%2Favatar-management--avatars.us-west-2.prod.public.atl-paas.net%2Finitials%2FMS-1.png\",\n",
        "                        \"16x16\": \"https://secure.gravatar.com/avatar/59fb7e844ec055757b3f6d9981d359fb?d=https%3A%2F%2Favatar-management--avatars.us-west-2.prod.public.atl-paas.net%2Finitials%2FMS-1.png\",\n",
        "                        \"32x32\": \"https://secure.gravatar.com/avatar/59fb7e844ec055757b3f6d9981d359fb?d=https%3A%2F%2Favatar-management--avatars.us-west-2.prod.public.atl-paas.net%2Finitials%2FMS-1.png\"\n",
        "                    },\n",
        "                    \"displayName\": \"Rakesh Pr\",\n",
        "                    \"active\": True,\n",
        "                    \"timeZone\": \"Asia/Calcutta\",\n",
        "                    \"accountType\": \"atlassian\"\n",
        "                },\n",
        "                \"aggregateprogress\": {\n",
        "                    \"progress\": 0,\n",
        "                    \"total\": 0\n",
        "                },\n",
        "                \"progress\": {\n",
        "                    \"progress\": 0,\n",
        "                    \"total\": 0\n",
        "                },\n",
        "                \"votes\": {\n",
        "                    \"self\": \"https://test_domain/rest/api/2/issue/PRO-2113/votes\",\n",
        "                    \"votes\": 0,\n",
        "                    \"hasVoted\": False\n",
        "\n",
        "                },\n",
        "                \"worklog\": {\n",
        "                    \"startAt\": 0,\n",
        "                    \"maxResults\": 20,\n",
        "                    \"total\": 0,\n",
        "                    \"worklogs\": []\n",
        "                },\n",
        "                \"issuetype\": {\n",
        "                    \"self\": \"https://test_domain/rest/api/2/issuetype/10102\",\n",
        "                    \"id\": \"10102\",\n",
        "                    \"description\": \"A small, distinct piece of work.\",\n",
        "                    \"iconUrl\": \"https://test_domain/rest/rest/api/2/universal_avatar/view/type/issuetype/avatar/10318?size=medium\",\n",
        "                    \"name\": \"Task\",\n",
        "                    \"subtask\": False\n",
        "                    ,\n",
        "                    \"avatarId\": 10318,\n",
        "                    \"hierarchyLevel\": 0\n",
        "                },\n",
        "                \"timespent\": None,\n",
        "                \"customfield_10030\": None,\n",
        "                \"customfield_10031\": None,\n",
        "                \"project\": {\n",
        "                    \"self\": \"https://test_domain/rest/rest/api/2/project/10000\",\n",
        "                    \"id\": \"10000\",\n",
        "                    \"key\": \"CON\",\n",
        "                    \"name\": \"Test Project\",\n",
        "                    \"projectTypeKey\": \"software\",\n",
        "                    \"simplified\": False\n",
        "                    ,\n",
        "                    \"avatarUrls\": {\n",
        "                        \"48x48\": \"https://test_domain/rest/rest/api/2/universal_avatar/view/type/project/avatar/10424\",\n",
        "                        \"24x24\": \"https://test_domain/rest/rest/api/2/universal_avatar/view/type/project/avatar/10424?size=small\",\n",
        "                        \"16x16\": \"https://test_domain/rest/rest/api/2/universal_avatar/view/type/project/avatar/10424?size=xsmall\",\n",
        "                        \"32x32\": \"https://test_domain/rest/rest/api/2/universal_avatar/view/type/project/avatar/10424?size=medium\"\n",
        "                    }\n",
        "                },\n",
        "                \"customfield_10032\": None,\n",
        "                \"resolutiondate\": None,\n",
        "                \"workratio\": -1,\n",
        "                \"issuerestriction\": {\n",
        "                    \"issuerestrictions\": {},\n",
        "                    \"shouldDisplay\": False\n",
        "\n",
        "                },\n",
        "                \"watches\": {\n",
        "                    \"self\": \"https://test_domain/rest/rest/api/2/issue/CON-2113/watchers\",\n",
        "                    \"watchCount\": 1,\n",
        "                    \"isWatching\": True\n",
        "                },\n",
        "                \"created\": \"2024-05-22T10:34:49.963+0530\",\n",
        "                \"customfield_10020\": None,\n",
        "                \"customfield_10018\": {\n",
        "                    \"hasEpicLinkFieldDependency\": False\n",
        "                    ,\n",
        "                    \"showField\": False\n",
        "                    ,\n",
        "                    \"nonEditableReason\": {\n",
        "                        \"reason\": \"PLUGIN_LICENSE_ERROR\",\n",
        "                        \"message\": \"The Parent Link is only available to Jira Premium users.\"\n",
        "                    }\n",
        "                },\n",
        "                \"customfield_10019\": \"0|i00d8v:\",\n",
        "                \"updated\": \"2024-05-22T10:34:50.041+0530\",\n",
        "                \"timeoriginalestimate\": None,\n",
        "                \"description\": \"Notification: _octo. Review logs, assess security, and restore from backup if needed. Enhance access controls to prevent future incidents.\",\n",
        "                \"customfield_10010\": None,\n",
        "                \"customfield_10014\": None,\n",
        "                \"timetracking\": {},\n",
        "                \"customfield_10015\": None,\n",
        "                \"security\": None,\n",
        "                \"customfield_10007\": None,\n",
        "                \"customfield_10008\": None,\n",
        "                \"attachment\": [],\n",
        "                \"customfield_10009\": None,\n",
        "                \"summary\": \"EC2 instance not found\",\n",
        "                \"customfield_10004\": None,\n",
        "                \"environment\": None,\n",
        "                \"duedate\": None,\n",
        "                \"comment\": {\n",
        "                    \"comments\": [],\n",
        "                    \"self\": \"https://test_domain/rest/rest/api/2/issue/12078/comment\",\n",
        "                    \"maxResults\": 0,\n",
        "                    \"total\": 0,\n",
        "                    \"startAt\": 0\n",
        "                }\n",
        "            }\n",
        "        }\n",
        "]"
      ],
      "metadata": {
        "id": "fzNTqgTlSB96"
      },
      "execution_count": null,
      "outputs": []
    },
    {
      "cell_type": "markdown",
      "source": [
        "# Step 3: Define the Standard Schema\n",
        "  \n"
      ],
      "metadata": {
        "id": "FTZB0t8NY59_"
      }
    },
    {
      "cell_type": "code",
      "source": [
        "# Jira Issue File\n",
        "[\n",
        "  {\n",
        "      \"System\"                  : \"jira\",\n",
        "      \"Source\"                  : \"compliancecow\",\n",
        "      \"ResourceName\"            : \"PRO-2123\", # issue_key\n",
        "      \"ResourceID\"              : \"12178\", # issue_id\n",
        "      \"ResourceType\"            : \"task\", # issue_type\n",
        "      \"ResourceLocation\"        : \"N/A\",\n",
        "      \"ResourceTags\"            : \"N/A\",\n",
        "      \"ResourceURL\"             : \"https://test_domain/rest/api/2/issue/12178\",\n",
        "      \"Project\"                 : \"Test Project\", # project_display_name\n",
        "      \"Description\"             : \"Notification: _octo. Review logs, assess security, and restore from backup if needed. Enhance access controls to prevent future incidents.\",\n",
        "      \"Summary\"                 : \"EC2 instance not found\",\n",
        "      \"Attachments\"             : [],\n",
        "      \"Priority\"                : \"Medium\",\n",
        "      \"Status\"                  : \"Open\",\n",
        "      \"Creator\"                 : \"kavya@gamil.com\",\n",
        "      \"Assignee\"                : \"JohnDanie@gmail.com\",\n",
        "      \"Reporter\"                : \"rakeshPr@gamil.com\",\n",
        "      \"EvaluatedTime\"           : \"2024-05-05T11:40:12.271867Z\",\n",
        "      \"UserAction\"              : \"\",\n",
        "      \"ActionStatus\"            : \"\",\n",
        "      \"ActionResponseURL\"       : \"\",\n",
        "  }\n",
        "]"
      ],
      "metadata": {
        "id": "GjLuCJQgpP08"
      },
      "execution_count": null,
      "outputs": []
    },
    {
      "cell_type": "markdown",
      "source": [
        "# Step 3.a: Sample Data\n",
        "\n",
        "| System | Source          | ResourceName | ResourceID | ResourceType | ResourceLocation | ResourceTags | ResourceURL                                        | Project      | Description                                                                                                        | Summary              | Attachments | Priority | Status | Creator          | Assignee              | Reporter            | EvaluatedTime              | UserAction | ActionStatus | ActionResponseURL |\n",
        "|--------|-----------------|--------------|------------|--------------|------------------|--------------|---------------------------------------------------|--------------|------------------------------------------------------------------------------------------------------------------|----------------------|-------------|----------|--------|------------------|-----------------------|---------------------|----------------------------|------------|--------------|-------------------|\n",
        "| jira   | compliancecow   | PRO-2123     | 12178      | task         | N/A              | N/A          | [https://test_domain/rest/api/2/issue/12178](https://test_domain/rest/api/2/issue/12178) | Test Project | Notification: _octo. Review logs, assess security, and restore from backup if needed. Enhance access controls to prevent future incidents. | EC2 instance not found | []          | Medium   | Open   | kavya@gamil.com  | JohnDanie@gmail.com   | rakeshPr@gamil.com  | 2024-05-05T11:40:12.271867Z |            |              |                   |"
      ],
      "metadata": {
        "id": "yiX6wJeshWX-"
      }
    },
    {
      "cell_type": "markdown",
      "source": [
        "# Step 3: Control Setup Details"
      ],
      "metadata": {
        "id": "X8lkn_6ZkhJy"
      }
    },
    {
      "cell_type": "markdown",
      "source": [
        "| Control Details            |                               |\n",
        "|----------------------------|-------------------------------|\n",
        "| **RuleName**               |    ListJiraIssues |\n",
        "| **ApplicationClassName**   |    JiraCloud      |"
      ],
      "metadata": {
        "id": "t8hVYLojk09f"
      }
    }
  ]
}