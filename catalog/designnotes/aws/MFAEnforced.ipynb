{
  "cells": [
    {
      "cell_type": "markdown",
      "metadata": {
        "id": "sFlmicb0Mlse"
      },
      "source": [
        "# Step 1: Evidence Details\n",
        "\n",
        "|System|Source of data|Frameworks|Purpose|\n",
        "|---|---|---|---|\n",
        "|AWS|AWS Security Hub|AWS|MFA Enabled for Root user|\n",
        "|AWS|AWS Security Hub|AWS|Ensure multi-factor authentication (MFA) is enabled for all IAM users that have a console password|\n",
        "```\n",
        "Purpose: To verify if Multi-Factor Authentication (MFA) across users or roles within an AWS environment is enforced. By requiring additional authentication factors, such as a code from a mobile app or hardware token, MFAEnforced enhances security by mitigating the risk of unauthorized access to sensitive AWS resources and actions.\n",
        "```\n",
        "RecomendedEvidenceName: MFAEnforced\n",
        "```"
      ]
    },
    {
      "cell_type": "markdown",
      "metadata": {
        "id": "HwaAN4PWRC-_"
      },
      "source": [
        "# Step 2: Define the System Specific Data\n"
      ]
    },
    {
      "cell_type": "code",
      "execution_count": null,
      "metadata": {
        "id": "a7nxEIiVcL4t"
      },
      "outputs": [],
      "source": [
        "# AWS Example\n",
        "  [\n",
        "      {\n",
        "        \"Action\": null,\n",
        "        \"AwsAccountId\": \"022654265366\",\n",
        "        \"CompanyName\": \"AWS\",\n",
        "        \"Compliance\": {\n",
        "          \"AssociatedStandards\": [\n",
        "            {\n",
        "              \"StandardsId\": \"ruleset/cis-aws-foundations-benchmark/v/1.2.0\"\n",
        "            }\n",
        "          ],\n",
        "          \"RelatedRequirements\": null,\n",
        "          \"SecurityControlId\": \"IAM.5\",\n",
        "          \"Status\": \"PASSED\",\n",
        "          \"StatusReasons\": null\n",
        "        },\n",
        "        \"Confidence\": null,\n",
        "        \"CreatedAt\": \"2022-06-28T20:02:45.165Z\",\n",
        "        \"Criticality\": null,\n",
        "        \"Description\": \"Multi-Factor Authentication (MFA) adds an extra layer of protection on top of a user name and password. It is recommended that MFA be enabled for all accounts that have a console password.\",\n",
        "        \"FindingProviderFields\": {\n",
        "          \"Confidence\": null,\n",
        "          \"Criticality\": null,\n",
        "          \"RelatedFindings\": null,\n",
        "          \"Severity\": {\n",
        "            \"Label\": \"INFORMATIONAL\",\n",
        "            \"Original\": \"INFORMATIONAL\"\n",
        "          },\n",
        "          \"Types\": [\n",
        "            \"Software and Configuration Checks/Industry and Regulatory Standards/CIS AWS Foundations Benchmark\"\n",
        "          ]\n",
        "        },\n",
        "        \"FirstObservedAt\": \"2022-06-28T20:02:45.165Z\",\n",
        "        \"GeneratorDetails\": null,\n",
        "        \"GeneratorId\": \"arn:aws:securityhub:::ruleset/cis-aws-foundations-benchmark/v/1.2.0/rule/1.2\",\n",
        "        \"Id\": \"arn:aws:securityhub:us-east-1:022654265366:subscription/cis-aws-foundations-benchmark/v/1.2.0/1.2/finding/f6c59904-a98b-444c-813a-5057c40e9a81\",\n",
        "        \"LastObservedAt\": \"2023-12-28T00:55:51.751Z\",\n",
        "        \"Malware\": null,\n",
        "        \"Network\": null,\n",
        "        \"NetworkPath\": null,\n",
        "        \"Note\": null,\n",
        "        \"PatchSummary\": null,\n",
        "        \"Process\": null,\n",
        "        \"ProductArn\": \"arn:aws:securityhub:us-east-1::product/aws/securityhub\",\n",
        "        \"ProductFields\": {\n",
        "          \"RecommendationUrl\": \"https://docs.aws.amazon.com/console/securityhub/IAM.5/remediation\",\n",
        "          \"RelatedAWSResources:0/name\": \"securityhub-mfa-enabled-for-iam-console-access-f730386d\",\n",
        "          \"RelatedAWSResources:0/type\": \"AWS::Config::ConfigRule\",\n",
        "          \"Resources:0/Id\": \"arn:aws:iam::022654265366:user/test-user-one\",\n",
        "          \"RuleId\": \"1.2\",\n",
        "          \"StandardsControlArn\": \"arn:aws:securityhub:us-east-1:022654265366:control/cis-aws-foundations-benchmark/v/1.2.0/1.2\",\n",
        "          \"StandardsGuideArn\": \"arn:aws:securityhub:::ruleset/cis-aws-foundations-benchmark/v/1.2.0\",\n",
        "          \"StandardsGuideSubscriptionArn\": \"arn:aws:securityhub:us-east-1:022654265366:subscription/cis-aws-foundations-benchmark/v/1.2.0\",\n",
        "          \"aws/securityhub/CompanyName\": \"AWS\",\n",
        "          \"aws/securityhub/FindingId\": \"arn:aws:securityhub:us-east-1::product/aws/securityhub/arn:aws:securityhub:us-east-1:022654265366:subscription/cis-aws-foundations-benchmark/v/1.2.0/1.2/finding/f6c59904-a98b-444c-813a-5057c40e9a81\",\n",
        "          \"aws/securityhub/ProductName\": \"Security Hub\"\n",
        "        },\n",
        "        \"ProductName\": \"Security Hub\",\n",
        "        \"RecordState\": \"ACTIVE\",\n",
        "        \"Region\": \"us-east-1\",\n",
        "        \"RelatedFindings\": null,\n",
        "        \"Remediation\": {\n",
        "          \"Recommendation\": {\n",
        "            \"Text\": \"For information on how to correct this issue, consult the AWS Security Hub controls documentation.\",\n",
        "            \"Url\": \"https://docs.aws.amazon.com/console/securityhub/IAM.5/remediation\"\n",
        "          }\n",
        "        },\n",
        "        \"Resources\": [\n",
        "          {\n",
        "            \"DataClassification\": null,\n",
        "            \"Details\": {\n",
        "              \"AwsAmazonMqBroker\": null,\n",
        "              \"AwsApiGatewayRestApi\": null,\n",
        "              \"AwsApiGatewayStage\": null,\n",
        "              \"AwsApiGatewayV2Api\": null,\n",
        "              \"AwsApiGatewayV2Stage\": null,\n",
        "              \"AwsAppSyncGraphQlApi\": null,\n",
        "              \"AwsAthenaWorkGroup\": null,\n",
        "              \"AwsAutoScalingAutoScalingGroup\": null,\n",
        "              \"AwsAutoScalingLaunchConfiguration\": null,\n",
        "              \"AwsBackupBackupPlan\": null,\n",
        "              \"AwsBackupBackupVault\": null,\n",
        "              \"AwsBackupRecoveryPoint\": null,\n",
        "              \"AwsCertificateManagerCertificate\": null,\n",
        "              \"AwsCloudFormationStack\": null,\n",
        "              \"AwsCloudFrontDistribution\": null,\n",
        "              \"AwsCloudTrailTrail\": null,\n",
        "              \"AwsCloudWatchAlarm\": null,\n",
        "              \"AwsCodeBuildProject\": null,\n",
        "              \"AwsDmsEndpoint\": null,\n",
        "              \"AwsDmsReplicationInstance\": null,\n",
        "              \"AwsDmsReplicationTask\": null,\n",
        "              \"AwsDynamoDbTable\": null,\n",
        "              \"AwsEc2Eip\": null,\n",
        "              \"AwsEc2Instance\": null,\n",
        "              \"AwsEc2LaunchTemplate\": null,\n",
        "              \"AwsEc2NetworkAcl\": null,\n",
        "              \"AwsEc2NetworkInterface\": null,\n",
        "              \"AwsEc2RouteTable\": null,\n",
        "              \"AwsEc2SecurityGroup\": null,\n",
        "              \"AwsEc2Subnet\": null,\n",
        "              \"AwsEc2TransitGateway\": null,\n",
        "              \"AwsEc2Volume\": null,\n",
        "              \"AwsEc2Vpc\": null,\n",
        "              \"AwsEc2VpcEndpointService\": null,\n",
        "              \"AwsEc2VpcPeeringConnection\": null,\n",
        "              \"AwsEc2VpnConnection\": null,\n",
        "              \"AwsEcrContainerImage\": null,\n",
        "              \"AwsEcrRepository\": null,\n",
        "              \"AwsEcsCluster\": null,\n",
        "              \"AwsEcsContainer\": null,\n",
        "              \"AwsEcsService\": null,\n",
        "              \"AwsEcsTask\": null,\n",
        "              \"AwsEcsTaskDefinition\": null,\n",
        "              \"AwsEfsAccessPoint\": null,\n",
        "              \"AwsEksCluster\": null,\n",
        "              \"AwsElasticBeanstalkEnvironment\": null,\n",
        "              \"AwsElasticsearchDomain\": null,\n",
        "              \"AwsElbLoadBalancer\": null,\n",
        "              \"AwsElbv2LoadBalancer\": null,\n",
        "              \"AwsEventSchemasRegistry\": null,\n",
        "              \"AwsEventsEndpoint\": null,\n",
        "              \"AwsEventsEventbus\": null,\n",
        "              \"AwsGuardDutyDetector\": null,\n",
        "              \"AwsIamAccessKey\": null,\n",
        "              \"AwsIamGroup\": null,\n",
        "              \"AwsIamPolicy\": null,\n",
        "              \"AwsIamRole\": null,\n",
        "              \"AwsIamUser\": {\n",
        "                \"AttachedManagedPolicies\": null,\n",
        "                \"CreateDate\": \"2020-08-09T06:03:44.000Z\",\n",
        "                \"GroupList\": [\n",
        "                  \"Force_MFA\",\n",
        "                  \"continube_admins\"\n",
        "                ],\n",
        "                \"Path\": \"/\",\n",
        "                \"PermissionsBoundary\": null,\n",
        "                \"UserId\": \"BACDFGHYTUISAB$\",\n",
        "                \"UserName\": \"test-user-one\",\n",
        "                \"UserPolicyList\": null\n",
        "              },\n",
        "              \"AwsKinesisStream\": null,\n",
        "              \"AwsKmsKey\": null,\n",
        "              \"AwsLambdaFunction\": null,\n",
        "              \"AwsLambdaLayerVersion\": null,\n",
        "              \"AwsMskCluster\": null,\n",
        "              \"AwsNetworkFirewallFirewall\": null,\n",
        "              \"AwsNetworkFirewallFirewallPolicy\": null,\n",
        "              \"AwsNetworkFirewallRuleGroup\": null,\n",
        "              \"AwsOpenSearchServiceDomain\": null,\n",
        "              \"AwsRdsDbCluster\": null,\n",
        "              \"AwsRdsDbClusterSnapshot\": null,\n",
        "              \"AwsRdsDbInstance\": null,\n",
        "              \"AwsRdsDbSecurityGroup\": null,\n",
        "              \"AwsRdsDbSnapshot\": null,\n",
        "              \"AwsRdsEventSubscription\": null,\n",
        "              \"AwsRedshiftCluster\": null,\n",
        "              \"AwsRoute53HostedZone\": null,\n",
        "              \"AwsS3AccountPublicAccessBlock\": null,\n",
        "              \"AwsS3Bucket\": null,\n",
        "              \"AwsS3Object\": null,\n",
        "              \"AwsSageMakerNotebookInstance\": null,\n",
        "              \"AwsSecretsManagerSecret\": null,\n",
        "              \"AwsSnsTopic\": null,\n",
        "              \"AwsSqsQueue\": null,\n",
        "              \"AwsSsmPatchCompliance\": null,\n",
        "              \"AwsStepFunctionStateMachine\": null,\n",
        "              \"AwsWafRateBasedRule\": null,\n",
        "              \"AwsWafRegionalRateBasedRule\": null,\n",
        "              \"AwsWafRegionalRule\": null,\n",
        "              \"AwsWafRegionalRuleGroup\": null,\n",
        "              \"AwsWafRegionalWebAcl\": null,\n",
        "              \"AwsWafRule\": null,\n",
        "              \"AwsWafRuleGroup\": null,\n",
        "              \"AwsWafWebAcl\": null,\n",
        "              \"AwsWafv2RuleGroup\": null,\n",
        "              \"AwsWafv2WebAcl\": null,\n",
        "              \"AwsXrayEncryptionConfig\": null,\n",
        "              \"Container\": null,\n",
        "              \"Other\": null\n",
        "            },\n",
        "            \"Id\": \"arn:aws:iam::022654265366:user/test-user-one\",\n",
        "            \"Partition\": \"aws\",\n",
        "            \"Region\": \"us-east-1\",\n",
        "            \"ResourceRole\": null,\n",
        "            \"Tags\": null,\n",
        "            \"Type\": \"AwsIamUser\"\n",
        "          }\n",
        "        ],\n",
        "        \"Sample\": null,\n",
        "        \"SchemaVersion\": \"2018-10-08\",\n",
        "        \"Severity\": {\n",
        "          \"Label\": \"INFORMATIONAL\",\n",
        "          \"Normalized\": 0,\n",
        "          \"Original\": \"INFORMATIONAL\",\n",
        "          \"Product\": 0\n",
        "        },\n",
        "        \"SourceUrl\": null,\n",
        "        \"ThreatIntelIndicators\": null,\n",
        "        \"Threats\": null,\n",
        "        \"Title\": \"1.2 Ensure multi-factor authentication (MFA) is enabled for all IAM users that have a console password\",\n",
        "        \"Types\": [\n",
        "          \"Software and Configuration Checks/Industry and Regulatory Standards/CIS AWS Foundations Benchmark\"\n",
        "        ],\n",
        "        \"UpdatedAt\": \"2023-12-28T00:55:38.732Z\",\n",
        "        \"UserDefinedFields\": null,\n",
        "        \"VerificationState\": null,\n",
        "        \"Vulnerabilities\": null,\n",
        "        \"Workflow\": {\n",
        "          \"Status\": \"RESOLVED\"\n",
        "        },\n",
        "        \"WorkflowState\": \"NEW\"\n",
        "      }\n",
        "  ]"
      ]
    },
    {
      "cell_type": "markdown",
      "metadata": {
        "id": "OMfAqx9AZD-R"
      },
      "source": [
        "# Step 3: Define the Standard Schema\n",
        "  \n"
      ]
    },
    {
      "cell_type": "code",
      "execution_count": null,
      "metadata": {
        "id": "rjwrF9FPg9kE"
      },
      "outputs": [],
      "source": [
        "{\n",
        "    # Meta\n",
        "    \"System\":\"aws\",\n",
        "    \"Source\":\"compliancecow\",\n",
        "\n",
        "    # Resource info\n",
        "    \"ResourceID\":\"arn:aws:iam::022654265366:user/test-user-one\",\n",
        "    \"ResourceName\":\"test-user-one\",\n",
        "    \"ResourceType\":\"AwsIamUser\",\n",
        "    \"ResourceLocation\":\"global\",\n",
        "    \"ResourceTags\": null,\n",
        "\n",
        "    # Data\n",
        "    \"MFAEnforced\":\"true\",\n",
        "\n",
        "    # Compliance details\n",
        "    \"ValidationStatusCode\":\"MFA_ENFORCED\",\n",
        "    \"ValidationStatusNotes\":\"MFA is enforced\",\n",
        "    \"ComplianceStatus\":\"COMPLIANT\",\n",
        "\t\t\"ComplianceStatusReason\":\"Record is compliant as MFA is enforced\",\n",
        "\t\t\"EvaluatedTime\":\"2023-12-22T07:02:57.788Z\",\n",
        "\n",
        "    # User editable data\n",
        "     \"UserAction\":\"\",\n",
        "\n",
        "    # Action editable data\n",
        "     \"ActionStatus\":\"\",\n",
        "     \"ActionResponseURL\":\"\"\n",
        "}"
      ]
    },
    {
      "cell_type": "markdown",
      "metadata": {
        "id": "vQQKJKfUabxd"
      },
      "source": [
        "# Step 3.a: Sample Data\n",
        "\n",
        "|System|Source|ResourceID|ResourceName|ResourceType|ResourceLocation|ResourceTags|MFAEnforced|ValidationStatusCode|ValidationStatusNotes|ComplianceStatus|ComplianceStatusReason|EvaluatedTime|UserAction|ActionStatus|ActionResponseURL|\n",
        "|------|------|------|------|------|------|------|------|------|------|------|------|------|------|------|------|\n",
        "|aws|compliancecow|arn:aws:iam::022654265366:user/test-user-one|test-user-one|AwsIamUser|global||true|MFA_ENFORCED|MFA is enforced|COMPLIANT|Record is compliant as MFA is enforced|2023-12-22T07:02:57.788Z|\n",
        "|aws|compliancecow|arn:aws:iam::022654265366:user/test-user-two|test-user-two|AwsIamUser|global||false|MFA_NOT_ENFORCED|MFA is not enforced|NON_COMPLIANT|Record is not compliant as MFA is not enforced|2023-12-22T07:02:57.788Z|\n",
        "|aws|compliancecow|arn:aws:iam::022654265366:user/test-user-three|test-user-three|AwsIamUser|global||true|MFA_ENFORCED|MFA is enforced|COMPLIANT|Record is compliant as MFA is enforced|2023-12-22T07:02:57.788Z|\n"
      ]
    },
    {
      "cell_type": "markdown",
      "metadata": {
        "id": "bxsZR5l8SiOd"
      },
      "source": [
        "# Step 4: Describe the Compliance Taxonomy\n",
        "\n",
        "|MFAEnforced|ValidationStatusCode|ValidationStatusNotes|ComplianceStatus|ComplianceStatusReason|\n",
        "|---|---|---|---|---|\n",
        "|true|MFA_ENFORCED|MFA is enforced|COMPLIANT|Record is compliant as MFA is enforced|\n",
        "|false|MFA_NOT_ENFORCED|MFA is not enforced|NON_COMPLIANT|Record is not compliant as MFA is not enforced|"
      ]
    },
    {
      "cell_type": "markdown",
      "metadata": {
        "id": "Son7AJzlS0hh"
      },
      "source": [
        "# Step 5: Calculation for Compliance Percentage and Status\n",
        "\n",
        "\n"
      ]
    },
    {
      "cell_type": "code",
      "execution_count": null,
      "metadata": {
        "id": "nZMdcSLnNaQe"
      },
      "outputs": [],
      "source": [
        "# Calculation of Compliance Percentage\n",
        "CompliancePCT = (100 - (Count of 'NON_COMPLIANT' records * 100) / Total records)\n",
        "\n",
        "# Compliance Status\n",
        "COMPLIANT - 100%\n",
        "NON_COMPLIANT - 0%>=status<100%\n",
        "NOT_DETERMINED - If no records are found in the account"
      ]
    },
    {
      "cell_type": "markdown",
      "metadata": {
        "id": "uVDZ3Jv9TKZx"
      },
      "source": [
        "# Step 6: Describe (in words) the Remediation Steps for Non-Compliance"
      ]
    },
    {
      "cell_type": "markdown",
      "metadata": {
        "id": "IS5_pE75TfxN"
      },
      "source": [
        "The user << username >> does not have MFA. Enable mfa in aws by following the below steps:\n",
        "Log in to AWS Console: Access the AWS Management Console using your credentials.\n",
        "Navigate to IAM: Click on the \"Services\" dropdown menu and select \"IAM\" under \"Security, Identity, & Compliance.\"\n",
        "Select User or Role: In the IAM dashboard, choose the user or role for which you want to enforce MFA.\n",
        "Access Security Credentials: Within the user or role settings, navigate to the \"Security credentials\" tab.\n",
        "Enable MFA: Locate the \"Multi-Factor Authentication (MFA)\" section and click \"Manage MFA.\"\n",
        "Choose MFA Method: Select the preferred MFA method, such as \"Virtual MFA device\" or \"Hardware MFA device.\"\n",
        "Follow Setup Instructions: Depending on the chosen method, follow the on-screen instructions to set up MFA.\n",
        "Complete Configuration: Once MFA is successfully set up, confirm and save the changes.\n",
        "Verify: Test the MFA setup by logging out and logging back in, ensuring that MFA prompts for additional authentication.\n",
        "Refer the document for more details:\n",
        "https://docs.aws.amazon.com/IAM/latest/UserGuide/id_credentials_mfa.html"
      ]
    },
    {
      "cell_type": "markdown",
      "metadata": {
        "id": "trjrGTI6N3wv"
      },
      "source": [
        "# 7. Control Setup Details"
      ]
    },
    {
      "cell_type": "markdown",
      "metadata": {
        "id": "IHKtasdRN6-V"
      },
      "source": [
        "| Control Details            |                               |\n",
        "|----------------------------|-------------------------------|\n",
        "| **RuleName**               | AWSMFAReport                  |\n",
        "| **PreRequisiteRuleNames**  | AWSCredentialReport           |\n",
        "| **ExtendedSchemaRuleNames**| AWSCredentialReport           |\n",
        "| **ApplicationClassName**   | AWSAppConnector               |\n",
        "| **PostSynthesizerName**    | linkrecords                   |"
      ]
    }
  ],
  "metadata": {
    "colab": {
      "provenance": []
    },
    "kernelspec": {
      "display_name": "Python 3",
      "name": "python3"
    },
    "language_info": {
      "name": "python"
    }
  },
  "nbformat": 4,
  "nbformat_minor": 0
}
