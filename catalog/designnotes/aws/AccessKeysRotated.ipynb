{
  "cells": [
    {
      "cell_type": "markdown",
      "metadata": {
        "id": "sFlmicb0Mlse"
      },
      "source": [
        "# Step 1: Evidence Details\n",
        "\n",
        "|System|Source of data|Frameworks|Purpose|\n",
        "|---|---|---|---|\n",
        "|AWS|AWS Config|AWS Config|Check if access key rotated periodically|\n",
        "|AWS|AWS Security Hub|AWS|AccessKey Rotated every 90 days or less|\n",
        "\n",
        "```\n",
        "Purpose: The purpose of AWS Access Key rotation rule is to enhance security by regularly replacing access keys used for programmatic access to AWS resources. Rotating keys reduces the risk of unauthorized access due to compromised or leaked credentials. It ensures that access keys are regularly refreshed, minimizing the window of vulnerability.\n",
        "```\n",
        "```\n",
        "RecomendedEvidenceName: AccessKeysRotated\n",
        "```"
      ]
    },
    {
      "cell_type": "markdown",
      "metadata": {
        "id": "HwaAN4PWRC-_"
      },
      "source": [
        "# Step 2: Define the System Specific Data (a.k.a Extended Data Schema)"
      ]
    },
    {
      "cell_type": "code",
      "execution_count": null,
      "metadata": {
        "id": "a7nxEIiVcL4t"
      },
      "outputs": [],
      "source": [
        "# AWS Example\n",
        "  [\n",
        "      {\n",
        "        \"Action\": null,\n",
        "        \"AwsAccountId\": \"022654265366\",\n",
        "        \"CompanyName\": \"AWS\",\n",
        "        \"Compliance\": {\n",
        "          \"AssociatedStandards\": [\n",
        "            {\n",
        "              \"StandardsId\": \"ruleset/cis-aws-foundations-benchmark/v/1.2.0\"\n",
        "            }\n",
        "          ],\n",
        "          \"RelatedRequirements\": null,\n",
        "          \"SecurityControlId\": \"IAM.3\",\n",
        "          \"Status\": \"FAILED\",\n",
        "          \"StatusReasons\": null\n",
        "        },\n",
        "        \"Confidence\": null,\n",
        "        \"CreatedAt\": \"2023-12-11T00:56:35.443Z\",\n",
        "        \"Criticality\": null,\n",
        "        \"Description\": \"Access keys consist of an access key ID and secret access key, which are used to sign programmatic requests that you make to AWS. It is recommended that all access keys be regularly rotated.\",\n",
        "        \"FindingProviderFields\": {\n",
        "          \"Confidence\": null,\n",
        "          \"Criticality\": null,\n",
        "          \"RelatedFindings\": null,\n",
        "          \"Severity\": {\n",
        "            \"Label\": \"MEDIUM\",\n",
        "            \"Original\": \"MEDIUM\"\n",
        "          },\n",
        "          \"Types\": [\n",
        "            \"Software and Configuration Checks/Industry and Regulatory Standards/CIS AWS Foundations Benchmark\"\n",
        "          ]\n",
        "        },\n",
        "        \"FirstObservedAt\": \"2023-12-11T00:56:35.443Z\",\n",
        "        \"GeneratorDetails\": null,\n",
        "        \"GeneratorId\": \"arn:aws:securityhub:::ruleset/cis-aws-foundations-benchmark/v/1.2.0/rule/1.4\",\n",
        "        \"Id\": \"arn:aws:securityhub:us-east-1:022654265366:subscription/cis-aws-foundations-benchmark/v/1.2.0/1.4/finding/ebfcbcb5-5daa-47c5-9dfb-bd38f85353e0\",\n",
        "        \"LastObservedAt\": \"2023-12-28T00:55:33.927Z\",\n",
        "        \"Malware\": null,\n",
        "        \"Network\": null,\n",
        "        \"NetworkPath\": null,\n",
        "        \"Note\": null,\n",
        "        \"PatchSummary\": null,\n",
        "        \"Process\": null,\n",
        "        \"ProductArn\": \"arn:aws:securityhub:us-east-1::product/aws/securityhub\",\n",
        "        \"ProductFields\": {\n",
        "          \"RecommendationUrl\": \"https://docs.aws.amazon.com/console/securityhub/IAM.3/remediation\",\n",
        "          \"RelatedAWSResources:0/name\": \"securityhub-access-keys-rotated-3c0893e3\",\n",
        "          \"RelatedAWSResources:0/type\": \"AWS::Config::ConfigRule\",\n",
        "          \"Resources:0/Id\": \"arn:aws:iam::022654265366:user/test-user-one\",\n",
        "          \"RuleId\": \"1.4\",\n",
        "          \"StandardsControlArn\": \"arn:aws:securityhub:us-east-1:022654265366:control/cis-aws-foundations-benchmark/v/1.2.0/1.4\",\n",
        "          \"StandardsGuideArn\": \"arn:aws:securityhub:::ruleset/cis-aws-foundations-benchmark/v/1.2.0\",\n",
        "          \"StandardsGuideSubscriptionArn\": \"arn:aws:securityhub:us-east-1:022654265366:subscription/cis-aws-foundations-benchmark/v/1.2.0\",\n",
        "          \"aws/securityhub/CompanyName\": \"AWS\",\n",
        "          \"aws/securityhub/FindingId\": \"arn:aws:securityhub:us-east-1::product/aws/securityhub/arn:aws:securityhub:us-east-1:022654265366:subscription/cis-aws-foundations-benchmark/v/1.2.0/1.4/finding/ebfcbcb5-5daa-47c5-9dfb-bd38f85353e0\",\n",
        "          \"aws/securityhub/ProductName\": \"Security Hub\"\n",
        "        },\n",
        "        \"ProductName\": \"Security Hub\",\n",
        "        \"RecordState\": \"ACTIVE\",\n",
        "        \"Region\": \"us-east-1\",\n",
        "        \"RelatedFindings\": null,\n",
        "        \"Remediation\": {\n",
        "          \"Recommendation\": {\n",
        "            \"Text\": \"For information on how to correct this issue, consult the AWS Security Hub controls documentation.\",\n",
        "            \"Url\": \"https://docs.aws.amazon.com/console/securityhub/IAM.3/remediation\"\n",
        "          }\n",
        "        },\n",
        "        \"Resources\": [\n",
        "          {\n",
        "            \"DataClassification\": null,\n",
        "            \"Details\": {\n",
        "              \"AwsAmazonMqBroker\": null,\n",
        "              \"AwsApiGatewayRestApi\": null,\n",
        "              \"AwsApiGatewayStage\": null,\n",
        "              \"AwsApiGatewayV2Api\": null,\n",
        "              \"AwsApiGatewayV2Stage\": null,\n",
        "              \"AwsAppSyncGraphQlApi\": null,\n",
        "              \"AwsAthenaWorkGroup\": null,\n",
        "              \"AwsAutoScalingAutoScalingGroup\": null,\n",
        "              \"AwsAutoScalingLaunchConfiguration\": null,\n",
        "              \"AwsBackupBackupPlan\": null,\n",
        "              \"AwsBackupBackupVault\": null,\n",
        "              \"AwsBackupRecoveryPoint\": null,\n",
        "              \"AwsCertificateManagerCertificate\": null,\n",
        "              \"AwsCloudFormationStack\": null,\n",
        "              \"AwsCloudFrontDistribution\": null,\n",
        "              \"AwsCloudTrailTrail\": null,\n",
        "              \"AwsCloudWatchAlarm\": null,\n",
        "              \"AwsCodeBuildProject\": null,\n",
        "              \"AwsDmsEndpoint\": null,\n",
        "              \"AwsDmsReplicationInstance\": null,\n",
        "              \"AwsDmsReplicationTask\": null,\n",
        "              \"AwsDynamoDbTable\": null,\n",
        "              \"AwsEc2Eip\": null,\n",
        "              \"AwsEc2Instance\": null,\n",
        "              \"AwsEc2LaunchTemplate\": null,\n",
        "              \"AwsEc2NetworkAcl\": null,\n",
        "              \"AwsEc2NetworkInterface\": null,\n",
        "              \"AwsEc2RouteTable\": null,\n",
        "              \"AwsEc2SecurityGroup\": null,\n",
        "              \"AwsEc2Subnet\": null,\n",
        "              \"AwsEc2TransitGateway\": null,\n",
        "              \"AwsEc2Volume\": null,\n",
        "              \"AwsEc2Vpc\": null,\n",
        "              \"AwsEc2VpcEndpointService\": null,\n",
        "              \"AwsEc2VpcPeeringConnection\": null,\n",
        "              \"AwsEc2VpnConnection\": null,\n",
        "              \"AwsEcrContainerImage\": null,\n",
        "              \"AwsEcrRepository\": null,\n",
        "              \"AwsEcsCluster\": null,\n",
        "              \"AwsEcsContainer\": null,\n",
        "              \"AwsEcsService\": null,\n",
        "              \"AwsEcsTask\": null,\n",
        "              \"AwsEcsTaskDefinition\": null,\n",
        "              \"AwsEfsAccessPoint\": null,\n",
        "              \"AwsEksCluster\": null,\n",
        "              \"AwsElasticBeanstalkEnvironment\": null,\n",
        "              \"AwsElasticsearchDomain\": null,\n",
        "              \"AwsElbLoadBalancer\": null,\n",
        "              \"AwsElbv2LoadBalancer\": null,\n",
        "              \"AwsEventSchemasRegistry\": null,\n",
        "              \"AwsEventsEndpoint\": null,\n",
        "              \"AwsEventsEventbus\": null,\n",
        "              \"AwsGuardDutyDetector\": null,\n",
        "              \"AwsIamAccessKey\": null,\n",
        "              \"AwsIamGroup\": null,\n",
        "              \"AwsIamPolicy\": null,\n",
        "              \"AwsIamRole\": null,\n",
        "              \"AwsIamUser\": {\n",
        "                \"AttachedManagedPolicies\": null,\n",
        "                \"CreateDate\": \"2023-08-28T12:58:50.000Z\",\n",
        "                \"GroupList\": [\n",
        "                  \"Force_MFA\",\n",
        "                  \"ContinubeReadOnly\"\n",
        "                ],\n",
        "                \"Path\": \"/\",\n",
        "                \"PermissionsBoundary\": null,\n",
        "                \"UserId\": \"ALKFGDTVBVEHVZBV5\",\n",
        "                \"UserName\": \"test-user-one\",\n",
        "                \"UserPolicyList\": null\n",
        "              },\n",
        "              \"AwsKinesisStream\": null,\n",
        "              \"AwsKmsKey\": null,\n",
        "              \"AwsLambdaFunction\": null,\n",
        "              \"AwsLambdaLayerVersion\": null,\n",
        "              \"AwsMskCluster\": null,\n",
        "              \"AwsNetworkFirewallFirewall\": null,\n",
        "              \"AwsNetworkFirewallFirewallPolicy\": null,\n",
        "              \"AwsNetworkFirewallRuleGroup\": null,\n",
        "              \"AwsOpenSearchServiceDomain\": null,\n",
        "              \"AwsRdsDbCluster\": null,\n",
        "              \"AwsRdsDbClusterSnapshot\": null,\n",
        "              \"AwsRdsDbInstance\": null,\n",
        "              \"AwsRdsDbSecurityGroup\": null,\n",
        "              \"AwsRdsDbSnapshot\": null,\n",
        "              \"AwsRdsEventSubscription\": null,\n",
        "              \"AwsRedshiftCluster\": null,\n",
        "              \"AwsRoute53HostedZone\": null,\n",
        "              \"AwsS3AccountPublicAccessBlock\": null,\n",
        "              \"AwsS3Bucket\": null,\n",
        "              \"AwsS3Object\": null,\n",
        "              \"AwsSageMakerNotebookInstance\": null,\n",
        "              \"AwsSecretsManagerSecret\": null,\n",
        "              \"AwsSnsTopic\": null,\n",
        "              \"AwsSqsQueue\": null,\n",
        "              \"AwsSsmPatchCompliance\": null,\n",
        "              \"AwsStepFunctionStateMachine\": null,\n",
        "              \"AwsWafRateBasedRule\": null,\n",
        "              \"AwsWafRegionalRateBasedRule\": null,\n",
        "              \"AwsWafRegionalRule\": null,\n",
        "              \"AwsWafRegionalRuleGroup\": null,\n",
        "              \"AwsWafRegionalWebAcl\": null,\n",
        "              \"AwsWafRule\": null,\n",
        "              \"AwsWafRuleGroup\": null,\n",
        "              \"AwsWafWebAcl\": null,\n",
        "              \"AwsWafv2RuleGroup\": null,\n",
        "              \"AwsWafv2WebAcl\": null,\n",
        "              \"AwsXrayEncryptionConfig\": null,\n",
        "              \"Container\": null,\n",
        "              \"Other\": null\n",
        "            },\n",
        "            \"Id\": \"arn:aws:iam::022654265366:user/test-user-one\",\n",
        "            \"Partition\": \"aws\",\n",
        "            \"Region\": \"us-east-1\",\n",
        "            \"ResourceRole\": null,\n",
        "            \"Tags\": null,\n",
        "            \"Type\": \"AwsIamUser\"\n",
        "          }\n",
        "        ],\n",
        "        \"Sample\": null,\n",
        "        \"SchemaVersion\": \"2018-10-08\",\n",
        "        \"Severity\": {\n",
        "          \"Label\": \"MEDIUM\",\n",
        "          \"Normalized\": 40,\n",
        "          \"Original\": \"MEDIUM\",\n",
        "          \"Product\": 40\n",
        "        },\n",
        "        \"SourceUrl\": null,\n",
        "        \"ThreatIntelIndicators\": null,\n",
        "        \"Threats\": null,\n",
        "        \"Title\": \"1.4 Ensure access keys are rotated every 90 days or less\",\n",
        "        \"Types\": [\n",
        "          \"Software and Configuration Checks/Industry and Regulatory Standards/CIS AWS Foundations Benchmark\"\n",
        "        ],\n",
        "        \"UpdatedAt\": \"2023-12-28T00:55:24.749Z\",\n",
        "        \"UserDefinedFields\": null,\n",
        "        \"VerificationState\": null,\n",
        "        \"Vulnerabilities\": null,\n",
        "        \"Workflow\": {\n",
        "          \"Status\": \"NEW\"\n",
        "        },\n",
        "        \"WorkflowState\": \"NEW\"\n",
        "      }\n",
        "  ]"
      ]
    },
    {
      "cell_type": "markdown",
      "metadata": {
        "id": "OMfAqx9AZD-R"
      },
      "source": [
        "# Step 3: Define the Standard Schema\n",
        "  \n"
      ]
    },
    {
      "cell_type": "code",
      "execution_count": null,
      "metadata": {
        "id": "rjwrF9FPg9kE"
      },
      "outputs": [],
      "source": [
        "{\n",
        "    # Meta\n",
        "    \"System\":\"aws\",\n",
        "    \"Source\":\"compliancecow\",\n",
        "\n",
        "    # Resource info\n",
        "    \"ResourceID\":\"arn:aws:iam::022654265366:user/test-user-one\",\n",
        "    \"ResourceName\":\"AccessKey1\",\n",
        "    \"ResourceType\":\"AwsIamUser\",\n",
        "    \"ResourceLocation\":\"global\",\n",
        "    \"ResourceTags\": null,\n",
        "\n",
        "    # Data\n",
        "    \"AccessKeyActive\": \"true\",\n",
        "    \"AccessKeyLastRotated\": \"2023-03-24T13:11:23+00:00\",\n",
        "    \"AccessKeyAge\": 273,\n",
        "    \"AccesskeyLastUsedDate\": \"2023-12-20T13:34:00+00:00\",\n",
        "\n",
        "    # Compliance details\n",
        "    \"ValidationStatusCode\":\"ACCESS_KEY_NOT_ROTATED_WITHIN_TIME_PERIOD\",\n",
        "    \"ValidationStatusNotes\":\"The access key has not been rotated\",\n",
        "    \"ComplianceStatus\":\"NON_COMPLIANT\",\n",
        "\t\t\"ComplianceStatusReason\":\"Record is not compliant as the access key was not rotated properly\",\n",
        "\t\t\"EvaluatedTime\":\"2023-12-22T07:03:37.417Z\",\n",
        "\n",
        "    # User editable data\n",
        "     \"UserAction\":\"\",\n",
        "\n",
        "    # Action editable data\n",
        "     \"ActionStatus\":\"\",\n",
        "     \"ActionResponseURL\":\"\"\n",
        "}"
      ]
    },
    {
      "cell_type": "markdown",
      "metadata": {
        "id": "vQQKJKfUabxd"
      },
      "source": [
        "# Step 3.a: Sample Data\n",
        "\n",
        "|System|Source|ResourceID|ResourceName|ResourceType|ResourceLocation|ResourceTags|AccessKeyActive|AccessKeyLastRotated|AccessKeyAge|AccesskeyLastUsedDate|ValidationStatusCode|ValidationStatusNotes|ComplianceStatus|ComplianceStatusReason|EvaluatedTime|UserAction|ActionStatus|ActionResponseURL|\n",
        "|------|------|------|------|------|------|------|------|------|------|------|------|------|------|------|------|------|------|------|\n",
        "|aws|compliancecow|arn:aws:iam::022654265366:user/test-user-one|AccessKey1|AwsIamUser|global||true|2023-03-24T13:11:23+00:00|273|2023-12-20T13:34:00+00:00|ACCESS_KEY_NOT_ROTATED_WITHIN_TIME_PERIOD|The access key has not been rotated|NON_COMPLIANT|Record is not compliant as the access key was not rotated properly|2023-12-22T07:03:37.417Z|\n",
        "|aws|compliancecow|arn:aws:iam::022654265366:user/test-user-two|AccessKey1|AwsIamUser|global||true|2023-11-16T05:00:21+00:00|36|2023-11-17T07:31:00+00:00|ACCESS_KEY_ROTATED_WITHIN_TIME_PERIOD|The access key is rotated|COMPLIANT|Record is compliant as the access key was rotated properly|2023-12-22T07:03:37.417Z|\n",
        "|aws|compliancecow|arn:aws:iam::022654265366:user/test-user-three|AccessKey2|AwsIamUser|global||true|2023-12-18T07:59:42+00:00|4|2023-12-18T08:12:00+00:00|ACCESS_KEY_ROTATED_WITHIN_TIME_PERIOD|The access key is rotated|COMPLIANT|Record is compliant as the access key was rotated properly|2023-12-22T07:03:37.417Z|"
      ]
    },
    {
      "cell_type": "markdown",
      "metadata": {
        "id": "bxsZR5l8SiOd"
      },
      "source": [
        "# Step 4: Describe the Compliance Taxonomy\n",
        "\n",
        "|AccessKeyAge|ValidationStatusCode|ValidationStatusNotes|ComplianceStatus|ComplianceStatusReason|\n",
        "|---|---|---|---|---|\n",
        "|< MaxAccessKeyAge|ACCESS_KEY_ROTATED_WITHIN_TIME_PERIOD|The access key is rotated|COMPLIANT|Record is compliant as the access key was rotated properly|\n",
        "|> MaxAccessKeyAge|ACCESS_KEY_NOT_ROTATED_WITHIN_TIME_PERIOD|The access key has not been rotated|NON_COMPLIANT|Record is not compliant as the access key was not rotated properly|"
      ]
    },
    {
      "cell_type": "markdown",
      "metadata": {
        "id": "Son7AJzlS0hh"
      },
      "source": [
        "# Step 5: Calculation for Compliance Percentage and Status\n"
      ]
    },
    {
      "cell_type": "code",
      "execution_count": null,
      "metadata": {
        "id": "nZMdcSLnNaQe"
      },
      "outputs": [],
      "source": [
        "# Calculation of Compliance Percentage\n",
        "CompliancePCT = (100 - (Count of 'NON_COMPLIANT' records * 100) / Total records)\n",
        "\n",
        "# Compliance Status\n",
        "#COMPLIANT - 100%\n",
        "#NON_COMPLIANT - 0%<=status<100%\n",
        "#NOT_DETERMINED - If no records are found in the account"
      ]
    },
    {
      "cell_type": "markdown",
      "metadata": {
        "id": "uVDZ3Jv9TKZx"
      },
      "source": [
        "# Step 6: Describe (in words) the Remediation Steps for Non-Compliance"
      ]
    },
    {
      "cell_type": "markdown",
      "metadata": {
        "id": "IS5_pE75TfxN"
      },
      "source": [
        "Remediation notes:\n",
        "Address non-compliance with the AWS Access Key Rotation Policy by rotating the identified access key << KeyName >>\n",
        "\n",
        "Steps:\n",
        "\n",
        "1. Log in to the AWS Management Console.\n",
        "2. Navigate to IAM and select the user or role associated with the identified access key.\n",
        "3. Generate a new access key and disable or delete the old one.\n",
        "\n",
        "Refer the doc for more information: https://docs.aws.amazon.com/IAM/latest/UserGuide/id_credentials_access-keys.html"
      ]
    },
    {
      "cell_type": "markdown",
      "metadata": {
        "id": "trjrGTI6N3wv"
      },
      "source": [
        "# 7. Control Setup Details"
      ]
    },
    {
      "cell_type": "markdown",
      "metadata": {
        "id": "IHKtasdRN6-V"
      },
      "source": [
        "| Control Details            |                               |\n",
        "|----------------------------|-------------------------------|\n",
        "| **RuleName**               | AWSAccessKeyRotationReport    |\n",
        "| **PreRequisiteRuleNames**  | AWSCredentialReport           |\n",
        "| **ExtendedSchemaRuleNames**| AWSCredentialReport           |\n",
        "| **ApplicationClassName**   | AWSAppConnector               |\n",
        "| **PostSynthesizerName**    | linkrecords                   |"
      ]
    }
  ],
  "metadata": {
    "colab": {
      "provenance": []
    },
    "kernelspec": {
      "display_name": "Python 3",
      "name": "python3"
    },
    "language_info": {
      "name": "python"
    }
  },
  "nbformat": 4,
  "nbformat_minor": 0
}
