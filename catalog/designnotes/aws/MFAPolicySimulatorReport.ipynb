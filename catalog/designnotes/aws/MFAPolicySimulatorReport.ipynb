{
  "cells": [
    {
      "cell_type": "markdown",
      "metadata": {
        "id": "sFlmicb0Mlse"
      },
      "source": [
        "# Step 1: Evidence Details\n",
        "\n",
        "|System|Source of data|Frameworks|Purpose|\n",
        "|---|---|---|---|\n",
        "|AWS|ComplianceCow||Check if given service:action definitions and conditions are implemented in the policy|\n",
        "\n",
        "```\n",
        "Purpose: The purpose of this rule is used to simulate the effect of AWS Identity and Access Management (IAM) policies on Multi-Factor Authentication (MFA) usage within an AWS environment. It helps administrators understand how IAM policies impact the requirement for users to authenticate using MFA when accessing AWS resources. This simulation aids in ensuring that MFA policies are correctly configured to enhance security by enforcing additional authentication factors for sensitive actions or resources.\n",
        "```\n",
        "```\n",
        "RecomendedEvidenceName: MFAPolicySimulatorReport\n",
        "```"
      ]
    },
    {
      "cell_type": "markdown",
      "metadata": {
        "id": "HwaAN4PWRC-_"
      },
      "source": [
        "# Step 2: Define the System Specific Data (a.k.a Extended Data Schema)\n"
      ]
    },
    {
      "cell_type": "code",
      "execution_count": null,
      "metadata": {
        "id": "a7nxEIiVcL4t"
      },
      "outputs": [],
      "source": [
        "# AWS Example\n",
        "  [\n",
        "      {\n",
        "        \"identity_name\": \"test-user-one\",\n",
        "        \"identity_type\": \"User\",\n",
        "        \"mfa_present\": true,\n",
        "        \"action_name\": \"ec2:StopInstances\",\n",
        "        \"resource_name\": \"*\",\n",
        "        \"decision\": \"explicitDeny\",\n",
        "        \"source_policy_id\": \"Force_MFA\",\n",
        "        \"source_policy_type\": \"IAM Policy\",\n",
        "        \"recommendations\": \"None\",\n",
        "        \"compliance_status\": \"true\"\n",
        "      }\n",
        "  ]"
      ]
    },
    {
      "cell_type": "markdown",
      "metadata": {
        "id": "OMfAqx9AZD-R"
      },
      "source": [
        "# Step 3: Define the Standard Schema\n",
        "  \n"
      ]
    },
    {
      "cell_type": "code",
      "execution_count": null,
      "metadata": {
        "id": "rjwrF9FPg9kE"
      },
      "outputs": [],
      "source": [
        "{\n",
        "    # Meta\n",
        "    \"System\":\"aws\",\n",
        "    \"Source\":\"compliancecow\",\n",
        "\n",
        "    # Resource info\n",
        "    \"ResourceID\":\"arn:aws:iam::022654265366:user/test-user-one\",\n",
        "    \"ResourceName\":\"test-user-one\",\n",
        "    \"ResourceType\":\"AwsIamUser\",\n",
        "    \"ResourceLocation\":\"global\",\n",
        "    \"ResourceTags\": null,\n",
        "    \"ResourceURL\": \"https://us-east-1.console.aws.amazon.com/iamv2/home?region=us-east-1#/users/details/test-user-one\"\n",
        "\n",
        "    # Data\n",
        "    \"Action\": \"ec2:StopInstances\",\n",
        "\t\t\"ActionResource\": \"*\",\n",
        "\t\t\"Decision\": \"implicitDeny\",\n",
        "\t\t\"MFAPresent\": false,\n",
        "\t\t\"SourcePolicyDeatils\": null,\n",
        "\n",
        "    # Compliance details\n",
        "    \"ValidationStatusCode\": \"ACT_NA\",\n",
        "\t\t\"ValidationStatusNotes\": \"Action not allowed implicitly denied\",\n",
        "\t\t\"ComplianceStatus\": \"COMPLIANT\",\n",
        "\t\t\"ComplianceStatusReason\": \"Action implicitly denied (no matching policy statements)\",\n",
        "\t\t\"EvaluatedTime\": \"2024-02-19T07:05:13.268Z\",\n",
        "\n",
        "    # User editable data\n",
        "     \"UserAction\":\"\",\n",
        "\n",
        "    # Action editable data\n",
        "     \"ActionStatus\":\"\",\n",
        "     \"ActionResponseURL\":\"\"\n",
        "}"
      ]
    },
    {
      "cell_type": "markdown",
      "metadata": {
        "id": "vQQKJKfUabxd"
      },
      "source": [
        "# Step 3.a: Sample Data\n",
        "\n",
        "|System|Source|ResourceID|ResourceName|ResourceType|ResourceLocation|ResourceTags|ResourceURL|Action|ActionResource|Decision|MFAPresent|SourcePolicyDeatils|ValidationStatusCode|ValidationStatusNotes|ComplianceStatus|ComplianceStatusReason|EvaluatedTime|UserAction|ActionStatus|ActionResponseURL|\n",
        "|------|------|------|------|------|------|------|------|------|------|------|------|------|------|------|------|------|------|------|------|------|\n",
        "|aws|compliancecow|arn:aws:iam::022654265366:user/test-user-one|test-user-one|AwsIamUser|global|null|https://us-east-1.console.aws.amazon.com/iamv2/home?region=us-east-1#/users/details/test-user-one|ec2:StopInstances|*|implicitDeny|false|null|ACT_NA|Action not allowed implicitly denied|COMPLIANT|Action implicitly denied (no matching policy statements)|2024-02-19T07:05:13.268Z|\n",
        "|aws|compliancecow|arn:aws:iam::022654265366:user/test-user-two|test-user-two|AwsIamUser|global|null|https://us-east-1.console.aws.amazon.com/iamv2/home?region=us-east-1#/users/details/test-user-two|ec2:StopInstances|*|allowed|false|[{\"SourcePolicyID\": \"AmazonEC2FullAccess\",\"SourcePolicyType\": \"IAM Policy\"}]|MFA_NE|MFA is not enforced|NON_COMPLIANT|Implement MFA check for IAM policy|2024-02-19T07:05:15.652Z|\n",
        "|aws|compliancecow|arn:aws:iam::022654265366:user/test-user-three|test-user-three|AwsIamUser|global|null|https://us-east-1.console.aws.amazon.com/iamv2/home?region=us-east-1#/users/details/test-user-three|ec2:StopInstances|*|explicitDeny|true|null|ACT_NA|Action not allowed explicitly denied|COMPLIANT|Action explicitly denied|2024-02-19T07:05:16.903Z"
      ]
    },
    {
      "cell_type": "markdown",
      "metadata": {
        "id": "bxsZR5l8SiOd"
      },
      "source": [
        "# Step 4: Describe the Compliance Taxonomy\n",
        "|Decision|MFAPresent|ValidationStatusCode|ValidationStatusNotes|ComplianceStatus|ComplianceStatusReason|\n",
        "|---|---|---|---|---|---|\n",
        "|allowed|true|MFA_E|MFA is enforced|COMPLIANT|MFA implemented in IAM policy|\n",
        "|allowed|false|MFA_NE|MFA is not enforced|NON_COMPLIANT|Implement MFA check for IAM policy|\n",
        "|implicitDeny|-|ACT_NA|Action not allowed implicitly denied|COMPLIANT|Action implicitly denied (no matching policy statements)|\n",
        "|explicitDeny|-|ACT_NA|Action not allowed explicitly denied|COMPLIANT|Action explicitly denied|"
      ]
    },
    {
      "cell_type": "markdown",
      "metadata": {
        "id": "Son7AJzlS0hh"
      },
      "source": [
        "# Step 5: Calculation for Compliance Percentage and Status\n",
        "\n",
        "\n"
      ]
    },
    {
      "cell_type": "code",
      "execution_count": null,
      "metadata": {
        "id": "nZMdcSLnNaQe"
      },
      "outputs": [],
      "source": [
        "# Calculation of Compliance Percentage\n",
        "\n",
        "TotalRecordCount = Count of 'COMPLIANT' and 'NON_COMPLIANT' records\n",
        "FailedRecordCount = Count of 'NON_COMPLIANT' records\n",
        "\n",
        "CompliancePCT = int(100 - ((FailedRecordCount * 100) / TotalRecordCount))\n",
        "\n",
        "Compliance Status\n",
        "COMPLIANT - 100%\n",
        "NON_COMPLIANT - 0% to less than 100%"
      ]
    },
    {
      "cell_type": "markdown",
      "metadata": {
        "id": "uVDZ3Jv9TKZx"
      },
      "source": [
        "# Step 6: Describe (in words) the Remediation Steps for Non-Compliance"
      ]
    },
    {
      "cell_type": "markdown",
      "metadata": {
        "id": "IS5_pE75TfxN"
      },
      "source": [
        "Review IAM policies to ensure they include necessary MFA requirements, such as the aws:MultiFactorAuthPresent condition key.\n",
        "Utilize the MFAPolicySimulatorReport to simulate policy changes and verify correct enforcement of MFA."
      ]
    },
    {
      "cell_type": "markdown",
      "metadata": {
        "id": "trjrGTI6N3wv"
      },
      "source": [
        "# 7. Control Setup Details"
      ]
    },
    {
      "cell_type": "markdown",
      "metadata": {
        "id": "IHKtasdRN6-V"
      },
      "source": [
        "| Control Details            |                               |\n",
        "|----------------------------|-------------------------------|\n",
        "| **RuleName**               | AWSMFAPolicySimulatorReport   |\n",
        "| **PreRequisiteRuleNames**  |AWSAccountAuthorizationDetails                               |\n",
        "| **ApplicationClassName**   | AWSAppConnector               |"
      ]
    }
  ],
  "metadata": {
    "colab": {
      "provenance": []
    },
    "kernelspec": {
      "display_name": "Python 3",
      "name": "python3"
    },
    "language_info": {
      "name": "python"
    }
  },
  "nbformat": 4,
  "nbformat_minor": 0
}
