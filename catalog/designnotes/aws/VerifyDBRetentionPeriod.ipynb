{
  "cells": [
    {
      "cell_type": "markdown",
      "metadata": {
        "id": "sFlmicb0Mlse"
      },
      "source": [
        "# Step 1: Evidence Details\n",
        "\n",
        "|System|Source of data|Frameworks|Purpose|\n",
        "|---|---|---|---|\n",
        "|aws|compliancecow|-|Verify DB Retention Period|\n",
        "\n",
        "```\n",
        "Purpose: Enabling RDS backups provides a safeguard against data loss by creating automated backups of your database, ensuring business continuity in case of accidental deletion or system failure. Setting a minimum retention policy control ensures that backups are retained for a specified minimum duration, allowing for reliable recovery points and compliance with data retention requirements.\n",
        "```\n",
        "\n",
        "```\n",
        "RecomendedEvidenceName: VerifyDBRetentionPeriod\n",
        "```\n",
        "**Description:** Retrieve the list of RDS DB instances and filter the DB instances using the status 'available'. Prompt the user to input a value for 'MinimumRequiredRetentionPeriod'. Then, validate whether the database backup is enabled. Additionally, verify if the input value meets the 'BackupRetentionPeriod' of the DB instances.\n",
        "\n",
        "**Reference:** https://docs.aws.amazon.com/config/latest/developerguide/db-instance-backup-enabled.html\n",
        "\n",
        "**Default Value:**\n",
        "MinimumRequiredRetentionPeriod = 30 <br>\n",
        "Region = [us-west-2]"
      ]
    },
    {
      "cell_type": "markdown",
      "metadata": {
        "id": "HwaAN4PWRC-_"
      },
      "source": [
        "# Step 2: Define the System Specific Data (a.k.a Extended Data Schema)"
      ]
    },
    {
      "cell_type": "code",
      "execution_count": null,
      "metadata": {
        "id": "806DY6lcLpgH"
      },
      "outputs": [],
      "source": [
        "# AWS Example\n",
        " [\n",
        "\t\t{\n",
        "\t\t\t\"AllocatedStorage\": 20,\n",
        "\t\t\t\"AssociatedRoles\": null,\n",
        "\t\t\t\"AutoMinorVersionUpgrade\": true,\n",
        "\t\t\t\"Region\": \"us-west-2\",\n",
        "\t\t\t\"AvailabilityZone\": \"us-west-2a\",\n",
        "\t\t\t\"BackupRetentionPeriod\": 8,\n",
        "\t\t\t\"CACertificateIdentifier\": \"rds-ca-rsa2048-g1\",\n",
        "\t\t\t\"CharacterSetName\": null,\n",
        "\t\t\t\"CopyTagsToSnapshot\": true,\n",
        "\t\t\t\"DBClusterIdentifier\": null,\n",
        "\t\t\t\"DBInstanceArn\": \"arn:aws:rds:us-west-2:022654265366:db:dev-db\",\n",
        "\t\t\t\"DBInstanceClass\": \"db.t3.micro\",\n",
        "\t\t\t\"DBInstanceIdentifier\": \"dev-db\",\n",
        "\t\t\t\"DBInstanceStatus\": \"available\",\n",
        "\t\t\t\"DBName\": \"devdb\",\n",
        "\t\t\t\"DBParameterGroups\": [\n",
        "\t\t\t\t{\n",
        "\t\t\t\t\t\"DBParameterGroupName\": \"default.postgres16\",\n",
        "\t\t\t\t\t\"ParameterApplyStatus\": \"in-sync\"\n",
        "\t\t\t\t}\n",
        "\t\t\t],\n",
        "\t\t\t\"DBSecurityGroups\": null,\n",
        "\t\t\t\"DBSubnetGroup\": {\n",
        "\t\t\t\t\"DBSubnetGroupArn\": null,\n",
        "\t\t\t\t\"DBSubnetGroupDescription\": \"Created from the RDS Management Console\",\n",
        "\t\t\t\t\"DBSubnetGroupName\": \"default-vpc-d123a83e7a1b\",\n",
        "\t\t\t\t\"SubnetGroupStatus\": \"Complete\",\n",
        "\t\t\t\t\"Subnets\": [\n",
        "\t\t\t\t\t{\n",
        "\t\t\t\t\t\t\"SubnetAvailabilityZone\": {\n",
        "\t\t\t\t\t\t\t\"Name\": \"us-west-2d\"\n",
        "\t\t\t\t\t\t},\n",
        "\t\t\t\t\t\t\"SubnetIdentifier\": \"subnet-400bda814ac1\",\n",
        "\t\t\t\t\t\t\"SubnetStatus\": \"Active\"\n",
        "\t\t\t\t\t},\n",
        "\t\t\t\t\t{\n",
        "\t\t\t\t\t\t\"SubnetAvailabilityZone\": {\n",
        "\t\t\t\t\t\t\t\"Name\": \"us-west-2b\"\n",
        "\t\t\t\t\t\t},\n",
        "\t\t\t\t\t\t\"SubnetIdentifier\": \"subnet-218214bc7680\",\n",
        "\t\t\t\t\t\t\"SubnetStatus\": \"Active\"\n",
        "\t\t\t\t\t},\n",
        "\t\t\t\t\t{\n",
        "\t\t\t\t\t\t\"SubnetAvailabilityZone\": {\n",
        "\t\t\t\t\t\t\t\"Name\": \"us-west-2c\"\n",
        "\t\t\t\t\t\t},\n",
        "\t\t\t\t\t\t\"SubnetIdentifier\": \"subnet-fc2e7aebcd95\",\n",
        "\t\t\t\t\t\t\"SubnetStatus\": \"Active\"\n",
        "\t\t\t\t\t},\n",
        "\t\t\t\t\t{\n",
        "\t\t\t\t\t\t\"SubnetAvailabilityZone\": {\n",
        "\t\t\t\t\t\t\t\"Name\": \"us-west-2a\"\n",
        "\t\t\t\t\t\t},\n",
        "\t\t\t\t\t\t\"SubnetIdentifier\": \"subnet-49a1003e64ff\",\n",
        "\t\t\t\t\t\t\"SubnetStatus\": \"Active\"\n",
        "\t\t\t\t\t}\n",
        "\t\t\t\t],\n",
        "\t\t\t\t\"VpcId\": \"vpc-24183f926a4e\"\n",
        "\t\t\t},\n",
        "\t\t\t\"DbInstancePort\": 0,\n",
        "\t\t\t\"DbiResourceId\": \"db-SVNPC5335YC53YMCXMG5TZ2O7N\",\n",
        "\t\t\t\"DeletionProtection\": false,\n",
        "\t\t\t\"DomainMemberships\": null,\n",
        "\t\t\t\"EnabledCloudwatchLogsExports\": null,\n",
        "\t\t\t\"Endpoint\": {\n",
        "\t\t\t\t\"Address\": \"dev-db.clpnruen78da.us-west-2.rds.amazonaws.com\",\n",
        "\t\t\t\t\"HostedZoneId\": \"Z1VBNI0B657C1W\",\n",
        "\t\t\t\t\"Port\": 5432\n",
        "\t\t\t},\n",
        "\t\t\t\"Engine\": \"postgres\",\n",
        "\t\t\t\"EngineVersion\": \"16.1\",\n",
        "\t\t\t\"EnhancedMonitoringResourceArn\": null,\n",
        "\t\t\t\"IAMDatabaseAuthenticationEnabled\": false,\n",
        "\t\t\t\"InstanceCreateTime\": \"2024-02-29T05:56:06.418Z\",\n",
        "\t\t\t\"Iops\": null,\n",
        "\t\t\t\"KmsKeyId\": \"arn:aws:kms:us-west-2:022654265366:key/3f5007ba-bc26-4c70-bb05-66ae4d2b73e0\",\n",
        "\t\t\t\"LatestRestorableTime\": \"2024-02-29T07:19:30Z\",\n",
        "\t\t\t\"LicenseModel\": \"postgresql-license\",\n",
        "\t\t\t\"ListenerEndpoint\": null,\n",
        "\t\t\t\"MasterUsername\": \"postgres\",\n",
        "\t\t\t\"MaxAllocatedStorage\": 1000,\n",
        "\t\t\t\"MonitoringInterval\": 0,\n",
        "\t\t\t\"MonitoringRoleArn\": null,\n",
        "\t\t\t\"MultiAZ\": false,\n",
        "\t\t\t\"OptionGroupMemberships\": [\n",
        "\t\t\t\t{\n",
        "\t\t\t\t\t\"OptionGroupName\": \"default:postgres-16\",\n",
        "\t\t\t\t\t\"Status\": \"in-sync\"\n",
        "\t\t\t\t}\n",
        "\t\t\t],\n",
        "\t\t\t\"PendingModifiedValues\": {\n",
        "\t\t\t\t\"AllocatedStorage\": null,\n",
        "\t\t\t\t\"BackupRetentionPeriod\": null,\n",
        "\t\t\t\t\"CACertificateIdentifier\": null,\n",
        "\t\t\t\t\"DBInstanceClass\": null,\n",
        "\t\t\t\t\"DBInstanceIdentifier\": null,\n",
        "\t\t\t\t\"DBSubnetGroupName\": null,\n",
        "\t\t\t\t\"EngineVersion\": null,\n",
        "\t\t\t\t\"Iops\": null,\n",
        "\t\t\t\t\"LicenseModel\": null,\n",
        "\t\t\t\t\"MasterUserPassword\": null,\n",
        "\t\t\t\t\"MultiAZ\": null,\n",
        "\t\t\t\t\"PendingCloudwatchLogsExports\": null,\n",
        "\t\t\t\t\"Port\": null,\n",
        "\t\t\t\t\"ProcessorFeatures\": null,\n",
        "\t\t\t\t\"StorageType\": null\n",
        "\t\t\t},\n",
        "\t\t\t\"PerformanceInsightsEnabled\": false,\n",
        "\t\t\t\"PerformanceInsightsKMSKeyId\": null,\n",
        "\t\t\t\"PerformanceInsightsRetentionPeriod\": null,\n",
        "\t\t\t\"PreferredBackupWindow\": \"09:24-09:54\",\n",
        "\t\t\t\"PreferredMaintenanceWindow\": \"fri:07:11-fri:07:41\",\n",
        "\t\t\t\"ProcessorFeatures\": null,\n",
        "\t\t\t\"PromotionTier\": null,\n",
        "\t\t\t\"PubliclyAccessible\": false,\n",
        "\t\t\t\"ReadReplicaDBClusterIdentifiers\": null,\n",
        "\t\t\t\"ReadReplicaDBInstanceIdentifiers\": null,\n",
        "\t\t\t\"ReadReplicaSourceDBInstanceIdentifier\": null,\n",
        "\t\t\t\"SecondaryAvailabilityZone\": null,\n",
        "\t\t\t\"StatusInfos\": null,\n",
        "\t\t\t\"StorageEncrypted\": true,\n",
        "\t\t\t\"StorageType\": \"gp2\",\n",
        "\t\t\t\"TdeCredentialArn\": null,\n",
        "\t\t\t\"Timezone\": null,\n",
        "\t\t\t\"VpcSecurityGroups\": [\n",
        "\t\t\t\t{\n",
        "\t\t\t\t\t\"Status\": \"active\",\n",
        "\t\t\t\t\t\"VpcSecurityGroupId\": \"sg-303e4d9829a5\"\n",
        "\t\t\t\t}\n",
        "\t\t\t]\n",
        "\t\t}\n",
        "]"
      ]
    },
    {
      "cell_type": "markdown",
      "metadata": {
        "id": "ouhtS-H1SHbX"
      },
      "source": [
        "# Step 3: Define the Standard Schema"
      ]
    },
    {
      "cell_type": "code",
      "execution_count": null,
      "metadata": {
        "id": "h5VGDcUvLGs6"
      },
      "outputs": [],
      "source": [
        "{\n",
        "    # Meta\n",
        "    \"System\":\"aws\",\n",
        "    \"Source\":\"compliancecow\",\n",
        "\n",
        "    # Resource info\n",
        "    \"ResourceID\":\"arn:aws:rds:us-west-2:022654265366:db:dev-db\", # From Data 'DBInstanceArnn'\n",
        "    \"ResourceName\":\"dev-db\", # From Data 'DBInstanceArnn'\n",
        "    \"ResourceType\":\"AWS::RDS::DBInstance\",\n",
        "    \"ResourceLocation\":\"us-west-2\", # From Data 'Region'\n",
        "    \"ResourceTags\": null,\n",
        "    \"ResourceURL\": \"https://us-west-2.console.aws.amazon.com/rds/home?region=us-west-2#database:id=dev-db\"\n",
        "\n",
        "    # Data\n",
        "    \"MinimumRequiredRetentionPeriod\": 7,\n",
        "    \"ActualRetentionPeriod\" : 8,\n",
        "    \"IsBackupEnabled\" : true,\n",
        "    \"MeetsMinimumRetentionRequirement\" : true,\n",
        "\n",
        "    # Compliance details\n",
        "    \"ValidationStatusCode\" :\"BK_EN_MN_RT_PS\" ,\n",
        "    \"ValidationStatusNotes\":\"The DB backup feature is enabled and meets the expected retention period\",\n",
        "    \"ComplianceStatus\":\"COMPLIANT\t\",\n",
        "\t\t\"ComplianceStatusReason\":\"The RDS backups meet the minimum retention period requirements, ensuring compliance, data integrity, and support for long-term analysis.\",\n",
        "\t\t\"EvaluatedTime\":\"2024-02-29T05:56:06.418Z\",\n",
        "\n",
        "    # User editable data\n",
        "     \"UserAction\":\"\",\n",
        "\n",
        "    # Action editable data\n",
        "     \"ActionStatus\":\"\",\n",
        "     \"ActionResponseURL\":\"\"\n",
        "}"
      ]
    },
    {
      "cell_type": "markdown",
      "metadata": {
        "id": "rl4EwFKUY4VZ"
      },
      "source": [
        "# Step 3.a: Sample Data\n",
        "\n",
        "|System|Source|ResourceID|ResourceName|ResourceType|ResourceLocation|ResourceTags|ResourceURL|MinimumRequiredRetentionPeriod|ActualRetentionPeriod|IsBackupEnabled|MeetsMinimumRetentionRequirement|ValidationStatusCode|ValidationStatusNotes|ComplianceStatus|ComplianceStatusReason|EvaluatedTime|UserAction|ActionStatus|ActionResponseURL|\n",
        "|------|------|------|------|------|------|------|------|------|------|------|------|------|------|------|------|------|------|------|------|\n",
        "|aws|compliancecow|arn:aws:rds:us-west-2:022654265366:db:dev-db|dev-db|AWS::RDS::DBInstance|us-west-2|null|https://us-west-2.console.aws.amazon.com/rds/home?region=us-west-2#database:id=dev-db|7|8|true|true|BK_EN_MN_RT_PS|The DB backup feature is enabled and meets the expected retention period|COMPLIANT|The RDS backups meet the minimum retention period requirements, ensuring compliance, data integrity, and support for long-term analysis.|2024-02-29T05:56:06.418Z|\n",
        "|aws|compliancecow|arn:aws:rds:us-west-2:022654265366:db:test-db|test-db|AWS::RDS::DBInstance|us-west-2|null|https://us-west-2.console.aws.amazon.com/rds/home?region=us-west-2#database:id=test-db|7|5|true|false|BK_EN_MN_RT_NP|Backup is enabled but does not meet the expected retention period|NON_COMPLIANT|The record is non-compliant because RDS backup does not meet the expected retention period. RDS backups must meet minimum retention periods to preserve data integrity, comply with regulations, and enable long-term analysis.|2024-02-29T05:57:06.418Z|\n",
        "|aws|compliancecow|arn:aws:rds:us-west-2:022654265366:db:prod-db|prod-db|AWS::RDS::DBInstance|us-west-2|null|https://us-west-2.console.aws.amazon.com/rds/home?region=us-west-2#database:id=prod-db|7||false|false|BK_DS|Backup is disabled|NON_COMPLIANT|The record is non-compliant because the DB backup feature is disabled. Taking RDS backups is advisable to protect data against loss, enable point-in-time recovery, and ensure compliance with industry regulations.|2024-02-29T05:58:06.418Z|"
      ]
    },
    {
      "cell_type": "markdown",
      "metadata": {
        "id": "bxsZR5l8SiOd"
      },
      "source": [
        "# Step 4: Describe the Compliance Taxonomy"
      ]
    },
    {
      "cell_type": "markdown",
      "metadata": {
        "id": "RZjPd-SrINSV"
      },
      "source": [
        "|ValidationStatusCode|ValidationStatusNotes|ComplianceStatus|ComplianceStatusReason|\n",
        "|---|---|---|---|\n",
        "|BK_EN_MN_RT_P|The DB backup feature is enabled and meets the expected retention period|COMPLIANT|The RDS backups meet the minimum retention period requirements, ensuring compliance, data integrity, and support for long-term analysis.|\n",
        "|BK_EN_MN_RT_NP|Backup is enabled but does not meet the expected retention period|NON_COMPLIANT|The record is non-compliant because RDS backup does not meet the expected retention period. RDS backups must meet minimum retention periods to preserve data integrity, comply with regulations, and enable long-term analysis.|\n",
        "|BK_DS|Backup is disabled|NON_COMPLIANT|The record is non-compliant because the DB backup feature is disabled. Taking RDS backups is advisable to protect data against loss, enable point-in-time recovery, and ensure compliance with industry regulations.|"
      ]
    },
    {
      "cell_type": "markdown",
      "metadata": {
        "id": "Son7AJzlS0hh"
      },
      "source": [
        "# Step 5: Calculation for Compliance Percentage and Status"
      ]
    },
    {
      "cell_type": "code",
      "execution_count": null,
      "metadata": {
        "id": "lBpospHEM2d-"
      },
      "outputs": [],
      "source": [
        "# Calculation of Compliance Percentage\n",
        "\n",
        "TotalCount = Count of 'COMPLIANT' and 'NON_COMPLIANT' records\n",
        "CompliantCount = Count of 'COMPLIANT' records\n",
        "\n",
        "CompliancePCT = (CompliantCount / TotalCount) * 100\n",
        "\n",
        "Compliance Status\n",
        "COMPLIANT - 100%\n",
        "NON_COMPLIANT - 0% to less than 100%\n",
        "NOT_DETERMINED - If no records are found in the account"
      ]
    },
    {
      "cell_type": "markdown",
      "metadata": {
        "id": "uVDZ3Jv9TKZx"
      },
      "source": [
        "# Step 6: Describe (in words) the Remediation Steps for Non-Compliance"
      ]
    },
    {
      "cell_type": "code",
      "execution_count": null,
      "metadata": {
        "id": "Nh8wne7WSAtP"
      },
      "outputs": [],
      "source": [
        "DB instance backup is not enabled\n",
        "We've identified that the backup feature for the RDS instance << RDSinstance >> does not meet the compliance criteria.\n",
        "Ensuring proper backup and retention settings for RDS instances is critical for data protection, disaster recovery preparedness, and regulatory compliance.\n",
        "Please review the link and follow the below steps: https://console.aws.amazon.com/rds/home?region=<<region>>#database:id=<<dbinstance>>.\n",
        "To enable RDS backups and set the retention criteria, follow these steps:\n",
        "Access the AWS Management Console\n",
        "-> Navigate to the RDS dashboard\n",
        "-> Locate the target RDS instance: cc-dev-db\n",
        "-> In the 'Backup' tab, click 'Modify' to adjust the retention period\n",
        "-> Set the retention period to meet or exceed the minimum requirement 30\n",
        "-> Save the changes to update the retention settings."
      ]
    },
    {
      "cell_type": "markdown",
      "metadata": {
        "id": "7YZZUm3BbBmH"
      },
      "source": [
        "# 7. Control Setup Details"
      ]
    },
    {
      "cell_type": "markdown",
      "metadata": {
        "id": "uEBUWGk3rUe7"
      },
      "source": [
        "| Control Details            |                               |\n",
        "|----------------------------|-------------------------------|\n",
        "| **RuleName**               | VerifyDBRetentionPeriod       |\n",
        "| **PreRequisiteRuleNames**  | -                             |\n",
        "| **ExtendedSchemaRuleNames**| -                             |\n",
        "| **ApplicationClassName**   | AWSAppConnector               |\n",
        "| **PostSynthesizerName**    |                               |"
      ]
    }
  ],
  "metadata": {
    "colab": {
      "provenance": []
    },
    "kernelspec": {
      "display_name": "Python 3",
      "name": "python3"
    },
    "language_info": {
      "name": "python"
    }
  },
  "nbformat": 4,
  "nbformat_minor": 0
}
