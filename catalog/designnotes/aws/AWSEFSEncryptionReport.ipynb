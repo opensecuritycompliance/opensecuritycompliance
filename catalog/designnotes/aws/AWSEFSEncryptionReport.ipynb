{
  "cells": [
    {
      "cell_type": "markdown",
      "metadata": {
        "id": "sFlmicb0Mlse"
      },
      "source": [
        "# Step 1: Evidence Details\n",
        "\n",
        "|System|Source of data|\n",
        "|---|---|\n",
        "|kubernetes, aws|compliancecow|\n",
        "\n",
        "```\n",
        "Purpose: The purpose of this control is to ensure that production databases are encrypted.\n",
        "```\n",
        "```\n",
        "\n",
        "RecomendedEvidenceName: AWSEFSEncryptionReport\n",
        "```"
      ]
    },
    {
      "cell_type": "markdown",
      "metadata": {
        "id": "HwaAN4PWRC-_"
      },
      "source": [
        "# Step 2: Define the System Specific Data (a.k.a Extended Data Schema)"
      ]
    },
    {
      "cell_type": "code",
      "execution_count": null,
      "metadata": {
        "id": "a7nxEIiVcL4t"
      },
      "outputs": [],
      "source": [
        "# Kubernetes volume\n",
        "\n",
        "{\n",
        "        \"System\": \"kubernetes\",\n",
        "        \"Source\": \"compliancecow\",\n",
        "        \"ResourceID\": \"b710298e-b204-4098-aa29-vafevasdr\",\n",
        "        \"ResourceName\": \"testvolume\",\n",
        "        \"ResourceType\": \"PersistentVolume\",\n",
        "        \"Version\": \"84988188\",\n",
        "        \"CreatedDateTime\": \"2024-06-29T07:39:18Z\",\n",
        "        \"Storage\": \"1Gi\",\n",
        "        \"ClaimName\": \"testvolume-pvc\",\n",
        "        \"ClaimNameSpace\": \"test\",\n",
        "        \"ClaimID\": \"\",\n",
        "        \"AccessModes\": [\n",
        "            \"ReadWriteMany\"\n",
        "        ],\n",
        "        \"VolumeHandle\": \"fs-024255135fc0b769d0::fsap-05f5f9kvnasco\",\n",
        "        \"ClusterName\": \"cluster-test\"\n",
        "}\n",
        "\n",
        "# AWS EFS\n",
        "\n",
        "{\n",
        "        \"System\": \"aws\",\n",
        "        \"Source\": \"compliancecow\",\n",
        "        \"ResourceID\": \"fs-024255135fc0b769d0\",\n",
        "        \"ResourceName\": \"test-efs\",\n",
        "        \"ResourceType\": \"Elastic File System\",\n",
        "        \"ResourceURL\": \"https://us-west-2.console.aws.amazon.com/efs/home?region=us-west-2#/file-systems/fs-024255135fc0b769d0\",\n",
        "        \"Account\": \"012345678\",\n",
        "        \"NumberOfMountTargets\": 2,\n",
        "        \"SizeInBytes\": 15743498240,\n",
        "        \"CreatedDateTime\": \"2023-10-05T06:49:03.000000Z\",\n",
        "        \"IsEncrypted\": true,\n",
        "        \"KmsKeyID\": \"vcsdkvkj34-a82e-4fda-95fd-9315c861e507\",\n",
        "        \"KeyManager\": \"AWS\",\n",
        "        \"KeyRotationEnabled\": true,\n",
        "        \"KeyLastRotationDate\": \"2024-01-18T23:02:02.299000Z\",\n",
        "        \"KeyNextRotationDate\": \"2025-01-17T23:02:02.299000Z\"\n",
        "}\n",
        "\n"
      ]
    },
    {
      "cell_type": "markdown",
      "metadata": {
        "id": "OMfAqx9AZD-R"
      },
      "source": [
        "# Step 3: Define the Standard Schema\n",
        "  \n"
      ]
    },
    {
      "cell_type": "code",
      "execution_count": null,
      "metadata": {
        "id": "rjwrF9FPg9kE"
      },
      "outputs": [],
      "source": [
        "{\n",
        "        \"System\": \"aws, kubernetes\",\n",
        "        \"Source\": \"compliancecow\",\n",
        "        \"ResourceID\": \"fs-024255135fc0b769d0\",\n",
        "        \"ResourceName\": \"test-efs\",\n",
        "        \"ResourceType\": \"AWS - Elastic File System\",\n",
        "        \"ResourceURL\": \"https://us-west-2.console.aws.amazon.com/efs/home?region=us-west-2#/file-systems/fs-024255135fc0b769d0\",\n",
        "        \"CreatedDateTime\": \"2024-06-29T07:18:48.000000Z\",\n",
        "        \"IsEncrypted\": true,\n",
        "        \"KmsKeyID\": \"vcsdkvkj34-a82e-4fda-95fd-9315c861e507\",\n",
        "        \"KeyManager\": \"AWS\",\n",
        "        \"KeyLastRotationDate\": \"2024-01-18T23:02:02.299000Z\",\n",
        "        \"K8sClusterName\": \"cluster-test\",\n",
        "        \"K8sVolume\": \"testvolume\",\n",
        "        \"K8sVolumeID\": \"b710298e-b204-4098-aa29-vafevasdr\",\n",
        "        \"K8sVolumeClaim\": \"testvolume-pvc\",\n",
        "        \"K8sNamespace\": \"test\",\n",
        "        \"ValidationStatusCode\": \"EFS_ENCR\",\n",
        "        \"ValidationStatusNotes\": \"Elastic File System is encrypted\",\n",
        "        \"ComplianceStatus\": \"COMPLIANT\",\n",
        "        \"ComplianceStatusReason\": \"The record is compliant as the EFS 'test-efs' is encrypted. Encrypting volumes in Kubernetes enhances data security and ensuring compliance with regulatory standards without compromising performance or scalability.\",\n",
        "        \"EvaluatedTime\": \"2024-07-01T10:27:46.924635Z\",\n",
        "        \"UserAction\": \"\",\n",
        "        \"ActionStatus\": \"\",\n",
        "        \"ActionResponseURL\": \"\"\n",
        "  }"
      ]
    },
    {
      "cell_type": "markdown",
      "metadata": {
        "id": "vQQKJKfUabxd"
      },
      "source": [
        "# Step 3.a: Sample Data\n",
        "\n",
        "| System          | Source          | ResourceID               | ResourceName | ResourceType               | ResourceURL                                                                                                        | CreatedDateTime              | IsEncrypted | KmsKeyID                                | KeyManager | KeyLastRotationDate        | K8sClusterName | K8sVolume  | K8sVolumeID                    | K8sVolumeClaim  | K8sNamespace | ValidationStatusCode | ValidationStatusNotes          | ComplianceStatus | ComplianceStatusReason                                                                                                           | EvaluatedTime              | UserAction | ActionStatus | ActionResponseURL |\n",
        "|-----------------|-----------------|--------------------------|--------------|----------------------------|-------------------------------------------------------------------------------------------------------------------|----------------------------|-------------|------------------------------------------|------------|-----------------------------|----------------|------------|--------------------------------|-----------------|--------------|----------------------|--------------------------------|------------------|--------------------------------------------------------------------------------------------------------------------------------|----------------------------|------------|--------------|-------------------|\n",
        "| aws, kubernetes | compliancecow   | fs-024255135fc0b769d0    | test-efs     | AWS - Elastic File System  | [https://us-west-2.console.aws.amazon.com/efs/home?region=us-west-2#/file-systems/fs-024255135fc0b769d0](https://us-west-2.console.aws.amazon.com/efs/home?region=us-west-2#/file-systems/fs-024255135fc0b769d0) | 2024-06-29T07:18:48.000000Z | True        | vcsdkvkj34-a82e-4fda-95fd-9315c861e507 | AWS        | 2024-01-18T23:02:02.299000Z | cluster-test   | testvolume | b710298e-b204-4098-aa29-vafevasdr | testvolume-pvc  | test         | EFS_ENCR             | Elastic File System is encrypted | COMPLIANT        | The record is compliant as the EFS 'test-efs' is encrypted. Encrypting volumes in Kubernetes enhances data security and ensuring compliance with regulatory standards without compromising performance or scalability. | 2024-07-01T10:27:46.924635Z |            |              |                   |\n"
      ]
    },
    {
      "cell_type": "markdown",
      "metadata": {
        "id": "QbUjHTtbqkJX"
      },
      "source": []
    },
    {
      "cell_type": "markdown",
      "metadata": {
        "id": "bxsZR5l8SiOd"
      },
      "source": [
        "# Step 4: Describe the Compliance Taxonomy\n",
        "\n",
        "| ResourceName\t| IsEncrypted\t | ValidationStatusCode | ValidationStatusNotes| ComplianceStatus | ComplianceStatusReason |\n",
        "|---------|---------|----------------|----------------|----------------------|-------------------------------------------------------------------|\n",
        "|test-efs|true   | EFS_ENCR             | Elastic File System is encrypted | COMPLIANT        | The record is compliant as the EFS 'test-efs' is encrypted. Encrypting volumes in Kubernetes enhances data security and ensuring compliance with regulatory standards without compromising performance or scalability. |\n",
        "|test-efs1|false   | EFS_NOT_ENCR             | Elastic File System is not encrypted | NON_COMPLIANT        | The record is not compliant as the EFS 'test-efs1' is not encrypted. Not encrypting volumes in Kubernetes exposes sensitive data to unauthorized access and potential breaches, while risking non-compliance with regulatory standards and legal consequences. |"
      ]
    },
    {
      "cell_type": "markdown",
      "metadata": {
        "id": "Son7AJzlS0hh"
      },
      "source": [
        "# Step 5: Calculation for Compliance Percentage and Status\n"
      ]
    },
    {
      "cell_type": "code",
      "execution_count": null,
      "metadata": {
        "id": "nZMdcSLnNaQe"
      },
      "outputs": [],
      "source": [
        "# Calculation of Compliance Percentage\n",
        "\n",
        "TotalRecordCount = Count of 'COMPLIANT' and 'NON_COMPLIANT' records\n",
        "FailedRecordCount = Count of 'NON_COMPLIANT' records\n",
        "\n",
        "CompliancePCT = int(100 - ((FailedRecordCount * 100) / TotalRecordCount))\n",
        "\n",
        "Compliance Status\n",
        "COMPLIANT - 100%\n",
        "NON_COMPLIANT - 0% to less than 100%"
      ]
    },
    {
      "cell_type": "markdown",
      "metadata": {
        "id": "uVDZ3Jv9TKZx"
      },
      "source": [
        "# Step 6: Describe (in words) the Remediation Steps for Non-Compliance"
      ]
    },
    {
      "cell_type": "markdown",
      "metadata": {
        "id": "IS5_pE75TfxN"
      },
      "source": [
        "Remediation notes:\n",
        "\n",
        "1. Log in to the AWS Management Console:\n",
        "◦ Access the\n",
        "AWS Management Console\n",
        "and log in.\n",
        "2. Navigate to the Amazon EFS Service:\n",
        "◦ Click on \"Services\" and select \"EFS\" under \"Storage\".\n",
        "3. Create a New Encrypted EFS File System:\n",
        "◦ Click on \"Create file system\" and configure a new EFS file system with encryption enabled (choose AWS Managed CMK or Customer Managed CMK).\n",
        "4. Copy Data to the New Encrypted EFS File System:\n",
        "◦ Mount the new encrypted EFS file system to your Kubernetes cluster or EC2 instances.\n",
        "◦ Transfer existing data from the old EFS file system to the new encrypted EFS file system using tools like rsync.\n",
        "5. Update Configurations:\n",
        "◦ Update any references or configurations in your Kubernetes cluster or applications to point to the new encrypted EFS file system.\n",
        "By following these steps, you can securely transition to a new encrypted EFS file system for your Kubernetes cluster, enhancing data security"
      ]
    },
    {
      "cell_type": "markdown",
      "metadata": {
        "id": "trjrGTI6N3wv"
      },
      "source": [
        "# 7. Control Setup Details"
      ]
    },
    {
      "cell_type": "markdown",
      "metadata": {
        "id": "IHKtasdRN6-V"
      },
      "source": [
        "| Control Details            |                               |\n",
        "|----------------------------|-------------------------------|\n",
        "| **RuleName**               |    AWSEFSEncryptionReport |\n",
        "| **ApplicationClassName**   |    Kubernetes, AWSAppConnector            |"
      ]
    }
  ],
  "metadata": {
    "colab": {
      "provenance": []
    },
    "kernelspec": {
      "display_name": "Python 3",
      "name": "python3"
    },
    "language_info": {
      "name": "python"
    }
  },
  "nbformat": 4,
  "nbformat_minor": 0
}
