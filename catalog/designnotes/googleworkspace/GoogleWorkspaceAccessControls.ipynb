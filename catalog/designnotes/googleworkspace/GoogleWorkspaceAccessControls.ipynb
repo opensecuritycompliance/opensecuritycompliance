{
  "cells": [
    {
      "cell_type": "markdown",
      "metadata": {
        "id": "sFlmicb0Mlse"
      },
      "source": [
        "# Step 1: Evidence Details\n",
        "\n",
        "|System|Source of data|Frameworks|Purpose|\n",
        "|---|---|---|---|\n",
        "|google_workspace|compliancecow||Require and enforce the use of phishing-resistant authenticators to establish and maintain administrative sessions|\n",
        "\n",
        "```\n",
        "Purpose: The purpose of this control is to enhance security measures by mandating the use of phishing-resistant authenticators, thereby mitigating the risk of unauthorized access during administrative sessions. By enforcing this requirement, organizations aim to fortify their systems against phishing attacks and ensure the integrity of administrative access, safeguarding sensitive information and resources.\n",
        "```\n",
        "```\n",
        "\n",
        "RecomendedEvidenceName: EnforcePhishingResistantMFA\n",
        "```"
      ]
    },
    {
      "cell_type": "markdown",
      "metadata": {
        "id": "HwaAN4PWRC-_"
      },
      "source": [
        "# Step 2: Define the System Specific Data (a.k.a Extended Data Schema)"
      ]
    },
    {
      "cell_type": "code",
      "execution_count": null,
      "metadata": {
        "id": "a7nxEIiVcL4t"
      },
      "outputs": [],
      "source": [
        "\"Users\": [\n",
        "    dd{\n",
        "\t\t\"System\": \"google_workspace\",\n",
        "\t\t\"Source\": \"compliancecow\",\n",
        "\t\t\"ResourceType\": \"user\",\n",
        "\t\t\"ResourceID\": \"185794837502723425\",\n",
        "\t\t\"ResourceName\": \"John Daniel\",\n",
        "\t\t\"Email\": \"John.Daniel@test.com\",\n",
        "\t\t\"LastLogin\": \"2024-03-26T19:58:34.000Z\",\n",
        "\t\t\"CreationDate\": \"2021-04-08T06:31:32.000Z\",\n",
        "\t\t\"IsAdmin\": true,\n",
        "\t\t\"IsEnforcedIn2Sv\": false,\n",
        "\t\t\"IsEnrolledIn2Sv\": false,\n",
        "\t\t\"AccountStatus\": \"Active\",\n",
        "\t\t\"DeletionDate\": \"\",\n",
        "\t\t\"SuspendedReason\": \"\",\n",
        "\t\t\"Manager\": \"\",\n",
        "\t\t\"DeviceAssociations\": \"\",\n",
        "\t\t\"Permissions\": \"\",\n",
        "\t\t\"ExternalAccess\": \"\",\n",
        "\t\t\"TerminationConfirmedBy\": \"\",\n",
        "\t\t\"TerminationConfirmationDate\": \"\",\n",
        "\t\t\"AdditionalInformation\": \"\",\n",
        "\t\t\"Groups\": [\n",
        "\t\t\t{\n",
        "\t\t\t\t\"groupName\": \"audit_group\",\n",
        "\t\t\t\t\"groupEmailID\": \"audit_group@test.com\",\n",
        "\t\t\t\t\"role\": \"MEMBER\",\n",
        "\t\t\t\t\"status\": \"ACTIVE\"\n",
        "\t\t\t},\n",
        "\t\t\t{\n",
        "\t\t\t\t\"groupName\": \"report\",\n",
        "\t\t\t\t\"groupEmailID\": \"report@test.com\",\n",
        "\t\t\t\t\"role\": \"OWNER\",\n",
        "\t\t\t\t\"status\": \"ACTIVE\"\n",
        "\t\t\t}\n",
        "\t\t],\n",
        "\t\t\"Roles\": [\n",
        "\t\t\t\"ADMIN_ROLE\"\n",
        "\t\t],\n",
        "\t\t\"Privileges\": [\n",
        "\t\t\t\"ROOT_APP_ADMIN\",\n",
        "\t\t\t\"SUPER_ADMIN\"\n",
        "\t\t]\n",
        "\t}]\n"
      ]
    },
    {
      "cell_type": "markdown",
      "metadata": {
        "id": "OMfAqx9AZD-R"
      },
      "source": [
        "# Step 3: Define the Standard Schema\n",
        "  \n"
      ]
    },
    {
      "cell_type": "code",
      "execution_count": null,
      "metadata": {
        "id": "rjwrF9FPg9kE"
      },
      "outputs": [],
      "source": [
        "#R2.01 Require and enforce the use of phishing-resistant authenticators to establish and maintain administrative sessions.\n",
        "#// Call the Directory API to list users\n",
        "  #directoryService, err := admin.NewService(context.Background(), option.WithHTTPClient(httpClient))\n",
        "\t#users, err := directoryService.Users.List().Domain(domain).Do()\n",
        "\n",
        "{\n",
        "\t\t\"System\": \"google_workspace\",\n",
        "\t\t\"Source\": \"compliancecow\",\n",
        "\t\t\"ResourceID\": \"185794837502723425\",\n",
        "\t\t\"ResourceName\": \"CO 1\",\n",
        "\t\t\"ResourceType\": \"user\",\n",
        "\t\t\"ResourceUrl\": \"\",\n",
        "\t\t\"Email\": \"co1@riskdevops.com\",\n",
        "\t\t\"LastLogin\": \"2024-02-19T15:16:27.000Z\",\n",
        "\t\t\"CreationDate\": \"2024-02-06T19:10:34.000Z\",\n",
        "\t\t\"IsAdmin\": false,\n",
        "\t\t\"IsMFAEnrolled\": false,\n",
        "\t\t\"IsMFAEnforced\": false,\n",
        "\t\t\"AccountStatus\": \"Active\",\n",
        "\t\t\"DeletionDate\": \"\",\n",
        "\t\t\"ValidationStatusCode\": \"AD_F_2F_ER_F_2F_EF_F\",\n",
        "\t\t\"ValidationStatusNotes\": \"Admin false, 2FA Enrolled false, 2FA Enforced false\\t\",\n",
        "\t\t\"ComplianceStatus\": \"NON COMPLIANT\",\n",
        "\t\t\"ComplianceStatusReason\": \"The record does not meet compliance standards due to the absence of MFA being enabled for the user\",\n",
        "\t\t\"EvaluatedTime\": \"\",\n",
        "\t\t\"UserAction\": \"\",\n",
        "\t\t\"ActionStatus\": \"\",\n",
        "\t\t\"ActionResponseURL\": \"\"\n",
        "\t}"
      ]
    },
    {
      "cell_type": "markdown",
      "metadata": {
        "id": "vQQKJKfUabxd"
      },
      "source": [
        "# Step 3.a: Sample Data\n",
        "\n",
        "| System            | Source       | ResourceType | ResourceId | ResourceName | ResourceUrl | Email                  | LastLogin            | CreationDate | IsAdmin | IsMFAEnrolled | IsMFAEnforced | AccountStatus | DeletionTime | ValidationStatusCode    | ValidationStatusNotes                                                        | ComplianceStatus | ComplianceStatusReason                                                    | EvaluatedTime           | UserAction | ActionStatus | ActionResponseURL |\n",
        "|-------------------|--------------|--------------|------------|--------------|-------------|------------------------|----------------------|--------------|---------|----------------|----------------|---------------|----------------|-------------------------|----------------------------------------------------------------------------|------------------|---------------------------------------------------------------------------|--------------------------|-------------|--------------|-------------------|\n",
        "| google_workspace | compliancecow | User         | 78411424        | JohnDaniel     |             | JohnDaniel@example.com  | 2024-03-19T14:20:00Z | 2020-11-10   | true    | false          | false          | Suspended     |      | AD_F_2F_ER_F_2F_EF_F\t | Admin false, 2FA Enrolled false, 2FA Enforced false  | NON_COMPLIANT | The record does not meet compliance standards due to the absence of two step verfication being enabled for the user\n"
      ]
    },
    {
      "cell_type": "markdown",
      "metadata": {
        "id": "bxsZR5l8SiOd"
      },
      "source": [
        "# Step 4: Describe the Compliance Taxonomy\n",
        "\n",
        "| IsAdmin | IsMFAEnrolled | IsMFAEnforced | ValidationStatusCode | ValidationStatusNotes| ComplianceStatus | ComplianceStatusReason |\n",
        "|---------|----------------|----------------|----------------------|-------------------------------------------------------------------|------------------|------------|\n",
        "|false   | false          | false          | AD_F_2F_ER_F_2F_EF_F | Admin false, 2FA Enrolled false, 2FA Enforced false                      | NON_COMPLIANT |The record does not meet compliance standards due to the absence of two step verfication being enabled for the user|\n",
        "| true   | false           | false           | AD_T_2F_ER_F_2F_EF_F | Admin true, 2FA Enrolled false, 2FA Enforced false                 | NON_COMPLIANT        | The record does not meet compliance standards due to the absence of two step verfication being enforced for the user|\n",
        "| true   | true           | true           | AD_T_2F_ER_T_2F_EF_T | Admin true, 2FA Enrolled true, 2FA Enforced true                 | COMPLIANT        | The record meets compliance standards due to the presence of two step verfication being enabled for the user|\n",
        "| false   | true           | true           | AD_F_2F_ER_T_2F_EF_T | Admin false, 2FA Enrolled true, 2FA Enforced true                 | COMPLIANT        | The record meets compliance standards due to the presence of two step verfication being enabled for the user|\n",
        "| false   | false           | true           | AD_F_2F_ER_F_2F_EF_T | Admin false, 2FA Enrolled false, 2FA Enforced true                 | NON_COMPLIANT        | The record does not meet compliance standards due to the absence of two step verfication being enforced for the user|\n",
        "| true   | false           | true           | AD_T_2F_ER_F_2F_EF_T | Admin true, 2FA Enrolled false, 2FA Enforced true                 | NON_COMPLIANT        | The record does not meet compliance standards due to the absence of two step verfication being enforced for the user|\n",
        "| false   | true           | false           | AD_F_2F_ER_T_2F_EF_F | Admin false, 2FA Enrolled true, 2FA Enforced false                 | NON_COMPLIANT        | The record does not meet compliance standards due to the absence of two step verfication being enrolled for the user|\n",
        "| true   | true           | false           | AD_T_2F_ER_T_2F_EF_F | Admin true, 2FA Enrolled true, 2FA Enforced false                 | NON_COMPLIANT        | The record does not meet compliance standards due to the absence of two step verfication being enrolled for the user|\n"
      ]
    },
    {
      "cell_type": "markdown",
      "metadata": {
        "id": "Son7AJzlS0hh"
      },
      "source": [
        "# Step 5: Calculation for Compliance Percentage and Status\n"
      ]
    },
    {
      "cell_type": "code",
      "execution_count": null,
      "metadata": {
        "id": "nZMdcSLnNaQe"
      },
      "outputs": [],
      "source": [
        "# Calculation of Compliance Percentage\n",
        "\n",
        "TotalRecordCount = Count of 'COMPLIANT' and 'NON_COMPLIANT' records\n",
        "FailedRecordCount = Count of 'NON_COMPLIANT' records\n",
        "\n",
        "CompliancePCT = int(100 - ((FailedRecordCount * 100) / TotalRecordCount))\n",
        "\n",
        "Compliance Status\n",
        "COMPLIANT - 100%\n",
        "NON_COMPLIANT - 0% to less than 100%"
      ]
    },
    {
      "cell_type": "markdown",
      "metadata": {
        "id": "uVDZ3Jv9TKZx"
      },
      "source": [
        "# Step 6: Describe (in words) the Remediation Steps for Non-Compliance"
      ]
    },
    {
      "cell_type": "markdown",
      "metadata": {
        "id": "IS5_pE75TfxN"
      },
      "source": [
        "Remediation notes:\n",
        "\n",
        "Importance of 2-Factor Authentication (2FA): 2FA adds an extra layer of security beyond passwords, significantly reducing the risk of unauthorized access through phishing or stolen credentials.\n",
        "Enabling 2FA in Google Workspace: Access the Google Admin console, navigate to Security > Basic settings, and enable 2FA for all users. Encourage administrators to opt for stronger 2FA methods such as Security Keys or the Google Authenticator app."
      ]
    },
    {
      "cell_type": "markdown",
      "metadata": {
        "id": "trjrGTI6N3wv"
      },
      "source": [
        "# 7. Control Setup Details"
      ]
    },
    {
      "cell_type": "markdown",
      "metadata": {
        "id": "IHKtasdRN6-V"
      },
      "source": [
        "| Control Details            |                               |\n",
        "|----------------------------|-------------------------------|\n",
        "| **RuleName**               |    GenerateGoogleWorkSpaceTwoSVReport |\n",
        "| **PreRequisiteRuleNames**  |    ListGoogleWorkSpaceUserList        |\n",
        "| **ApplicationClassName**   |    googleworkspaceappconnector            |"
      ]
    }
  ],
  "metadata": {
    "colab": {
      "provenance": []
    },
    "kernelspec": {
      "display_name": "Python 3",
      "name": "python3"
    },
    "language_info": {
      "name": "python"
    }
  },
  "nbformat": 4,
  "nbformat_minor": 0
}