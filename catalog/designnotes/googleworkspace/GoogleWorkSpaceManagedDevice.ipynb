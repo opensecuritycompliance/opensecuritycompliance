{
  "cells": [
    {
      "cell_type": "markdown",
      "metadata": {
        "id": "sFlmicb0Mlse"
      },
      "source": [
        "# Step 1: Evidence Details\n",
        "\n",
        "|System|Source of data|Frameworks|Purpose|\n",
        "|---|---|---|---|\n",
        "|google_workspace|compliancecow||Enforce the use of managed devices for administrative sessions|\n",
        "\n",
        "```\n",
        "Purpose: The purpose of this control is to generate a report of managed devices for administrative sessions, as it is a crucial aspect of ensuring security and control over your network.\n",
        "```\n",
        "```\n",
        "\n",
        "RecomendedEvidenceName: GoogleWorkSpaceManagedDeviceReport\n",
        "```"
      ]
    },
    {
      "cell_type": "markdown",
      "metadata": {
        "id": "HwaAN4PWRC-_"
      },
      "source": [
        "# Step 2: Define the System Specific Data (a.k.a Extended Data Schema)"
      ]
    },
    {
      "cell_type": "code",
      "execution_count": null,
      "metadata": {
        "id": "a7nxEIiVcL4t"
      },
      "outputs": [],
      "source": [
        "{\n",
        "\t\t\"System\": \"google_workspace\",\n",
        "\t\t\"Source\": \"compliancecow\",\n",
        "\t\t\"ResourceId\": \"1234-1340-347a-342c-439weuj\",\n",
        "\t\t\"ResourceType\": \"ANDROID\",\n",
        "\t\t\"Status\": \"APPROVED\",\n",
        "\t\t\"DeviceCompromisedStatus\": \"Undetected\",\n",
        "\t\t\"DevicePasswordStatus\": \"On\",\n",
        "\t\t\"FirstSync\": \"2024-02-28T02:32:47.572Z\",\n",
        "\t\t\"LastSync\": \"2024-02-28T02:32:51.035Z\",\n",
        "\t\t\"OS\": \"iOS 17.3.1\",\n",
        "\t\t\"Privilege\": \"Undetected\",\n",
        "\t\t\"UserEmail\": [\n",
        "\t\t\t\"JohnDaniel@gmail.com,\n",
        "\t\t\t\"MamiBaiu@gmail.com,\n",
        "\t\t],\n",
        "\t\t\"UserName\": [\n",
        "\t\t\t\"John\"\n",
        "\t\t]\n",
        "\t}"
      ]
    },
    {
      "cell_type": "markdown",
      "metadata": {
        "id": "OMfAqx9AZD-R"
      },
      "source": [
        "# Step 3: Define the Standard Schema\n",
        "  \n"
      ]
    },
    {
      "cell_type": "code",
      "execution_count": null,
      "metadata": {
        "id": "rjwrF9FPg9kE"
      },
      "outputs": [],
      "source": [
        "[\n",
        "\t{\n",
        "\t\t\"System\": \"google_workspace\",\n",
        "\t\t\"Source\": \"compliancecow\",\n",
        "\t\t\"ResourceId\": \"1234-1340-347a-342c-439weuj\",\n",
        "\t\t\"ResourceType\": \"ANDROID\",\n",
        "\t\t\"ResourceUrl\": \"\",\n",
        "\t\t\"Status\": \"APPROVED\",\n",
        "\t\t\"UserEmail\": [\n",
        "\t\t\t\"JohnDaniel@gmail.com,\n",
        "\t\t\t\"MamiBaiu@gmail.com,\n",
        "\t\t],\n",
        "\t\t\"UserName\": [\n",
        "\t\t\t\"John\"\n",
        "\t\t]\n",
        "\t\t\"ValidationStatusCode\": \"MB_DV_APD\",\n",
        "\t\t\"ValidationStatusNotes\": \"Mobile device is approved\",\n",
        "\t\t\"ComplianceStatus\": \"COMPLIANT\",\n",
        "\t\t\"ComplianceStatusReason\": \"The record is complaint as the mobile device is managed in user's google workspace account\",\n",
        "\t\t\"EvaluatedTime\": \"\",\n",
        "\t\t\"UserAction\": \"\",\n",
        "\t\t\"ActionStatus\": \"\",\n",
        "\t\t\"ActionResponseURL\": \"\"\n",
        "\t}\n",
        "]"
      ]
    },
    {
      "cell_type": "markdown",
      "metadata": {
        "id": "vQQKJKfUabxd"
      },
      "source": [
        "# Step 3.a: Sample Data\n",
        "\n",
        "| System| Source | ResourceID | ResourceType | ResourceUrl | Status | UserEmail | ValidationStatusCode | ValidationStatusNotes| ComplianceStatus | ComplianceStatusReason| EvaluatedTime   | UserAction | ActionStatus | ActionResponseURL |\n",
        "|-------------------|--------------|--------------|------------|--------------|-------------|------------------------|----------------------|--------------|---------|----------------|----------------|---------------|----------------|---------|\n",
        "| google_workspace | compliancecow | 5986-1980-417a-934c-vndfvq309vhweoi | Android ||APPROVED|JohnDaniel@gmail.com|MB_DV_APD|Mobile device is approved|COMPLIANT|The record is complaint as the mobile device is managed in user's google workspace account|||||||\n"
      ]
    },
    {
      "cell_type": "markdown",
      "metadata": {
        "id": "bxsZR5l8SiOd"
      },
      "source": [
        "# Step 4: Describe the Compliance Taxonomy\n",
        "\n",
        "| Status | ValidationStatusCode | ValidationStatusNotes| ComplianceStatus | ComplianceStatusReason |\n",
        "|---------|----------------|----------------|----------------------|-------------------------------------------------------------------|\n",
        "|APPROVED   | MB_DV_APD          | Mobile device is approved          | COMPLIANT | The record is complaint as the mobile device is managed in user's google workspace account|\n",
        "|NOT_APPROVED   | MB_DV_NT_APD          | Mobile device is notapproved          | NON_COMPLIANT | The record is not complaint as the mobile device is not managed in user's google workspace account|"
      ]
    },
    {
      "cell_type": "markdown",
      "metadata": {
        "id": "Son7AJzlS0hh"
      },
      "source": [
        "# Step 5: Calculation for Compliance Percentage and Status\n"
      ]
    },
    {
      "cell_type": "code",
      "execution_count": null,
      "metadata": {
        "id": "nZMdcSLnNaQe"
      },
      "outputs": [],
      "source": [
        "# Calculation of Compliance Percentage\n",
        "\n",
        "TotalRecordCount = Count of 'COMPLIANT' and 'NON_COMPLIANT' records\n",
        "FailedRecordCount = Count of 'NON_COMPLIANT' records\n",
        "\n",
        "CompliancePCT = int(100 - ((FailedRecordCount * 100) / TotalRecordCount))\n",
        "\n",
        "Compliance Status\n",
        "COMPLIANT - 100%\n",
        "NON_COMPLIANT - 0% to less than 100%"
      ]
    },
    {
      "cell_type": "markdown",
      "metadata": {
        "id": "uVDZ3Jv9TKZx"
      },
      "source": [
        "# Step 6: Describe (in words) the Remediation Steps for Non-Compliance"
      ]
    },
    {
      "cell_type": "markdown",
      "metadata": {
        "id": "IS5_pE75TfxN"
      },
      "source": [
        "Remediation notes:\n",
        "\n"
      ]
    },
    {
      "cell_type": "markdown",
      "metadata": {
        "id": "trjrGTI6N3wv"
      },
      "source": [
        "# 7. Control Setup Details"
      ]
    },
    {
      "cell_type": "markdown",
      "metadata": {
        "id": "IHKtasdRN6-V"
      },
      "source": [
        "| Control Details            |                               |\n",
        "|----------------------------|-------------------------------|\n",
        "| **RuleName**               |    GoogleWorkSpaceManagedDevicesReport |\n",
        "| **PreRequisiteRuleNames**  |    ListGoogleWorkSpaceDevices        |\n",
        "| **ApplicationClassName**   |    googleworkspaceappconnector            |"
      ]
    }
  ],
  "metadata": {
    "colab": {
      "provenance": []
    },
    "kernelspec": {
      "display_name": "Python 3",
      "name": "python3"
    },
    "language_info": {
      "name": "python"
    }
  },
  "nbformat": 4,
  "nbformat_minor": 0
}