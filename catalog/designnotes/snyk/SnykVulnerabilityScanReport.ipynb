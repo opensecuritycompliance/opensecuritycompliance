{
  "cells": [
    {
      "cell_type": "markdown",
      "metadata": {
        "id": "sFlmicb0Mlse"
      },
      "source": [
        "# Step 1: Evidence Details\n",
        "\n",
        "|System|Source of data|Frameworks|\n",
        "|---|---|---|\n",
        "|snyk|compliancecow |snyk |\n",
        "\n",
        "**Purpose:**<br>\n",
        "The purpose of the framework is to identify and assess security vulnerabilities within containerized applications by utilizing Snyk's scanning capabilities, thereby ensuring the integrity and security of container environments. This proactive measure helps in mitigating potential risks and maintaining robust container security.\n",
        "\n",
        "```\n",
        "RecomendedEvidenceName: SnykScanReport\n",
        "```"
      ]
    },
    {
      "cell_type": "markdown",
      "metadata": {
        "id": "HwaAN4PWRC-_"
      },
      "source": [
        "# Step 2: Define the System Specific Data (a.k.a Extended Data Schema)"
      ]
    },
    {
      "cell_type": "code",
      "execution_count": null,
      "metadata": {
        "id": "4Q2daoJVtCXt"
      },
      "outputs": [],
      "source": [
        "# List organization details\n",
        "\n",
        "{\n",
        "    \"orgs\": [\n",
        "        {\n",
        "            \"id\": \"fe1d0717-f7ec-47de-9d8c-624d42d172a5\",\n",
        "            \"name\": \"compliancecow12\",\n",
        "            \"slug\": \"compliancecow12\",\n",
        "            \"url\": \"https://app.snyk.io/org/compliancecow12\",\n",
        "            \"group\": {\n",
        "                \"name\": \"compliancecow12 Group\",\n",
        "                \"id\": \"0e7600f2-7cb0-461d-9ef3-9328e46af82a\"\n",
        "            }\n",
        "        }\n",
        "    ]\n",
        "}"
      ]
    },
    {
      "cell_type": "code",
      "execution_count": null,
      "metadata": {
        "id": "fl3bTQaTtCXu"
      },
      "outputs": [],
      "source": [
        "# Get project details\n",
        "\n",
        "{\n",
        "    \"name\": \"minio/minio:RELEASE.2022-06-06T23-14-52Z\",\n",
        "    \"id\": \"0e7600f2-7cb0-461129ef3-9328e46af82a\",\n",
        "    \"created\": \"2024-06-12T07:02:22.296Z\",\n",
        "    \"origin\": \"docker-hub\",\n",
        "    \"type\": \"rpm\",\n",
        "    \"readOnly\": false,\n",
        "    \"testFrequency\": \"daily\",\n",
        "    \"totalDependencies\": 130,\n",
        "    \"issueCountsBySeverity\": {\n",
        "        \"low\": 83,\n",
        "        \"high\": 64,\n",
        "        \"medium\": 135,\n",
        "        \"critical\": 0\n",
        "    },\n",
        "    \"imageId\": \"sha256:92ffb873030267f33f3faf34f0c3573792b9ba72a252281f1450c4339b64f532\",\n",
        "    \"imageTag\": \"RELEASE.2022-06-06T23-14-52Z\",\n",
        "    \"imagePlatform\": \"linux/amd64\",\n",
        "    \"imageBaseImage\": \"redhat/ubi8-minimal:8.5-243.1651231653\",\n",
        "    \"hostname\": null,\n",
        "    \"lastTestedDate\": \"2024-06-12T07:02:26.901Z\",\n",
        "    \"browseUrl\": \"https://app.snyk.io/org/compliancecow12/project/0e7600f2-7cb0-461129ef3-9328e46af82a\",\n",
        "    \"owner\": {\n",
        "        \"id\": \"864h00f2-23b0-461129ef3-9328e46af82a\",\n",
        "        \"name\": \"Lokesh B\",\n",
        "        \"username\": \"lokesh.b\",\n",
        "        \"email\": \"lokesh.b@continube.com\"\n",
        "    },\n",
        "    \"importingUser\": {\n",
        "        \"id\": \"864h00f2-23b0-461129ef3-9328e46af82a\",\n",
        "        \"name\": \"Lokesh B\",\n",
        "        \"username\": \"lokesh.b\",\n",
        "        \"email\": \"lokesh.b@continube.com\"\n",
        "    },\n",
        "    \"isMonitored\": true,\n",
        "    \"tags\": [],\n",
        "    \"attributes\": {\n",
        "        \"criticality\": [],\n",
        "        \"lifecycle\": [],\n",
        "        \"environment\": []\n",
        "    },\n",
        "    \"remediation\": {\n",
        "        \"pin\": {},\n",
        "        \"patch\": {},\n",
        "        \"upgrade\": {}\n",
        "    },\n",
        "    \"branch\": null,\n",
        "    \"targetReference\": \"RELEASE.2022-06-06T23-14-52Z\"\n",
        "}"
      ]
    },
    {
      "cell_type": "code",
      "execution_count": null,
      "metadata": {
        "id": "9m9u5MipQzOn"
      },
      "outputs": [],
      "source": [
        "# Get project's aggregated issues\n",
        "{\n",
        "    \"issues\": [\n",
        "        {\n",
        "            \"id\": \"SNYK-RHEL8-LIBNGHTTP2-5958698\",\n",
        "            \"issueType\": \"vuln\",\n",
        "            \"pkgName\": \"libnghttp2\",\n",
        "            \"pkgVersions\": [\n",
        "                \"1.33.0-3.el8_2.1\"\n",
        "            ],\n",
        "            \"issueData\": {\n",
        "                \"id\": \"SNYK-RHEL8-LIBNGHTTP2-5958698\",\n",
        "                \"title\": \"Resource Exhaustion\",\n",
        "                \"severity\": \"high\",\n",
        "                \"url\": \"https://snyk.io/vuln/SNYK-RHEL8-LIBNGHTTP2-5958698\",\n",
        "                \"description\": \"## NVD Description\\n**_Note:_** _Versions mentioned in the description apply only to the upstream `libnghttp2` package and not the `libnghttp2` package as distributed by `RHEL`._\\n_See `How to fix?` for `RHEL:8` relevant fixed versions and status._\\n\\nThe HTTP/2 protocol allows a denial of service (server resource consumption) because request cancellation can reset many streams quickly, as exploited in the wild in August through October 2023.\\n## Remediation\\nUpgrade `RHEL:8` `libnghttp2` to version 0:1.33.0-5.el8_8 or higher.\",\n",
        "                \"identifiers\": {\n",
        "                    \"CVE\": [\n",
        "                        \"CVE-2023-44487\"\n",
        "                    ],\n",
        "                    \"CWE\": [\n",
        "                        \"CWE-400\"\n",
        "                    ],\n",
        "                    \"ALTERNATIVE\": []\n",
        "                },\n",
        "                \"credit\": [\n",
        "                    \"\"\n",
        "                ],\n",
        "                \"exploitMaturity\": \"mature\",\n",
        "                \"semver\": {\n",
        "                    \"vulnerable\": [\n",
        "                        \"<0:1.33.0-5.el8_8\"\n",
        "                    ]\n",
        "                },\n",
        "                \"publicationTime\": \"2023-10-11T08:24:03.907781Z\",\n",
        "                \"disclosureTime\": \"2023-10-10T00:00:00Z\",\n",
        "                \"CVSSv3\": \"CVSS:3.1/AV:N/AC:L/PR:N/UI:N/S:U/C:N/I:N/A:H/E:H\",\n",
        "                \"cvssScore\": 7.5,\n",
        "                \"cvssDetails\": [\n",
        "                    {\n",
        "                        \"assigner\": \"NVD\",\n",
        "                        \"severity\": \"high\",\n",
        "                        \"cvssV3Vector\": \"CVSS:3.1/AV:N/AC:L/PR:N/UI:N/S:U/C:N/I:N/A:H\",\n",
        "                        \"cvssV3BaseScore\": 7.5,\n",
        "                        \"modificationTime\": \"2024-03-11T09:53:41.402458Z\"\n",
        "                    },\n",
        "                    {\n",
        "                        \"assigner\": \"SUSE\",\n",
        "                        \"severity\": \"high\",\n",
        "                        \"cvssV3Vector\": \"CVSS:3.1/AV:N/AC:L/PR:N/UI:N/S:U/C:N/I:N/A:H\",\n",
        "                        \"cvssV3BaseScore\": 7.5,\n",
        "                        \"modificationTime\": \"2024-03-11T09:53:41.426930Z\"\n",
        "                    },\n",
        "                    {\n",
        "                        \"assigner\": \"Red Hat\",\n",
        "                        \"severity\": \"high\",\n",
        "                        \"cvssV3Vector\": \"CVSS:3.1/AV:N/AC:L/PR:N/UI:N/S:U/C:N/I:N/A:H\",\n",
        "                        \"cvssV3BaseScore\": 7.5,\n",
        "                        \"modificationTime\": \"2024-03-11T09:54:02.197243Z\"\n",
        "                    }\n",
        "                ],\n",
        "                \"language\": \"linux\",\n",
        "                \"patches\": [],\n",
        "                \"nearestFixedInVersion\": \"0:1.33.0-5.el8_8\",\n",
        "                \"isMaliciousPackage\": false\n",
        "            },\n",
        "            \"isPatched\": false,\n",
        "            \"isIgnored\": false,\n",
        "            \"fixInfo\": {\n",
        "                \"isUpgradable\": true,\n",
        "                \"isPinnable\": false,\n",
        "                \"isPatchable\": false,\n",
        "                \"isFixable\": true,\n",
        "                \"isPartiallyFixable\": false,\n",
        "                \"nearestFixedInVersion\": \"0:1.33.0-5.el8_8\",\n",
        "                \"fixedIn\": [\n",
        "                    \"0:1.33.0-5.el8_8\"\n",
        "                ]\n",
        "            },\n",
        "            \"priorityScore\": 829,\n",
        "            \"priority\": {\n",
        "                \"score\": 829,\n",
        "                \"factors\": [\n",
        "                    {\n",
        "                        \"name\": \"exploitMaturity\",\n",
        "                        \"description\": \"Mature exploit\"\n",
        "                    },\n",
        "                    {\n",
        "                        \"name\": \"isFixable\",\n",
        "                        \"description\": \"Has a fix available\"\n",
        "                    },\n",
        "                    {\n",
        "                        \"name\": \"severity\",\n",
        "                        \"description\": \"High severity\"\n",
        "                    }\n",
        "                ]\n",
        "            },\n",
        "            \"links\": {\n",
        "                \"paths\": \"https://app.snyk.io/api/v1/org/fe1d0717-f7ec-47de-9d8c-624d42d172a5/project/0e7600f2-7cb0-461129ef3-9328e46af82a/history/0c4f8546-c7ad-4a30-ae7a-808b110ea949/issue/SNYK-RHEL8-LIBNGHTTP2-5958698/paths\"\n",
        "            }\n",
        "        }\n",
        "    ]\n",
        "}"
      ]
    },
    {
      "cell_type": "markdown",
      "metadata": {
        "id": "ouhtS-H1SHbX"
      },
      "source": [
        "# Step 3: Define the Standard Schema"
      ]
    },
    {
      "cell_type": "code",
      "execution_count": null,
      "metadata": {
        "id": "h5VGDcUvLGs6"
      },
      "outputs": [],
      "source": [
        "[\n",
        "    {\n",
        "    \"System\": \"snyk\",\n",
        "    \"Source\": \"compliancecow\",\n",
        "    \"ResourceID\": \"0e7600f2-7cb0-461129ef3-9328e46af82a\",\n",
        "    \"ResourceName\": \"minio/minio:RELEASE.2022-06-06T23-14-52Z\",\n",
        "    \"ResourceType\": \"container-image\",\n",
        "    \"ResourceLocation\": \"N/A\",\n",
        "    \"ResourceTag\": [\"RELEASE.2022-06-06T23-14-52Z\"],\n",
        "    \"ResourceURL\": \"https://app.snyk.io/org/compliancecow12/project/0e7600f2-7cb0-461129ef3-9328e46af82a\",\n",
        "    \"CveID\": \"CVE-2023-44487\",\n",
        "    \"PackageName\": \"libnghttp2\",\n",
        "    \"InstalledVersion\": [\n",
        "        \"1.33.0-3.el8_2.1\"\n",
        "    ],\n",
        "    \"FixedVersion\": \"0:1.33.0-5.el8_8\",\n",
        "    \"Title\": \"Resource Exhaustion\",\n",
        "    \"Description\": \"Versions mentioned in the description apply only to the upstream `libnghttp2` package and not the `libnghttp2` package as distributed by `RHEL`._\\n_See `How to fix?` for `RHEL:8` relevant fixed versions and status._\\n\\nThe HTTP/2 protocol allows a denial of service (server resource consumption) because request cancellation can reset many streams quickly, as exploited in the wild in August through October 2023.\\n## Remediation\\nUpgrade `RHEL:8` `libnghttp2` to version 0:1.33.0-5.el8_8 or higher.  \\nThis issue was patched in `RHSA-2023:5837`.\",\n",
        "    \"ScanDateTime\": \"2024-06-13T16:51:19.225328Z\",\n",
        "    \"Severity\": \"high\",\n",
        "    \"CvssV3\": \"CVSS:3.1/AV:N/AC:L/PR:N/UI:N/S:U/C:N/I:N/A:H/E:H\",\n",
        "    \"CvssScore\": 7.5,\n",
        "    \"PriorityScore\": 829,\n",
        "    \"EPSSPercentile\": \"98.11\",\n",
        "    \"CveReferences\": [\n",
        "        {\n",
        "            \"assigner\": \"NVD\",\n",
        "            \"severity\": \"high\",\n",
        "            \"cvssV3Vector\": \"CVSS:3.1/AV:N/AC:L/PR:N/UI:N/S:U/C:N/I:N/A:H\",\n",
        "            \"cvssV3BaseScore\": 7.5,\n",
        "            \"modificationTime\": \"2024-03-11T09:53:41.402458Z\"\n",
        "        },\n",
        "        {\n",
        "            \"assigner\": \"SUSE\",\n",
        "            \"severity\": \"high\",\n",
        "            \"cvssV3Vector\": \"CVSS:3.1/AV:N/AC:L/PR:N/UI:N/S:U/C:N/I:N/A:H\",\n",
        "            \"cvssV3BaseScore\": 7.5,\n",
        "            \"modificationTime\": \"2024-03-11T09:53:41.426930Z\"\n",
        "        },\n",
        "        {\n",
        "            \"assigner\": \"Red Hat\",\n",
        "            \"severity\": \"high\",\n",
        "            \"cvssV3Vector\": \"CVSS:3.1/AV:N/AC:L/PR:N/UI:N/S:U/C:N/I:N/A:H\",\n",
        "            \"cvssV3BaseScore\": 7.5,\n",
        "            \"modificationTime\": \"2024-03-11T09:54:02.197243Z\"\n",
        "        }\n",
        "    ],\n",
        "    \"UserAction\": \"\",\n",
        "    \"ActionStatus\": \"\",\n",
        "    \"ActionResponseURL\": \"\"\n",
        "}\n",
        "]"
      ]
    },
    {
      "cell_type": "markdown",
      "metadata": {
        "id": "rl4EwFKUY4VZ"
      },
      "source": [
        "# Step 3.a: Sample Data\n",
        "\n",
        "|System|Source|ResourceID|ResourceName|ResourceType|ResourceLocation|ResourceTag|ResourceURL|ImageTag|CveID|PackageName|InstalledVersion|FixedVersion|Title|Description|ScanDateTime|Severity|CvssV3|CvssScore|PriorityScore|EPSSPercentile|CveReferences|UserAction|ActionStatus|ActionResponseURL|\n",
        "|---|---|---|---|---|---|---|---|---|---|---|---|---|---|---|---|---|---|---|---|---|---|---|---|---|\n",
        "|snyk|compliancecow|0e7600f2-7cb0-461129ef3-9328e46af82a|minio/minio:RELEASE.2022-06-06T23-14-52Z|container-image|N/A|[RELEASE.2022-06-06T23-14-52Z]|https://app.snyk.io/org/compliancecow12/project/0e7600f2-7cb0-461129ef3-9328e46af82a|CVE-2023-44487|libnghttp2|['1.33.0-3.el8_2.1']|0:1.33.0-5.el8_8|Resource Exhaustion|Versions mentioned in the description apply only to the upstream `libnghttp2` package and not the `libnghttp2` package as distributed by `RHEL`.|2024-06-13T16:51:19.225328Z|high|CVSS:3.1/AV:N/AC:L/PR:N/UI:N/S:U/C:N/I:N/A:H/E:H|7.5|829|98.11|[{'assigner': 'NVD', 'severity': 'high', 'cvssV3Vector': 'CVSS:3.1/AV:N/AC:L/PR:N/UI:N/S:U/C:N/I:N/A:H', 'cvssV3BaseScore': 7.5, 'modificationTime': '2024-03-11T09:53:41.402458Z'}, {'assigner': 'SUSE', 'severity': 'high', 'cvssV3Vector': 'CVSS:3.1/AV:N/AC:L/PR:N/UI:N/S:U/C:N/I:N/A:H', 'cvssV3BaseScore': 7.5, 'modificationTime': '2024-03-11T09:53:41.426930Z'}, {'assigner': 'Red Hat', 'severity': 'high', 'cvssV3Vector': 'CVSS:3.1/AV:N/AC:L/PR:N/UI:N/S:U/C:N/I:N/A:H', 'cvssV3BaseScore': 7.5, 'modificationTime': '2024-03-11T09:54:02.197243Z'}]||||"
      ]
    },
    {
      "cell_type": "markdown",
      "metadata": {
        "id": "Son7AJzlS0hh"
      },
      "source": [
        "# Step 5: Calculation for Compliance Percentage and Status\n",
        "\n",
        "N/A"
      ]
    },
    {
      "cell_type": "markdown",
      "metadata": {
        "id": "uVDZ3Jv9TKZx"
      },
      "source": [
        "# Step 6: Describe (in words) the Remediation Steps for Non-Compliance"
      ]
    },
    {
      "cell_type": "code",
      "execution_count": null,
      "metadata": {
        "id": "dxwwDHQYM6_A"
      },
      "outputs": [],
      "source": [
        "1.CreateJiraTicket\n",
        "2.NotifyBySlackChannel"
      ]
    },
    {
      "cell_type": "markdown",
      "metadata": {
        "id": "7YZZUm3BbBmH"
      },
      "source": [
        "# Step 7: Control Setup Details"
      ]
    },
    {
      "cell_type": "markdown",
      "metadata": {
        "id": "uEBUWGk3rUe7"
      },
      "source": [
        "| Control Details            |                               |\n",
        "|----------------------------|-------------------------------|\n",
        "| **RuleName**               |SnykVulnerabilityReport        |\n",
        "| **PreRequisiteRuleNames**  |                               |\n",
        "| **ExtendedSchemaRuleNames**|                               |\n",
        "| **ApplicationClassName**   | SnykAppConnector              |\n",
        "| **PostSynthesizerName**    |                               |"
      ]
    }
  ],
  "metadata": {
    "colab": {
      "provenance": []
    },
    "kernelspec": {
      "display_name": "Python 3",
      "name": "python3"
    },
    "language_info": {
      "name": "python"
    }
  },
  "nbformat": 4,
  "nbformat_minor": 0
}
