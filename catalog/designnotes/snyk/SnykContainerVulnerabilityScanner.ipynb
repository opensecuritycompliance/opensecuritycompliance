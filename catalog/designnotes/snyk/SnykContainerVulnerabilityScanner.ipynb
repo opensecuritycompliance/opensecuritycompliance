{
  "cells": [
    {
      "cell_type": "markdown",
      "metadata": {
        "id": "x0_XKVRNvbhi"
      },
      "source": [
        "# Step 1: Evidence Details\n",
        "\n",
        "|System|Source of data|Frameworks|Purpose|\n",
        "|---|---|---|---|\n",
        "|snyk|compliancecow|-|This control assesses projects to identify vulnerability issues, capturing detailed data such as CVE IDs and other standardized fields. The results are formatted to ensure consistent and comprehensive reporting of security issues.|\n",
        "\n",
        "```\n",
        "RecommendedEvidenceName:\n",
        "SnykContainerScannerReport\n",
        "```\n",
        "\n",
        "**Reference:** <br>\n",
        "https://docs.snyk.io/ <br>\n",
        "https://app.snyk.io/  <br>\n",
        "https://apidocs.snyk.io/"
      ]
    },
    {
      "cell_type": "markdown",
      "metadata": {
        "id": "aGpaIDAmFclo"
      },
      "source": [
        "# Step 2: Define the System Specific Data (a.k.a Extended Data Schema)\n",
        "\n",
        "## Step 2a: IncludeCriteria and ExcludeCriteria\n",
        "\n",
        "1.\t**Understanding IncludeCriteria and ExcludeCriteria:**\n",
        "\t- `IncludeCriteria` and `ExcludeCriteria` are used to filter projects for analysis.\n",
        "\t- They help in specifying which projects should be included or excluded during the scan.\n",
        "2.\t**Default Values Handling:**\n",
        "\t- If the user does not provide any input for `IncludeCriteria` or `ExcludeCriteria`, default values will be used.\n",
        "\t- The default values ensure that all relevant projects are included unless explicitly excluded.\n",
        "3.\t**Using IncludeCriteria:**\n",
        "\t- Example: `/target/target1/projects/latest/`, `/target/target1/projects/*/`, `/target/*/projects/*/`\n",
        "\t- This will include the specified projects in the scan.\n",
        "4.\t**Using ExcludeCriteria:**\n",
        "\t- Example: `/target/target1/projects/latest/`\n",
        "\t- This will exclude the specified projects from the scan.\n",
        "5.\t**Exact Match Requirement:**\n",
        "\t-\tThe criteria matching is case-sensitive and requires an exact match unless wildcards are used.\n",
        "\t-\tInvalid paths in `ExcludeCriteria` will not affect the valid `IncludeCriteria`."
      ]
    },
    {
      "cell_type": "markdown",
      "metadata": {
        "id": "roeQSrJLHnDk"
      },
      "source": [
        "# Step 2b: API & Flow\n",
        "\n",
        "  - GET  /rest/self?version=2024-06-10\n",
        "     - This API endpoint is used for authentication purposes. It verifies the identity of the user making the request.\n",
        "  - GET /rest/orgs/{org_id}/targets?version=2024-06-10\n",
        "     - This API endpoint retrieves a list of targets associated with a specific organization.\n",
        "  - GET  /rest/orgs/{org_id}/projects?target_id={target_id}&version=2024-06-10\n",
        "     - This API endpoint lists all projects associated with a specific target within an organization.\n",
        "  - GET  /rest/orgs/{org_id}/issues?version=2024-06-10&scan_item.id={project_id}&scan_item.type=project\n",
        "     - This API endpoint retrieves issues associated with a specific project within an organization."
      ]
    },
    {
      "cell_type": "markdown",
      "metadata": {
        "id": "8iXyjhSGSDvQ"
      },
      "source": [
        "# Step 2c: Define the Extended Schema"
      ]
    },
    {
      "cell_type": "code",
      "execution_count": null,
      "metadata": {
        "id": "xVHTAG-TvYVb"
      },
      "outputs": [],
      "source": [
        "# List targets using organization id\n",
        "\n",
        "{\n",
        "    \"id\": \"bejsfgkqrqw03-40de-91cb-2we234j1f60\", # target id\n",
        "    \"type\": \"target\",\n",
        "    \"attributes\": {\n",
        "        \"display_name\": \"repo1\", # Repository Name\n",
        "        \"url\": null,\n",
        "        \"is_private\": true,\n",
        "        \"created_at\": \"2024-08-23T05:51:53.048Z\"\n",
        "    },\n",
        "    \"relationships\": {\n",
        "        \"organization\": {\n",
        "            \"data\": {\n",
        "                \"type\": \"organization\",\n",
        "                \"id\": \"6d2c1477-9886-4a95-a65a-3b23m4bcf8\"\n",
        "            }\n",
        "        },\n",
        "        \"integration\": {\n",
        "            \"data\": {\n",
        "                \"type\": \"integration\",\n",
        "                \"id\": \"4234hmb2340-0c8c-4282-8464-3632mn477\",\n",
        "                \"attributes\": {\n",
        "                    \"integration_type\": \"acr\"\n",
        "                }\n",
        "            }\n",
        "        }\n",
        "    }\n",
        " }\n",
        "\n",
        " # List projects using target id and organization id\n",
        " {\n",
        "    \"type\": \"project\",\n",
        "    \"id\": \"6823324md-6567-4402-acb8-eb233244b236d\",  # project id\n",
        "    \"meta\": {},\n",
        "    \"attributes\": {\n",
        "        \"name\": \"repo1/project1:latest\", # targetname:imagename or targetname:imagename:tagname\n",
        "        \"type\": \"apk\",\n",
        "        \"target_file\": \"\",\n",
        "        \"target_reference\": \"latest\",\n",
        "        \"origin\": \"acr\",\n",
        "        \"created\": \"2024-08-22T09:24:21.900Z\",\n",
        "        \"status\": \"active\",\n",
        "        \"business_criticality\": [],\n",
        "        \"environment\": [],\n",
        "        \"lifecycle\": [],\n",
        "        \"tags\": [],\n",
        "        \"read_only\": false,\n",
        "        \"settings\": {\n",
        "            \"recurring_tests\": {\n",
        "                \"frequency\": \"daily\"\n",
        "            },\n",
        "            \"pull_requests\": {\n",
        "                \"fail_only_for_issues_with_fix\": false\n",
        "            }\n",
        "        },\n",
        "        \"build_args\": {\n",
        "            \"platform\": \"linux/amd64\"\n",
        "        }\n",
        "    },\n",
        "    \"relationships\": {\n",
        "        \"organization\": {\n",
        "            \"data\": {\n",
        "                \"type\": \"org\",\n",
        "                \"id\": \"6d2c1477-9886-4a95-a65a-3b23m4bcf8\"\n",
        "            },\n",
        "            \"links\": {\n",
        "                \"related\": \"/rest/orgs/6d2c1477-9886-4a95-a65a-3b23m4bcf8\"\n",
        "            }\n",
        "        },\n",
        "        \"target\": {\n",
        "            \"data\": {\n",
        "                \"type\": \"target\",\n",
        "                \"id\": \"bejsfgkqrqw03-40de-91cb-2we234j1f60\"\n",
        "            },\n",
        "            \"links\": {\n",
        "                \"related\": \"/rest/orgs/6d2c1477-9886-4a95-a65a-3b23m4bcf8/targets/bejsfgkqrqw03-40de-91cb-2we234j1f60\"\n",
        "            }\n",
        "        },\n",
        "        \"importer\": {\n",
        "            \"data\": {\n",
        "                \"type\": \"user\",\n",
        "                \"id\": \"43a90ba6-6826-45a6-9b7e-23j4hv23j40\"\n",
        "            },\n",
        "            \"links\": {\n",
        "                \"related\": \"/rest/orgs/6d2c1477-9886-4a95-a65a-3b23m4bcf8/users/43a90ba6-6826-45a6-9b7e-23j4hv23j40\"\n",
        "            }\n",
        "        }\n",
        "    }\n",
        "}\n",
        "\n",
        "# List issues using project id\n",
        "{\n",
        "    \"id\": \"64dfe866-5964-4d1a-95c2-234jb2m34b\", #issue id - resource id\n",
        "    \"type\": \"issue\", # resource type\n",
        "    \"attributes\": {\n",
        "        \"classes\": [\n",
        "            {\n",
        "                \"id\": \"CWE-770\",\n",
        "                \"source\": \"CWE\",\n",
        "                \"type\": \"weakness\"\n",
        "            }\n",
        "        ],\n",
        "        \"coordinates\": [\n",
        "            {\n",
        "                \"is_fixable_manually\": false,\n",
        "                \"is_fixable_snyk\": false,\n",
        "                \"is_fixable_upstream\": false,\n",
        "                \"is_patchable\": false,\n",
        "                \"is_pinnable\": false,\n",
        "                \"is_upgradeable\": false,\n",
        "                \"reachability\": \"not-applicable\",\n",
        "                \"representations\": [\n",
        "                    {\n",
        "                        \"dependency\": {\n",
        "                            \"package_name\": \"golang.org/x/net/http2\",\n",
        "                            \"package_version\": \"v0.13.0\"\n",
        "                        }\n",
        "                    }\n",
        "                ]\n",
        "            }\n",
        "        ],\n",
        "        \"created_at\": \"2024-08-22T09:24:08.303Z\",\n",
        "        \"effective_severity_level\": \"high\",\n",
        "        \"ignored\": false,\n",
        "        \"key\": \"SNYK-GOLANG-GOLANGORGXNETHTTP2-6531285\", # issue key\n",
        "        \"problems\": [\n",
        "            {\n",
        "                \"id\": \"CVE-2023-45288\",  # cveid\n",
        "                \"source\": \"NVD\",\n",
        "                \"type\": \"vulnerability\",\n",
        "                \"updated_at\": \"2024-08-22T09:24:09.79174Z\",\n",
        "                \"url\": \"https://nvd.nist.gov/vuln/detail/CVE-2023-45288\"\n",
        "            },\n",
        "            {\n",
        "                \"id\": \"SNYK-GOLANG-GOLANGORGXNETHTTP2-6531285\",\n",
        "                \"source\": \"SNYK\",\n",
        "                \"type\": \"vulnerability\",\n",
        "                \"updated_at\": \"2024-08-22T09:24:09.79174Z\"\n",
        "            }\n",
        "        ],\n",
        "        \"risk\": {\n",
        "            \"factors\": [],\n",
        "            \"score\": {\n",
        "                \"model\": \"v1\",\n",
        "                \"value\": 375  # risk score\n",
        "            }\n",
        "        },\n",
        "        \"status\": \"open\", #isssue status\n",
        "        \"title\": \"Allocation of Resources Without Limits or Throttling\", # issue name\n",
        "        \"type\": \"package_vulnerability\", # issue type\n",
        "        \"updated_at\": \"2024-08-22T09:24:08.303Z\"\n",
        "    },\n",
        "    \"relationships\": {\n",
        "        \"organization\": {\n",
        "            \"data\": {\n",
        "                \"id\": \"6d2c1477-9886-4a95-a65a-3b23m4bcf8\",\n",
        "                \"type\": \"organization\"\n",
        "            },\n",
        "            \"links\": {\n",
        "                \"related\": \"/orgs/6d2c1477-9886-4a95-a65a-3b23m4bcf8\"\n",
        "            }\n",
        "        },\n",
        "        \"scan_item\": {\n",
        "            \"data\": {\n",
        "                \"id\": \"6823324md-6567-4402-acb8-eb233244b236d\",\n",
        "                \"type\": \"project\"\n",
        "            },\n",
        "            \"links\": {\n",
        "                \"related\": \"/orgs/6d2c1477-9886-4a95-a65a-3b23m4bcf8/projects/6823324md-6567-4402-acb8-eb233244b236d\"\n",
        "            }\n",
        "        }\n",
        "    }\n",
        "}"
      ]
    },
    {
      "cell_type": "markdown",
      "metadata": {
        "id": "3aZrqLXkaCGg"
      },
      "source": [
        "# Step 3: Define the Standard Schema"
      ]
    },
    {
      "cell_type": "code",
      "execution_count": null,
      "metadata": {
        "id": "1cQKGy5VaC9B"
      },
      "outputs": [],
      "source": [
        "{\n",
        "    # Meta\n",
        "    \"System\": \"snyk\",\n",
        "    \"Source\": \"compliancecow\",\n",
        "\n",
        "    # Resource info\n",
        "    \"ResourceID\": \"4cd2b4e62m3-a50f-432m4-b21b-1c62j3h4bee3\", # project(image) id\n",
        "    \"ResourceName\": \"target:project1\",  # target(repository):project(image)\n",
        "    \"ResourceType\": \"image\", # [data.type]\n",
        "    \"ResourceLocation\": \"N/A\",\n",
        "    \"ResourceTags\": [],\n",
        "    \"ResourceURL\": \"https://app.snyk.io/org/username/project/4cd2b4e62m3-a50f-432m4-b21b-1c62j3h4bee3\", # url/project(image id)\n",
        "\n",
        "    # Data\n",
        "    \"IssueKey\": \"SNYK-GOLANG-GOLANGORGXNETHTTP2-6531285\", # [data.attributes.key]\n",
        "    \"IssueName\": \"Allocation of Resources Without Limits or Throttling\",  # [data.attributes.title]\n",
        "    \"IssueType\": \"package_vulnerability\", # [data.attributes.type]\n",
        "    \"IssueCreatedDataTime\": \"2024-08-22T09:24:08.303Z\",  # [data.attributes.created_at]\n",
        "    \"IssueStatus\": \"open\", # [data.attributes.status]\n",
        "    \"IsIgnored\": False,\n",
        "    \"Representation\": [  {\n",
        "                        \"dependency\": {\n",
        "                            \"package_name\": \"golang.org/x/net/http2\",\n",
        "                            \"package_version\": \"v0.13.0\"\n",
        "                        }\n",
        "                        }\n",
        "                      ],\n",
        "    \"CVEID\": \"CVE-2023-45288\",  # [data.attributes.problems.id]\n",
        "    \"Severity\": \"high\", # [data.attributes.effective_severity_level]\n",
        "    \"EPSSPercentile\": 13.9,\n",
        "    \"RiskScore\": 375,  # [data.attributes.risk.score.value]\n",
        "\n",
        "    # Compliance details\n",
        "    \"ValidationStatusCode\": \"OPEN_ISSUE_HIGH_SEV_LOW_EPSS\",\n",
        "    \"ValidationStatusNotes\": \"Contains open issues with an EPSS Percentile < 50.\",\n",
        "    \"ComplianceStatus\": \"NON_COMPLIANT\",\n",
        "    \"ComplianceStatusReason\": \"High-risk issues (EPSS < 50) are open, indicating non-compliance.\",\n",
        "    \"EvaluatedTime\": \"2024-08-22T09:24:08.303Z\", # [data.attributes.updated_at]\n",
        "\n",
        "    # User editable data\n",
        "    \"UserAction\":\"\",\n",
        "\n",
        "    # Action editable data\n",
        "    \"ActionStatus\":\"\",\n",
        "    \"ActionResponseURL\":\"\"\n",
        "}"
      ]
    },
    {
      "cell_type": "markdown",
      "metadata": {
        "id": "lWKs47TUaQfc"
      },
      "source": [
        "# Step 3.a: Sample Data\n",
        "\n",
        "|System|Source|ResourceID|ResourceName|ResourceType|ResourceLocation|ResourceTags|ResourceURL|IssueKey|IssueName|IssueType|IssueCreatedDataTime|IssueStatus|IsIgnored|Representation|CVEID|Severity|EPSSPercentile|RiskScore|ValidationStatusCode|ValidationStatusNotes|ComplianceStatus|ComplianceStatusReason|EvaluatedTime|UserAction|ActionStatus|ActionResponseURL|\n",
        "|---|---|---|---|---|---|---|---|---|---|---|---|---|---|---|---|---|---|---|---|---|---|---|---|---|---|---|\n",
        "|snyk|compliancecow|64dfe866-5964-4d1a-95c2-234jb2m34b|target:project1(image)|image|N/A|[]|https://app.snyk.io/org/username/project/4cd2b4e62m3-a50f-432m4-b21b-1c62j3h4bee3#issue-SNYK-GOLANG-GOLANGORGXNETHTTP2-6531285|SNYK-GOLANG-GOLANGORGXNETHTTP2-6531285|AllocationofResourcesWithoutLimitsorThrottling|package_vulnerability|2024-08-22T09:24:08.303Z|open|False|[{\"dependency\": {\"package_name\": \"golang.org/x/net/http2\",\"package_version\": \"v0.13.0\"}}]|CVE-2023-45288|high|13.9|375|OPEN_ISSUE_HIGH_SEV_LOW_EPSS|Contains open issues with an EPSS Percentile < 50.|NON_COMPLIANT|High-risk issues (EPSS < 50) are open, indicating non-compliance.|2024-08-22T09:24:08.303Z||||\n",
        "\n"
      ]
    },
    {
      "cell_type": "markdown",
      "metadata": {
        "id": "8iElaSOdaZeg"
      },
      "source": [
        "# Step 4: Describe the Compliance Taxonomy\n",
        "\n",
        "|ValidationStatusCode|ValidationStatusNotes|ComplianceStatus|ComplianceStatusReason|\n",
        "|---|---|---|---|\n",
        "| OPEN_ISSUE_LOW_SEV_LOW_EPSS  | Contains open issues with an EPSS Percentile < 50.| COMPLIANT| The issues are low-risk (EPSS < 50) and are open, indicating compliance. |\n",
        "| OPEN_ISSUE_LOW_SEV_MED_EPSS  | Contains open issues with an EPSS Percentile between 50-70.| COMPLIANT| The issues are low-risk (EPSS 50-70) and are open, indicating compliance. |\n",
        "| OPEN_ISSUE_LOW_SEV_HIGH_EPSS | Contains open issues with an EPSS Percentile between 70-90.| NON_COMPLIANT| The issues are low-risk (EPSS 70-90) and are open, indicating non-compliance. |\n",
        "| OPEN_ISSUE_LOW_SEV_CRT_EPSS  | Contains open issues with an EPSS Percentile > 90.| NON_COMPLIANT| The issues are low-risk (EPSS > 90) and are open, indicating non-compliance. |\n",
        "| OPEN_ISSUE_LOW_SEV_NO_EPSS   | Contains open issues with no EPSS Percentile. | COMPLIANT | The issues are low-risk (no EPSS) and are open, indicating compliance.  |\n",
        "| OPEN_ISSUE_MED_SEV_LOW_EPSS  | Contains open issues with an EPSS Percentile < 50. | COMPLIANT | The issues are medium-risk (EPSS < 50) and are open, indicating compliance. |\n",
        "| OPEN_ISSUE_MED_SEV_MED_EPSS  | Contains open issues with an EPSS Percentile between 50-70. | COMPLIANT | The issues are medium-risk (EPSS 50-70) and are open, indicating compliance. |\n",
        "| OPEN_ISSUE_MED_SEV_HIGH_EPSS | Contains open issues with an EPSS Percentile between 70-90. | NON_COMPLIANT | The issues are medium-risk (EPSS 70-90) and are open, indicating non-compliance.  |\n",
        "| OPEN_ISSUE_MED_SEV_CRT_EPSS  | Contains open issues with an EPSS Percentile > 90. | NON_COMPLIANT | The issues are medium-risk (EPSS > 90) and are open, indicating non-compliance.  |\n",
        "| OPEN_ISSUE_MED_SEV_NO_EPSS   | Contains open issues with no EPSS Percentile. | COMPLIANT | The issues are medium-risk (no EPSS) and are open, indicating compliance. |\n",
        "| OPEN_ISSUE_HIGH_SEV_LOW_EPSS\t | Contains open issues with an EPSS Percentile < 50. | NON_COMPLIANT | High-risk issues (EPSS < 50) are open, indicating non-compliance. |\n",
        "| OPEN_ISSUE_HIGH_SEV_MED_EPSS\t | Contains open issues with an EPSS Percentile between 50-70. | NON_COMPLIANT | High-risk issues (EPSS 50-70) are open, indicating non-compliance. |\n",
        "| OPEN_ISSUE_HIGH_SEV_HIGH_EPSS\t | Contains open issues with an EPSS Percentile between 70-90. | NON_COMPLIANT | High-risk issues (EPSS 70-90) are open, indicating non-compliance.  |\n",
        "| OPEN_ISSUE_HIGH_SEV_CRT_EPSS\t | Contains open issues with an EPSS Percentile > 90. | NON_COMPLIANT | High-risk issues (EPSS > 90) are open, indicating non-compliance.  |\n",
        "| OPEN_ISSUE_HIGH_SEV_NO_EPSS\t | Contains open issues with no EPSS Percentile. | NON_COMPLIANT | High-risk issues (no EPSS) are open, indicating non-compliance.  |\n",
        "| OPEN_ISSUE_CRT_SEV_LOW_EPSS\t\t | Contains open issues with an EPSS Percentile < 50. | NON_COMPLIANT | Critical-risk issues (EPSS < 50) are open, indicating non-compliance. |\n",
        "| OPEN_ISSUE_CRT_SEV_MED_EPSS\t\t | Contains open issues with an EPSS Percentile between 50-70. | NON_COMPLIANT | Critical-risk issues (EPSS 50-70) are open, indicating non-compliance. |\n",
        "| OPEN_ISSUE_CRT_SEV_HIGH_EPSS\t\t | Contains open issues with an EPSS Percentile between 70-90. | NON_COMPLIANT | Critical-risk issues (EPSS 70-90) are open, indicating non-compliance.  |\n",
        "| OPEN_ISSUE_CRT_SEV_CRT_EPSS\t\t | Contains open issues with an EPSS Percentile > 90. | NON_COMPLIANT | Critical-risk issues (EPSS > 90) are open, indicating non-compliance.  |\n",
        "| OPEN_ISSUE_CRT_SEV_NO_EPSS\t\t | Contains open issues with no EPSS Percentile. | NON_COMPLIANT | Critical-risk issues (no EPSS) are open, indicating non-compliance.  |\n",
        "| IGNORED_ISSUE  | The vulnerability has been reviewed and intentionally ignored as part of the remediation process, regardless of its EPSS Percentile. | COMPLIANT | The issue is ignored following a review as part of remediation, thus considered compliant. |\n",
        "| RESOLVED_ISSUE | The vulnerability has been reviewed and resolved as part of the remediation process, regardless of its EPSS Percentile. | COMPLIANT | The issue is resolved following a review as part of remediation, thus considered compliant. |"
      ]
    },
    {
      "cell_type": "markdown",
      "metadata": {
        "id": "NUGmR9vsafMM"
      },
      "source": [
        "# Step 5: Calculation for Compliance Percentage and Status"
      ]
    },
    {
      "cell_type": "code",
      "execution_count": null,
      "metadata": {
        "id": "5KsNCA9uaf1i"
      },
      "outputs": [],
      "source": [
        "# Calculation of Compliance Percentage\n",
        "\n",
        "TotalCount = Count of 'COMPLIANT' and 'NON_COMPLIANT' records\n",
        "CompliantCount = Count of 'COMPLIANT' records\n",
        "\n",
        "CompliancePCT = (CompliantCount / TotalCount) * 100\n",
        "\n",
        "Compliance Status\n",
        "COMPLIANT - 100%\n",
        "NON_COMPLIANT - 0% to less than 100%\n",
        "NOT_DETERMINED - If no records are found."
      ]
    },
    {
      "cell_type": "markdown",
      "metadata": {
        "id": "sPpZam41aisU"
      },
      "source": [
        "# Step 6: Describe (in words) the Remediation Steps for Non-Compliance\n",
        "N/A"
      ]
    },
    {
      "cell_type": "markdown",
      "metadata": {
        "id": "Ponc1DNSaqVx"
      },
      "source": [
        "# Step 7: Control Setup Details\n",
        "\n",
        "| Control Details            |                                   |\n",
        "|----------------------------|-----------------------------------|\n",
        "| **RuleName**               |SynkContainerVulnerabilityScanner  |\n",
        "| **PreRequisiteRuleNames**  |  N/A                              |\n",
        "| **ExtendedSchemaRuleNames**| N/A                               |\n",
        "| **ApplicationClassName**   |  snykappconnector                 |\n",
        "| **PostSynthesizerName**    |             N/A                   |"
      ]
    }
  ],
  "metadata": {
    "colab": {
      "provenance": []
    },
    "kernelspec": {
      "display_name": "Python 3",
      "name": "python3"
    },
    "language_info": {
      "name": "python"
    }
  },
  "nbformat": 4,
  "nbformat_minor": 0
}
