{
  "cells": [
    {
      "cell_type": "markdown",
      "metadata": {
        "id": "sFlmicb0Mlse"
      },
      "source": [
        "# Step 1: Evidence Details\n",
        "\n",
        "|System|Source of data|Frameworks|Purpose|\n",
        "|---|---|---|---|\n",
        "|salesforce|compliancecow||To identify unused permissions for Salesforce users.|\n",
        "\n",
        "```\n",
        "RecomendedEvidenceName: UsersUnusedPermissions\n",
        "```"
      ]
    },
    {
      "cell_type": "markdown",
      "metadata": {
        "id": "HwaAN4PWRC-_"
      },
      "source": [
        "# Step 2: Define the System Specific Data (a.k.a Extended Data Schema)\n"
      ]
    },
    {
      "cell_type": "markdown",
      "metadata": {
        "id": "nnyBLoYri2Lb"
      },
      "source": [
        "## Step 2.a: Inputs\n",
        "    - ExtractPath\n",
        "    - PermissionsMapFile (toml)\n",
        "    - RequestConfigFile (toml)\n",
        "    - RequestConfigFile2 (toml)\n",
        "    - RequestConfigFile3 (toml)\n",
        "    - ResponseConfigFile2 (toml)\n",
        "    - ResponseConfigFile3 (toml)\n",
        "    - TransformConfigFile (toml)\n",
        "\n",
        "`PermissionsMapFile.toml - The PermissionsMapFile.toml file is used to map user permissions to the organization's event log file`\n",
        "\n",
        "## Step 2.b: Api & flow\n",
        "\n",
        "- GET /services/data/v41.0/query?q=SELECT+Id,+UserName,+Email+FROM+User  \n",
        "    - This SOQL query retrieves basic user information from the Salesforce `User` object. It selects fields such as Id, UserName, and Email.\n",
        "\n",
        "For example:\n",
        "\n",
        "```\n",
        "https://demo-dev-ed.develop.my.salesforce.com/services/data/v41.0/query?q=SELECT+Id,+UserName,+FirstName,+LastName,+Email,+ProfileId,+Title,+Department,+ManagerId,+IsActive,+LastLoginDate,+CreatedDate,+LastModifiedDate+FROM+User\n",
        "```\n",
        "\n",
        "- This SOQL query retrieves detailed user information from the Salesforce `User` object. It selects fields such as Id, UserName, FirstName, LastName, Email, ProfileId, Title, Department, ManagerId, IsActive, LastLoginDate, CreatedDate, and LastModifiedDate.\n",
        "\n",
        "\n",
        "## Step 2.c: Sample api response\n",
        "\n",
        "    {\n",
        "          \"totalSize\": 1,\n",
        "          \"done\": true,\n",
        "          \"records\": [\n",
        "                {\n",
        "                    \"attributes\": {\n",
        "                        \"type\": \"User\",\n",
        "                        \"url\": \"/services/data/v41.0/sobjects/User/005dL0000d8mISfQAM\"\n",
        "                    },\n",
        "                    \"Id\": \"005dL000008mISfQAM\",\n",
        "                    \"Username\": \"noreply@00ddl00000ftteluar.com\",\n",
        "                    \"FirstName\": \"John Doe\",\n",
        "                    \"LastName\": \"s\",\n",
        "                    \"Email\": \"noreply@00ddl00000ftteluar.com\",\n",
        "                    \"ProfileId\": \"00edL00000dwrEPQAY\",\n",
        "                    \"Title\": null,\n",
        "                    \"Department\": null,\n",
        "                    \"ManagerId\": null,\n",
        "                    \"IsActive\": true,\n",
        "                    \"LastLoginDate\": \"2024-10-24T10:32:07.000+0000\",\n",
        "                    \"CreatedDate\": \"2024-10-21T10:31:48.000+0000\",\n",
        "                    \"LastModifiedDate\": \"2024-10-22T07:25:38.000+0000\"\n",
        "                }\n",
        "          ]\n",
        "    }\n",
        "\n",
        "\n"
      ]
    },
    {
      "cell_type": "markdown",
      "metadata": {
        "id": "OMfAqx9AZD-R"
      },
      "source": [
        "# Step 3: Define the Standard Schema\n",
        "```\n",
        "  {\n",
        "    \"System\": \"salesforce\",\n",
        "    \"Source\": \"compliancecow\",\n",
        "    \"ResourceID\": \"005dL000009jxB0QAI\",\n",
        "    \"ResourceName\": \"noreply@00ddl00000ftteluar.com\",\n",
        "    \"ResourceType\": \"User\",\n",
        "    \"ResourceLocation\": \"United states\",\n",
        "    \"ResourceTags\": [],\n",
        "    \"ResourceURL\": \"https://demo-dev-ed.develop.my.salesforce.com/lightning/r/User/005dL000009jxB0QAI/view\",\n",
        "    \"Name\": \"John Doe\",\n",
        "    \"UnusedPermissions\": [],\n",
        "    \"InactivePermissionsWindow\": 45,\n",
        "    \"Manager\": \"N/A\",\n",
        "    \"ValidationStatusCode\": \"UNUSED_PERM_NOT_PRESENT\",\n",
        "    \"ValidationStatusNotes\": \"Unused permission(s) not present\",\n",
        "    \"ComplianceStatus\": \"COMPLIANT\",\n",
        "    \"ComplianceStatusReason\": \"The record is compliant because unused permissions are not present for a user - noreply@00ddl00000ftteluar. Hence managing and auditing permissions becomes easier and more efficient, as it eliminates redundant access rights and focuses on relevant roles and responsibilities.\",\n",
        "    \"EvaluatedTime\": \"2025-01-16 06:50:28 UTC\",\n",
        "    \"UserAction\": \"\",\n",
        "    \"ActionStatus\": \"\",\n",
        "    \"ActionResponseURL\": \"\",\n",
        "    \"UserFormID\": \"\",\n",
        "    \"UserFormStatus\": \"\",\n",
        "    \"ManagerFormID\": \"\",\n",
        "    \"ManagerFormStatus\": \"\",\n",
        "    \"CountOfUnusedPermissionsToBeDeleted\": 0,\n",
        "    \"ActionUnusedPermissionsToDelete\": \"\",\n",
        "    \"RecordID\": \"\"\n",
        "  }\n",
        "```\n",
        "\n",
        "#Step 3.a: Sample Data\n",
        "\n",
        "| System     | Source        | ResourceID         | ResourceName                   | ResourceType | ResourceLocation | ResourceTags | ResourceURL                                                                            | Name     | UnusedPermissions | InactivePermissionsWindow | Manager | ValidationStatusCode    | ValidationStatusNotes            | ComplianceStatus | ComplianceStatusReason                                                                                                                                                                                                                                                              | EvaluatedTime           | UserAction | ActionStatus | ActionResponseURL | UserFormID | UserFormStatus | ManagerFormID | ManagerFormStatus | CountOfUnusedPermissionsToBeDeleted | ActionUnusedPermissionsToDelete | RecordID |\n",
        "|------------|---------------|--------------------|--------------------------------|--------------|------------------|--------------|----------------------------------------------------------------------------------------|----------|-------------------|---------------------------|---------|-------------------------|----------------------------------|------------------|-------------------------------------------------------------------------------------------------------------------------------------------------------------------------------------------------------------------------------------------------------------------------------------|-------------------------|------------|--------------|-------------------|------------|----------------|---------------|-------------------|-------------------------------------|---------------------------------|----------|\n",
        "| salesforce | compliancecow | 005dL000009jxB0QAI | noreply@00ddl00000ftteluar.com | User         | United states    |    [ ]          | https://demo-dev-ed.develop.my.salesforce.com/lightning/r/User/005dL000009jxB0QAI/view | John Doe |     [ ]              | 45                        | N/A     | UNUSED_PERM_NOT_PRESENT | Unused permission(s) not present | COMPLIANT        | The record is compliant because unused permissions are not present for a user - noreply@00ddl00000ftteluar. Hence managing and auditing permissions becomes easier and more efficient, as it eliminates redundant access rights and focuses on relevant roles and responsibilities. | 2025-01-16 06:50:28 UTC |            |              |                   |            |                |               |                   | 0                                   |                                 |          |\n"
      ]
    },
    {
      "cell_type": "markdown",
      "metadata": {
        "id": "bxsZR5l8SiOd"
      },
      "source": [
        "#Step 4: Describe the Compliance Taxonomy\n",
        "\n",
        "\n",
        "| **UnusedPermissions**| **ValidationStatusCode**      | **ValidationStatusNotes**       | **ComplianceStatus** | **ComplianceStatusReason**                                      |\n",
        "|-------------------------------|-------------------------------|---------------------------------|----------------------|------------------------------------------------------------------|\n",
        "[ ] | UNUSED_PERM_NOT_PRESENT | Unused permission(s) not present | COMPLIANT | The record is compliant because unused permissions are not present for a user - noreply@00ddl00000ftteluar. Hence managing and auditing permissions becomes easier and more efficient, as it eliminates redundant access rights and focuses on relevant roles and responsibilities.|\n",
        "[\"PermissionsViewEventLogFiles\",\"PermissionsManageNetworks\",\"PermissionsManageAuthProviders\"] | UNUSED_PERM_PRESENT |Unused permission(s) present | NON_COMPLIANT | The record is non-compliant because 19 unused permissions are present for a user -  noreply@00ddl00000ftteluar. Unused permissions can create potential vulnerabilities in your system, as they might be exploited by malicious actors if they gain access.|\n",
        "\n"
      ]
    },
    {
      "cell_type": "markdown",
      "metadata": {
        "id": "Son7AJzlS0hh"
      },
      "source": [
        "# Step 5: Calculation for Compliance Percentage and Status\n",
        "\n",
        "\n"
      ]
    },
    {
      "cell_type": "code",
      "execution_count": null,
      "metadata": {
        "id": "nZMdcSLnNaQe"
      },
      "outputs": [],
      "source": [
        "# Calculation of Compliance Percentage\n",
        "\n",
        "TotalRecordCount = Count of 'COMPLIANT' and 'NON_COMPLIANT' records\n",
        "FailedRecordCount = Count of 'NON_COMPLIANT' records\n",
        "\n",
        "CompliancePCT = int(100 - ((FailedRecordCount * 100) / TotalRecordCount))\n",
        "\n",
        "Compliance Status\n",
        "COMPLIANT - 100%\n",
        "NON_COMPLIANT - 0% to less than 100%"
      ]
    },
    {
      "cell_type": "markdown",
      "metadata": {
        "id": "uVDZ3Jv9TKZx"
      },
      "source": [
        "# Step 6: Describe (in words) the Remediation Steps for Non-Compliance"
      ]
    },
    {
      "cell_type": "markdown",
      "metadata": {
        "id": "IS5_pE75TfxN"
      },
      "source": [
        "N/A"
      ]
    },
    {
      "cell_type": "markdown",
      "metadata": {
        "id": "trjrGTI6N3wv"
      },
      "source": [
        "# Step 7: Control Setup Details"
      ]
    },
    {
      "cell_type": "markdown",
      "metadata": {
        "id": "IHKtasdRN6-V"
      },
      "source": [
        "| Control Details            |                               |\n",
        "|----------------------------|-------------------------------|\n",
        "| **RuleName**               | SalesforceUnusedPermissions |\n",
        "| **PreRequisiteRuleNames**  |         N/A   |\n",
        "| **ExtendedSchemaRuleNames**  |     N/A       |\n",
        "| **ApplicationClassName**   | httprequest, NoCredApp, SalesforceAppConnector               |\n",
        "| **PostSynthesizerName**  |       N/A     |"
      ]
    }
  ],
  "metadata": {
    "colab": {
      "provenance": []
    },
    "kernelspec": {
      "display_name": "Python 3",
      "name": "python3"
    },
    "language_info": {
      "name": "python"
    }
  },
  "nbformat": 4,
  "nbformat_minor": 0
}
